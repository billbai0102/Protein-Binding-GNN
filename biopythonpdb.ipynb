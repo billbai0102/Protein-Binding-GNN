{
 "cells": [
  {
   "cell_type": "code",
   "execution_count": 28,
   "metadata": {
    "collapsed": true
   },
   "outputs": [],
   "source": [
    "from Bio.PDB import PDBParser\n",
    "from Bio.SeqUtils import seq1\n",
    "import biographs as bg\n",
    "import networkx as nx"
   ]
  },
  {
   "cell_type": "code",
   "execution_count": 2,
   "outputs": [],
   "source": [
    "parser = PDBParser()"
   ],
   "metadata": {
    "collapsed": false
   }
  },
  {
   "cell_type": "code",
   "execution_count": 7,
   "outputs": [],
   "source": [
    "structure = parser.get_structure(2, './data/AF-Q8TEQ6-F1-model_v4.pdb')"
   ],
   "metadata": {
    "collapsed": false
   }
  },
  {
   "cell_type": "code",
   "execution_count": 11,
   "outputs": [
    {
     "data": {
      "text/plain": "[<Model id=0>]"
     },
     "execution_count": 11,
     "metadata": {},
     "output_type": "execute_result"
    }
   ],
   "source": [
    "structure.get_list()"
   ],
   "metadata": {
    "collapsed": false
   }
  },
  {
   "cell_type": "code",
   "execution_count": 13,
   "outputs": [],
   "source": [
    "molecule = bg.Pmolecule('./data/AF-Q8TEQ6-F1-model_v4.pdb')"
   ],
   "metadata": {
    "collapsed": false
   }
  },
  {
   "cell_type": "code",
   "execution_count": 18,
   "outputs": [],
   "source": [
    "network = molecule.network()"
   ],
   "metadata": {
    "collapsed": false
   }
  },
  {
   "cell_type": "code",
   "execution_count": 24,
   "outputs": [
    {
     "data": {
      "text/plain": "array([[ 0, 19,  5, ...,  0,  0,  0],\n       [19,  0, 19, ...,  0,  0,  0],\n       [ 5, 19,  0, ...,  0,  0,  0],\n       ...,\n       [ 0,  0,  0, ...,  0, 25,  7],\n       [ 0,  0,  0, ..., 25,  0, 25],\n       [ 0,  0,  0, ...,  7, 25,  0]], dtype=int32)"
     },
     "execution_count": 24,
     "metadata": {},
     "output_type": "execute_result"
    }
   ],
   "source": [
    "nx.adjacency_matrix(network).todense()"
   ],
   "metadata": {
    "collapsed": false
   }
  },
  {
   "cell_type": "code",
   "execution_count": 25,
   "outputs": [],
   "source": [
    "import pandas as pd"
   ],
   "metadata": {
    "collapsed": false
   }
  },
  {
   "cell_type": "code",
   "execution_count": 34,
   "outputs": [
    {
     "data": {
      "text/plain": "'MGQEPRTLPPSPNWYCARCSDAVPGGLFGFAARTSVFLVRVGPGAGESPGTPPFRVIGELVGHTERVSGFTFSHHPGQYNLCATSSDDGTVKIWDVETKTVVTEHALHQHTISTLHWSPRVKDLIVSGDEKGVVFCYWFNRNDSQHLFIEPRTIFCLTCSPHHEDLVAIGYKDGIVVIIDISKKGEVIHRLRGHDDEIHSIAWCPLPGEDCLSINQEETSEEAEITNGNAVAQAPVTKGCYLATGSKDQTIRIWSCSRGRGVMILKLPFLKRRGGGIDPTVKERLWLTLHWPSNQPTQLVSSCFGGELLQWDLTQSWRRKYTLFSASSEGQNHSRIVFNLCPLQTEDDKQLLLSTSMDRDVKCWDIATLECSWTLPSLGGFAYSLAFSSVDIGSLAIGVGDGMIRVWNTLSIKNNYDVKNFWQGVKSKVTALCWHPTKEGCLAFGTDDGKVGLYDTYSNKPPQISSTYHKKTVYTLAWGPPVPPMSLGGEGDRPSLALYSCGGEGIVLQHNPWKLSGEAFDINKLIRDTNSIKYKLPVHTEISWKADGKIMALGNEDGSIEIFQIPNLKLICTIQQHHKLVNTISWHHEHGSQPELSYLMASGSNNAVIYVHNLKTVIESSPESPVTITEPYRTLSGHTAKITSVAWSPHHDGRLVSASYDGTAQVWDALREEPLCNFRGHRGRLLCVAWSPLDPDCIYSGADDFCVHKWLTSMQDHSRPPQGKKSIELEKKRLSQPKAKPKKKKKPTLRTPVKLESIDGNEEESMKENSGPVENGVSDQEGEEQAREPELPCGLAPAVSREPVICTPVSSGFEKSKVTINNKVILLKKEPPKEKPETLIKKRKARSLLPLSTSLDHRSKEELHQDCLVLATAKHSRELNEDVSADVEERFHLGLFTDRATLYRMIDIEGKGHLENGHPELFHQLMLWKGDLKGVLQTAAERGELTDNLVAMAPAAGYHVWLWAVEAFAKQLCFQDQYVKAASHLLSIHKVYEAVELLKSNHFYREAIAIAKARLRPEDPVLKDLYLSWGTVLERDGHYAVAAKCYLGATCAYDAAKVLAKKGDAASLRTAAELAAIVGEDELSASLALRCAQELLLANNWVGAQEALQLHESLQGQRLVFCLLELLSRHLEEKQLSEGKSSSSYHTWNTGTEGPFVERVTAVWKSIFSLDTPEQYQEAFQKLQNIKYPSATNNTPAKQLLLHICHDLTLAVLSQQMASWDEAVQALLRAVVRSYDSGSFTIMQEVYSAFLPDGCDHLRDKLGDHQSPATPAFKSLEAFFLYGRLYEFWWSLSRPCPNSSVWVRAGHRTLSVEPSQQLDTASTEETDPETSQPEPNRPSELDLRLTEEGERMLSTFKELFSEKHASLQNSQRTVAEVQETLAEMIRQHQKSQLCKSTANGPDKNEPEVEAEQPLCSSQSQCKEEKNEPLSLPELTKRLTEANQRMAKFPESIKAWPFPDVLECCLVLLLIRSHFPGCLAQEMQQQAQELLQKYGNTKTYRRHCQT'"
     },
     "execution_count": 34,
     "metadata": {},
     "output_type": "execute_result"
    }
   ],
   "source": [
    "df = pd.read_csv('./data/af2_dataset_training_labeled.csv')\n",
    "\"\".join(df[df['entry'] == 'GEMI5_HUMAN']['annotation_sequence'].values)"
   ],
   "metadata": {
    "collapsed": false
   }
  },
  {
   "cell_type": "code",
   "execution_count": 29,
   "outputs": [],
   "source": [
    "chains = {chain.id:seq1(''.join(residue.resname for residue in chain)) for chain in structure.get_chains()}"
   ],
   "metadata": {
    "collapsed": false
   }
  },
  {
   "cell_type": "code",
   "execution_count": 31,
   "outputs": [
    {
     "data": {
      "text/plain": "'MGQEPRTLPPSPNWYCARCSDAVPGGLFGFAARTSVFLVRVGPGAGESPGTPPFRVIGELVGHTERVSGFTFSHHPGQYNLCATSSDDGTVKIWDVETKTVVTEHALHQHTISTLHWSPRVKDLIVSGDEKGVVFCYWFNRNDSQHLFIEPRTIFCLTCSPHHEDLVAIGYKDGIVVIIDISKKGEVIHRLRGHDDEIHSIAWCPLPGEDCLSINQEETSEEAEITNGNAVAQAPVTKGCYLATGSKDQTIRIWSCSRGRGVMILKLPFLKRRGGGIDPTVKERLWLTLHWPSNQPTQLVSSCFGGELLQWDLTQSWRRKYTLFSASSEGQNHSRIVFNLCPLQTEDDKQLLLSTSMDRDVKCWDIATLECSWTLPSLGGFAYSLAFSSVDIGSLAIGVGDGMIRVWNTLSIKNNYDVKNFWQGVKSKVTALCWHPTKEGCLAFGTDDGKVGLYDTYSNKPPQISSTYHKKTVYTLAWGPPVPPMSLGGEGDRPSLALYSCGGEGIVLQHNPWKLSGEAFDINKLIRDTNSIKYKLPVHTEISWKADGKIMALGNEDGSIEIFQIPNLKLICTIQQHHKLVNTISWHHEHGSQPELSYLMASGSNNAVIYVHNLKTVIESSPESPVTITEPYRTLSGHTAKITSVAWSPHHDGRLVSASYDGTAQVWDALREEPLCNFRGHRGRLLCVAWSPLDPDCIYSGADDFCVHKWLTSMQDHSRPPQGKKSIELEKKRLSQPKAKPKKKKKPTLRTPVKLESIDGNEEESMKENSGPVENGVSDQEGEEQAREPELPCGLAPAVSREPVICTPVSSGFEKSKVTINNKVILLKKEPPKEKPETLIKKRKARSLLPLSTSLDHRSKEELHQDCLVLATAKHSRELNEDVSADVEERFHLGLFTDRATLYRMIDIEGKGHLENGHPELFHQLMLWKGDLKGVLQTAAERGELTDNLVAMAPAAGYHVWLWAVEAFAKQLCFQDQYVKAASHLLSIHKVYEAVELLKSNHFYREAIAIAKARLRPEDPVLKDLYLSWGTVLERDGHYAVAAKCYLGATCAYDAAKVLAKKGDAASLRTAAELAAIVGEDELSASLALRCAQELLLANNWVGAQEALQLHESLQGQRLVFCLLELLSRHLEEKQLSEGKSSSSYHTWNTGTEGPFVERVTAVWKSIFSLDTPEQYQEAFQKLQNIKYPSATNNTPAKQLLLHICHDLTLAVLSQQMASWDEAVQALLRAVVRSYDSGSFTIMQEVYSAFLPDGCDHLRDKLGDHQSPATPAFKSLEAFFLYGRLYEFWWSLSRPCPNSSVWVRAGHRTLSVEPSQQLDTASTEETDPETSQPEPNRPSELDLRLTEEGERMLSTFKELFSEKHASLQNSQRTVAEVQETLAEMIRQHQKSQLCKSTANGPDKNEPEVEAEQPLCSSQSQCKEEKNEPLSLPELTKRLTEANQRMAKFPESIKAWPFPDVLECCLVLLLIRSHFPGCLAQEMQQQAQELLQKYGNTKTYRRHCQTFCM'"
     },
     "execution_count": 31,
     "metadata": {},
     "output_type": "execute_result"
    }
   ],
   "source": [
    "chains['A']"
   ],
   "metadata": {
    "collapsed": false
   }
  },
  {
   "cell_type": "code",
   "execution_count": null,
   "outputs": [],
   "source": [],
   "metadata": {
    "collapsed": false
   }
  }
 ],
 "metadata": {
  "kernelspec": {
   "display_name": "Python 3",
   "language": "python",
   "name": "python3"
  },
  "language_info": {
   "codemirror_mode": {
    "name": "ipython",
    "version": 2
   },
   "file_extension": ".py",
   "mimetype": "text/x-python",
   "name": "python",
   "nbconvert_exporter": "python",
   "pygments_lexer": "ipython2",
   "version": "2.7.6"
  }
 },
 "nbformat": 4,
 "nbformat_minor": 0
}
