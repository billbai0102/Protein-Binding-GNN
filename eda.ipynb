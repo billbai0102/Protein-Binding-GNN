{
 "cells": [
  {
   "cell_type": "code",
   "execution_count": 1,
   "outputs": [],
   "source": [
    "import pandas as pd\n",
    "from sklearn.model_selection import train_test_split\n",
    "from sklearn.ensemble import RandomForestClassifier\n",
    "from xgboost import XGBClassifier"
   ],
   "metadata": {
    "collapsed": false
   }
  },
  {
   "cell_type": "code",
   "execution_count": 2,
   "outputs": [
    {
     "data": {
      "text/plain": "    annotation_sequence  feat_A  feat_C  feat_D  feat_E  feat_F  feat_G  \\\n0                     M   False   False   False   False   False   False   \n1                     G   False   False   False   False   False    True   \n2                     Q   False   False   False   False   False   False   \n3                     E   False   False   False    True   False   False   \n4                     P   False   False   False   False   False   False   \n..                  ...     ...     ...     ...     ...     ...     ...   \n755                   S   False   False   False   False   False   False   \n756                   H   False   False   False   False   False   False   \n757                   G   False   False   False   False   False    True   \n758                   G   False   False   False   False   False    True   \n759                   F   False   False   False   False    True   False   \n\n     feat_H  feat_I  feat_K  ...  feat_DSSP_10  feat_DSSP_11  feat_DSSP_12  \\\n0     False   False   False  ...             0           0.0            47   \n1     False   False   False  ...             0           0.0             0   \n2     False   False   False  ...             1          -0.0            -1   \n3     False   False   False  ...           706          -0.1           705   \n4     False   False   False  ...             0           0.0           705   \n..      ...     ...     ...  ...           ...           ...           ...   \n755   False   False   False  ...            -3          -0.1             2   \n756    True   False   False  ...          -358          -0.1          -330   \n757   False   False   False  ...          -360          -0.2            -1   \n758   False   False   False  ...             0           0.0             0   \n759   False   False   False  ...             0           0.0             0   \n\n     feat_DSSP_13    coord_X    coord_Y    coord_Z        entry  entry_index  \\\n0            -0.0 -26.499001  -4.742000 -35.189999  GEMI5_HUMAN            0   \n1             0.0 -25.158001  -1.342000 -34.104000  GEMI5_HUMAN            1   \n2            -0.0 -21.926001  -1.641000 -32.175999  GEMI5_HUMAN            2   \n3            -0.0 -22.073999   0.654000 -29.171000  GEMI5_HUMAN            3   \n4            -0.2 -19.783001   2.670000 -26.858999  GEMI5_HUMAN            4   \n..            ...        ...        ...        ...          ...          ...   \n755          -0.4 -19.742001  20.796000 -12.319000   AOC3_HUMAN          755   \n756          -0.1 -16.299000  19.153999 -12.640000   AOC3_HUMAN          756   \n757          -0.1 -13.404000  19.502001 -10.121000   AOC3_HUMAN          757   \n758           0.0 -10.986000  20.320000 -13.016000   AOC3_HUMAN          758   \n759           0.0  -7.456000  19.052999 -13.909000   AOC3_HUMAN          759   \n\n     y_Ligand  \n0       False  \n1       False  \n2       False  \n3       False  \n4       False  \n..        ...  \n755     False  \n756     False  \n757     False  \n758     False  \n759     False  \n\n[497166 rows x 50 columns]",
      "text/html": "<div>\n<style scoped>\n    .dataframe tbody tr th:only-of-type {\n        vertical-align: middle;\n    }\n\n    .dataframe tbody tr th {\n        vertical-align: top;\n    }\n\n    .dataframe thead th {\n        text-align: right;\n    }\n</style>\n<table border=\"1\" class=\"dataframe\">\n  <thead>\n    <tr style=\"text-align: right;\">\n      <th></th>\n      <th>annotation_sequence</th>\n      <th>feat_A</th>\n      <th>feat_C</th>\n      <th>feat_D</th>\n      <th>feat_E</th>\n      <th>feat_F</th>\n      <th>feat_G</th>\n      <th>feat_H</th>\n      <th>feat_I</th>\n      <th>feat_K</th>\n      <th>...</th>\n      <th>feat_DSSP_10</th>\n      <th>feat_DSSP_11</th>\n      <th>feat_DSSP_12</th>\n      <th>feat_DSSP_13</th>\n      <th>coord_X</th>\n      <th>coord_Y</th>\n      <th>coord_Z</th>\n      <th>entry</th>\n      <th>entry_index</th>\n      <th>y_Ligand</th>\n    </tr>\n  </thead>\n  <tbody>\n    <tr>\n      <th>0</th>\n      <td>M</td>\n      <td>False</td>\n      <td>False</td>\n      <td>False</td>\n      <td>False</td>\n      <td>False</td>\n      <td>False</td>\n      <td>False</td>\n      <td>False</td>\n      <td>False</td>\n      <td>...</td>\n      <td>0</td>\n      <td>0.0</td>\n      <td>47</td>\n      <td>-0.0</td>\n      <td>-26.499001</td>\n      <td>-4.742000</td>\n      <td>-35.189999</td>\n      <td>GEMI5_HUMAN</td>\n      <td>0</td>\n      <td>False</td>\n    </tr>\n    <tr>\n      <th>1</th>\n      <td>G</td>\n      <td>False</td>\n      <td>False</td>\n      <td>False</td>\n      <td>False</td>\n      <td>False</td>\n      <td>True</td>\n      <td>False</td>\n      <td>False</td>\n      <td>False</td>\n      <td>...</td>\n      <td>0</td>\n      <td>0.0</td>\n      <td>0</td>\n      <td>0.0</td>\n      <td>-25.158001</td>\n      <td>-1.342000</td>\n      <td>-34.104000</td>\n      <td>GEMI5_HUMAN</td>\n      <td>1</td>\n      <td>False</td>\n    </tr>\n    <tr>\n      <th>2</th>\n      <td>Q</td>\n      <td>False</td>\n      <td>False</td>\n      <td>False</td>\n      <td>False</td>\n      <td>False</td>\n      <td>False</td>\n      <td>False</td>\n      <td>False</td>\n      <td>False</td>\n      <td>...</td>\n      <td>1</td>\n      <td>-0.0</td>\n      <td>-1</td>\n      <td>-0.0</td>\n      <td>-21.926001</td>\n      <td>-1.641000</td>\n      <td>-32.175999</td>\n      <td>GEMI5_HUMAN</td>\n      <td>2</td>\n      <td>False</td>\n    </tr>\n    <tr>\n      <th>3</th>\n      <td>E</td>\n      <td>False</td>\n      <td>False</td>\n      <td>False</td>\n      <td>True</td>\n      <td>False</td>\n      <td>False</td>\n      <td>False</td>\n      <td>False</td>\n      <td>False</td>\n      <td>...</td>\n      <td>706</td>\n      <td>-0.1</td>\n      <td>705</td>\n      <td>-0.0</td>\n      <td>-22.073999</td>\n      <td>0.654000</td>\n      <td>-29.171000</td>\n      <td>GEMI5_HUMAN</td>\n      <td>3</td>\n      <td>False</td>\n    </tr>\n    <tr>\n      <th>4</th>\n      <td>P</td>\n      <td>False</td>\n      <td>False</td>\n      <td>False</td>\n      <td>False</td>\n      <td>False</td>\n      <td>False</td>\n      <td>False</td>\n      <td>False</td>\n      <td>False</td>\n      <td>...</td>\n      <td>0</td>\n      <td>0.0</td>\n      <td>705</td>\n      <td>-0.2</td>\n      <td>-19.783001</td>\n      <td>2.670000</td>\n      <td>-26.858999</td>\n      <td>GEMI5_HUMAN</td>\n      <td>4</td>\n      <td>False</td>\n    </tr>\n    <tr>\n      <th>...</th>\n      <td>...</td>\n      <td>...</td>\n      <td>...</td>\n      <td>...</td>\n      <td>...</td>\n      <td>...</td>\n      <td>...</td>\n      <td>...</td>\n      <td>...</td>\n      <td>...</td>\n      <td>...</td>\n      <td>...</td>\n      <td>...</td>\n      <td>...</td>\n      <td>...</td>\n      <td>...</td>\n      <td>...</td>\n      <td>...</td>\n      <td>...</td>\n      <td>...</td>\n      <td>...</td>\n    </tr>\n    <tr>\n      <th>755</th>\n      <td>S</td>\n      <td>False</td>\n      <td>False</td>\n      <td>False</td>\n      <td>False</td>\n      <td>False</td>\n      <td>False</td>\n      <td>False</td>\n      <td>False</td>\n      <td>False</td>\n      <td>...</td>\n      <td>-3</td>\n      <td>-0.1</td>\n      <td>2</td>\n      <td>-0.4</td>\n      <td>-19.742001</td>\n      <td>20.796000</td>\n      <td>-12.319000</td>\n      <td>AOC3_HUMAN</td>\n      <td>755</td>\n      <td>False</td>\n    </tr>\n    <tr>\n      <th>756</th>\n      <td>H</td>\n      <td>False</td>\n      <td>False</td>\n      <td>False</td>\n      <td>False</td>\n      <td>False</td>\n      <td>False</td>\n      <td>True</td>\n      <td>False</td>\n      <td>False</td>\n      <td>...</td>\n      <td>-358</td>\n      <td>-0.1</td>\n      <td>-330</td>\n      <td>-0.1</td>\n      <td>-16.299000</td>\n      <td>19.153999</td>\n      <td>-12.640000</td>\n      <td>AOC3_HUMAN</td>\n      <td>756</td>\n      <td>False</td>\n    </tr>\n    <tr>\n      <th>757</th>\n      <td>G</td>\n      <td>False</td>\n      <td>False</td>\n      <td>False</td>\n      <td>False</td>\n      <td>False</td>\n      <td>True</td>\n      <td>False</td>\n      <td>False</td>\n      <td>False</td>\n      <td>...</td>\n      <td>-360</td>\n      <td>-0.2</td>\n      <td>-1</td>\n      <td>-0.1</td>\n      <td>-13.404000</td>\n      <td>19.502001</td>\n      <td>-10.121000</td>\n      <td>AOC3_HUMAN</td>\n      <td>757</td>\n      <td>False</td>\n    </tr>\n    <tr>\n      <th>758</th>\n      <td>G</td>\n      <td>False</td>\n      <td>False</td>\n      <td>False</td>\n      <td>False</td>\n      <td>False</td>\n      <td>True</td>\n      <td>False</td>\n      <td>False</td>\n      <td>False</td>\n      <td>...</td>\n      <td>0</td>\n      <td>0.0</td>\n      <td>0</td>\n      <td>0.0</td>\n      <td>-10.986000</td>\n      <td>20.320000</td>\n      <td>-13.016000</td>\n      <td>AOC3_HUMAN</td>\n      <td>758</td>\n      <td>False</td>\n    </tr>\n    <tr>\n      <th>759</th>\n      <td>F</td>\n      <td>False</td>\n      <td>False</td>\n      <td>False</td>\n      <td>False</td>\n      <td>True</td>\n      <td>False</td>\n      <td>False</td>\n      <td>False</td>\n      <td>False</td>\n      <td>...</td>\n      <td>0</td>\n      <td>0.0</td>\n      <td>0</td>\n      <td>0.0</td>\n      <td>-7.456000</td>\n      <td>19.052999</td>\n      <td>-13.909000</td>\n      <td>AOC3_HUMAN</td>\n      <td>759</td>\n      <td>False</td>\n    </tr>\n  </tbody>\n</table>\n<p>497166 rows × 50 columns</p>\n</div>"
     },
     "execution_count": 2,
     "metadata": {},
     "output_type": "execute_result"
    }
   ],
   "source": [
    "df = pd.read_csv('./data/af2_dataset_training_labeled.csv', index_col=0)\n",
    "df"
   ],
   "metadata": {
    "collapsed": false
   }
  },
  {
   "cell_type": "code",
   "execution_count": 3,
   "outputs": [],
   "source": [
    "X_train, X_test, y_train, y_test = train_test_split(df.drop([\"y_Ligand\"], axis=1), df[\"y_Ligand\"], test_size=0.2)\n",
    "without_categorical_columns = [col for col in X_train.columns if X_train[col].dtype != \"O\"]"
   ],
   "metadata": {
    "collapsed": false
   }
  },
  {
   "cell_type": "code",
   "execution_count": 24,
   "outputs": [],
   "source": [
    "model = XGBClassifier(scale_pos_weight=40)"
   ],
   "metadata": {
    "collapsed": false
   }
  },
  {
   "cell_type": "code",
   "execution_count": 25,
   "outputs": [
    {
     "data": {
      "text/plain": "XGBClassifier(base_score=None, booster=None, callbacks=None,\n              colsample_bylevel=None, colsample_bynode=None,\n              colsample_bytree=None, early_stopping_rounds=None,\n              enable_categorical=False, eval_metric=None, feature_types=None,\n              gamma=None, gpu_id=None, grow_policy=None, importance_type=None,\n              interaction_constraints=None, learning_rate=None, max_bin=None,\n              max_cat_threshold=None, max_cat_to_onehot=None,\n              max_delta_step=None, max_depth=None, max_leaves=None,\n              min_child_weight=None, missing=nan, monotone_constraints=None,\n              n_estimators=100, n_jobs=None, num_parallel_tree=None,\n              predictor=None, random_state=None, ...)",
      "text/html": "<style>#sk-container-id-5 {color: black;background-color: white;}#sk-container-id-5 pre{padding: 0;}#sk-container-id-5 div.sk-toggleable {background-color: white;}#sk-container-id-5 label.sk-toggleable__label {cursor: pointer;display: block;width: 100%;margin-bottom: 0;padding: 0.3em;box-sizing: border-box;text-align: center;}#sk-container-id-5 label.sk-toggleable__label-arrow:before {content: \"▸\";float: left;margin-right: 0.25em;color: #696969;}#sk-container-id-5 label.sk-toggleable__label-arrow:hover:before {color: black;}#sk-container-id-5 div.sk-estimator:hover label.sk-toggleable__label-arrow:before {color: black;}#sk-container-id-5 div.sk-toggleable__content {max-height: 0;max-width: 0;overflow: hidden;text-align: left;background-color: #f0f8ff;}#sk-container-id-5 div.sk-toggleable__content pre {margin: 0.2em;color: black;border-radius: 0.25em;background-color: #f0f8ff;}#sk-container-id-5 input.sk-toggleable__control:checked~div.sk-toggleable__content {max-height: 200px;max-width: 100%;overflow: auto;}#sk-container-id-5 input.sk-toggleable__control:checked~label.sk-toggleable__label-arrow:before {content: \"▾\";}#sk-container-id-5 div.sk-estimator input.sk-toggleable__control:checked~label.sk-toggleable__label {background-color: #d4ebff;}#sk-container-id-5 div.sk-label input.sk-toggleable__control:checked~label.sk-toggleable__label {background-color: #d4ebff;}#sk-container-id-5 input.sk-hidden--visually {border: 0;clip: rect(1px 1px 1px 1px);clip: rect(1px, 1px, 1px, 1px);height: 1px;margin: -1px;overflow: hidden;padding: 0;position: absolute;width: 1px;}#sk-container-id-5 div.sk-estimator {font-family: monospace;background-color: #f0f8ff;border: 1px dotted black;border-radius: 0.25em;box-sizing: border-box;margin-bottom: 0.5em;}#sk-container-id-5 div.sk-estimator:hover {background-color: #d4ebff;}#sk-container-id-5 div.sk-parallel-item::after {content: \"\";width: 100%;border-bottom: 1px solid gray;flex-grow: 1;}#sk-container-id-5 div.sk-label:hover label.sk-toggleable__label {background-color: #d4ebff;}#sk-container-id-5 div.sk-serial::before {content: \"\";position: absolute;border-left: 1px solid gray;box-sizing: border-box;top: 0;bottom: 0;left: 50%;z-index: 0;}#sk-container-id-5 div.sk-serial {display: flex;flex-direction: column;align-items: center;background-color: white;padding-right: 0.2em;padding-left: 0.2em;position: relative;}#sk-container-id-5 div.sk-item {position: relative;z-index: 1;}#sk-container-id-5 div.sk-parallel {display: flex;align-items: stretch;justify-content: center;background-color: white;position: relative;}#sk-container-id-5 div.sk-item::before, #sk-container-id-5 div.sk-parallel-item::before {content: \"\";position: absolute;border-left: 1px solid gray;box-sizing: border-box;top: 0;bottom: 0;left: 50%;z-index: -1;}#sk-container-id-5 div.sk-parallel-item {display: flex;flex-direction: column;z-index: 1;position: relative;background-color: white;}#sk-container-id-5 div.sk-parallel-item:first-child::after {align-self: flex-end;width: 50%;}#sk-container-id-5 div.sk-parallel-item:last-child::after {align-self: flex-start;width: 50%;}#sk-container-id-5 div.sk-parallel-item:only-child::after {width: 0;}#sk-container-id-5 div.sk-dashed-wrapped {border: 1px dashed gray;margin: 0 0.4em 0.5em 0.4em;box-sizing: border-box;padding-bottom: 0.4em;background-color: white;}#sk-container-id-5 div.sk-label label {font-family: monospace;font-weight: bold;display: inline-block;line-height: 1.2em;}#sk-container-id-5 div.sk-label-container {text-align: center;}#sk-container-id-5 div.sk-container {/* jupyter's `normalize.less` sets `[hidden] { display: none; }` but bootstrap.min.css set `[hidden] { display: none !important; }` so we also need the `!important` here to be able to override the default hidden behavior on the sphinx rendered scikit-learn.org. See: https://github.com/scikit-learn/scikit-learn/issues/21755 */display: inline-block !important;position: relative;}#sk-container-id-5 div.sk-text-repr-fallback {display: none;}</style><div id=\"sk-container-id-5\" class=\"sk-top-container\"><div class=\"sk-text-repr-fallback\"><pre>XGBClassifier(base_score=None, booster=None, callbacks=None,\n              colsample_bylevel=None, colsample_bynode=None,\n              colsample_bytree=None, early_stopping_rounds=None,\n              enable_categorical=False, eval_metric=None, feature_types=None,\n              gamma=None, gpu_id=None, grow_policy=None, importance_type=None,\n              interaction_constraints=None, learning_rate=None, max_bin=None,\n              max_cat_threshold=None, max_cat_to_onehot=None,\n              max_delta_step=None, max_depth=None, max_leaves=None,\n              min_child_weight=None, missing=nan, monotone_constraints=None,\n              n_estimators=100, n_jobs=None, num_parallel_tree=None,\n              predictor=None, random_state=None, ...)</pre><b>In a Jupyter environment, please rerun this cell to show the HTML representation or trust the notebook. <br />On GitHub, the HTML representation is unable to render, please try loading this page with nbviewer.org.</b></div><div class=\"sk-container\" hidden><div class=\"sk-item\"><div class=\"sk-estimator sk-toggleable\"><input class=\"sk-toggleable__control sk-hidden--visually\" id=\"sk-estimator-id-5\" type=\"checkbox\" checked><label for=\"sk-estimator-id-5\" class=\"sk-toggleable__label sk-toggleable__label-arrow\">XGBClassifier</label><div class=\"sk-toggleable__content\"><pre>XGBClassifier(base_score=None, booster=None, callbacks=None,\n              colsample_bylevel=None, colsample_bynode=None,\n              colsample_bytree=None, early_stopping_rounds=None,\n              enable_categorical=False, eval_metric=None, feature_types=None,\n              gamma=None, gpu_id=None, grow_policy=None, importance_type=None,\n              interaction_constraints=None, learning_rate=None, max_bin=None,\n              max_cat_threshold=None, max_cat_to_onehot=None,\n              max_delta_step=None, max_depth=None, max_leaves=None,\n              min_child_weight=None, missing=nan, monotone_constraints=None,\n              n_estimators=100, n_jobs=None, num_parallel_tree=None,\n              predictor=None, random_state=None, ...)</pre></div></div></div></div></div>"
     },
     "execution_count": 25,
     "metadata": {},
     "output_type": "execute_result"
    }
   ],
   "source": [
    "model.fit(X_train[without_categorical_columns], y_train)"
   ],
   "metadata": {
    "collapsed": false
   }
  },
  {
   "cell_type": "markdown",
   "source": [
    "### Evaluation"
   ],
   "metadata": {
    "collapsed": false
   }
  },
  {
   "cell_type": "code",
   "execution_count": 26,
   "outputs": [],
   "source": [
    "y_test_pred = model.predict(X_test[without_categorical_columns])"
   ],
   "metadata": {
    "collapsed": false
   }
  },
  {
   "cell_type": "code",
   "execution_count": 27,
   "outputs": [
    {
     "name": "stdout",
     "output_type": "stream",
     "text": [
      "ROC-AUC: 0.7902756863590275 \n",
      " PR-AUC 0.4685742450974212\n"
     ]
    }
   ],
   "source": [
    "from sklearn import metrics\n",
    "\n",
    "fpr, tpr, thresholds = metrics.roc_curve(y_test, y_test_pred, pos_label=1)\n",
    "auc_roc = metrics.auc(fpr, tpr)\n",
    "\n",
    "precision, recall, _ = metrics.precision_recall_curve(y_test, y_test_pred)\n",
    "auc_pr = metrics.auc(recall, precision)\n",
    "\n",
    "print(f\"ROC-AUC: {auc_roc} \\n PR-AUC {auc_pr}\")"
   ],
   "metadata": {
    "collapsed": false
   }
  },
  {
   "cell_type": "code",
   "execution_count": 28,
   "outputs": [
    {
     "name": "stdout",
     "output_type": "stream",
     "text": [
      "(array([0.99119826, 0.11350401]), array([0.76344389, 0.81710748]), array([0.8625397, 0.1993205]), array([95880,  3554], dtype=int64))\n"
     ]
    }
   ],
   "source": [
    "print(metrics.precision_recall_fscore_support(y_test, y_test_pred))"
   ],
   "metadata": {
    "collapsed": false
   }
  },
  {
   "cell_type": "code",
   "execution_count": 34,
   "outputs": [
    {
     "name": "stdout",
     "output_type": "stream",
     "text": [
      "0.7902756863590275\n"
     ]
    }
   ],
   "source": [
    "print(metrics.roc_auc_score(y_test, y_test_pred))"
   ],
   "metadata": {
    "collapsed": false
   }
  },
  {
   "cell_type": "code",
   "execution_count": 32,
   "outputs": [
    {
     "data": {
      "text/plain": "39"
     },
     "execution_count": 32,
     "metadata": {},
     "output_type": "execute_result"
    }
   ],
   "source": [
    "model.predict(X_test[X_test['entry'] == 'GEMI5_HUMAN'][without_categorical_columns]).sum()"
   ],
   "metadata": {
    "collapsed": false
   }
  },
  {
   "cell_type": "code",
   "execution_count": 33,
   "outputs": [
    {
     "name": "stdout",
     "output_type": "stream",
     "text": [
      "324\n"
     ]
    }
   ],
   "source": [
    "print(len(X_test[X_test['entry'] == 'GEMI5_HUMAN']))"
   ],
   "metadata": {
    "collapsed": false
   }
  },
  {
   "cell_type": "code",
   "execution_count": null,
   "outputs": [],
   "source": [],
   "metadata": {
    "collapsed": false
   }
  }
 ],
 "metadata": {
  "kernelspec": {
   "display_name": "Python 3",
   "language": "python",
   "name": "python3"
  },
  "language_info": {
   "codemirror_mode": {
    "name": "ipython",
    "version": 2
   },
   "file_extension": ".py",
   "mimetype": "text/x-python",
   "name": "python",
   "nbconvert_exporter": "python",
   "pygments_lexer": "ipython2",
   "version": "2.7.6"
  }
 },
 "nbformat": 4,
 "nbformat_minor": 0
}
