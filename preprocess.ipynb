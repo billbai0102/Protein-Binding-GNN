{
 "cells": [
  {
   "cell_type": "code",
   "execution_count": 1,
   "metadata": {
    "collapsed": true
   },
   "outputs": [],
   "source": [
    "import pandas as pd\n",
    "import torch"
   ]
  },
  {
   "cell_type": "code",
   "execution_count": 2,
   "outputs": [],
   "source": [
    "df = pd.read_csv('./data/af2_dataset_training_labeled.csv').drop('Unnamed: 0', axis=1)"
   ],
   "metadata": {
    "collapsed": false
   }
  },
  {
   "cell_type": "code",
   "execution_count": 3,
   "outputs": [],
   "source": [
    "bool_cols = [col for col in df.columns if df[col].dtype == bool]"
   ],
   "metadata": {
    "collapsed": false
   }
  },
  {
   "cell_type": "code",
   "execution_count": 4,
   "outputs": [],
   "source": [
    "df[bool_cols] = df[bool_cols].astype(int)"
   ],
   "metadata": {
    "collapsed": false
   }
  },
  {
   "cell_type": "code",
   "execution_count": 5,
   "outputs": [
    {
     "data": {
      "text/plain": "       annotation_sequence  feat_A  feat_C  feat_D  feat_E  feat_F  feat_G  \\\n0                        M       0       0       0       0       0       0   \n1                        G       0       0       0       0       0       1   \n2                        Q       0       0       0       0       0       0   \n3                        E       0       0       0       1       0       0   \n4                        P       0       0       0       0       0       0   \n...                    ...     ...     ...     ...     ...     ...     ...   \n497161                   S       0       0       0       0       0       0   \n497162                   H       0       0       0       0       0       0   \n497163                   G       0       0       0       0       0       1   \n497164                   G       0       0       0       0       0       1   \n497165                   F       0       0       0       0       1       0   \n\n        feat_H  feat_I  feat_K  ...  feat_DSSP_10  feat_DSSP_11  feat_DSSP_12  \\\n0            0       0       0  ...             0           0.0            47   \n1            0       0       0  ...             0           0.0             0   \n2            0       0       0  ...             1          -0.0            -1   \n3            0       0       0  ...           706          -0.1           705   \n4            0       0       0  ...             0           0.0           705   \n...        ...     ...     ...  ...           ...           ...           ...   \n497161       0       0       0  ...            -3          -0.1             2   \n497162       1       0       0  ...          -358          -0.1          -330   \n497163       0       0       0  ...          -360          -0.2            -1   \n497164       0       0       0  ...             0           0.0             0   \n497165       0       0       0  ...             0           0.0             0   \n\n        feat_DSSP_13    coord_X    coord_Y    coord_Z        entry  \\\n0               -0.0 -26.499001  -4.742000 -35.189999  GEMI5_HUMAN   \n1                0.0 -25.158001  -1.342000 -34.104000  GEMI5_HUMAN   \n2               -0.0 -21.926001  -1.641000 -32.175999  GEMI5_HUMAN   \n3               -0.0 -22.073999   0.654000 -29.171000  GEMI5_HUMAN   \n4               -0.2 -19.783001   2.670000 -26.858999  GEMI5_HUMAN   \n...              ...        ...        ...        ...          ...   \n497161          -0.4 -19.742001  20.796000 -12.319000   AOC3_HUMAN   \n497162          -0.1 -16.299000  19.153999 -12.640000   AOC3_HUMAN   \n497163          -0.1 -13.404000  19.502001 -10.121000   AOC3_HUMAN   \n497164           0.0 -10.986000  20.320000 -13.016000   AOC3_HUMAN   \n497165           0.0  -7.456000  19.052999 -13.909000   AOC3_HUMAN   \n\n        entry_index  y_Ligand  \n0                 0         0  \n1                 1         0  \n2                 2         0  \n3                 3         0  \n4                 4         0  \n...             ...       ...  \n497161          755         0  \n497162          756         0  \n497163          757         0  \n497164          758         0  \n497165          759         0  \n\n[497166 rows x 50 columns]",
      "text/html": "<div>\n<style scoped>\n    .dataframe tbody tr th:only-of-type {\n        vertical-align: middle;\n    }\n\n    .dataframe tbody tr th {\n        vertical-align: top;\n    }\n\n    .dataframe thead th {\n        text-align: right;\n    }\n</style>\n<table border=\"1\" class=\"dataframe\">\n  <thead>\n    <tr style=\"text-align: right;\">\n      <th></th>\n      <th>annotation_sequence</th>\n      <th>feat_A</th>\n      <th>feat_C</th>\n      <th>feat_D</th>\n      <th>feat_E</th>\n      <th>feat_F</th>\n      <th>feat_G</th>\n      <th>feat_H</th>\n      <th>feat_I</th>\n      <th>feat_K</th>\n      <th>...</th>\n      <th>feat_DSSP_10</th>\n      <th>feat_DSSP_11</th>\n      <th>feat_DSSP_12</th>\n      <th>feat_DSSP_13</th>\n      <th>coord_X</th>\n      <th>coord_Y</th>\n      <th>coord_Z</th>\n      <th>entry</th>\n      <th>entry_index</th>\n      <th>y_Ligand</th>\n    </tr>\n  </thead>\n  <tbody>\n    <tr>\n      <th>0</th>\n      <td>M</td>\n      <td>0</td>\n      <td>0</td>\n      <td>0</td>\n      <td>0</td>\n      <td>0</td>\n      <td>0</td>\n      <td>0</td>\n      <td>0</td>\n      <td>0</td>\n      <td>...</td>\n      <td>0</td>\n      <td>0.0</td>\n      <td>47</td>\n      <td>-0.0</td>\n      <td>-26.499001</td>\n      <td>-4.742000</td>\n      <td>-35.189999</td>\n      <td>GEMI5_HUMAN</td>\n      <td>0</td>\n      <td>0</td>\n    </tr>\n    <tr>\n      <th>1</th>\n      <td>G</td>\n      <td>0</td>\n      <td>0</td>\n      <td>0</td>\n      <td>0</td>\n      <td>0</td>\n      <td>1</td>\n      <td>0</td>\n      <td>0</td>\n      <td>0</td>\n      <td>...</td>\n      <td>0</td>\n      <td>0.0</td>\n      <td>0</td>\n      <td>0.0</td>\n      <td>-25.158001</td>\n      <td>-1.342000</td>\n      <td>-34.104000</td>\n      <td>GEMI5_HUMAN</td>\n      <td>1</td>\n      <td>0</td>\n    </tr>\n    <tr>\n      <th>2</th>\n      <td>Q</td>\n      <td>0</td>\n      <td>0</td>\n      <td>0</td>\n      <td>0</td>\n      <td>0</td>\n      <td>0</td>\n      <td>0</td>\n      <td>0</td>\n      <td>0</td>\n      <td>...</td>\n      <td>1</td>\n      <td>-0.0</td>\n      <td>-1</td>\n      <td>-0.0</td>\n      <td>-21.926001</td>\n      <td>-1.641000</td>\n      <td>-32.175999</td>\n      <td>GEMI5_HUMAN</td>\n      <td>2</td>\n      <td>0</td>\n    </tr>\n    <tr>\n      <th>3</th>\n      <td>E</td>\n      <td>0</td>\n      <td>0</td>\n      <td>0</td>\n      <td>1</td>\n      <td>0</td>\n      <td>0</td>\n      <td>0</td>\n      <td>0</td>\n      <td>0</td>\n      <td>...</td>\n      <td>706</td>\n      <td>-0.1</td>\n      <td>705</td>\n      <td>-0.0</td>\n      <td>-22.073999</td>\n      <td>0.654000</td>\n      <td>-29.171000</td>\n      <td>GEMI5_HUMAN</td>\n      <td>3</td>\n      <td>0</td>\n    </tr>\n    <tr>\n      <th>4</th>\n      <td>P</td>\n      <td>0</td>\n      <td>0</td>\n      <td>0</td>\n      <td>0</td>\n      <td>0</td>\n      <td>0</td>\n      <td>0</td>\n      <td>0</td>\n      <td>0</td>\n      <td>...</td>\n      <td>0</td>\n      <td>0.0</td>\n      <td>705</td>\n      <td>-0.2</td>\n      <td>-19.783001</td>\n      <td>2.670000</td>\n      <td>-26.858999</td>\n      <td>GEMI5_HUMAN</td>\n      <td>4</td>\n      <td>0</td>\n    </tr>\n    <tr>\n      <th>...</th>\n      <td>...</td>\n      <td>...</td>\n      <td>...</td>\n      <td>...</td>\n      <td>...</td>\n      <td>...</td>\n      <td>...</td>\n      <td>...</td>\n      <td>...</td>\n      <td>...</td>\n      <td>...</td>\n      <td>...</td>\n      <td>...</td>\n      <td>...</td>\n      <td>...</td>\n      <td>...</td>\n      <td>...</td>\n      <td>...</td>\n      <td>...</td>\n      <td>...</td>\n      <td>...</td>\n    </tr>\n    <tr>\n      <th>497161</th>\n      <td>S</td>\n      <td>0</td>\n      <td>0</td>\n      <td>0</td>\n      <td>0</td>\n      <td>0</td>\n      <td>0</td>\n      <td>0</td>\n      <td>0</td>\n      <td>0</td>\n      <td>...</td>\n      <td>-3</td>\n      <td>-0.1</td>\n      <td>2</td>\n      <td>-0.4</td>\n      <td>-19.742001</td>\n      <td>20.796000</td>\n      <td>-12.319000</td>\n      <td>AOC3_HUMAN</td>\n      <td>755</td>\n      <td>0</td>\n    </tr>\n    <tr>\n      <th>497162</th>\n      <td>H</td>\n      <td>0</td>\n      <td>0</td>\n      <td>0</td>\n      <td>0</td>\n      <td>0</td>\n      <td>0</td>\n      <td>1</td>\n      <td>0</td>\n      <td>0</td>\n      <td>...</td>\n      <td>-358</td>\n      <td>-0.1</td>\n      <td>-330</td>\n      <td>-0.1</td>\n      <td>-16.299000</td>\n      <td>19.153999</td>\n      <td>-12.640000</td>\n      <td>AOC3_HUMAN</td>\n      <td>756</td>\n      <td>0</td>\n    </tr>\n    <tr>\n      <th>497163</th>\n      <td>G</td>\n      <td>0</td>\n      <td>0</td>\n      <td>0</td>\n      <td>0</td>\n      <td>0</td>\n      <td>1</td>\n      <td>0</td>\n      <td>0</td>\n      <td>0</td>\n      <td>...</td>\n      <td>-360</td>\n      <td>-0.2</td>\n      <td>-1</td>\n      <td>-0.1</td>\n      <td>-13.404000</td>\n      <td>19.502001</td>\n      <td>-10.121000</td>\n      <td>AOC3_HUMAN</td>\n      <td>757</td>\n      <td>0</td>\n    </tr>\n    <tr>\n      <th>497164</th>\n      <td>G</td>\n      <td>0</td>\n      <td>0</td>\n      <td>0</td>\n      <td>0</td>\n      <td>0</td>\n      <td>1</td>\n      <td>0</td>\n      <td>0</td>\n      <td>0</td>\n      <td>...</td>\n      <td>0</td>\n      <td>0.0</td>\n      <td>0</td>\n      <td>0.0</td>\n      <td>-10.986000</td>\n      <td>20.320000</td>\n      <td>-13.016000</td>\n      <td>AOC3_HUMAN</td>\n      <td>758</td>\n      <td>0</td>\n    </tr>\n    <tr>\n      <th>497165</th>\n      <td>F</td>\n      <td>0</td>\n      <td>0</td>\n      <td>0</td>\n      <td>0</td>\n      <td>1</td>\n      <td>0</td>\n      <td>0</td>\n      <td>0</td>\n      <td>0</td>\n      <td>...</td>\n      <td>0</td>\n      <td>0.0</td>\n      <td>0</td>\n      <td>0.0</td>\n      <td>-7.456000</td>\n      <td>19.052999</td>\n      <td>-13.909000</td>\n      <td>AOC3_HUMAN</td>\n      <td>759</td>\n      <td>0</td>\n    </tr>\n  </tbody>\n</table>\n<p>497166 rows × 50 columns</p>\n</div>"
     },
     "execution_count": 5,
     "metadata": {},
     "output_type": "execute_result"
    }
   ],
   "source": [
    "df"
   ],
   "metadata": {
    "collapsed": false
   }
  },
  {
   "cell_type": "code",
   "execution_count": 6,
   "outputs": [],
   "source": [
    "grouped = df.groupby('entry')"
   ],
   "metadata": {
    "collapsed": false
   }
  },
  {
   "cell_type": "code",
   "execution_count": 38,
   "outputs": [
    {
     "data": {
      "text/plain": "tensor([[  0.0000,   0.0000,   0.0000,  ...,  28.6400,  14.4230,   0.0000],\n        [  0.0000,   0.0000,   0.0000,  ...,  25.0730,  14.3910,   1.0000],\n        [  0.0000,   0.0000,   0.0000,  ...,  23.0880,  12.2980,   2.0000],\n        ...,\n        [  1.0000,   0.0000,   0.0000,  ..., -25.1320, -20.9820, 240.0000],\n        [  0.0000,   0.0000,   0.0000,  ..., -27.8010, -23.5450, 241.0000],\n        [  0.0000,   0.0000,   0.0000,  ..., -27.9550, -27.0170, 242.0000]])"
     },
     "metadata": {},
     "output_type": "display_data"
    },
    {
     "data": {
      "text/plain": "tensor([0, 0, 0, 0, 0, 0, 0, 0, 0, 0, 0, 0, 0, 0, 0, 0, 0, 0, 0, 0, 0, 0, 0, 0,\n        0, 0, 0, 0, 0, 0, 0, 0, 0, 0, 0, 0, 0, 0, 0, 0, 0, 0, 0, 0, 0, 0, 0, 0,\n        0, 0, 1, 0, 0, 0, 1, 0, 0, 1, 0, 0, 0, 0, 0, 0, 0, 0, 0, 0, 0, 0, 0, 0,\n        0, 0, 0, 0, 0, 0, 0, 0, 0, 0, 0, 0, 0, 0, 0, 0, 0, 0, 0, 0, 0, 0, 0, 0,\n        0, 0, 0, 0, 0, 0, 0, 0, 0, 0, 0, 0, 0, 0, 0, 0, 0, 0, 0, 0, 0, 0, 0, 0,\n        0, 0, 0, 0, 0, 0, 0, 0, 1, 1, 0, 0, 0, 0, 0, 0, 0, 0, 0, 0, 0, 0, 0, 0,\n        0, 0, 0, 0, 0, 0, 0, 0, 0, 0, 0, 0, 0, 0, 0, 0, 0, 0, 0, 0, 0, 0, 0, 0,\n        0, 0, 0, 0, 0, 1, 0, 0, 0, 0, 0, 0, 0, 0, 0, 0, 0, 0, 0, 0, 0, 0, 0, 0,\n        0, 0, 0, 0, 0, 0, 0, 0, 0, 0, 0, 0, 0, 0, 0, 0, 0, 0, 0, 0, 0, 0, 0, 0,\n        0, 0, 1, 0, 0, 1, 0, 0, 0, 0, 0, 0, 0, 0, 0, 0, 0, 0, 0, 0, 0, 0, 0, 0,\n        0, 0, 0])"
     },
     "metadata": {},
     "output_type": "display_data"
    },
    {
     "data": {
      "text/plain": "tensor([[  0,   1],\n        [  1,   2],\n        [  2,   3],\n        [  3,   4],\n        [  4,   5],\n        [  5,   6],\n        [  6,   7],\n        [  7,   8],\n        [  8,   9],\n        [  9,  10],\n        [ 10,  11],\n        [ 11,  12],\n        [ 12,  13],\n        [ 13,  14],\n        [ 14,  15],\n        [ 15,  16],\n        [ 16,  17],\n        [ 17,  18],\n        [ 18,  19],\n        [ 19,  20],\n        [ 20,  21],\n        [ 21,  22],\n        [ 22,  23],\n        [ 23,  24],\n        [ 24,  25],\n        [ 25,  26],\n        [ 26,  27],\n        [ 27,  28],\n        [ 28,  29],\n        [ 29,  30],\n        [ 30,  31],\n        [ 31,  32],\n        [ 32,  33],\n        [ 33,  34],\n        [ 34,  35],\n        [ 35,  36],\n        [ 36,  37],\n        [ 37,  38],\n        [ 38,  39],\n        [ 39,  40],\n        [ 40,  41],\n        [ 41,  42],\n        [ 42,  43],\n        [ 43,  44],\n        [ 44,  45],\n        [ 45,  46],\n        [ 46,  47],\n        [ 47,  48],\n        [ 48,  49],\n        [ 49,  50],\n        [ 50,  51],\n        [ 51,  52],\n        [ 52,  53],\n        [ 53,  54],\n        [ 54,  55],\n        [ 55,  56],\n        [ 56,  57],\n        [ 57,  58],\n        [ 58,  59],\n        [ 59,  60],\n        [ 60,  61],\n        [ 61,  62],\n        [ 62,  63],\n        [ 63,  64],\n        [ 64,  65],\n        [ 65,  66],\n        [ 66,  67],\n        [ 67,  68],\n        [ 68,  69],\n        [ 69,  70],\n        [ 70,  71],\n        [ 71,  72],\n        [ 72,  73],\n        [ 73,  74],\n        [ 74,  75],\n        [ 75,  76],\n        [ 76,  77],\n        [ 77,  78],\n        [ 78,  79],\n        [ 79,  80],\n        [ 80,  81],\n        [ 81,  82],\n        [ 82,  83],\n        [ 83,  84],\n        [ 84,  85],\n        [ 85,  86],\n        [ 86,  87],\n        [ 87,  88],\n        [ 88,  89],\n        [ 89,  90],\n        [ 90,  91],\n        [ 91,  92],\n        [ 92,  93],\n        [ 93,  94],\n        [ 94,  95],\n        [ 95,  96],\n        [ 96,  97],\n        [ 97,  98],\n        [ 98,  99],\n        [ 99, 100],\n        [100, 101],\n        [101, 102],\n        [102, 103],\n        [103, 104],\n        [104, 105],\n        [105, 106],\n        [106, 107],\n        [107, 108],\n        [108, 109],\n        [109, 110],\n        [110, 111],\n        [111, 112],\n        [112, 113],\n        [113, 114],\n        [114, 115],\n        [115, 116],\n        [116, 117],\n        [117, 118],\n        [118, 119],\n        [119, 120],\n        [120, 121],\n        [121, 122],\n        [122, 123],\n        [123, 124],\n        [124, 125],\n        [125, 126],\n        [126, 127],\n        [127, 128],\n        [128, 129],\n        [129, 130],\n        [130, 131],\n        [131, 132],\n        [132, 133],\n        [133, 134],\n        [134, 135],\n        [135, 136],\n        [136, 137],\n        [137, 138],\n        [138, 139],\n        [139, 140],\n        [140, 141],\n        [141, 142],\n        [142, 143],\n        [143, 144],\n        [144, 145],\n        [145, 146],\n        [146, 147],\n        [147, 148],\n        [148, 149],\n        [149, 150],\n        [150, 151],\n        [151, 152],\n        [152, 153],\n        [153, 154],\n        [154, 155],\n        [155, 156],\n        [156, 157],\n        [157, 158],\n        [158, 159],\n        [159, 160],\n        [160, 161],\n        [161, 162],\n        [162, 163],\n        [163, 164],\n        [164, 165],\n        [165, 166],\n        [166, 167],\n        [167, 168],\n        [168, 169],\n        [169, 170],\n        [170, 171],\n        [171, 172],\n        [172, 173],\n        [173, 174],\n        [174, 175],\n        [175, 176],\n        [176, 177],\n        [177, 178],\n        [178, 179],\n        [179, 180],\n        [180, 181],\n        [181, 182],\n        [182, 183],\n        [183, 184],\n        [184, 185],\n        [185, 186],\n        [186, 187],\n        [187, 188],\n        [188, 189],\n        [189, 190],\n        [190, 191],\n        [191, 192],\n        [192, 193],\n        [193, 194],\n        [194, 195],\n        [195, 196],\n        [196, 197],\n        [197, 198],\n        [198, 199],\n        [199, 200],\n        [200, 201],\n        [201, 202],\n        [202, 203],\n        [203, 204],\n        [204, 205],\n        [205, 206],\n        [206, 207],\n        [207, 208],\n        [208, 209],\n        [209, 210],\n        [210, 211],\n        [211, 212],\n        [212, 213],\n        [213, 214],\n        [214, 215],\n        [215, 216],\n        [216, 217],\n        [217, 218],\n        [218, 219],\n        [219, 220],\n        [220, 221],\n        [221, 222],\n        [222, 223],\n        [223, 224],\n        [224, 225],\n        [225, 226],\n        [226, 227],\n        [227, 228],\n        [228, 229],\n        [229, 230],\n        [230, 231],\n        [231, 232],\n        [232, 233],\n        [233, 234],\n        [234, 235],\n        [235, 236],\n        [236, 237],\n        [237, 238],\n        [238, 239],\n        [239, 240],\n        [240, 241],\n        [241, 242]])"
     },
     "metadata": {},
     "output_type": "display_data"
    }
   ],
   "source": [
    "for entry, group in grouped:\n",
    "    drop_cols = ['y_Ligand', 'annotation_sequence', 'annotation_atomrec', 'entry']\n",
    "    x = group.loc[group['entry'] == entry, group.columns] \\\n",
    "        .sort_values(by='entry_index') \\\n",
    "        .drop(drop_cols, axis=1).values\n",
    "    y = group['y_Ligand'].values\n",
    "    edge_list = [group['entry_index'].values[:-1], group['entry_index'].values[1:]]\n",
    "\n",
    "    x = torch.FloatTensor(x)\n",
    "    y = torch.LongTensor(y)\n",
    "    edge_list = torch.tensor(edge_list, dtype=torch.long)\n",
    "\n",
    "    display(x)\n",
    "    display(y)\n",
    "    display(edge_list.T)\n",
    "    break"
   ],
   "metadata": {
    "collapsed": false
   }
  },
  {
   "cell_type": "code",
   "execution_count": 1,
   "outputs": [],
   "source": [
    "from LigandBinaryDataset import LigandBinaryDataset"
   ],
   "metadata": {
    "collapsed": false
   }
  },
  {
   "cell_type": "code",
   "execution_count": 2,
   "outputs": [
    {
     "name": "stderr",
     "output_type": "stream",
     "text": [
      "Processing...\n"
     ]
    },
    {
     "name": "stdout",
     "output_type": "stream",
     "text": [
      "['data\\\\raw\\\\af2_dataset_training_labeled.csv']\n",
      "['data\\\\processed\\\\processed.dataset']\n"
     ]
    },
    {
     "name": "stderr",
     "output_type": "stream",
     "text": [
      "C:\\Users\\billb\\OneDrive\\Documents\\Projects\\CxC Cyclica\\LigandBinaryDataset.py:44: UserWarning: Creating a tensor from a list of numpy.ndarrays is extremely slow. Please consider converting the list to a single numpy.ndarray with numpy.array() before converting to a tensor. (Triggered internally at  C:\\cb\\pytorch_1000000000000\\work\\torch\\csrc\\utils\\tensor_new.cpp:204.)\n",
      "  edge_list = torch.tensor(edge_list, dtype=torch.long)\n",
      "Done!\n"
     ]
    }
   ],
   "source": [
    "ds = LigandBinaryDataset('./data')"
   ],
   "metadata": {
    "collapsed": false
   }
  },
  {
   "cell_type": "code",
   "execution_count": 10,
   "outputs": [
    {
     "data": {
      "text/plain": "LigandBinaryDataset(723)"
     },
     "execution_count": 10,
     "metadata": {},
     "output_type": "execute_result"
    }
   ],
   "source": [
    "ds"
   ],
   "metadata": {
    "collapsed": false
   }
  },
  {
   "cell_type": "code",
   "execution_count": 9,
   "outputs": [
    {
     "data": {
      "text/plain": "Data(x=[243, 46], edge_index=[2, 242], y=[243])"
     },
     "execution_count": 9,
     "metadata": {},
     "output_type": "execute_result"
    }
   ],
   "source": [
    "ds[0]"
   ],
   "metadata": {
    "collapsed": false
   }
  },
  {
   "cell_type": "markdown",
   "source": [
    "less goo!"
   ],
   "metadata": {
    "collapsed": false
   }
  },
  {
   "cell_type": "code",
   "execution_count": null,
   "outputs": [],
   "source": [],
   "metadata": {
    "collapsed": false
   }
  }
 ],
 "metadata": {
  "kernelspec": {
   "display_name": "Python 3",
   "language": "python",
   "name": "python3"
  },
  "language_info": {
   "codemirror_mode": {
    "name": "ipython",
    "version": 2
   },
   "file_extension": ".py",
   "mimetype": "text/x-python",
   "name": "python",
   "nbconvert_exporter": "python",
   "pygments_lexer": "ipython2",
   "version": "2.7.6"
  }
 },
 "nbformat": 4,
 "nbformat_minor": 0
}
