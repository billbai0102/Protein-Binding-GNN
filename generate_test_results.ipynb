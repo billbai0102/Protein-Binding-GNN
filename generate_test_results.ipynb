{
 "cells": [
  {
   "cell_type": "code",
   "execution_count": 1,
   "metadata": {
    "collapsed": true
   },
   "outputs": [],
   "source": [
    "import torch\n",
    "import pandas as pd\n",
    "import numpy as np\n",
    "from torch_geometric.data import Data\n",
    "from scipy.spatial import distance\n",
    "from EmbedDataset import get_file\n",
    "\n",
    "import biographs as bg\n",
    "from Bio.PDB import PDBParser\n",
    "from Bio.SeqUtils import seq1\n",
    "parser = PDBParser()\n",
    "device = torch.device('cuda' if torch.cuda.is_available() else 'cpu')"
   ]
  },
  {
   "cell_type": "code",
   "execution_count": 9,
   "outputs": [
    {
     "data": {
      "text/plain": "LigandGNNV2(\n  (node_encoder): Linear(1070, 128, bias=True)\n  (layers): ModuleList(\n    (0): DeepGCNLayer(block=res+)\n    (1): DeepGCNLayer(block=res+)\n    (2): DeepGCNLayer(block=res+)\n    (3): DeepGCNLayer(block=res+)\n    (4): DeepGCNLayer(block=res+)\n    (5): DeepGCNLayer(block=res+)\n    (6): DeepGCNLayer(block=res+)\n    (7): DeepGCNLayer(block=res+)\n    (8): DeepGCNLayer(block=res+)\n    (9): DeepGCNLayer(block=res+)\n    (10): DeepGCNLayer(block=res+)\n    (11): DeepGCNLayer(block=res+)\n    (12): DeepGCNLayer(block=res+)\n    (13): DeepGCNLayer(block=res+)\n    (14): DeepGCNLayer(block=res+)\n    (15): DeepGCNLayer(block=res+)\n    (16): DeepGCNLayer(block=res+)\n    (17): DeepGCNLayer(block=res+)\n    (18): DeepGCNLayer(block=res+)\n    (19): DeepGCNLayer(block=res+)\n    (20): DeepGCNLayer(block=res+)\n    (21): DeepGCNLayer(block=res+)\n    (22): DeepGCNLayer(block=res+)\n    (23): DeepGCNLayer(block=res+)\n    (24): DeepGCNLayer(block=res+)\n    (25): DeepGCNLayer(block=res+)\n    (26): DeepGCNLayer(block=res+)\n    (27): DeepGCNLayer(block=res+)\n    (28): DeepGCNLayer(block=res+)\n    (29): DeepGCNLayer(block=res+)\n    (30): DeepGCNLayer(block=res+)\n    (31): DeepGCNLayer(block=res+)\n    (32): DeepGCNLayer(block=res+)\n    (33): DeepGCNLayer(block=res+)\n    (34): DeepGCNLayer(block=res+)\n    (35): DeepGCNLayer(block=res+)\n    (36): DeepGCNLayer(block=res+)\n  )\n  (lin): Linear(128, 1, bias=True)\n)"
     },
     "execution_count": 9,
     "metadata": {},
     "output_type": "execute_result"
    }
   ],
   "source": [
    "from LigandGNNV2 import LigandGNNV2\n",
    "from EmbedDataset import LigandBinaryDataset\n",
    "\n",
    "ds = LigandBinaryDataset('./data2')\n",
    "\n",
    "model = LigandGNNV2(128, 37).to(device)\n",
    "model.load_state_dict(torch.load('./models/CompModel.pt'))\n",
    "model.eval()"
   ],
   "metadata": {
    "collapsed": false
   }
  },
  {
   "cell_type": "code",
   "execution_count": 3,
   "outputs": [],
   "source": [
    "test_df = pd.read_csv('./data/af2_dataset_testset_unlabeled.csv').drop('Unnamed: 0', axis=1)\n",
    "df_test_grouped = pd.read_hdf('./data/data_test.h5')"
   ],
   "metadata": {
    "collapsed": false
   }
  },
  {
   "cell_type": "code",
   "execution_count": 4,
   "outputs": [],
   "source": [
    "def reference_embedding(row):\n",
    "    protein_name = row['entry']\n",
    "    grouped_row = df_test_grouped.loc[df_test_grouped['entry'] == protein_name]\n",
    "    protein_embedding = grouped_row['embeddings'].to_numpy()[0]\n",
    "    index = row['entry_index']\n",
    "    return protein_embedding[index]"
   ],
   "metadata": {
    "collapsed": false
   }
  },
  {
   "cell_type": "code",
   "execution_count": 5,
   "outputs": [],
   "source": [
    "test_df['embeddings'] = test_df.apply(reference_embedding, axis =1)"
   ],
   "metadata": {
    "collapsed": false
   }
  },
  {
   "cell_type": "code",
   "execution_count": 6,
   "outputs": [
    {
     "data": {
      "text/plain": "       annotation_sequence  feat_A  feat_C  feat_D  feat_E  feat_F  feat_G  \\\n0                        M       0       0       0       0       0       0   \n1                        A       1       0       0       0       0       0   \n2                        A       1       0       0       0       0       0   \n3                        S       0       0       0       0       0       0   \n4                        V       0       0       0       0       0       0   \n...                    ...     ...     ...     ...     ...     ...     ...   \n107619                   L       0       0       0       0       0       0   \n107620                   P       0       0       0       0       0       0   \n107621                   Q       0       0       0       0       0       0   \n107622                   E       0       0       0       1       0       0   \n107623                   N       0       0       0       0       0       0   \n\n        feat_H  feat_I  feat_K  ...  feat_DSSP_10  feat_DSSP_11  feat_DSSP_12  \\\n0            0       0       0  ...             0           0.0             0   \n1            0       0       0  ...             2          -0.0             0   \n2            0       0       0  ...             0           0.0             2   \n3            0       0       0  ...             0           0.0            -2   \n4            0       0       0  ...             0           0.0             0   \n...        ...     ...     ...  ...           ...           ...           ...   \n107619       0       0       0  ...            -3          -0.3            -3   \n107620       0       0       0  ...             0           0.0            -3   \n107621       0       0       0  ...             0           0.0             0   \n107622       0       0       0  ...             0           0.0             0   \n107623       0       0       0  ...             0           0.0             0   \n\n        feat_DSSP_13    coord_X    coord_Y    coord_Z        entry  \\\n0                0.0  33.116001  37.023998  38.417000   QCR1_HUMAN   \n1                0.0  35.849998  34.841000  40.185001   QCR1_HUMAN   \n2               -0.0  37.087002  31.719999  40.547001   QCR1_HUMAN   \n3               -0.0  38.095001  28.951000  42.321999   QCR1_HUMAN   \n4                0.0  41.435001  27.417000  43.703999   QCR1_HUMAN   \n...              ...        ...        ...        ...          ...   \n107619          -0.0  47.813999   7.569000 -27.368999  PDE7A_HUMAN   \n107620          -0.0  50.228001   8.068000 -30.333000  PDE7A_HUMAN   \n107621           0.0  51.507999   4.896000 -31.959999  PDE7A_HUMAN   \n107622           0.0  54.845001   6.372000 -33.125000  PDE7A_HUMAN   \n107623           0.0  57.796001   4.322000 -34.160000  PDE7A_HUMAN   \n\n        entry_index                                         embeddings  \n0                 0  [tensor(-0.3469), tensor(-0.0918), tensor(-0.0...  \n1                 1  [tensor(-0.1007), tensor(0.1798), tensor(0.297...  \n2                 2  [tensor(0.1528), tensor(0.2166), tensor(0.2359...  \n3                 3  [tensor(0.1930), tensor(0.2558), tensor(-0.291...  \n4                 4  [tensor(0.1481), tensor(0.0761), tensor(-0.263...  \n...             ...                                                ...  \n107619          474  [tensor(-0.0071), tensor(-0.1955), tensor(-0.1...  \n107620          475  [tensor(-0.3959), tensor(-0.2057), tensor(-0.0...  \n107621          476  [tensor(-0.0042), tensor(-0.6211), tensor(-0.0...  \n107622          477  [tensor(-0.0075), tensor(-0.2074), tensor(-0.0...  \n107623          478  [tensor(-0.0556), tensor(-0.1894), tensor(-0.1...  \n\n[107624 rows x 50 columns]",
      "text/html": "<div>\n<style scoped>\n    .dataframe tbody tr th:only-of-type {\n        vertical-align: middle;\n    }\n\n    .dataframe tbody tr th {\n        vertical-align: top;\n    }\n\n    .dataframe thead th {\n        text-align: right;\n    }\n</style>\n<table border=\"1\" class=\"dataframe\">\n  <thead>\n    <tr style=\"text-align: right;\">\n      <th></th>\n      <th>annotation_sequence</th>\n      <th>feat_A</th>\n      <th>feat_C</th>\n      <th>feat_D</th>\n      <th>feat_E</th>\n      <th>feat_F</th>\n      <th>feat_G</th>\n      <th>feat_H</th>\n      <th>feat_I</th>\n      <th>feat_K</th>\n      <th>...</th>\n      <th>feat_DSSP_10</th>\n      <th>feat_DSSP_11</th>\n      <th>feat_DSSP_12</th>\n      <th>feat_DSSP_13</th>\n      <th>coord_X</th>\n      <th>coord_Y</th>\n      <th>coord_Z</th>\n      <th>entry</th>\n      <th>entry_index</th>\n      <th>embeddings</th>\n    </tr>\n  </thead>\n  <tbody>\n    <tr>\n      <th>0</th>\n      <td>M</td>\n      <td>0</td>\n      <td>0</td>\n      <td>0</td>\n      <td>0</td>\n      <td>0</td>\n      <td>0</td>\n      <td>0</td>\n      <td>0</td>\n      <td>0</td>\n      <td>...</td>\n      <td>0</td>\n      <td>0.0</td>\n      <td>0</td>\n      <td>0.0</td>\n      <td>33.116001</td>\n      <td>37.023998</td>\n      <td>38.417000</td>\n      <td>QCR1_HUMAN</td>\n      <td>0</td>\n      <td>[tensor(-0.3469), tensor(-0.0918), tensor(-0.0...</td>\n    </tr>\n    <tr>\n      <th>1</th>\n      <td>A</td>\n      <td>1</td>\n      <td>0</td>\n      <td>0</td>\n      <td>0</td>\n      <td>0</td>\n      <td>0</td>\n      <td>0</td>\n      <td>0</td>\n      <td>0</td>\n      <td>...</td>\n      <td>2</td>\n      <td>-0.0</td>\n      <td>0</td>\n      <td>0.0</td>\n      <td>35.849998</td>\n      <td>34.841000</td>\n      <td>40.185001</td>\n      <td>QCR1_HUMAN</td>\n      <td>1</td>\n      <td>[tensor(-0.1007), tensor(0.1798), tensor(0.297...</td>\n    </tr>\n    <tr>\n      <th>2</th>\n      <td>A</td>\n      <td>1</td>\n      <td>0</td>\n      <td>0</td>\n      <td>0</td>\n      <td>0</td>\n      <td>0</td>\n      <td>0</td>\n      <td>0</td>\n      <td>0</td>\n      <td>...</td>\n      <td>0</td>\n      <td>0.0</td>\n      <td>2</td>\n      <td>-0.0</td>\n      <td>37.087002</td>\n      <td>31.719999</td>\n      <td>40.547001</td>\n      <td>QCR1_HUMAN</td>\n      <td>2</td>\n      <td>[tensor(0.1528), tensor(0.2166), tensor(0.2359...</td>\n    </tr>\n    <tr>\n      <th>3</th>\n      <td>S</td>\n      <td>0</td>\n      <td>0</td>\n      <td>0</td>\n      <td>0</td>\n      <td>0</td>\n      <td>0</td>\n      <td>0</td>\n      <td>0</td>\n      <td>0</td>\n      <td>...</td>\n      <td>0</td>\n      <td>0.0</td>\n      <td>-2</td>\n      <td>-0.0</td>\n      <td>38.095001</td>\n      <td>28.951000</td>\n      <td>42.321999</td>\n      <td>QCR1_HUMAN</td>\n      <td>3</td>\n      <td>[tensor(0.1930), tensor(0.2558), tensor(-0.291...</td>\n    </tr>\n    <tr>\n      <th>4</th>\n      <td>V</td>\n      <td>0</td>\n      <td>0</td>\n      <td>0</td>\n      <td>0</td>\n      <td>0</td>\n      <td>0</td>\n      <td>0</td>\n      <td>0</td>\n      <td>0</td>\n      <td>...</td>\n      <td>0</td>\n      <td>0.0</td>\n      <td>0</td>\n      <td>0.0</td>\n      <td>41.435001</td>\n      <td>27.417000</td>\n      <td>43.703999</td>\n      <td>QCR1_HUMAN</td>\n      <td>4</td>\n      <td>[tensor(0.1481), tensor(0.0761), tensor(-0.263...</td>\n    </tr>\n    <tr>\n      <th>...</th>\n      <td>...</td>\n      <td>...</td>\n      <td>...</td>\n      <td>...</td>\n      <td>...</td>\n      <td>...</td>\n      <td>...</td>\n      <td>...</td>\n      <td>...</td>\n      <td>...</td>\n      <td>...</td>\n      <td>...</td>\n      <td>...</td>\n      <td>...</td>\n      <td>...</td>\n      <td>...</td>\n      <td>...</td>\n      <td>...</td>\n      <td>...</td>\n      <td>...</td>\n      <td>...</td>\n    </tr>\n    <tr>\n      <th>107619</th>\n      <td>L</td>\n      <td>0</td>\n      <td>0</td>\n      <td>0</td>\n      <td>0</td>\n      <td>0</td>\n      <td>0</td>\n      <td>0</td>\n      <td>0</td>\n      <td>0</td>\n      <td>...</td>\n      <td>-3</td>\n      <td>-0.3</td>\n      <td>-3</td>\n      <td>-0.0</td>\n      <td>47.813999</td>\n      <td>7.569000</td>\n      <td>-27.368999</td>\n      <td>PDE7A_HUMAN</td>\n      <td>474</td>\n      <td>[tensor(-0.0071), tensor(-0.1955), tensor(-0.1...</td>\n    </tr>\n    <tr>\n      <th>107620</th>\n      <td>P</td>\n      <td>0</td>\n      <td>0</td>\n      <td>0</td>\n      <td>0</td>\n      <td>0</td>\n      <td>0</td>\n      <td>0</td>\n      <td>0</td>\n      <td>0</td>\n      <td>...</td>\n      <td>0</td>\n      <td>0.0</td>\n      <td>-3</td>\n      <td>-0.0</td>\n      <td>50.228001</td>\n      <td>8.068000</td>\n      <td>-30.333000</td>\n      <td>PDE7A_HUMAN</td>\n      <td>475</td>\n      <td>[tensor(-0.3959), tensor(-0.2057), tensor(-0.0...</td>\n    </tr>\n    <tr>\n      <th>107621</th>\n      <td>Q</td>\n      <td>0</td>\n      <td>0</td>\n      <td>0</td>\n      <td>0</td>\n      <td>0</td>\n      <td>0</td>\n      <td>0</td>\n      <td>0</td>\n      <td>0</td>\n      <td>...</td>\n      <td>0</td>\n      <td>0.0</td>\n      <td>0</td>\n      <td>0.0</td>\n      <td>51.507999</td>\n      <td>4.896000</td>\n      <td>-31.959999</td>\n      <td>PDE7A_HUMAN</td>\n      <td>476</td>\n      <td>[tensor(-0.0042), tensor(-0.6211), tensor(-0.0...</td>\n    </tr>\n    <tr>\n      <th>107622</th>\n      <td>E</td>\n      <td>0</td>\n      <td>0</td>\n      <td>0</td>\n      <td>1</td>\n      <td>0</td>\n      <td>0</td>\n      <td>0</td>\n      <td>0</td>\n      <td>0</td>\n      <td>...</td>\n      <td>0</td>\n      <td>0.0</td>\n      <td>0</td>\n      <td>0.0</td>\n      <td>54.845001</td>\n      <td>6.372000</td>\n      <td>-33.125000</td>\n      <td>PDE7A_HUMAN</td>\n      <td>477</td>\n      <td>[tensor(-0.0075), tensor(-0.2074), tensor(-0.0...</td>\n    </tr>\n    <tr>\n      <th>107623</th>\n      <td>N</td>\n      <td>0</td>\n      <td>0</td>\n      <td>0</td>\n      <td>0</td>\n      <td>0</td>\n      <td>0</td>\n      <td>0</td>\n      <td>0</td>\n      <td>0</td>\n      <td>...</td>\n      <td>0</td>\n      <td>0.0</td>\n      <td>0</td>\n      <td>0.0</td>\n      <td>57.796001</td>\n      <td>4.322000</td>\n      <td>-34.160000</td>\n      <td>PDE7A_HUMAN</td>\n      <td>478</td>\n      <td>[tensor(-0.0556), tensor(-0.1894), tensor(-0.1...</td>\n    </tr>\n  </tbody>\n</table>\n<p>107624 rows × 50 columns</p>\n</div>"
     },
     "execution_count": 6,
     "metadata": {},
     "output_type": "execute_result"
    }
   ],
   "source": [
    "bool_cols = [col for col in test_df.columns if test_df[col].dtype == bool]\n",
    "test_df[bool_cols] = test_df[bool_cols].astype(int)\n",
    "test_df"
   ],
   "metadata": {
    "collapsed": false
   }
  },
  {
   "cell_type": "code",
   "execution_count": 20,
   "outputs": [
    {
     "name": "stdout",
     "output_type": "stream",
     "text": [
      "Manually looking for edges...\n"
     ]
    }
   ],
   "source": [
    "results = []\n",
    "\n",
    "manual_list = ['CENPE_HUMAN']\n",
    "drop_cols = ['annotation_sequence', 'annotation_atomrec', 'entry', 'embeddings']\n",
    "\n",
    "for entry in test_df['entry'].unique():\n",
    "    group = test_df[test_df['entry'] == entry]\n",
    "\n",
    "    x = group.loc[group['entry'] == entry, group.columns] \\\n",
    "        .sort_values(by='entry_index') \\\n",
    "        .drop(drop_cols, axis=1).values\n",
    "\n",
    "    edges = []\n",
    "\n",
    "    if entry in manual_list:\n",
    "        print('Manually looking for edges...')\n",
    "        for i in range(len(group)):\n",
    "            for j in range(i + 1, min(i + 50, len(group))):\n",
    "                a = np.asarray(group.iloc[i][['coord_X', 'coord_Y', 'coord_Z']])\n",
    "                b = np.asarray(group.iloc[j][['coord_X', 'coord_Y', 'coord_Z']])\n",
    "                dist = distance.euclidean(a, b)\n",
    "                if dist <= 6:\n",
    "                    edges.append([i, j])\n",
    "        edges = np.asarray(edges).T\n",
    "    else:\n",
    "        file = get_file(entry)\n",
    "        structure = parser.get_structure(1, file)\n",
    "        p1 = {chain.id:seq1(''.join(residue.resname for residue in chain)) for chain in structure.get_chains()}['A']\n",
    "        p2 = \"\".join(test_df[test_df['entry'] == entry]['annotation_sequence'].values)\n",
    "\n",
    "        molecule = bg.Pmolecule(file)\n",
    "        network = molecule.network()\n",
    "\n",
    "        for i in range(len(p2) + 1, len(p1) + 1):\n",
    "            node_to_remove = 'A' + str(i)\n",
    "            network.remove_node(node_to_remove)\n",
    "\n",
    "        edges = np.asarray(list(network.edges)).T\n",
    "        edges = [[int(s[1:]) for s in edges[0]], [int(s[1:]) for s in edges[1]]]\n",
    "\n",
    "    x = torch.FloatTensor(x)\n",
    "    x_acc = []\n",
    "\n",
    "    for i in range(len(x)):\n",
    "        x_acc.append(torch.cat([x[i], group['embeddings'].iloc[i]], 0).numpy())\n",
    "    x = torch.FloatTensor(np.asarray(x_acc))\n",
    "\n",
    "    edges = torch.tensor(edges, dtype=torch.long)\n",
    "    if edges[0][0] == 1:\n",
    "        edges = edges - 1\n",
    "\n",
    "    graph = Data(x=x, edge_index=edges)\n",
    "\n",
    "    model.eval()\n",
    "    out = torch.sigmoid(model(graph.to(device))).detach().round().cpu().numpy()\n",
    "    results.append(out)"
   ],
   "metadata": {
    "collapsed": false
   }
  },
  {
   "cell_type": "code",
   "execution_count": 56,
   "outputs": [],
   "source": [
    "flattened = np.asarray([item for sub_list in results for item in sub_list]).flatten()"
   ],
   "metadata": {
    "collapsed": false
   }
  },
  {
   "cell_type": "code",
   "execution_count": 60,
   "outputs": [
    {
     "data": {
      "text/plain": "        y_Ligand\n0          False\n1          False\n2          False\n3          False\n4          False\n...          ...\n107619     False\n107620     False\n107621     False\n107622     False\n107623     False\n\n[107624 rows x 1 columns]",
      "text/html": "<div>\n<style scoped>\n    .dataframe tbody tr th:only-of-type {\n        vertical-align: middle;\n    }\n\n    .dataframe tbody tr th {\n        vertical-align: top;\n    }\n\n    .dataframe thead th {\n        text-align: right;\n    }\n</style>\n<table border=\"1\" class=\"dataframe\">\n  <thead>\n    <tr style=\"text-align: right;\">\n      <th></th>\n      <th>y_Ligand</th>\n    </tr>\n  </thead>\n  <tbody>\n    <tr>\n      <th>0</th>\n      <td>False</td>\n    </tr>\n    <tr>\n      <th>1</th>\n      <td>False</td>\n    </tr>\n    <tr>\n      <th>2</th>\n      <td>False</td>\n    </tr>\n    <tr>\n      <th>3</th>\n      <td>False</td>\n    </tr>\n    <tr>\n      <th>4</th>\n      <td>False</td>\n    </tr>\n    <tr>\n      <th>...</th>\n      <td>...</td>\n    </tr>\n    <tr>\n      <th>107619</th>\n      <td>False</td>\n    </tr>\n    <tr>\n      <th>107620</th>\n      <td>False</td>\n    </tr>\n    <tr>\n      <th>107621</th>\n      <td>False</td>\n    </tr>\n    <tr>\n      <th>107622</th>\n      <td>False</td>\n    </tr>\n    <tr>\n      <th>107623</th>\n      <td>False</td>\n    </tr>\n  </tbody>\n</table>\n<p>107624 rows × 1 columns</p>\n</div>"
     },
     "execution_count": 60,
     "metadata": {},
     "output_type": "execute_result"
    }
   ],
   "source": [
    "submission = pd.DataFrame()\n",
    "submission['y_Ligand'] = flattened\n",
    "submission['y_Ligand'] = submission['y_Ligand'].astype(bool)\n",
    "submission"
   ],
   "metadata": {
    "collapsed": false
   }
  },
  {
   "cell_type": "code",
   "execution_count": 61,
   "outputs": [],
   "source": [
    "submission.to_csv('submission.csv')"
   ],
   "metadata": {
    "collapsed": false
   }
  }
 ],
 "metadata": {
  "kernelspec": {
   "display_name": "Python 3",
   "language": "python",
   "name": "python3"
  },
  "language_info": {
   "codemirror_mode": {
    "name": "ipython",
    "version": 2
   },
   "file_extension": ".py",
   "mimetype": "text/x-python",
   "name": "python",
   "nbconvert_exporter": "python",
   "pygments_lexer": "ipython2",
   "version": "2.7.6"
  }
 },
 "nbformat": 4,
 "nbformat_minor": 0
}
