{
 "cells": [
  {
   "cell_type": "code",
   "execution_count": 1,
   "metadata": {
    "collapsed": true
   },
   "outputs": [],
   "source": [
    "import pandas as pd\n",
    "from sklearn.preprocessing import OneHotEncoder"
   ]
  },
  {
   "cell_type": "code",
   "execution_count": 2,
   "outputs": [
    {
     "data": {
      "text/plain": "    annotation_sequence  feat_A  feat_C  feat_D  feat_E  feat_F  feat_G  \\\n0                     M   False   False   False   False   False   False   \n1                     G   False   False   False   False   False    True   \n2                     Q   False   False   False   False   False   False   \n3                     E   False   False   False    True   False   False   \n4                     P   False   False   False   False   False   False   \n..                  ...     ...     ...     ...     ...     ...     ...   \n755                   S   False   False   False   False   False   False   \n756                   H   False   False   False   False   False   False   \n757                   G   False   False   False   False   False    True   \n758                   G   False   False   False   False   False    True   \n759                   F   False   False   False   False    True   False   \n\n     feat_H  feat_I  feat_K  ...  feat_DSSP_10  feat_DSSP_11  feat_DSSP_12  \\\n0     False   False   False  ...             0           0.0            47   \n1     False   False   False  ...             0           0.0             0   \n2     False   False   False  ...             1          -0.0            -1   \n3     False   False   False  ...           706          -0.1           705   \n4     False   False   False  ...             0           0.0           705   \n..      ...     ...     ...  ...           ...           ...           ...   \n755   False   False   False  ...            -3          -0.1             2   \n756    True   False   False  ...          -358          -0.1          -330   \n757   False   False   False  ...          -360          -0.2            -1   \n758   False   False   False  ...             0           0.0             0   \n759   False   False   False  ...             0           0.0             0   \n\n     feat_DSSP_13    coord_X    coord_Y    coord_Z        entry  entry_index  \\\n0            -0.0 -26.499001  -4.742000 -35.189999  GEMI5_HUMAN            0   \n1             0.0 -25.158001  -1.342000 -34.104000  GEMI5_HUMAN            1   \n2            -0.0 -21.926001  -1.641000 -32.175999  GEMI5_HUMAN            2   \n3            -0.0 -22.073999   0.654000 -29.171000  GEMI5_HUMAN            3   \n4            -0.2 -19.783001   2.670000 -26.858999  GEMI5_HUMAN            4   \n..            ...        ...        ...        ...          ...          ...   \n755          -0.4 -19.742001  20.796000 -12.319000   AOC3_HUMAN          755   \n756          -0.1 -16.299000  19.153999 -12.640000   AOC3_HUMAN          756   \n757          -0.1 -13.404000  19.502001 -10.121000   AOC3_HUMAN          757   \n758           0.0 -10.986000  20.320000 -13.016000   AOC3_HUMAN          758   \n759           0.0  -7.456000  19.052999 -13.909000   AOC3_HUMAN          759   \n\n     y_Ligand  \n0       False  \n1       False  \n2       False  \n3       False  \n4       False  \n..        ...  \n755     False  \n756     False  \n757     False  \n758     False  \n759     False  \n\n[497166 rows x 50 columns]",
      "text/html": "<div>\n<style scoped>\n    .dataframe tbody tr th:only-of-type {\n        vertical-align: middle;\n    }\n\n    .dataframe tbody tr th {\n        vertical-align: top;\n    }\n\n    .dataframe thead th {\n        text-align: right;\n    }\n</style>\n<table border=\"1\" class=\"dataframe\">\n  <thead>\n    <tr style=\"text-align: right;\">\n      <th></th>\n      <th>annotation_sequence</th>\n      <th>feat_A</th>\n      <th>feat_C</th>\n      <th>feat_D</th>\n      <th>feat_E</th>\n      <th>feat_F</th>\n      <th>feat_G</th>\n      <th>feat_H</th>\n      <th>feat_I</th>\n      <th>feat_K</th>\n      <th>...</th>\n      <th>feat_DSSP_10</th>\n      <th>feat_DSSP_11</th>\n      <th>feat_DSSP_12</th>\n      <th>feat_DSSP_13</th>\n      <th>coord_X</th>\n      <th>coord_Y</th>\n      <th>coord_Z</th>\n      <th>entry</th>\n      <th>entry_index</th>\n      <th>y_Ligand</th>\n    </tr>\n  </thead>\n  <tbody>\n    <tr>\n      <th>0</th>\n      <td>M</td>\n      <td>False</td>\n      <td>False</td>\n      <td>False</td>\n      <td>False</td>\n      <td>False</td>\n      <td>False</td>\n      <td>False</td>\n      <td>False</td>\n      <td>False</td>\n      <td>...</td>\n      <td>0</td>\n      <td>0.0</td>\n      <td>47</td>\n      <td>-0.0</td>\n      <td>-26.499001</td>\n      <td>-4.742000</td>\n      <td>-35.189999</td>\n      <td>GEMI5_HUMAN</td>\n      <td>0</td>\n      <td>False</td>\n    </tr>\n    <tr>\n      <th>1</th>\n      <td>G</td>\n      <td>False</td>\n      <td>False</td>\n      <td>False</td>\n      <td>False</td>\n      <td>False</td>\n      <td>True</td>\n      <td>False</td>\n      <td>False</td>\n      <td>False</td>\n      <td>...</td>\n      <td>0</td>\n      <td>0.0</td>\n      <td>0</td>\n      <td>0.0</td>\n      <td>-25.158001</td>\n      <td>-1.342000</td>\n      <td>-34.104000</td>\n      <td>GEMI5_HUMAN</td>\n      <td>1</td>\n      <td>False</td>\n    </tr>\n    <tr>\n      <th>2</th>\n      <td>Q</td>\n      <td>False</td>\n      <td>False</td>\n      <td>False</td>\n      <td>False</td>\n      <td>False</td>\n      <td>False</td>\n      <td>False</td>\n      <td>False</td>\n      <td>False</td>\n      <td>...</td>\n      <td>1</td>\n      <td>-0.0</td>\n      <td>-1</td>\n      <td>-0.0</td>\n      <td>-21.926001</td>\n      <td>-1.641000</td>\n      <td>-32.175999</td>\n      <td>GEMI5_HUMAN</td>\n      <td>2</td>\n      <td>False</td>\n    </tr>\n    <tr>\n      <th>3</th>\n      <td>E</td>\n      <td>False</td>\n      <td>False</td>\n      <td>False</td>\n      <td>True</td>\n      <td>False</td>\n      <td>False</td>\n      <td>False</td>\n      <td>False</td>\n      <td>False</td>\n      <td>...</td>\n      <td>706</td>\n      <td>-0.1</td>\n      <td>705</td>\n      <td>-0.0</td>\n      <td>-22.073999</td>\n      <td>0.654000</td>\n      <td>-29.171000</td>\n      <td>GEMI5_HUMAN</td>\n      <td>3</td>\n      <td>False</td>\n    </tr>\n    <tr>\n      <th>4</th>\n      <td>P</td>\n      <td>False</td>\n      <td>False</td>\n      <td>False</td>\n      <td>False</td>\n      <td>False</td>\n      <td>False</td>\n      <td>False</td>\n      <td>False</td>\n      <td>False</td>\n      <td>...</td>\n      <td>0</td>\n      <td>0.0</td>\n      <td>705</td>\n      <td>-0.2</td>\n      <td>-19.783001</td>\n      <td>2.670000</td>\n      <td>-26.858999</td>\n      <td>GEMI5_HUMAN</td>\n      <td>4</td>\n      <td>False</td>\n    </tr>\n    <tr>\n      <th>...</th>\n      <td>...</td>\n      <td>...</td>\n      <td>...</td>\n      <td>...</td>\n      <td>...</td>\n      <td>...</td>\n      <td>...</td>\n      <td>...</td>\n      <td>...</td>\n      <td>...</td>\n      <td>...</td>\n      <td>...</td>\n      <td>...</td>\n      <td>...</td>\n      <td>...</td>\n      <td>...</td>\n      <td>...</td>\n      <td>...</td>\n      <td>...</td>\n      <td>...</td>\n      <td>...</td>\n    </tr>\n    <tr>\n      <th>755</th>\n      <td>S</td>\n      <td>False</td>\n      <td>False</td>\n      <td>False</td>\n      <td>False</td>\n      <td>False</td>\n      <td>False</td>\n      <td>False</td>\n      <td>False</td>\n      <td>False</td>\n      <td>...</td>\n      <td>-3</td>\n      <td>-0.1</td>\n      <td>2</td>\n      <td>-0.4</td>\n      <td>-19.742001</td>\n      <td>20.796000</td>\n      <td>-12.319000</td>\n      <td>AOC3_HUMAN</td>\n      <td>755</td>\n      <td>False</td>\n    </tr>\n    <tr>\n      <th>756</th>\n      <td>H</td>\n      <td>False</td>\n      <td>False</td>\n      <td>False</td>\n      <td>False</td>\n      <td>False</td>\n      <td>False</td>\n      <td>True</td>\n      <td>False</td>\n      <td>False</td>\n      <td>...</td>\n      <td>-358</td>\n      <td>-0.1</td>\n      <td>-330</td>\n      <td>-0.1</td>\n      <td>-16.299000</td>\n      <td>19.153999</td>\n      <td>-12.640000</td>\n      <td>AOC3_HUMAN</td>\n      <td>756</td>\n      <td>False</td>\n    </tr>\n    <tr>\n      <th>757</th>\n      <td>G</td>\n      <td>False</td>\n      <td>False</td>\n      <td>False</td>\n      <td>False</td>\n      <td>False</td>\n      <td>True</td>\n      <td>False</td>\n      <td>False</td>\n      <td>False</td>\n      <td>...</td>\n      <td>-360</td>\n      <td>-0.2</td>\n      <td>-1</td>\n      <td>-0.1</td>\n      <td>-13.404000</td>\n      <td>19.502001</td>\n      <td>-10.121000</td>\n      <td>AOC3_HUMAN</td>\n      <td>757</td>\n      <td>False</td>\n    </tr>\n    <tr>\n      <th>758</th>\n      <td>G</td>\n      <td>False</td>\n      <td>False</td>\n      <td>False</td>\n      <td>False</td>\n      <td>False</td>\n      <td>True</td>\n      <td>False</td>\n      <td>False</td>\n      <td>False</td>\n      <td>...</td>\n      <td>0</td>\n      <td>0.0</td>\n      <td>0</td>\n      <td>0.0</td>\n      <td>-10.986000</td>\n      <td>20.320000</td>\n      <td>-13.016000</td>\n      <td>AOC3_HUMAN</td>\n      <td>758</td>\n      <td>False</td>\n    </tr>\n    <tr>\n      <th>759</th>\n      <td>F</td>\n      <td>False</td>\n      <td>False</td>\n      <td>False</td>\n      <td>False</td>\n      <td>True</td>\n      <td>False</td>\n      <td>False</td>\n      <td>False</td>\n      <td>False</td>\n      <td>...</td>\n      <td>0</td>\n      <td>0.0</td>\n      <td>0</td>\n      <td>0.0</td>\n      <td>-7.456000</td>\n      <td>19.052999</td>\n      <td>-13.909000</td>\n      <td>AOC3_HUMAN</td>\n      <td>759</td>\n      <td>False</td>\n    </tr>\n  </tbody>\n</table>\n<p>497166 rows × 50 columns</p>\n</div>"
     },
     "execution_count": 2,
     "metadata": {},
     "output_type": "execute_result"
    }
   ],
   "source": [
    "df = pd.read_csv('./data/af2_dataset_training_labeled.csv', index_col=0)\n",
    "df"
   ],
   "metadata": {
    "collapsed": false
   }
  },
  {
   "cell_type": "markdown",
   "source": [
    "1. Drop annotation columns"
   ],
   "metadata": {
    "collapsed": false
   }
  },
  {
   "cell_type": "code",
   "execution_count": 75,
   "outputs": [],
   "source": [
    "df = df.drop(['annotation_atomrec', 'annotation_sequence'], axis=1)"
   ],
   "metadata": {
    "collapsed": false
   }
  },
  {
   "cell_type": "markdown",
   "source": [
    "2. Convert one hot boolean columns to one hot int encoded array"
   ],
   "metadata": {
    "collapsed": false
   }
  },
  {
   "cell_type": "code",
   "execution_count": 78,
   "outputs": [
    {
     "data": {
      "text/plain": "Index(['feat_A', 'feat_C', 'feat_D', 'feat_E', 'feat_F', 'feat_G', 'feat_H',\n       'feat_I', 'feat_K', 'feat_L', 'feat_M', 'feat_N', 'feat_P', 'feat_Q',\n       'feat_R', 'feat_S', 'feat_T', 'feat_V', 'feat_W', 'feat_Y'],\n      dtype='object')"
     },
     "execution_count": 78,
     "metadata": {},
     "output_type": "execute_result"
    }
   ],
   "source": [
    "amino_cols = df.columns[0:20]\n",
    "amino_cols"
   ],
   "metadata": {
    "collapsed": false
   }
  },
  {
   "cell_type": "code",
   "execution_count": 100,
   "outputs": [],
   "source": [
    "def add_feature_one_hot_column(df, one_hot_columns):\n",
    "    col = []\n",
    "    for idx, data in df.iterrows():\n",
    "        encoding = []\n",
    "        for i in data[one_hot_columns]:\n",
    "            encoding.append(int(i))\n",
    "        col.append(encoding)\n",
    "    return col"
   ],
   "metadata": {
    "collapsed": false
   }
  },
  {
   "cell_type": "code",
   "execution_count": 79,
   "outputs": [],
   "source": [
    "aminoacid = add_feature_one_hot_column(df, amino_cols)\n",
    "df.drop(amino_cols, axis=1)\n",
    "df.insert(0, \"aminoacid\", aminoacid)\n",
    "df"
   ],
   "metadata": {
    "collapsed": false
   }
  },
  {
   "cell_type": "markdown",
   "source": [
    "3. Create one hot DSSP cols"
   ],
   "metadata": {
    "collapsed": false
   }
  },
  {
   "cell_type": "code",
   "execution_count": 114,
   "outputs": [
    {
     "data": {
      "text/plain": "Index(['feat_DSSP_H', 'feat_DSSP_B', 'feat_DSSP_E', 'feat_DSSP_G',\n       'feat_DSSP_I', 'feat_DSSP_T', 'feat_DSSP_S'],\n      dtype='object')"
     },
     "execution_count": 114,
     "metadata": {},
     "output_type": "execute_result"
    }
   ],
   "source": [
    "dssp_cols = df.columns[8:15]\n",
    "dssp_cols"
   ],
   "metadata": {
    "collapsed": false
   }
  },
  {
   "cell_type": "code",
   "execution_count": 116,
   "outputs": [
    {
     "data": {
      "text/plain": "                                             aminoacid  feat_PHI  feat_PSI  \\\n0    [0, 0, 0, 0, 0, 0, 0, 0, 0, 0, 1, 0, 0, 0, 0, ...  0.000000  2.257610   \n1    [0, 0, 0, 0, 0, 1, 0, 0, 0, 0, 0, 0, 0, 0, 0, ... -1.100680  2.224168   \n2    [0, 0, 0, 0, 0, 0, 0, 0, 0, 0, 0, 0, 0, 1, 0, ... -1.295398  2.676551   \n3    [0, 0, 0, 1, 0, 0, 0, 0, 0, 0, 0, 0, 0, 0, 0, ... -2.352796  2.665542   \n4    [0, 0, 0, 0, 0, 0, 0, 0, 0, 0, 0, 0, 1, 0, 0, ... -1.134474  2.612150   \n..                                                 ...       ...       ...   \n755  [0, 0, 0, 0, 0, 0, 0, 0, 0, 0, 0, 0, 0, 0, 0, ... -2.378927  2.608671   \n756  [0, 0, 0, 0, 0, 0, 1, 0, 0, 0, 0, 0, 0, 0, 0, ... -2.122860  2.441583   \n757  [0, 0, 0, 0, 0, 1, 0, 0, 0, 0, 0, 0, 0, 0, 0, ... -1.124856 -0.248235   \n758  [0, 0, 0, 0, 0, 1, 0, 0, 0, 0, 0, 0, 0, 0, 0, ...  1.651085 -2.916255   \n759  [0, 0, 0, 0, 1, 0, 0, 0, 0, 0, 0, 0, 0, 0, 0, ... -1.935096 -2.730947   \n\n     feat_TAU  feat_THETA  feat_BBSASA  feat_SCSASA  feat_pLDDT  feat_DSSP_6  \\\n0   -2.375020    1.956201    80.020602   137.023818       38.49            0   \n1   -2.654037    1.900792    69.542382     0.000000       46.08            1   \n2   -1.696727    2.458310    23.387401    88.587659       65.42           -2   \n3   -2.810012    2.054226     4.908812    44.521273       85.17           -2   \n4   -2.754863    2.272191     9.742674    52.613700       93.24            0   \n..        ...         ...          ...          ...         ...          ...   \n755 -2.290233    2.192222     7.313673    48.994428       95.81           -2   \n756 -2.331874    1.570277    20.300374    46.103273       96.62           -2   \n757 -1.292085    2.315429     2.763823     0.000000       93.61           -2   \n758 -0.280431    2.332004    15.092203     0.000000       93.17            0   \n759  0.231620    2.057855    20.331329   148.088810       90.71            0   \n\n                DSSP_feats  ...  feat_DSSP_10  feat_DSSP_11  feat_DSSP_12  \\\n0    [0, 0, 0, 0, 0, 0, 0]  ...             0           0.0            47   \n1    [0, 0, 0, 0, 0, 0, 0]  ...             0           0.0             0   \n2    [0, 0, 0, 0, 0, 0, 0]  ...             1          -0.0            -1   \n3    [0, 0, 0, 0, 0, 0, 0]  ...           706          -0.1           705   \n4    [0, 0, 0, 0, 0, 0, 0]  ...             0           0.0           705   \n..                     ...  ...           ...           ...           ...   \n755  [0, 0, 0, 0, 0, 0, 0]  ...            -3          -0.1             2   \n756  [0, 0, 0, 0, 0, 0, 0]  ...          -358          -0.1          -330   \n757  [0, 0, 0, 0, 0, 0, 0]  ...          -360          -0.2            -1   \n758  [0, 0, 0, 0, 0, 0, 0]  ...             0           0.0             0   \n759  [0, 0, 0, 0, 0, 0, 0]  ...             0           0.0             0   \n\n     feat_DSSP_13    coord_X    coord_Y    coord_Z        entry  entry_index  \\\n0            -0.0 -26.499001  -4.742000 -35.189999  GEMI5_HUMAN            0   \n1             0.0 -25.158001  -1.342000 -34.104000  GEMI5_HUMAN            1   \n2            -0.0 -21.926001  -1.641000 -32.175999  GEMI5_HUMAN            2   \n3            -0.0 -22.073999   0.654000 -29.171000  GEMI5_HUMAN            3   \n4            -0.2 -19.783001   2.670000 -26.858999  GEMI5_HUMAN            4   \n..            ...        ...        ...        ...          ...          ...   \n755          -0.4 -19.742001  20.796000 -12.319000   AOC3_HUMAN          755   \n756          -0.1 -16.299000  19.153999 -12.640000   AOC3_HUMAN          756   \n757          -0.1 -13.404000  19.502001 -10.121000   AOC3_HUMAN          757   \n758           0.0 -10.986000  20.320000 -13.016000   AOC3_HUMAN          758   \n759           0.0  -7.456000  19.052999 -13.909000   AOC3_HUMAN          759   \n\n     y_Ligand  \n0       False  \n1       False  \n2       False  \n3       False  \n4       False  \n..        ...  \n755     False  \n756     False  \n757     False  \n758     False  \n759     False  \n\n[497166 rows x 23 columns]",
      "text/html": "<div>\n<style scoped>\n    .dataframe tbody tr th:only-of-type {\n        vertical-align: middle;\n    }\n\n    .dataframe tbody tr th {\n        vertical-align: top;\n    }\n\n    .dataframe thead th {\n        text-align: right;\n    }\n</style>\n<table border=\"1\" class=\"dataframe\">\n  <thead>\n    <tr style=\"text-align: right;\">\n      <th></th>\n      <th>aminoacid</th>\n      <th>feat_PHI</th>\n      <th>feat_PSI</th>\n      <th>feat_TAU</th>\n      <th>feat_THETA</th>\n      <th>feat_BBSASA</th>\n      <th>feat_SCSASA</th>\n      <th>feat_pLDDT</th>\n      <th>feat_DSSP_6</th>\n      <th>DSSP_feats</th>\n      <th>...</th>\n      <th>feat_DSSP_10</th>\n      <th>feat_DSSP_11</th>\n      <th>feat_DSSP_12</th>\n      <th>feat_DSSP_13</th>\n      <th>coord_X</th>\n      <th>coord_Y</th>\n      <th>coord_Z</th>\n      <th>entry</th>\n      <th>entry_index</th>\n      <th>y_Ligand</th>\n    </tr>\n  </thead>\n  <tbody>\n    <tr>\n      <th>0</th>\n      <td>[0, 0, 0, 0, 0, 0, 0, 0, 0, 0, 1, 0, 0, 0, 0, ...</td>\n      <td>0.000000</td>\n      <td>2.257610</td>\n      <td>-2.375020</td>\n      <td>1.956201</td>\n      <td>80.020602</td>\n      <td>137.023818</td>\n      <td>38.49</td>\n      <td>0</td>\n      <td>[0, 0, 0, 0, 0, 0, 0]</td>\n      <td>...</td>\n      <td>0</td>\n      <td>0.0</td>\n      <td>47</td>\n      <td>-0.0</td>\n      <td>-26.499001</td>\n      <td>-4.742000</td>\n      <td>-35.189999</td>\n      <td>GEMI5_HUMAN</td>\n      <td>0</td>\n      <td>False</td>\n    </tr>\n    <tr>\n      <th>1</th>\n      <td>[0, 0, 0, 0, 0, 1, 0, 0, 0, 0, 0, 0, 0, 0, 0, ...</td>\n      <td>-1.100680</td>\n      <td>2.224168</td>\n      <td>-2.654037</td>\n      <td>1.900792</td>\n      <td>69.542382</td>\n      <td>0.000000</td>\n      <td>46.08</td>\n      <td>1</td>\n      <td>[0, 0, 0, 0, 0, 0, 0]</td>\n      <td>...</td>\n      <td>0</td>\n      <td>0.0</td>\n      <td>0</td>\n      <td>0.0</td>\n      <td>-25.158001</td>\n      <td>-1.342000</td>\n      <td>-34.104000</td>\n      <td>GEMI5_HUMAN</td>\n      <td>1</td>\n      <td>False</td>\n    </tr>\n    <tr>\n      <th>2</th>\n      <td>[0, 0, 0, 0, 0, 0, 0, 0, 0, 0, 0, 0, 0, 1, 0, ...</td>\n      <td>-1.295398</td>\n      <td>2.676551</td>\n      <td>-1.696727</td>\n      <td>2.458310</td>\n      <td>23.387401</td>\n      <td>88.587659</td>\n      <td>65.42</td>\n      <td>-2</td>\n      <td>[0, 0, 0, 0, 0, 0, 0]</td>\n      <td>...</td>\n      <td>1</td>\n      <td>-0.0</td>\n      <td>-1</td>\n      <td>-0.0</td>\n      <td>-21.926001</td>\n      <td>-1.641000</td>\n      <td>-32.175999</td>\n      <td>GEMI5_HUMAN</td>\n      <td>2</td>\n      <td>False</td>\n    </tr>\n    <tr>\n      <th>3</th>\n      <td>[0, 0, 0, 1, 0, 0, 0, 0, 0, 0, 0, 0, 0, 0, 0, ...</td>\n      <td>-2.352796</td>\n      <td>2.665542</td>\n      <td>-2.810012</td>\n      <td>2.054226</td>\n      <td>4.908812</td>\n      <td>44.521273</td>\n      <td>85.17</td>\n      <td>-2</td>\n      <td>[0, 0, 0, 0, 0, 0, 0]</td>\n      <td>...</td>\n      <td>706</td>\n      <td>-0.1</td>\n      <td>705</td>\n      <td>-0.0</td>\n      <td>-22.073999</td>\n      <td>0.654000</td>\n      <td>-29.171000</td>\n      <td>GEMI5_HUMAN</td>\n      <td>3</td>\n      <td>False</td>\n    </tr>\n    <tr>\n      <th>4</th>\n      <td>[0, 0, 0, 0, 0, 0, 0, 0, 0, 0, 0, 0, 1, 0, 0, ...</td>\n      <td>-1.134474</td>\n      <td>2.612150</td>\n      <td>-2.754863</td>\n      <td>2.272191</td>\n      <td>9.742674</td>\n      <td>52.613700</td>\n      <td>93.24</td>\n      <td>0</td>\n      <td>[0, 0, 0, 0, 0, 0, 0]</td>\n      <td>...</td>\n      <td>0</td>\n      <td>0.0</td>\n      <td>705</td>\n      <td>-0.2</td>\n      <td>-19.783001</td>\n      <td>2.670000</td>\n      <td>-26.858999</td>\n      <td>GEMI5_HUMAN</td>\n      <td>4</td>\n      <td>False</td>\n    </tr>\n    <tr>\n      <th>...</th>\n      <td>...</td>\n      <td>...</td>\n      <td>...</td>\n      <td>...</td>\n      <td>...</td>\n      <td>...</td>\n      <td>...</td>\n      <td>...</td>\n      <td>...</td>\n      <td>...</td>\n      <td>...</td>\n      <td>...</td>\n      <td>...</td>\n      <td>...</td>\n      <td>...</td>\n      <td>...</td>\n      <td>...</td>\n      <td>...</td>\n      <td>...</td>\n      <td>...</td>\n      <td>...</td>\n    </tr>\n    <tr>\n      <th>755</th>\n      <td>[0, 0, 0, 0, 0, 0, 0, 0, 0, 0, 0, 0, 0, 0, 0, ...</td>\n      <td>-2.378927</td>\n      <td>2.608671</td>\n      <td>-2.290233</td>\n      <td>2.192222</td>\n      <td>7.313673</td>\n      <td>48.994428</td>\n      <td>95.81</td>\n      <td>-2</td>\n      <td>[0, 0, 0, 0, 0, 0, 0]</td>\n      <td>...</td>\n      <td>-3</td>\n      <td>-0.1</td>\n      <td>2</td>\n      <td>-0.4</td>\n      <td>-19.742001</td>\n      <td>20.796000</td>\n      <td>-12.319000</td>\n      <td>AOC3_HUMAN</td>\n      <td>755</td>\n      <td>False</td>\n    </tr>\n    <tr>\n      <th>756</th>\n      <td>[0, 0, 0, 0, 0, 0, 1, 0, 0, 0, 0, 0, 0, 0, 0, ...</td>\n      <td>-2.122860</td>\n      <td>2.441583</td>\n      <td>-2.331874</td>\n      <td>1.570277</td>\n      <td>20.300374</td>\n      <td>46.103273</td>\n      <td>96.62</td>\n      <td>-2</td>\n      <td>[0, 0, 0, 0, 0, 0, 0]</td>\n      <td>...</td>\n      <td>-358</td>\n      <td>-0.1</td>\n      <td>-330</td>\n      <td>-0.1</td>\n      <td>-16.299000</td>\n      <td>19.153999</td>\n      <td>-12.640000</td>\n      <td>AOC3_HUMAN</td>\n      <td>756</td>\n      <td>False</td>\n    </tr>\n    <tr>\n      <th>757</th>\n      <td>[0, 0, 0, 0, 0, 1, 0, 0, 0, 0, 0, 0, 0, 0, 0, ...</td>\n      <td>-1.124856</td>\n      <td>-0.248235</td>\n      <td>-1.292085</td>\n      <td>2.315429</td>\n      <td>2.763823</td>\n      <td>0.000000</td>\n      <td>93.61</td>\n      <td>-2</td>\n      <td>[0, 0, 0, 0, 0, 0, 0]</td>\n      <td>...</td>\n      <td>-360</td>\n      <td>-0.2</td>\n      <td>-1</td>\n      <td>-0.1</td>\n      <td>-13.404000</td>\n      <td>19.502001</td>\n      <td>-10.121000</td>\n      <td>AOC3_HUMAN</td>\n      <td>757</td>\n      <td>False</td>\n    </tr>\n    <tr>\n      <th>758</th>\n      <td>[0, 0, 0, 0, 0, 1, 0, 0, 0, 0, 0, 0, 0, 0, 0, ...</td>\n      <td>1.651085</td>\n      <td>-2.916255</td>\n      <td>-0.280431</td>\n      <td>2.332004</td>\n      <td>15.092203</td>\n      <td>0.000000</td>\n      <td>93.17</td>\n      <td>0</td>\n      <td>[0, 0, 0, 0, 0, 0, 0]</td>\n      <td>...</td>\n      <td>0</td>\n      <td>0.0</td>\n      <td>0</td>\n      <td>0.0</td>\n      <td>-10.986000</td>\n      <td>20.320000</td>\n      <td>-13.016000</td>\n      <td>AOC3_HUMAN</td>\n      <td>758</td>\n      <td>False</td>\n    </tr>\n    <tr>\n      <th>759</th>\n      <td>[0, 0, 0, 0, 1, 0, 0, 0, 0, 0, 0, 0, 0, 0, 0, ...</td>\n      <td>-1.935096</td>\n      <td>-2.730947</td>\n      <td>0.231620</td>\n      <td>2.057855</td>\n      <td>20.331329</td>\n      <td>148.088810</td>\n      <td>90.71</td>\n      <td>0</td>\n      <td>[0, 0, 0, 0, 0, 0, 0]</td>\n      <td>...</td>\n      <td>0</td>\n      <td>0.0</td>\n      <td>0</td>\n      <td>0.0</td>\n      <td>-7.456000</td>\n      <td>19.052999</td>\n      <td>-13.909000</td>\n      <td>AOC3_HUMAN</td>\n      <td>759</td>\n      <td>False</td>\n    </tr>\n  </tbody>\n</table>\n<p>497166 rows × 23 columns</p>\n</div>"
     },
     "execution_count": 116,
     "metadata": {},
     "output_type": "execute_result"
    }
   ],
   "source": [
    "dssp = add_feature_one_hot_column(df, dssp_cols)\n",
    "df = df.drop(dssp_cols, axis=1)\n",
    "df.insert(9, \"DSSP_feats\", dssp)\n",
    "df"
   ],
   "metadata": {
    "collapsed": false
   }
  },
  {
   "cell_type": "code",
   "execution_count": 118,
   "outputs": [],
   "source": [
    "df.to_csv('./data/processed_train.csv', index=False)"
   ],
   "metadata": {
    "collapsed": false
   }
  },
  {
   "cell_type": "code",
   "execution_count": null,
   "outputs": [],
   "source": [],
   "metadata": {
    "collapsed": false
   }
  }
 ],
 "metadata": {
  "kernelspec": {
   "display_name": "Python 3",
   "language": "python",
   "name": "python3"
  },
  "language_info": {
   "codemirror_mode": {
    "name": "ipython",
    "version": 2
   },
   "file_extension": ".py",
   "mimetype": "text/x-python",
   "name": "python",
   "nbconvert_exporter": "python",
   "pygments_lexer": "ipython2",
   "version": "2.7.6"
  }
 },
 "nbformat": 4,
 "nbformat_minor": 0
}
