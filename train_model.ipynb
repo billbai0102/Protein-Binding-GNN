{
 "cells": [
  {
   "cell_type": "markdown",
   "source": [
    "Next steps:\n",
    "1. Add a \"master node\" that connects all nodes together, so that message passing works between all nodes"
   ],
   "metadata": {
    "collapsed": false
   }
  },
  {
   "cell_type": "code",
   "execution_count": 1,
   "metadata": {
    "collapsed": true
   },
   "outputs": [],
   "source": [
    "import pandas as pd\n",
    "\n",
    "from EmbedDataset import LigandBinaryDataset\n",
    "\n",
    "import time\n",
    "import numpy as np\n",
    "import torch\n",
    "from torch_geometric.loader import DataLoader"
   ]
  },
  {
   "cell_type": "code",
   "execution_count": 2,
   "outputs": [],
   "source": [
    "dataset = LigandBinaryDataset('./data2/')"
   ],
   "metadata": {
    "collapsed": false
   }
  },
  {
   "cell_type": "code",
   "execution_count": 3,
   "outputs": [],
   "source": [
    "dataset = dataset.shuffle()\n",
    "train_dataset = dataset[:int(len(dataset) * 0.7)]\n",
    "val_dataset = dataset[int(len(dataset) * 0.7):int(len(dataset) * 0.85)]\n",
    "test_dataset = dataset[int(len(dataset) * 0.85):]"
   ],
   "metadata": {
    "collapsed": false
   }
  },
  {
   "cell_type": "code",
   "execution_count": 4,
   "outputs": [],
   "source": [
    "train_dl = DataLoader(train_dataset, batch_size=16)\n",
    "val_dl = DataLoader(val_dataset, batch_size=16)\n",
    "test_dl = DataLoader(test_dataset, batch_size=16)"
   ],
   "metadata": {
    "collapsed": false
   }
  },
  {
   "cell_type": "code",
   "execution_count": 19,
   "outputs": [],
   "source": [
    "from LigandGNNV2 import LigandGNNV2\n",
    "from LigandGNNV1 import LigandGNNV1\n",
    "from sagn.models import SAGN\n",
    "\n",
    "device = torch.device('cuda')\n",
    "# model = LigandGNNV1(dataset.num_node_features, 1).to(device)\n",
    "model = LigandGNNV2(128, 40).to(device)\n",
    "# model = SAGN(in_feats=1070, hidden=1024, out_feats=1, num_hops=3, n_layers=2, num_heads=1, dropout=0.3).to(device)\n",
    "\n",
    "optimizer = torch.optim.AdamW(model.parameters(), lr=0.001, weight_decay=.1)\n",
    "scheduler = torch.optim.lr_scheduler.ReduceLROnPlateau(optimizer, mode='min')\n",
    "criterion = torch.nn.BCEWithLogitsLoss(pos_weight=torch.FloatTensor([22]).to(device))"
   ],
   "metadata": {
    "collapsed": false
   }
  },
  {
   "cell_type": "code",
   "execution_count": 20,
   "outputs": [],
   "source": [
    "def train(model, loader, criterion, optimizer):\n",
    "    model.train()\n",
    "\n",
    "    loss_acc = 0.\n",
    "    for data in loader:\n",
    "        data = data.to(device)\n",
    "        optimizer.zero_grad()\n",
    "        output = model(data)\n",
    "        label = data.y\n",
    "\n",
    "        loss = criterion(output, label.reshape(-1, 1))\n",
    "        loss.backward()\n",
    "        loss_acc += data.num_graphs * loss.item()\n",
    "        optimizer.step()\n",
    "\n",
    "    return loss_acc / len(loader.dataset)"
   ],
   "metadata": {
    "collapsed": false
   }
  },
  {
   "cell_type": "code",
   "execution_count": 21,
   "outputs": [],
   "source": [
    "from sklearn.metrics import f1_score, precision_recall_curve, roc_curve, auc, precision_recall_fscore_support, roc_auc_score\n",
    "\n",
    "def evaluate(model, loader):\n",
    "    model.eval()\n",
    "\n",
    "    preds = np.asarray([])\n",
    "    labels = np.asarray([])\n",
    "\n",
    "    with torch.no_grad():\n",
    "        for data in loader:\n",
    "            data = data.to(device)\n",
    "            pred = torch.sigmoid(model(data).round().squeeze().cpu()).round().numpy()\n",
    "            label = data.y.cpu().numpy()\n",
    "\n",
    "            preds = np.concatenate([preds, pred])\n",
    "            labels = np.concatenate([labels, label])\n",
    "\n",
    "    precision, recall, _ = precision_recall_curve(labels, preds)\n",
    "    fpr, tpr, thresholds = roc_curve(labels, preds, pos_label=1)\n",
    "    print(precision_recall_fscore_support(labels, preds))\n",
    "    return auc(fpr, tpr), auc(recall, precision)\n",
    "    # return roc_auc_score(labels, preds)"
   ],
   "metadata": {
    "collapsed": false
   }
  },
  {
   "cell_type": "code",
   "execution_count": 22,
   "outputs": [
    {
     "name": "stdout",
     "output_type": "stream",
     "text": [
      "(array([0.97174423, 0.1499511 ]), array([0.95319955, 0.22950274]), array([0.96238256, 0.18138801]), array([334313,  12026], dtype=int64))\n",
      "(array([0.96892405, 0.16960955]), array([0.95227887, 0.24192976]), array([0.96052935, 0.1994152 ]), array([69969,  2819], dtype=int64))\n",
      "Epoch: 001, Loss: 1.18753, Train Score: (0.5913511452936444, 0.2031039904556181), Val Score: (0.5971043143410832, 0.22044927361451355), Time: 25.49215s\n",
      "(array([0.98397118, 0.1102541 ]), array([0.81712347, 0.6299684 ]), array([0.89281921, 0.18766411]), array([334313,  12026], dtype=int64))\n",
      "(array([0.98171749, 0.1199044 ]), array([0.81578985, 0.62291593]), array([0.89109529, 0.2010994 ]), array([69969,  2819], dtype=int64))\n",
      "Epoch: 002, Loss: 1.01783, Train Score: (0.7235459379528502, 0.3765355907122772), Val Score: (0.7193528887122671, 0.3787121937405011), Time: 25.17300s\n",
      "(array([0.97989928, 0.18985687]), array([0.92770547, 0.47097954]), array([0.95308834, 0.27062281]), array([334313,  12026], dtype=int64))\n",
      "(array([0.9774872 , 0.20246989]), array([0.92523832, 0.47108904]), array([0.95064538, 0.28321604]), array([69969,  2819], dtype=int64))\n",
      "Epoch: 003, Loss: 0.91052, Train Score: (0.6993425089668449, 0.3396028499070774), Val Score: (0.6981636792467729, 0.34702153655352413), Time: 25.13300s\n",
      "(array([0.97962545, 0.24462996]), array([0.94993016, 0.45077332]), array([0.9645493 , 0.31714737]), array([334313,  12026], dtype=int64))\n",
      "(array([0.97757762, 0.2620105 ]), array([0.94774829, 0.46044697]), array([0.96243188, 0.33397659]), array([69969,  2819], dtype=int64))\n",
      "Epoch: 004, Loss: 0.85748, Train Score: (0.7003517398686564, 0.35723709932783665), Val Score: (0.7040976277686772, 0.3716768825830907), Time: 25.21900s\n",
      "(array([0.98238167, 0.26856441]), array([0.9483508 , 0.52719109]), array([0.96506632, 0.35584991]), array([334313,  12026], dtype=int64))\n",
      "(array([0.97999202, 0.28641251]), array([0.94783404, 0.51968783]), array([0.96364482, 0.3692967 ]), array([69969,  2819], dtype=int64))\n",
      "Epoch: 005, Loss: 0.80369, Train Score: (0.7377709414939853, 0.4060864677788768), Val Score: (0.7337609366771158, 0.4123511560704799), Time: 25.19400s\n",
      "(array([0.98393118, 0.27544261]), array([0.94601466, 0.57051389]), array([0.96460046, 0.37151753]), array([334313,  12026], dtype=int64))\n",
      "(array([0.98133282, 0.28923476]), array([0.94517572, 0.55374246]), array([0.96291497, 0.37999026]), array([69969,  2819], dtype=int64))\n",
      "Epoch: 006, Loss: 0.75494, Train Score: (0.7582642747423994, 0.43043481596240285), Val Score: (0.7494590912711047, 0.4301301452777391), Time: 25.22000s\n",
      "(array([0.98630289, 0.25413544]), array([0.93242859, 0.64002994]), array([0.9586094 , 0.36381254]), array([334313,  12026], dtype=int64))\n",
      "(array([0.98297365, 0.26084272]), array([0.9315554 , 0.59950337]), array([0.95657406, 0.36351904]), array([69969,  2819], dtype=int64))\n",
      "Epoch: 007, Loss: 0.71869, Train Score: (0.786229263753781, 0.4533323435213649), Val Score: (0.7655293865482241, 0.4379284455575037), Time: 25.47600s\n",
      "(array([0.98517912, 0.30255468]), array([0.95002288, 0.60269416]), array([0.96728166, 0.4028681 ]), array([334313,  12026], dtype=int64))\n",
      "(array([0.98124695, 0.30279351]), array([0.9489917 , 0.54984037]), array([0.96484982, 0.39052658]), array([69969,  2819], dtype=int64))\n",
      "Epoch: 008, Loss: 0.68465, Train Score: (0.7763585226976009, 0.45952228908078063), Val Score: (0.749416032623904, 0.43503403786636435), Time: 25.25500s\n",
      "(array([0.98632075, 0.2932152 ]), array([0.944878  , 0.63570597]), array([0.9651547 , 0.40132287]), array([334313,  12026], dtype=int64))\n",
      "(array([0.98160776, 0.28866168]), array([0.9443182 , 0.56083718]), array([0.96260198, 0.38114754]), array([69969,  2819], dtype=int64))\n",
      "Epoch: 009, Loss: 0.65803, Train Score: (0.7902919869725229, 0.47078531501666376), Val Score: (0.7525776871813971, 0.43325357523740965), Time: 25.23000s\n",
      "(array([0.98934072, 0.25899881]), array([0.92561462, 0.72276734]), array([0.95641733, 0.38134515]), array([334313,  12026], dtype=int64))\n",
      "(array([0.98404563, 0.2514919 ]), array([0.92470951, 0.62788223]), array([0.9534553 , 0.35913564]), array([69969,  2819], dtype=int64))\n",
      "saving...\n",
      "Epoch: 010, Loss: 0.63840, Train Score: (0.8241909780356929, 0.4956962760190616), Val Score: (0.7762958709768853, 0.4468929225327809), Time: 25.15000s\n",
      "(array([0.99093068, 0.21671964]), array([0.89974964, 0.77107933]), array([0.94314148, 0.33834422]), array([334313,  12026], dtype=int64))\n",
      "(array([0.98555906, 0.21063145]), array([0.89834069, 0.6732884 ]), array([0.93993091, 0.32087912]), array([69969,  2819], dtype=int64))\n",
      "saving...\n",
      "Epoch: 011, Loss: 0.61328, Train Score: (0.8354144819713628, 0.4978739142489057), Val Score: (0.7858145469388458, 0.44828651759110577), Time: 25.22800s\n",
      "(array([0.99298477, 0.19791522]), array([0.87939446, 0.82729087]), array([0.93274406, 0.31941568]), array([334313,  12026], dtype=int64))\n",
      "(array([0.98660098, 0.18949379]), array([0.87871772, 0.70379567]), array([0.92953956, 0.29859282]), array([69969,  2819], dtype=int64))\n",
      "saving...\n",
      "Epoch: 012, Loss: 0.58757, Train Score: (0.8533426647325651, 0.515601550202564), Val Score: (0.7912566950353339, 0.4523805675824172), Time: 25.28700s\n",
      "(array([0.99409084, 0.19218636]), array([0.87054946, 0.85614502]), array([0.92822754, 0.31390722]), array([334313,  12026], dtype=int64))\n",
      "(array([0.9874846 , 0.18434798]), array([0.87055696, 0.72614402]), array([0.92534162, 0.29404582]), array([69969,  2819], dtype=int64))\n",
      "saving...\n",
      "Epoch: 013, Loss: 0.56854, Train Score: (0.8633472371382696, 0.5266632438048501), Val Score: (0.7983504918214654, 0.46054907464094424), Time: 25.20300s\n",
      "(array([0.99281798, 0.22232999]), array([0.8968691 , 0.81964078]), array([0.94240764, 0.34978088]), array([334313,  12026], dtype=int64))\n",
      "(array([0.98529135, 0.2086291 ]), array([0.89802627, 0.66725789]), array([0.93963706, 0.31787072]), array([69969,  2819], dtype=int64))\n",
      "Epoch: 014, Loss: 0.56651, Train Score: (0.8582549400118639, 0.524116708043055), Val Score: (0.7826420808229921, 0.4443868681288541), Time: 25.22600s\n",
      "(array([0.98916513, 0.31621881]), array([0.94458786, 0.71237319]), array([0.96636269, 0.43800808]), array([334313,  12026], dtype=int64))\n",
      "(array([0.98186002, 0.29448645]), array([0.94531864, 0.56651295]), array([0.9632429, 0.3875273]), array([69969,  2819], dtype=int64))\n",
      "Epoch: 015, Loss: 0.55342, Train Score: (0.8284805238544779, 0.519289662978565), Val Score: (0.7559157944831708, 0.43889393804398097), Time: 25.22600s\n",
      "(array([0.99453311, 0.2009298 ]), array([0.87609516, 0.8661234 ]), array([0.93156471, 0.32618805]), array([334313,  12026], dtype=int64))\n",
      "(array([0.98646304, 0.17865826]), array([0.86964227, 0.70379567]), array([0.92437639, 0.28497558]), array([69969,  2819], dtype=int64))\n",
      "Epoch: 016, Loss: 0.55498, Train Score: (0.8711092778185218, 0.5358509129007903), Val Score: (0.7867189711862007, 0.44696280271145156), Time: 25.27000s\n",
      "(array([0.99578225, 0.18334407]), array([0.85591945, 0.89921836]), array([0.92056879, 0.3045854 ]), array([334313,  12026], dtype=int64))\n",
      "(array([0.98714961, 0.16102895]), array([0.84757535, 0.72614402]), array([0.91205352, 0.26360183]), array([69969,  2819], dtype=int64))\n",
      "Epoch: 017, Loss: 0.52176, Train Score: (0.8775689064739777, 0.5430309464011547), Val Score: (0.7868596887515347, 0.44888955779874934), Time: 25.24800s\n",
      "(array([0.99451745, 0.22509433]), array([0.89311214, 0.86312989]), array([0.941091  , 0.35706914]), array([334313,  12026], dtype=int64))\n",
      "(array([0.98620395, 0.20464823]), array([0.89190927, 0.69031571]), array([0.93668948, 0.31570409]), array([69969,  2819], dtype=int64))\n",
      "Epoch: 018, Loss: 0.50976, Train Score: (0.8781210143295722, 0.5464883928514277), Val Score: (0.791112494449792, 0.4534788390090465), Time: 25.31100s\n",
      "(array([0.98661571, 0.3220162 ]), array([0.95143772, 0.64119408]), array([0.96870746, 0.42872234]), array([334313,  12026], dtype=int64))\n",
      "(array([0.98053205, 0.29506585]), array([0.94874873, 0.53245832]), array([0.96437859, 0.37971161]), array([69969,  2819], dtype=int64))\n",
      "Epoch: 019, Loss: 0.54773, Train Score: (0.7963159020110211, 0.48783458702554194), Val Score: (0.7406035250669035, 0.4228157765140476), Time: 25.24900s\n",
      "(array([0.99532022, 0.22226637]), array([0.88875096, 0.88383502]), array([0.93902163, 0.35520577]), array([334313,  12026], dtype=int64))\n",
      "(array([0.98749106, 0.20581384]), array([0.88793609, 0.72082299]), array([0.93507119, 0.3202017 ]), array([69969,  2819], dtype=int64))\n",
      "saving...\n",
      "Epoch: 020, Loss: 0.55552, Train Score: (0.8862929925201289, 0.5550675063427265), Val Score: (0.8043795364278564, 0.4687245221915709), Time: 25.14300s\n",
      "(array([0.99105191, 0.32837156]), array([0.94385501, 0.76309662]), array([0.96687784, 0.45915993]), array([334313,  12026], dtype=int64))\n",
      "(array([0.98309868, 0.29031148]), array([0.94105961, 0.59843916]), array([0.96161991, 0.39096176]), array([69969,  2819], dtype=int64))\n",
      "Epoch: 021, Loss: 0.48920, Train Score: (0.8534758170533078, 0.549847114429886), Val Score: (0.7697493874688163, 0.4521513275614454), Time: 25.16200s\n",
      "(array([0.99005454, 0.34662011]), array([0.95018441, 0.73465824]), array([0.96970983, 0.4710116 ]), array([334313,  12026], dtype=int64))\n",
      "(array([0.98093252, 0.29502507]), array([0.94774829, 0.54274565]), array([0.96405492, 0.38226109]), array([69969,  2819], dtype=int64))\n",
      "Epoch: 022, Loss: 0.47640, Train Score: (0.8424213242518886, 0.5452459336759522), Val Score: (0.7452469715075918, 0.4277398424963415), Time: 25.16300s\n",
      "(array([0.99014204, 0.36183431]), array([0.95329527, 0.736155  ]), array([0.97136935, 0.48518894]), array([334313,  12026], dtype=int64))\n",
      "(array([0.98127667, 0.30621915]), array([0.94977776, 0.5501951 ]), array([0.96527031, 0.3934551 ]), array([69969,  2819], dtype=int64))\n",
      "Epoch: 023, Loss: 0.47190, Train Score: (0.8447251313604682, 0.5535754244881214), Val Score: (0.7499864316843788, 0.43691735480226956), Time: 25.17000s\n",
      "(array([0.99166688, 0.34521396]), array([0.94686118, 0.77881257]), array([0.96874622, 0.4783819 ]), array([334313,  12026], dtype=int64))\n",
      "(array([0.98240513, 0.3034188 ]), array([0.94641913, 0.57928343]), array([0.96407643, 0.39824412]), array([69969,  2819], dtype=int64))\n",
      "Epoch: 024, Loss: 0.45850, Train Score: (0.8628368738828389, 0.5658534354827609), Val Score: (0.7628512811564839, 0.44949806592930097), Time: 25.29000s\n",
      "(array([0.99303547, 0.2779469 ]), array([0.9233742 , 0.81997339]), array([0.95693875, 0.41516504]), array([334313,  12026], dtype=int64))\n",
      "(array([0.98372348, 0.24414389]), array([0.92252283, 0.62114225]), array([0.95214072, 0.35051546]), array([69969,  2819], dtype=int64))\n",
      "Epoch: 025, Loss: 0.45837, Train Score: (0.8716737971014713, 0.5520856942273188), Val Score: (0.7718325402820794, 0.43997944509829134), Time: 25.15800s\n",
      "(array([0.9855436 , 0.33575941]), array([0.95659457, 0.60992849]), array([0.97085333, 0.43310109]), array([334313,  12026], dtype=int64))\n",
      "(array([0.97974244, 0.30247691]), array([0.95250754, 0.51117418]), array([0.96593305, 0.38006066]), array([69969,  2819], dtype=int64))\n",
      "Epoch: 026, Loss: 0.48768, Train Score: (0.7832615284191983, 0.47961621399469123), Val Score: (0.7318408571462279, 0.4162913887180627), Time: 25.23500s\n",
      "(array([0.99053491, 0.3378632 ]), array([0.94724106, 0.74837851]), array([0.96840435, 0.46554935]), array([334313,  12026], dtype=int64))\n",
      "(array([0.98185712, 0.28841991]), array([0.94361789, 0.56722242]), array([0.96235779, 0.38239866]), array([69969,  2819], dtype=int64))\n",
      "Epoch: 027, Loss: 0.48774, Train Score: (0.8478097858751684, 0.547489410281116), Val Score: (0.7554201536097086, 0.4362016686393641), Time: 25.22800s\n",
      "(array([0.98973189, 0.33207949]), array([0.94741754, 0.72675869]), array([0.96811257, 0.45586126]), array([334313,  12026], dtype=int64))\n",
      "(array([0.9821086 , 0.29122364]), array([0.94378939, 0.57325293]), array([0.96256778, 0.38623327]), array([69969,  2819], dtype=int64))\n",
      "Epoch: 028, Loss: 0.48551, Train Score: (0.837088114678225, 0.5341629948856809), Val Score: (0.7585211595074657, 0.4405020100245542), Time: 25.20400s\n",
      "(array([0.99294234, 0.33638082]), array([0.94224574, 0.81382006]), array([0.96692998, 0.47600982]), array([334313,  12026], dtype=int64))\n",
      "(array([0.98337682, 0.29826711]), array([0.9427032 , 0.60446967]), array([0.96261055, 0.39943741]), array([69969,  2819], dtype=int64))\n",
      "Epoch: 029, Loss: 0.45906, Train Score: (0.8780328981574841, 0.5783328211413858), Val Score: (0.7735864336129682, 0.4590276196411069), Time: 25.25000s\n",
      "(array([0.99116536, 0.36925674]), array([0.95306494, 0.763845  ]), array([0.97174183, 0.4978457 ]), array([334313,  12026], dtype=int64))\n",
      "(array([0.98138932, 0.31930185]), array([0.95262188, 0.55161405]), array([0.96679165, 0.40447392]), array([69969,  2819], dtype=int64))\n",
      "Epoch: 030, Loss: 0.45720, Train Score: (0.85845497231483, 0.5706509019976909), Val Score: (0.7521179614682753, 0.4441406976957643), Time: 25.23300s\n",
      "(array([0.99408686, 0.33934837]), array([0.9408638 , 0.84442042]), array([0.96674335, 0.48413625]), array([334313,  12026], dtype=int64))\n",
      "(array([0.98281427, 0.28423025]), array([0.93993054, 0.59205392]), array([0.96089418, 0.38407548]), array([69969,  2819], dtype=int64))\n",
      "Epoch: 031, Loss: 0.40510, Train Score: (0.8926421118530543, 0.594585507434128), Val Score: (0.7659922302488684, 0.44604173631975336), Time: 25.25900s\n",
      "(array([0.99260796, 0.34354913]), array([0.9447075 , 0.80442375]), array([0.96806556, 0.48147319]), array([334313,  12026], dtype=int64))\n",
      "(array([0.98225751, 0.2875817 ]), array([0.94236019, 0.57750976]), array([0.96189531, 0.38396226]), array([69969,  2819], dtype=int64))\n",
      "Epoch: 032, Loss: 0.44070, Train Score: (0.8745656265943357, 0.5773819572395321), Val Score: (0.759934971657823, 0.440727020909206), Time: 25.22800s\n",
      "(array([0.99513478, 0.34024129]), array([0.93914984, 0.87235989]), array([0.96633211, 0.48954736]), array([334313,  12026], dtype=int64))\n",
      "(array([0.98394327, 0.28716938]), array([0.93798682, 0.62007804]), array([0.9604156 , 0.39254435]), array([69969,  2819], dtype=int64))\n",
      "Epoch: 033, Loss: 0.39108, Train Score: (0.9057548627679872, 0.6085166263846443), Val Score: (0.7790324322972991, 0.4609806915302994), Time: 25.22500s\n",
      "(array([0.99396958, 0.36153543]), array([0.9466159 , 0.84034592]), array([0.96971498, 0.50556542]), array([334313,  12026], dtype=int64))\n",
      "(array([0.98302281, 0.29484029]), array([0.94257457, 0.59595601]), array([0.96237387, 0.39450511]), array([69969,  2819], dtype=int64))\n",
      "Epoch: 034, Loss: 0.38235, Train Score: (0.8934809065307237, 0.6037125265305662), Val Score: (0.769265290754035, 0.45322224568866787), Time: 25.24500s\n",
      "(array([0.99632608, 0.30201975]), array([0.92474717, 0.90520539]), array([0.95920311, 0.45292282]), array([334313,  12026], dtype=int64))\n",
      "(array([0.9853087, 0.256389 ]), array([0.92306593, 0.6583895 ]), array([0.95317227, 0.36905946]), array([69969,  2819], dtype=int64))\n",
      "Epoch: 035, Loss: 0.37823, Train Score: (0.9149762781991643, 0.6052583573337035), Val Score: (0.7907277145099241, 0.46400435330469425), Time: 25.17500s\n",
      "(array([0.99641341, 0.29843605]), array([0.92324857, 0.90761683]), array([0.95843671, 0.44917695]), array([334313,  12026], dtype=int64))\n",
      "(array([0.98492462, 0.25037584]), array([0.92160814, 0.64987584]), array([0.952215  , 0.36148382]), array([69969,  2819], dtype=int64))\n",
      "Epoch: 036, Loss: 0.37110, Train Score: (0.9154327013234066, 0.6046303586921883), Val Score: (0.7857419916226924, 0.45690580352480703), Time: 25.26800s\n",
      "(array([0.99725884, 0.23743538]), array([0.89234639, 0.9318144 ]), array([0.9418902 , 0.37844044]), array([334313,  12026], dtype=int64))\n",
      "(array([0.98664736, 0.19891501]), array([0.88603524, 0.70237673]), array([0.93363855, 0.31002897]), array([69969,  2819], dtype=int64))\n",
      "Epoch: 037, Loss: 0.37451, Train Score: (0.9120803980384536, 0.5858087002409836), Val Score: (0.7942059867581046, 0.45640918182306844), Time: 25.27300s\n",
      "(array([0.99748999, 0.26591274]), array([0.90699434, 0.93655413]), array([0.95009212, 0.41421794]), array([334313,  12026], dtype=int64))\n",
      "(array([0.9866514 , 0.21779548]), array([0.89898384, 0.6981199 ]), array([0.94077968, 0.33201181]), array([69969,  2819], dtype=int64))\n",
      "Epoch: 038, Loss: 0.37262, Train Score: (0.9217742381682725, 0.6023349580932392), Val Score: (0.7985518681863323, 0.4638034365048005), Time: 25.19200s\n",
      "(array([0.99731275, 0.30174389]), array([0.92250974, 0.93089972]), array([0.95845395, 0.45575753]), array([334313,  12026], dtype=int64))\n",
      "(array([0.98589325, 0.25082552]), array([0.91893553, 0.67364314]), array([0.95123755, 0.36554379]), array([69969,  2819], dtype=int64))\n",
      "Epoch: 039, Loss: 0.36161, Train Score: (0.9267047305710078, 0.6175214944236724), Val Score: (0.7962893322275073, 0.46855405017594526), Time: 25.29200s\n"
     ]
    },
    {
     "ename": "KeyboardInterrupt",
     "evalue": "",
     "output_type": "error",
     "traceback": [
      "\u001B[1;31m---------------------------------------------------------------------------\u001B[0m",
      "\u001B[1;31mKeyboardInterrupt\u001B[0m                         Traceback (most recent call last)",
      "Cell \u001B[1;32mIn[22], line 6\u001B[0m\n\u001B[0;32m      4\u001B[0m \u001B[38;5;28;01mfor\u001B[39;00m epoch \u001B[38;5;129;01min\u001B[39;00m \u001B[38;5;28mrange\u001B[39m(\u001B[38;5;241m1\u001B[39m, \u001B[38;5;241m201\u001B[39m):\n\u001B[0;32m      5\u001B[0m     s \u001B[38;5;241m=\u001B[39m time\u001B[38;5;241m.\u001B[39mtime()\n\u001B[1;32m----> 6\u001B[0m     loss \u001B[38;5;241m=\u001B[39m \u001B[43mtrain\u001B[49m\u001B[43m(\u001B[49m\u001B[43mmodel\u001B[49m\u001B[43m,\u001B[49m\u001B[43m \u001B[49m\u001B[43mtrain_dl\u001B[49m\u001B[43m,\u001B[49m\u001B[43m \u001B[49m\u001B[43mcriterion\u001B[49m\u001B[43m,\u001B[49m\u001B[43m \u001B[49m\u001B[43moptimizer\u001B[49m\u001B[43m)\u001B[49m\n\u001B[0;32m      7\u001B[0m     train_score \u001B[38;5;241m=\u001B[39m evaluate(model, train_dl)\n\u001B[0;32m      8\u001B[0m     val_score \u001B[38;5;241m=\u001B[39m evaluate(model, val_dl)\n",
      "Cell \u001B[1;32mIn[20], line 8\u001B[0m, in \u001B[0;36mtrain\u001B[1;34m(model, loader, criterion, optimizer)\u001B[0m\n\u001B[0;32m      6\u001B[0m data \u001B[38;5;241m=\u001B[39m data\u001B[38;5;241m.\u001B[39mto(device)\n\u001B[0;32m      7\u001B[0m optimizer\u001B[38;5;241m.\u001B[39mzero_grad()\n\u001B[1;32m----> 8\u001B[0m output \u001B[38;5;241m=\u001B[39m \u001B[43mmodel\u001B[49m\u001B[43m(\u001B[49m\u001B[43mdata\u001B[49m\u001B[43m)\u001B[49m\n\u001B[0;32m      9\u001B[0m label \u001B[38;5;241m=\u001B[39m data\u001B[38;5;241m.\u001B[39my\n\u001B[0;32m     11\u001B[0m loss \u001B[38;5;241m=\u001B[39m criterion(output, label\u001B[38;5;241m.\u001B[39mreshape(\u001B[38;5;241m-\u001B[39m\u001B[38;5;241m1\u001B[39m, \u001B[38;5;241m1\u001B[39m))\n",
      "File \u001B[1;32m~\\anaconda3\\envs\\watai\\lib\\site-packages\\torch\\nn\\modules\\module.py:1130\u001B[0m, in \u001B[0;36mModule._call_impl\u001B[1;34m(self, *input, **kwargs)\u001B[0m\n\u001B[0;32m   1126\u001B[0m \u001B[38;5;66;03m# If we don't have any hooks, we want to skip the rest of the logic in\u001B[39;00m\n\u001B[0;32m   1127\u001B[0m \u001B[38;5;66;03m# this function, and just call forward.\u001B[39;00m\n\u001B[0;32m   1128\u001B[0m \u001B[38;5;28;01mif\u001B[39;00m \u001B[38;5;129;01mnot\u001B[39;00m (\u001B[38;5;28mself\u001B[39m\u001B[38;5;241m.\u001B[39m_backward_hooks \u001B[38;5;129;01mor\u001B[39;00m \u001B[38;5;28mself\u001B[39m\u001B[38;5;241m.\u001B[39m_forward_hooks \u001B[38;5;129;01mor\u001B[39;00m \u001B[38;5;28mself\u001B[39m\u001B[38;5;241m.\u001B[39m_forward_pre_hooks \u001B[38;5;129;01mor\u001B[39;00m _global_backward_hooks\n\u001B[0;32m   1129\u001B[0m         \u001B[38;5;129;01mor\u001B[39;00m _global_forward_hooks \u001B[38;5;129;01mor\u001B[39;00m _global_forward_pre_hooks):\n\u001B[1;32m-> 1130\u001B[0m     \u001B[38;5;28;01mreturn\u001B[39;00m forward_call(\u001B[38;5;241m*\u001B[39m\u001B[38;5;28minput\u001B[39m, \u001B[38;5;241m*\u001B[39m\u001B[38;5;241m*\u001B[39mkwargs)\n\u001B[0;32m   1131\u001B[0m \u001B[38;5;66;03m# Do not call functions when jit is used\u001B[39;00m\n\u001B[0;32m   1132\u001B[0m full_backward_hooks, non_full_backward_hooks \u001B[38;5;241m=\u001B[39m [], []\n",
      "File \u001B[1;32m~\\OneDrive\\Documents\\Projects\\CxC Cyclica\\LigandGNNV2.py:35\u001B[0m, in \u001B[0;36mLigandGNNV2.forward\u001B[1;34m(self, data)\u001B[0m\n\u001B[0;32m     32\u001B[0m x \u001B[38;5;241m=\u001B[39m \u001B[38;5;28mself\u001B[39m\u001B[38;5;241m.\u001B[39mlayers[\u001B[38;5;241m0\u001B[39m]\u001B[38;5;241m.\u001B[39mconv(x, edge_index)\n\u001B[0;32m     34\u001B[0m \u001B[38;5;28;01mfor\u001B[39;00m layer \u001B[38;5;129;01min\u001B[39;00m \u001B[38;5;28mself\u001B[39m\u001B[38;5;241m.\u001B[39mlayers[\u001B[38;5;241m1\u001B[39m:]:\n\u001B[1;32m---> 35\u001B[0m     x \u001B[38;5;241m=\u001B[39m \u001B[43mlayer\u001B[49m\u001B[43m(\u001B[49m\u001B[43mx\u001B[49m\u001B[43m,\u001B[49m\u001B[43m \u001B[49m\u001B[43medge_index\u001B[49m\u001B[43m)\u001B[49m\n\u001B[0;32m     37\u001B[0m x \u001B[38;5;241m=\u001B[39m \u001B[38;5;28mself\u001B[39m\u001B[38;5;241m.\u001B[39mlayers[\u001B[38;5;241m0\u001B[39m]\u001B[38;5;241m.\u001B[39mact(\u001B[38;5;28mself\u001B[39m\u001B[38;5;241m.\u001B[39mlayers[\u001B[38;5;241m0\u001B[39m]\u001B[38;5;241m.\u001B[39mnorm(x))\n\u001B[0;32m     38\u001B[0m x \u001B[38;5;241m=\u001B[39m F\u001B[38;5;241m.\u001B[39mdropout(x, p\u001B[38;5;241m=\u001B[39m\u001B[38;5;241m0.2\u001B[39m, training\u001B[38;5;241m=\u001B[39m\u001B[38;5;28mself\u001B[39m\u001B[38;5;241m.\u001B[39mtraining)\n",
      "File \u001B[1;32m~\\anaconda3\\envs\\watai\\lib\\site-packages\\torch\\nn\\modules\\module.py:1130\u001B[0m, in \u001B[0;36mModule._call_impl\u001B[1;34m(self, *input, **kwargs)\u001B[0m\n\u001B[0;32m   1126\u001B[0m \u001B[38;5;66;03m# If we don't have any hooks, we want to skip the rest of the logic in\u001B[39;00m\n\u001B[0;32m   1127\u001B[0m \u001B[38;5;66;03m# this function, and just call forward.\u001B[39;00m\n\u001B[0;32m   1128\u001B[0m \u001B[38;5;28;01mif\u001B[39;00m \u001B[38;5;129;01mnot\u001B[39;00m (\u001B[38;5;28mself\u001B[39m\u001B[38;5;241m.\u001B[39m_backward_hooks \u001B[38;5;129;01mor\u001B[39;00m \u001B[38;5;28mself\u001B[39m\u001B[38;5;241m.\u001B[39m_forward_hooks \u001B[38;5;129;01mor\u001B[39;00m \u001B[38;5;28mself\u001B[39m\u001B[38;5;241m.\u001B[39m_forward_pre_hooks \u001B[38;5;129;01mor\u001B[39;00m _global_backward_hooks\n\u001B[0;32m   1129\u001B[0m         \u001B[38;5;129;01mor\u001B[39;00m _global_forward_hooks \u001B[38;5;129;01mor\u001B[39;00m _global_forward_pre_hooks):\n\u001B[1;32m-> 1130\u001B[0m     \u001B[38;5;28;01mreturn\u001B[39;00m forward_call(\u001B[38;5;241m*\u001B[39m\u001B[38;5;28minput\u001B[39m, \u001B[38;5;241m*\u001B[39m\u001B[38;5;241m*\u001B[39mkwargs)\n\u001B[0;32m   1131\u001B[0m \u001B[38;5;66;03m# Do not call functions when jit is used\u001B[39;00m\n\u001B[0;32m   1132\u001B[0m full_backward_hooks, non_full_backward_hooks \u001B[38;5;241m=\u001B[39m [], []\n",
      "File \u001B[1;32m~\\anaconda3\\envs\\watai\\lib\\site-packages\\torch_geometric\\nn\\models\\deepgcn.py:80\u001B[0m, in \u001B[0;36mDeepGCNLayer.forward\u001B[1;34m(self, *args, **kwargs)\u001B[0m\n\u001B[0;32m     78\u001B[0m h \u001B[38;5;241m=\u001B[39m F\u001B[38;5;241m.\u001B[39mdropout(h, p\u001B[38;5;241m=\u001B[39m\u001B[38;5;28mself\u001B[39m\u001B[38;5;241m.\u001B[39mdropout, training\u001B[38;5;241m=\u001B[39m\u001B[38;5;28mself\u001B[39m\u001B[38;5;241m.\u001B[39mtraining)\n\u001B[0;32m     79\u001B[0m \u001B[38;5;28;01mif\u001B[39;00m \u001B[38;5;28mself\u001B[39m\u001B[38;5;241m.\u001B[39mconv \u001B[38;5;129;01mis\u001B[39;00m \u001B[38;5;129;01mnot\u001B[39;00m \u001B[38;5;28;01mNone\u001B[39;00m \u001B[38;5;129;01mand\u001B[39;00m \u001B[38;5;28mself\u001B[39m\u001B[38;5;241m.\u001B[39mckpt_grad \u001B[38;5;129;01mand\u001B[39;00m h\u001B[38;5;241m.\u001B[39mrequires_grad:\n\u001B[1;32m---> 80\u001B[0m     h \u001B[38;5;241m=\u001B[39m checkpoint(\u001B[38;5;28mself\u001B[39m\u001B[38;5;241m.\u001B[39mconv, h, \u001B[38;5;241m*\u001B[39margs, \u001B[38;5;241m*\u001B[39m\u001B[38;5;241m*\u001B[39mkwargs)\n\u001B[0;32m     81\u001B[0m \u001B[38;5;28;01melse\u001B[39;00m:\n\u001B[0;32m     82\u001B[0m     h \u001B[38;5;241m=\u001B[39m \u001B[38;5;28mself\u001B[39m\u001B[38;5;241m.\u001B[39mconv(h, \u001B[38;5;241m*\u001B[39margs, \u001B[38;5;241m*\u001B[39m\u001B[38;5;241m*\u001B[39mkwargs)\n",
      "File \u001B[1;32m~\\anaconda3\\envs\\watai\\lib\\site-packages\\torch\\utils\\checkpoint.py:235\u001B[0m, in \u001B[0;36mcheckpoint\u001B[1;34m(function, use_reentrant, *args, **kwargs)\u001B[0m\n\u001B[0;32m    232\u001B[0m     \u001B[38;5;28;01mraise\u001B[39;00m \u001B[38;5;167;01mValueError\u001B[39;00m(\u001B[38;5;124m\"\u001B[39m\u001B[38;5;124mUnexpected keyword arguments: \u001B[39m\u001B[38;5;124m\"\u001B[39m \u001B[38;5;241m+\u001B[39m \u001B[38;5;124m\"\u001B[39m\u001B[38;5;124m,\u001B[39m\u001B[38;5;124m\"\u001B[39m\u001B[38;5;241m.\u001B[39mjoin(arg \u001B[38;5;28;01mfor\u001B[39;00m arg \u001B[38;5;129;01min\u001B[39;00m kwargs))\n\u001B[0;32m    234\u001B[0m \u001B[38;5;28;01mif\u001B[39;00m use_reentrant:\n\u001B[1;32m--> 235\u001B[0m     \u001B[38;5;28;01mreturn\u001B[39;00m \u001B[43mCheckpointFunction\u001B[49m\u001B[38;5;241;43m.\u001B[39;49m\u001B[43mapply\u001B[49m\u001B[43m(\u001B[49m\u001B[43mfunction\u001B[49m\u001B[43m,\u001B[49m\u001B[43m \u001B[49m\u001B[43mpreserve\u001B[49m\u001B[43m,\u001B[49m\u001B[43m \u001B[49m\u001B[38;5;241;43m*\u001B[39;49m\u001B[43margs\u001B[49m\u001B[43m)\u001B[49m\n\u001B[0;32m    236\u001B[0m \u001B[38;5;28;01melse\u001B[39;00m:\n\u001B[0;32m    237\u001B[0m     \u001B[38;5;28;01mreturn\u001B[39;00m _checkpoint_without_reentrant(\n\u001B[0;32m    238\u001B[0m         function,\n\u001B[0;32m    239\u001B[0m         preserve,\n\u001B[0;32m    240\u001B[0m         \u001B[38;5;241m*\u001B[39margs\n\u001B[0;32m    241\u001B[0m     )\n",
      "File \u001B[1;32m~\\anaconda3\\envs\\watai\\lib\\site-packages\\torch\\utils\\checkpoint.py:96\u001B[0m, in \u001B[0;36mCheckpointFunction.forward\u001B[1;34m(ctx, run_function, preserve_rng_state, *args)\u001B[0m\n\u001B[0;32m     93\u001B[0m ctx\u001B[38;5;241m.\u001B[39msave_for_backward(\u001B[38;5;241m*\u001B[39mtensor_inputs)\n\u001B[0;32m     95\u001B[0m \u001B[38;5;28;01mwith\u001B[39;00m torch\u001B[38;5;241m.\u001B[39mno_grad():\n\u001B[1;32m---> 96\u001B[0m     outputs \u001B[38;5;241m=\u001B[39m \u001B[43mrun_function\u001B[49m\u001B[43m(\u001B[49m\u001B[38;5;241;43m*\u001B[39;49m\u001B[43margs\u001B[49m\u001B[43m)\u001B[49m\n\u001B[0;32m     97\u001B[0m \u001B[38;5;28;01mreturn\u001B[39;00m outputs\n",
      "File \u001B[1;32m~\\anaconda3\\envs\\watai\\lib\\site-packages\\torch\\nn\\modules\\module.py:1130\u001B[0m, in \u001B[0;36mModule._call_impl\u001B[1;34m(self, *input, **kwargs)\u001B[0m\n\u001B[0;32m   1126\u001B[0m \u001B[38;5;66;03m# If we don't have any hooks, we want to skip the rest of the logic in\u001B[39;00m\n\u001B[0;32m   1127\u001B[0m \u001B[38;5;66;03m# this function, and just call forward.\u001B[39;00m\n\u001B[0;32m   1128\u001B[0m \u001B[38;5;28;01mif\u001B[39;00m \u001B[38;5;129;01mnot\u001B[39;00m (\u001B[38;5;28mself\u001B[39m\u001B[38;5;241m.\u001B[39m_backward_hooks \u001B[38;5;129;01mor\u001B[39;00m \u001B[38;5;28mself\u001B[39m\u001B[38;5;241m.\u001B[39m_forward_hooks \u001B[38;5;129;01mor\u001B[39;00m \u001B[38;5;28mself\u001B[39m\u001B[38;5;241m.\u001B[39m_forward_pre_hooks \u001B[38;5;129;01mor\u001B[39;00m _global_backward_hooks\n\u001B[0;32m   1129\u001B[0m         \u001B[38;5;129;01mor\u001B[39;00m _global_forward_hooks \u001B[38;5;129;01mor\u001B[39;00m _global_forward_pre_hooks):\n\u001B[1;32m-> 1130\u001B[0m     \u001B[38;5;28;01mreturn\u001B[39;00m forward_call(\u001B[38;5;241m*\u001B[39m\u001B[38;5;28minput\u001B[39m, \u001B[38;5;241m*\u001B[39m\u001B[38;5;241m*\u001B[39mkwargs)\n\u001B[0;32m   1131\u001B[0m \u001B[38;5;66;03m# Do not call functions when jit is used\u001B[39;00m\n\u001B[0;32m   1132\u001B[0m full_backward_hooks, non_full_backward_hooks \u001B[38;5;241m=\u001B[39m [], []\n",
      "File \u001B[1;32m~\\anaconda3\\envs\\watai\\lib\\site-packages\\torch_geometric\\nn\\conv\\gen_conv.py:167\u001B[0m, in \u001B[0;36mGENConv.forward\u001B[1;34m(self, x, edge_index, edge_attr, size)\u001B[0m\n\u001B[0;32m    164\u001B[0m \u001B[38;5;28;01mif\u001B[39;00m x_r \u001B[38;5;129;01mis\u001B[39;00m \u001B[38;5;129;01mnot\u001B[39;00m \u001B[38;5;28;01mNone\u001B[39;00m:\n\u001B[0;32m    165\u001B[0m     out \u001B[38;5;241m+\u001B[39m\u001B[38;5;241m=\u001B[39m x_r\n\u001B[1;32m--> 167\u001B[0m \u001B[38;5;28;01mreturn\u001B[39;00m \u001B[38;5;28;43mself\u001B[39;49m\u001B[38;5;241;43m.\u001B[39;49m\u001B[43mmlp\u001B[49m(out)\n",
      "File \u001B[1;32m~\\anaconda3\\envs\\watai\\lib\\site-packages\\torch\\nn\\modules\\module.py:1194\u001B[0m, in \u001B[0;36mModule.__getattr__\u001B[1;34m(self, name)\u001B[0m\n\u001B[0;32m   1191\u001B[0m     \u001B[38;5;28;01mif\u001B[39;00m \u001B[38;5;124m'\u001B[39m\u001B[38;5;124m_is_full_backward_hook\u001B[39m\u001B[38;5;124m'\u001B[39m \u001B[38;5;129;01mnot\u001B[39;00m \u001B[38;5;129;01min\u001B[39;00m \u001B[38;5;28mself\u001B[39m\u001B[38;5;241m.\u001B[39m\u001B[38;5;18m__dict__\u001B[39m:\n\u001B[0;32m   1192\u001B[0m         \u001B[38;5;28mself\u001B[39m\u001B[38;5;241m.\u001B[39m_is_full_backward_hook \u001B[38;5;241m=\u001B[39m \u001B[38;5;28;01mNone\u001B[39;00m\n\u001B[1;32m-> 1194\u001B[0m \u001B[38;5;28;01mdef\u001B[39;00m \u001B[38;5;21m__getattr__\u001B[39m(\u001B[38;5;28mself\u001B[39m, name: \u001B[38;5;28mstr\u001B[39m) \u001B[38;5;241m-\u001B[39m\u001B[38;5;241m>\u001B[39m Union[Tensor, \u001B[38;5;124m'\u001B[39m\u001B[38;5;124mModule\u001B[39m\u001B[38;5;124m'\u001B[39m]:\n\u001B[0;32m   1195\u001B[0m     \u001B[38;5;28;01mif\u001B[39;00m \u001B[38;5;124m'\u001B[39m\u001B[38;5;124m_parameters\u001B[39m\u001B[38;5;124m'\u001B[39m \u001B[38;5;129;01min\u001B[39;00m \u001B[38;5;28mself\u001B[39m\u001B[38;5;241m.\u001B[39m\u001B[38;5;18m__dict__\u001B[39m:\n\u001B[0;32m   1196\u001B[0m         _parameters \u001B[38;5;241m=\u001B[39m \u001B[38;5;28mself\u001B[39m\u001B[38;5;241m.\u001B[39m\u001B[38;5;18m__dict__\u001B[39m[\u001B[38;5;124m'\u001B[39m\u001B[38;5;124m_parameters\u001B[39m\u001B[38;5;124m'\u001B[39m]\n",
      "\u001B[1;31mKeyboardInterrupt\u001B[0m: "
     ]
    }
   ],
   "source": [
    "train_hist = []\n",
    "val_hist = []\n",
    "\n",
    "for epoch in range(1, 201):\n",
    "    s = time.time()\n",
    "    loss = train(model, train_dl, criterion, optimizer)\n",
    "    train_score = evaluate(model, train_dl)\n",
    "    val_score = evaluate(model, val_dl)\n",
    "    scheduler.step(loss)\n",
    "    e = time.time()\n",
    "\n",
    "    train_hist.append(train_score)\n",
    "    val_hist.append(val_score)\n",
    "\n",
    "    if sum(val_score) > (.77 + .44) and sum(val_score) >= np.asarray(val_hist).sum(axis=1).max():\n",
    "        print(\"saving...\")\n",
    "        torch.save(model.state_dict(), './models/BestModel5.pt')\n",
    "\n",
    "    # print(f'Epoch: {epoch:03d}, Loss: {loss:.05f}, Train Score: {train_score:.05f}, Val Score: {val_score:.05f}, Time: {e - s:.05f}s')\n",
    "    print(f'Epoch: {epoch:03d}, Loss: {loss:.05f}, Train Score: {train_score}, Val Score: {val_score}, Time: {e - s:.05f}s')"
   ],
   "metadata": {
    "collapsed": false
   }
  },
  {
   "cell_type": "code",
   "execution_count": 23,
   "outputs": [
    {
     "data": {
      "text/plain": "<Figure size 640x480 with 1 Axes>",
      "image/png": "[encoded data removed]"
     },
     "metadata": {},
     "output_type": "display_data"
    }
   ],
   "source": [
    "import matplotlib.pyplot as plt\n",
    "plt.plot(val_hist)\n",
    "plt.plot(train_hist)\n",
    "plt.show()"
   ],
   "metadata": {
    "collapsed": false
   }
  },
  {
   "cell_type": "code",
   "execution_count": 24,
   "outputs": [
    {
     "name": "stdout",
     "output_type": "stream",
     "text": [
      "(array([0.98893793, 0.23524293]), array([0.93027899, 0.67330843]), array([0.95871203, 0.34866724]), array([75630,  2409], dtype=int64))\n"
     ]
    },
    {
     "data": {
      "text/plain": "(0.8017937082759696, 0.4593180288156908)"
     },
     "execution_count": 24,
     "metadata": {},
     "output_type": "execute_result"
    }
   ],
   "source": [
    "evaluate(model, test_dl)"
   ],
   "metadata": {
    "collapsed": false
   }
  },
  {
   "cell_type": "code",
   "execution_count": 25,
   "outputs": [
    {
     "name": "stdout",
     "output_type": "stream",
     "text": [
      "(array([0.99151131, 0.17061171]), array([0.88185905, 0.76297219]), array([0.93347609, 0.27886512]), array([75630,  2409], dtype=int64))\n"
     ]
    },
    {
     "data": {
      "text/plain": "(0.8224156191355009, 0.47045037824720076)"
     },
     "execution_count": 25,
     "metadata": {},
     "output_type": "execute_result"
    }
   ],
   "source": [
    "model.load_state_dict(torch.load('./models/BestModel5.pt'))\n",
    "evaluate(model, test_dl)"
   ],
   "metadata": {
    "collapsed": false
   }
  },
  {
   "cell_type": "code",
   "execution_count": null,
   "outputs": [],
   "source": [
    "data = test_dl.dataset[4].to(device)"
   ],
   "metadata": {
    "collapsed": false
   }
  },
  {
   "cell_type": "code",
   "execution_count": null,
   "outputs": [],
   "source": [
    "pred = model(data)"
   ],
   "metadata": {
    "collapsed": false
   }
  },
  {
   "cell_type": "code",
   "execution_count": null,
   "outputs": [],
   "source": [
    "out = torch.sigmoid(pred).round()\n",
    "out"
   ],
   "metadata": {
    "collapsed": false
   }
  },
  {
   "cell_type": "code",
   "execution_count": null,
   "outputs": [],
   "source": [
    "print(out.sum())\n",
    "print(len(out))"
   ],
   "metadata": {
    "collapsed": false
   }
  },
  {
   "cell_type": "code",
   "execution_count": null,
   "outputs": [],
   "source": [
    "len(data.y) / data.y.sum()"
   ],
   "metadata": {
    "collapsed": false
   }
  },
  {
   "cell_type": "code",
   "execution_count": null,
   "outputs": [],
   "source": [
    "data.y.sum()"
   ],
   "metadata": {
    "collapsed": false
   }
  },
  {
   "cell_type": "code",
   "execution_count": null,
   "outputs": [],
   "source": [
    "f1_score(data.y.detach().cpu().numpy(), out.detach().cpu().numpy())"
   ],
   "metadata": {
    "collapsed": false
   }
  },
  {
   "cell_type": "code",
   "execution_count": null,
   "outputs": [],
   "source": [
    "torch.save(model.state_dict(), './models/modelBest.pt')"
   ],
   "metadata": {
    "collapsed": false
   }
  },
  {
   "cell_type": "code",
   "execution_count": null,
   "outputs": [],
   "source": [],
   "metadata": {
    "collapsed": false
   }
  }
 ],
 "metadata": {
  "kernelspec": {
   "display_name": "Python 3",
   "language": "python",
   "name": "python3"
  },
  "language_info": {
   "codemirror_mode": {
    "name": "ipython",
    "version": 2
   },
   "file_extension": ".py",
   "mimetype": "text/x-python",
   "name": "python",
   "nbconvert_exporter": "python",
   "pygments_lexer": "ipython2",
   "version": "2.7.6"
  }
 },
 "nbformat": 4,
 "nbformat_minor": 0
}
