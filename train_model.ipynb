{
 "cells": [
  {
   "cell_type": "markdown",
   "source": [
    "Next steps:\n",
    "1. Add a \"master node\" that connects all nodes together, so that message passing works between all nodes"
   ],
   "metadata": {
    "collapsed": false
   }
  },
  {
   "cell_type": "code",
   "execution_count": 1,
   "metadata": {
    "collapsed": true
   },
   "outputs": [],
   "source": [
    "import pandas as pd\n",
    "\n",
    "from EmbedDataset import LigandBinaryDataset\n",
    "\n",
    "import time\n",
    "import numpy as np\n",
    "import torch\n",
    "from torch_geometric.loader import DataLoader"
   ]
  },
  {
   "cell_type": "code",
   "execution_count": 2,
   "outputs": [],
   "source": [
    "dataset = LigandBinaryDataset('./data2/')"
   ],
   "metadata": {
    "collapsed": false
   }
  },
  {
   "cell_type": "code",
   "execution_count": 3,
   "outputs": [],
   "source": [
    "dataset = dataset.shuffle()\n",
    "train_dataset = dataset[:int(len(dataset) * 0.7)]\n",
    "val_dataset = dataset[int(len(dataset) * 0.7):int(len(dataset) * 0.85)]\n",
    "test_dataset = dataset[int(len(dataset) * 0.85):]"
   ],
   "metadata": {
    "collapsed": false
   }
  },
  {
   "cell_type": "code",
   "execution_count": 4,
   "outputs": [],
   "source": [
    "train_dl = DataLoader(train_dataset, batch_size=16)\n",
    "val_dl = DataLoader(val_dataset, batch_size=16)\n",
    "test_dl = DataLoader(test_dataset, batch_size=16)"
   ],
   "metadata": {
    "collapsed": false
   }
  },
  {
   "cell_type": "code",
   "execution_count": 5,
   "outputs": [],
   "source": [
    "from LigandGNNV2 import LigandGNNV2\n",
    "from LigandGNNV1 import LigandGNNV1\n",
    "from sagn.models import SAGN\n",
    "\n",
    "device = torch.device('cuda')\n",
    "# model = LigandGNNV1(dataset.num_node_features, 1).to(device)\n",
    "model = LigandGNNV2(128, 45).to(device)\n",
    "# model = SAGN(in_feats=1070, hidden=1024, out_feats=1, num_hops=5, n_layers=2, num_heads=10).to(device)\n",
    "\n",
    "optimizer = torch.optim.AdamW(model.parameters(), lr=0.001, weight_decay=.1)\n",
    "scheduler = torch.optim.lr_scheduler.ReduceLROnPlateau(optimizer, mode='min')\n",
    "criterion = torch.nn.BCEWithLogitsLoss(pos_weight=torch.FloatTensor([22]).to(device))"
   ],
   "metadata": {
    "collapsed": false
   }
  },
  {
   "cell_type": "code",
   "execution_count": 6,
   "outputs": [],
   "source": [
    "def train(model, loader, criterion, optimizer):\n",
    "    model.train()\n",
    "\n",
    "    loss_acc = 0.\n",
    "    for data in loader:\n",
    "        data = data.to(device)\n",
    "        optimizer.zero_grad()\n",
    "        output = model(data)\n",
    "        label = data.y\n",
    "\n",
    "        loss = criterion(output, label.reshape(-1, 1))\n",
    "        loss.backward()\n",
    "        loss_acc += data.num_graphs * loss.item()\n",
    "        optimizer.step()\n",
    "\n",
    "    return loss_acc / len(loader.dataset)"
   ],
   "metadata": {
    "collapsed": false
   }
  },
  {
   "cell_type": "code",
   "execution_count": 7,
   "outputs": [],
   "source": [
    "from sklearn.metrics import f1_score, precision_recall_curve, roc_curve, auc, precision_recall_fscore_support, roc_auc_score\n",
    "\n",
    "def evaluate(model, loader):\n",
    "    model.eval()\n",
    "\n",
    "    preds = np.asarray([])\n",
    "    labels = np.asarray([])\n",
    "\n",
    "    with torch.no_grad():\n",
    "        for data in loader:\n",
    "            data = data.to(device)\n",
    "            pred = torch.sigmoid(model(data).round().squeeze().cpu()).round().numpy()\n",
    "            label = data.y.cpu().numpy()\n",
    "\n",
    "            preds = np.concatenate([preds, pred])\n",
    "            labels = np.concatenate([labels, label])\n",
    "\n",
    "    precision, recall, _ = precision_recall_curve(labels, preds)\n",
    "    fpr, tpr, thresholds = roc_curve(labels, preds, pos_label=1)\n",
    "    print(precision_recall_fscore_support(labels, preds))\n",
    "    return auc(fpr, tpr), auc(recall, precision)\n",
    "    return roc_auc_score(labels, preds)"
   ],
   "metadata": {
    "collapsed": false
   }
  },
  {
   "cell_type": "code",
   "execution_count": 8,
   "outputs": [
    {
     "name": "stderr",
     "output_type": "stream",
     "text": [
      "C:\\Users\\billb\\anaconda3\\envs\\watai\\lib\\site-packages\\sklearn\\metrics\\_classification.py:1344: UndefinedMetricWarning: Precision and F-score are ill-defined and being set to 0.0 in labels with no predicted samples. Use `zero_division` parameter to control this behavior.\n",
      "  _warn_prf(average, modifier, msg_start, len(result))\n"
     ]
    },
    {
     "name": "stdout",
     "output_type": "stream",
     "text": [
      "(array([0.96599956, 0.        ]), array([1., 0.]), array([0.98270578, 0.        ]), array([336334,  11838], dtype=int64))\n"
     ]
    },
    {
     "name": "stderr",
     "output_type": "stream",
     "text": [
      "C:\\Users\\billb\\anaconda3\\envs\\watai\\lib\\site-packages\\sklearn\\metrics\\_classification.py:1344: UndefinedMetricWarning: Precision and F-score are ill-defined and being set to 0.0 in labels with no predicted samples. Use `zero_division` parameter to control this behavior.\n",
      "  _warn_prf(average, modifier, msg_start, len(result))\n"
     ]
    },
    {
     "name": "stdout",
     "output_type": "stream",
     "text": [
      "(array([0.96236352, 0.        ]), array([1., 0.]), array([0.98082084, 0.        ]), array([72363,  2830], dtype=int64))\n",
      "Epoch: 001, Loss: 1.19197, Train Score: (0.5, 0.5170002182829176), Val Score: (0.5, 0.5188182410596731), Time: 17.17372s\n",
      "(array([0.98593729, 0.09878442]), array([0.78045039, 0.68373036]), array([0.87124152, 0.17262781]), array([336334,  11838], dtype=int64))\n",
      "(array([0.98412362, 0.10399612]), array([0.77008969, 0.68233216]), array([0.86404937, 0.18048416]), array([72363,  2830], dtype=int64))\n",
      "Epoch: 002, Loss: 1.04007, Train Score: (0.7320903727433279, 0.39663404140073144), Val Score: (0.7262109210976911, 0.3991420889941815), Time: 13.03200s\n",
      "(array([0.9848014 , 0.12765628]), array([0.84901913, 0.62772428]), array([0.91188338, 0.21216577]), array([336334,  11838], dtype=int64))\n",
      "(array([0.98227007, 0.13404305]), array([0.84599865, 0.60954064]), array([0.90905581, 0.21975922]), array([72363,  2830], dtype=int64))\n",
      "Epoch: 003, Loss: 0.95314, Train Score: (0.738371703771609, 0.38401904986180097), Val Score: (0.7277696408795682, 0.37913960105014766), Time: 12.78600s\n",
      "(array([0.98579188, 0.16818608]), array([0.88931538, 0.63583376]), array([0.93507172, 0.26600933]), array([336334,  11838], dtype=int64))\n",
      "(array([0.9824548 , 0.16963656]), array([0.8860191 , 0.59540636]), array([0.93174833, 0.2640445 ]), array([72363,  2830], dtype=int64))\n",
      "Epoch: 004, Loss: 0.87265, Train Score: (0.7625745693124523, 0.40820082545805464), Val Score: (0.7407127292909633, 0.39013520334546636), Time: 12.69000s\n",
      "(array([0.98358231, 0.23201268]), array([0.93516267, 0.55651292]), array([0.95876155, 0.32749236]), array([336334,  11838], dtype=int64))\n",
      "(array([0.98056406, 0.23666667]), array([0.93354339, 0.52685512]), array([0.95647619, 0.32661555]), array([72363,  2830], dtype=int64))\n",
      "Epoch: 005, Loss: 0.81181, Train Score: (0.7458377950820018, 0.40180217847394334), Val Score: (0.7301992545533464, 0.3906646495096239), Time: 13.72500s\n",
      "(array([0.98800415, 0.20047234]), array([0.90336986, 0.68837641]), array([0.94379342, 0.31051498]), array([336334,  11838], dtype=int64))\n",
      "(array([0.98376344, 0.19411895]), array([0.89925791, 0.6204947 ]), array([0.93961447, 0.29572247]), array([72363,  2830], dtype=int64))\n",
      "Epoch: 006, Loss: 0.78691, Train Score: (0.7958731397074533, 0.4497220446071075), Val Score: (0.7598763038467866, 0.4144484458493694), Time: 12.54900s\n",
      "(array([0.99096467, 0.16368068]), array([0.86023715, 0.7771583 ]), array([0.92098507, 0.27040929]), array([336334,  11838], dtype=int64))\n",
      "(array([0.98625038, 0.15337376]), array([0.84949491, 0.69717314]), array([0.91277878, 0.25143367]), array([72363,  2830], dtype=int64))\n",
      "Epoch: 007, Loss: 0.72306, Train Score: (0.8186977244931346, 0.47420784953340483), Val Score: (0.7733340262474296, 0.43097211930667534), Time: 12.76400s\n",
      "(array([0.98910445, 0.21495612]), array([0.90798433, 0.71583038]), array([0.94681003, 0.33062817]), array([336334,  11838], dtype=int64))\n",
      "(array([0.98442203, 0.19836897]), array([0.89947902, 0.6360424 ]), array([0.94003553, 0.30241935]), array([72363,  2830], dtype=int64))\n",
      "Epoch: 008, Loss: 0.68160, Train Score: (0.8119073509291155, 0.47022419193818377), Val Score: (0.7677607091729179, 0.4240547263511691), Time: 13.02500s\n",
      "(array([0.99224312, 0.18418614]), array([0.87437785, 0.8057949 ]), array([0.92958926, 0.29983655]), array([336334,  11838], dtype=int64))\n",
      "(array([0.98706958, 0.16663909]), array([0.86081285, 0.71166078]), array([0.91962796, 0.27004559]), array([72363,  2830], dtype=int64))\n",
      "saving...\n",
      "Epoch: 009, Loss: 0.66367, Train Score: (0.840086374187893, 0.49829204618255146), Val Score: (0.7862368118646426, 0.444575968963913), Time: 12.78900s\n",
      "(array([0.99443417, 0.15334667]), array([0.83136109, 0.86779861]), array([0.9056151 , 0.26063681]), array([336334,  11838], dtype=int64))\n",
      "(array([0.98890977, 0.13911872]), array([0.81451847, 0.7664311 ]), array([0.89328231, 0.2354921 ]), array([72363,  2830], dtype=int64))\n",
      "saving...\n",
      "Epoch: 010, Loss: 0.64454, Train Score: (0.8495798510606306, 0.5128200938534528), Val Score: (0.7904747823949426, 0.4571702648237728), Time: 12.97600s\n",
      "(array([0.99469169, 0.14893892]), array([0.8240053 , 0.87506336]), array([0.90133896, 0.25455216]), array([336334,  11838], dtype=int64))\n",
      "(array([0.98857734, 0.13253456]), array([0.80490029, 0.76219081]), array([0.88733328, 0.22580476]), array([72363,  2830], dtype=int64))\n",
      "Epoch: 011, Loss: 0.62548, Train Score: (0.849534329773817, 0.5141250895774688), Val Score: (0.7835455535350851, 0.45183783807883887), Time: 12.77800s\n",
      "(array([0.98497569, 0.313078  ]), array([0.95472655, 0.58624768]), array([0.96961526, 0.40817527]), array([336334,  11838], dtype=int64))\n",
      "(array([0.97955731, 0.28701031]), array([0.95221315, 0.49187279]), array([0.9656917, 0.3625   ]), array([72363,  2830], dtype=int64))\n",
      "Epoch: 012, Loss: 0.62980, Train Score: (0.7704871142775573, 0.4566967177063059), Val Score: (0.7220429695612458, 0.3990036106970586), Time: 12.65100s\n",
      "(array([0.99257721, 0.19591388]), array([0.88263155, 0.81246832]), array([0.93438126, 0.31570137]), array([336334,  11838], dtype=int64))\n",
      "(array([0.986217  , 0.17601302]), array([0.87410693, 0.68763251]), array([0.92678388, 0.2802823 ]), array([72363,  2830], dtype=int64))\n",
      "Epoch: 013, Loss: 0.61967, Train Score: (0.847549936565814, 0.5073791795019784), Val Score: (0.7808697209675465, 0.43770097346594267), Time: 13.28400s\n",
      "(array([0.98849065, 0.29561369]), array([0.94227464, 0.68829194]), array([0.96482952, 0.41359356]), array([336334,  11838], dtype=int64))\n",
      "(array([0.98217203, 0.26475464]), array([0.93871177, 0.56431095]), array([0.95995026, 0.36041526]), array([72363,  2830], dtype=int64))\n",
      "Epoch: 014, Loss: 0.57240, Train Score: (0.8152832924320388, 0.4972519181494386), Val Score: (0.7515113633272846, 0.4227316994801994), Time: 13.21900s\n",
      "(array([0.99155944, 0.26240689]), array([0.92315377, 0.77673594]), array([0.95613466, 0.39228652]), array([336334,  11838], dtype=int64))\n",
      "(array([0.98448028, 0.232455  ]), array([0.91868773, 0.62968198]), array([0.95044678, 0.33955793]), array([72363,  2830], dtype=int64))\n",
      "Epoch: 015, Loss: 0.55105, Train Score: (0.8499448524443778, 0.5233669527899087), Val Score: (0.774184852975983, 0.43803722123431077), Time: 12.56800s\n",
      "(array([0.98609525, 0.35378413]), array([0.96044706, 0.61522217]), array([0.97310218, 0.44923513]), array([336334,  11838], dtype=int64))\n",
      "(array([0.97975674, 0.31721163]), array([0.95844561, 0.49363958]), array([0.96898402, 0.38623168]), array([72363,  2830], dtype=int64))\n",
      "Epoch: 016, Loss: 0.54484, Train Score: (0.7878346107559214, 0.4910444526900139), Val Score: (0.7260425952216079, 0.41495441340567396), Time: 12.82400s\n",
      "(array([0.99004834, 0.28873943]), array([0.93648576, 0.73255618]), array([0.96252246, 0.41421475]), array([336334,  11838], dtype=int64))\n",
      "(array([0.98282132, 0.25585725]), array([0.93372304, 0.58268551]), array([0.95764327, 0.35557951]), array([72363,  2830], dtype=int64))\n",
      "Epoch: 017, Loss: 0.55508, Train Score: (0.8345209651304863, 0.5151944052414651), Val Score: (0.7582042738101568, 0.42712450765222176), Time: 12.70000s\n",
      "(array([0.98893502, 0.23560342]), array([0.91917261, 0.70780537]), array([0.95277852, 0.35352939]), array([336334,  11838], dtype=int64))\n",
      "(array([0.98050325, 0.19915701]), array([0.91597916, 0.53427562]), array([0.94714355, 0.29015544]), array([72363,  2830], dtype=int64))\n",
      "Epoch: 018, Loss: 0.54717, Train Score: (0.8134889903551484, 0.4766717683066435), Val Score: (0.7251273894976588, 0.3754804265561666), Time: 12.68800s\n",
      "(array([0.98826883, 0.28614405]), array([0.94002985, 0.6829701 ]), array([0.96354596, 0.4033123 ]), array([336334,  11838], dtype=int64))\n",
      "(array([0.98129409, 0.25527672]), array([0.93807609, 0.54275618]), array([0.95919852, 0.34723635]), array([72363,  2830], dtype=int64))\n",
      "Epoch: 019, Loss: 0.63283, Train Score: (0.8114999737894195, 0.4899466483659951), Val Score: (0.7404161361772013, 0.4076209742158192), Time: 12.53000s\n",
      "(array([0.98947245, 0.26254279]), array([0.92889509, 0.71920933]), array([0.95822733, 0.38466578]), array([336334,  11838], dtype=int64))\n",
      "(array([0.98196692, 0.22906228]), array([0.92558352, 0.56537102]), array([0.95294193, 0.32603158]), array([72363,  2830], dtype=int64))\n",
      "Epoch: 020, Loss: 0.54846, Train Score: (0.8240522061657924, 0.495649558590417), Val Score: (0.7454772705864705, 0.40539560334873237), Time: 13.08500s\n",
      "(array([0.99061565, 0.26686895]), array([0.92744415, 0.75038013]), array([0.95798962, 0.3937151 ]), array([336334,  11838], dtype=int64))\n",
      "(array([0.9826688 , 0.23390071]), array([0.92536241, 0.58268551]), array([0.95315503, 0.33380567]), array([72363,  2830], dtype=int64))\n",
      "Epoch: 021, Loss: 0.55497, Train Score: (0.8389121397803431, 0.5128681350942975), Val Score: (0.7540239606666996, 0.4161462354196372), Time: 12.78700s\n",
      "(array([0.99396281, 0.21229133]), array([0.88944621, 0.84651124]), array([0.93880452, 0.33945327]), array([336334,  11838], dtype=int64))\n",
      "(array([0.98575424, 0.1880249 ]), array([0.88643367, 0.67243816]), array([0.93345945, 0.29387692]), array([72363,  2830], dtype=int64))\n",
      "Epoch: 022, Loss: 0.54889, Train Score: (0.8679787201330801, 0.5320106256333891), Val Score: (0.7794359186060815, 0.43639566825398934), Time: 13.10000s\n",
      "(array([0.993179  , 0.24079019]), array([0.90870087, 0.82268964]), array([0.94906375, 0.37254227]), array([336334,  11838], dtype=int64))\n",
      "(array([0.98464243, 0.20911404]), array([0.90550419, 0.63886926]), array([0.9434166 , 0.31509237]), array([72363,  2830], dtype=int64))\n",
      "Epoch: 023, Loss: 0.50743, Train Score: (0.865695259123292, 0.5347542312185598), Val Score: (0.7721867260414452, 0.43078749492076546), Time: 12.76500s\n",
      "(array([0.99446686, 0.24347617]), array([0.90630445, 0.85673256]), array([0.94834106, 0.3791898 ]), array([336334,  11838], dtype=int64))\n",
      "(array([0.98522606, 0.20880361]), array([0.90312729, 0.65371025]), array([0.94239199, 0.31650984]), array([72363,  2830], dtype=int64))\n",
      "Epoch: 024, Loss: 0.49937, Train Score: (0.8815185017699257, 0.5525399425696409), Val Score: (0.7784187680788197, 0.4377734935858518), Time: 12.95300s\n",
      "(array([0.99328279, 0.29063303]), array([0.92943324, 0.82142254]), array([0.96029786, 0.42935359]), array([336334,  11838], dtype=int64))\n",
      "(array([0.98386529, 0.24859813]), array([0.92778077, 0.61095406]), array([0.95500032, 0.35339806]), array([72363,  2830], dtype=int64))\n",
      "Epoch: 025, Loss: 0.47812, Train Score: (0.8754278897733611, 0.5590636408660727), Val Score: (0.7693674177728511, 0.4370972574370626), Time: 12.68200s\n",
      "(array([0.99436628, 0.2389276 ]), array([0.90420237, 0.85445177]), array([0.94714336, 0.37343326]), array([336334,  11838], dtype=int64))\n",
      "(array([0.98544592, 0.20684689]), array([0.90106823, 0.65971731]), array([0.9413701 , 0.31494602]), array([72363,  2830], dtype=int64))\n",
      "Epoch: 026, Loss: 0.46553, Train Score: (0.8793270678819113, 0.5491640351454122), Val Score: (0.7803927699809886, 0.4396856222339954), Time: 12.73901s\n",
      "(array([0.99379709, 0.262013  ]), array([0.91698431, 0.83738807]), array([0.95384677, 0.39913835]), array([336334,  11838], dtype=int64))\n",
      "(array([0.98486135, 0.22450495]), array([0.91340879, 0.6409894 ]), array([0.9477903 , 0.33253896]), array([72363,  2830], dtype=int64))\n",
      "Epoch: 027, Loss: 0.47431, Train Score: (0.8771861897877516, 0.5524649765089692), Val Score: (0.7771990927757284, 0.43950312292124494), Time: 12.72000s\n",
      "(array([0.99447696, 0.23858214]), array([0.903688  , 0.85740835]), array([0.94691127, 0.37329214]), array([336334,  11838], dtype=int64))\n",
      "(array([0.98535809, 0.20221306]), array([0.89837348, 0.65865724]), array([0.93985745, 0.30942895]), array([72363,  2830], dtype=int64))\n",
      "Epoch: 028, Loss: 0.45425, Train Score: (0.8805481733114128, 0.5504193324567596), Val Score: (0.778515360987491, 0.4368586228787689), Time: 12.79800s\n",
      "(array([0.99543451, 0.27568783]), array([0.9185958 , 0.88030073]), array([0.95547281, 0.41987993]), array([336334,  11838], dtype=int64))\n",
      "(array([0.98567442, 0.22860636]), array([0.91280074, 0.66077739]), array([0.94783894, 0.33969119]), array([72363,  2830], dtype=int64))\n",
      "Epoch: 029, Loss: 0.41682, Train Score: (0.8994482635385194, 0.5800291923591963), Val Score: (0.786789062934521, 0.45107544400258326), Time: 12.64400s\n",
      "(array([0.99579402, 0.27452769]), array([0.91722514, 0.88993073]), array([0.95489614, 0.41961245]), array([336334,  11838], dtype=int64))\n",
      "(array([0.98558103, 0.22210326]), array([0.90963614, 0.65971731]), array([0.94608696, 0.33232467]), array([72363,  2830], dtype=int64))\n",
      "Epoch: 030, Loss: 0.43645, Train Score: (0.9035779354192736, 0.5841004110094723), Val Score: (0.7846767272519696, 0.4473138086364674), Time: 12.79422s\n",
      "(array([0.99540517, 0.28003766]), array([0.92043326, 0.87928704]), array([0.95645229, 0.42478779]), array([336334,  11838], dtype=int64))\n",
      "(array([0.98574116, 0.22818547]), array([0.91235853, 0.66254417]), array([0.94763132, 0.33945868]), array([72363,  2830], dtype=int64))\n",
      "Epoch: 031, Loss: 0.45314, Train Score: (0.8998601507626721, 0.5817144998968912), Val Score: (0.7874513476886188, 0.4517151445435626), Time: 12.81100s\n"
     ]
    },
    {
     "ename": "KeyboardInterrupt",
     "evalue": "",
     "output_type": "error",
     "traceback": [
      "\u001B[1;31m---------------------------------------------------------------------------\u001B[0m",
      "\u001B[1;31mKeyboardInterrupt\u001B[0m                         Traceback (most recent call last)",
      "Cell \u001B[1;32mIn[8], line 6\u001B[0m\n\u001B[0;32m      4\u001B[0m \u001B[38;5;28;01mfor\u001B[39;00m epoch \u001B[38;5;129;01min\u001B[39;00m \u001B[38;5;28mrange\u001B[39m(\u001B[38;5;241m1\u001B[39m, \u001B[38;5;241m201\u001B[39m):\n\u001B[0;32m      5\u001B[0m     s \u001B[38;5;241m=\u001B[39m time\u001B[38;5;241m.\u001B[39mtime()\n\u001B[1;32m----> 6\u001B[0m     loss \u001B[38;5;241m=\u001B[39m \u001B[43mtrain\u001B[49m\u001B[43m(\u001B[49m\u001B[43mmodel\u001B[49m\u001B[43m,\u001B[49m\u001B[43m \u001B[49m\u001B[43mtrain_dl\u001B[49m\u001B[43m,\u001B[49m\u001B[43m \u001B[49m\u001B[43mcriterion\u001B[49m\u001B[43m,\u001B[49m\u001B[43m \u001B[49m\u001B[43moptimizer\u001B[49m\u001B[43m)\u001B[49m\n\u001B[0;32m      7\u001B[0m     train_score \u001B[38;5;241m=\u001B[39m evaluate(model, train_dl)\n\u001B[0;32m      8\u001B[0m     val_score \u001B[38;5;241m=\u001B[39m evaluate(model, val_dl)\n",
      "Cell \u001B[1;32mIn[6], line 14\u001B[0m, in \u001B[0;36mtrain\u001B[1;34m(model, loader, criterion, optimizer)\u001B[0m\n\u001B[0;32m     12\u001B[0m     loss\u001B[38;5;241m.\u001B[39mbackward()\n\u001B[0;32m     13\u001B[0m     loss_acc \u001B[38;5;241m+\u001B[39m\u001B[38;5;241m=\u001B[39m data\u001B[38;5;241m.\u001B[39mnum_graphs \u001B[38;5;241m*\u001B[39m loss\u001B[38;5;241m.\u001B[39mitem()\n\u001B[1;32m---> 14\u001B[0m     \u001B[43moptimizer\u001B[49m\u001B[38;5;241;43m.\u001B[39;49m\u001B[43mstep\u001B[49m\u001B[43m(\u001B[49m\u001B[43m)\u001B[49m\n\u001B[0;32m     16\u001B[0m \u001B[38;5;28;01mreturn\u001B[39;00m loss_acc \u001B[38;5;241m/\u001B[39m \u001B[38;5;28mlen\u001B[39m(loader\u001B[38;5;241m.\u001B[39mdataset)\n",
      "File \u001B[1;32m~\\anaconda3\\envs\\watai\\lib\\site-packages\\torch\\optim\\optimizer.py:113\u001B[0m, in \u001B[0;36mOptimizer._hook_for_profile.<locals>.profile_hook_step.<locals>.wrapper\u001B[1;34m(*args, **kwargs)\u001B[0m\n\u001B[0;32m    111\u001B[0m profile_name \u001B[38;5;241m=\u001B[39m \u001B[38;5;124m\"\u001B[39m\u001B[38;5;124mOptimizer.step#\u001B[39m\u001B[38;5;132;01m{}\u001B[39;00m\u001B[38;5;124m.step\u001B[39m\u001B[38;5;124m\"\u001B[39m\u001B[38;5;241m.\u001B[39mformat(obj\u001B[38;5;241m.\u001B[39m\u001B[38;5;18m__class__\u001B[39m\u001B[38;5;241m.\u001B[39m\u001B[38;5;18m__name__\u001B[39m)\n\u001B[0;32m    112\u001B[0m \u001B[38;5;28;01mwith\u001B[39;00m torch\u001B[38;5;241m.\u001B[39mautograd\u001B[38;5;241m.\u001B[39mprofiler\u001B[38;5;241m.\u001B[39mrecord_function(profile_name):\n\u001B[1;32m--> 113\u001B[0m     \u001B[38;5;28;01mreturn\u001B[39;00m func(\u001B[38;5;241m*\u001B[39margs, \u001B[38;5;241m*\u001B[39m\u001B[38;5;241m*\u001B[39mkwargs)\n",
      "File \u001B[1;32m~\\anaconda3\\envs\\watai\\lib\\site-packages\\torch\\autograd\\grad_mode.py:27\u001B[0m, in \u001B[0;36m_DecoratorContextManager.__call__.<locals>.decorate_context\u001B[1;34m(*args, **kwargs)\u001B[0m\n\u001B[0;32m     24\u001B[0m \u001B[38;5;129m@functools\u001B[39m\u001B[38;5;241m.\u001B[39mwraps(func)\n\u001B[0;32m     25\u001B[0m \u001B[38;5;28;01mdef\u001B[39;00m \u001B[38;5;21mdecorate_context\u001B[39m(\u001B[38;5;241m*\u001B[39margs, \u001B[38;5;241m*\u001B[39m\u001B[38;5;241m*\u001B[39mkwargs):\n\u001B[0;32m     26\u001B[0m     \u001B[38;5;28;01mwith\u001B[39;00m \u001B[38;5;28mself\u001B[39m\u001B[38;5;241m.\u001B[39mclone():\n\u001B[1;32m---> 27\u001B[0m         \u001B[38;5;28;01mreturn\u001B[39;00m func(\u001B[38;5;241m*\u001B[39margs, \u001B[38;5;241m*\u001B[39m\u001B[38;5;241m*\u001B[39mkwargs)\n",
      "File \u001B[1;32m~\\anaconda3\\envs\\watai\\lib\\site-packages\\torch\\optim\\adamw.py:161\u001B[0m, in \u001B[0;36mAdamW.step\u001B[1;34m(self, closure)\u001B[0m\n\u001B[0;32m    157\u001B[0m             max_exp_avg_sqs\u001B[38;5;241m.\u001B[39mappend(state[\u001B[38;5;124m'\u001B[39m\u001B[38;5;124mmax_exp_avg_sq\u001B[39m\u001B[38;5;124m'\u001B[39m])\n\u001B[0;32m    159\u001B[0m         state_steps\u001B[38;5;241m.\u001B[39mappend(state[\u001B[38;5;124m'\u001B[39m\u001B[38;5;124mstep\u001B[39m\u001B[38;5;124m'\u001B[39m])\n\u001B[1;32m--> 161\u001B[0m     \u001B[43madamw\u001B[49m\u001B[43m(\u001B[49m\u001B[43mparams_with_grad\u001B[49m\u001B[43m,\u001B[49m\n\u001B[0;32m    162\u001B[0m \u001B[43m          \u001B[49m\u001B[43mgrads\u001B[49m\u001B[43m,\u001B[49m\n\u001B[0;32m    163\u001B[0m \u001B[43m          \u001B[49m\u001B[43mexp_avgs\u001B[49m\u001B[43m,\u001B[49m\n\u001B[0;32m    164\u001B[0m \u001B[43m          \u001B[49m\u001B[43mexp_avg_sqs\u001B[49m\u001B[43m,\u001B[49m\n\u001B[0;32m    165\u001B[0m \u001B[43m          \u001B[49m\u001B[43mmax_exp_avg_sqs\u001B[49m\u001B[43m,\u001B[49m\n\u001B[0;32m    166\u001B[0m \u001B[43m          \u001B[49m\u001B[43mstate_steps\u001B[49m\u001B[43m,\u001B[49m\n\u001B[0;32m    167\u001B[0m \u001B[43m          \u001B[49m\u001B[43mamsgrad\u001B[49m\u001B[38;5;241;43m=\u001B[39;49m\u001B[43mamsgrad\u001B[49m\u001B[43m,\u001B[49m\n\u001B[0;32m    168\u001B[0m \u001B[43m          \u001B[49m\u001B[43mbeta1\u001B[49m\u001B[38;5;241;43m=\u001B[39;49m\u001B[43mbeta1\u001B[49m\u001B[43m,\u001B[49m\n\u001B[0;32m    169\u001B[0m \u001B[43m          \u001B[49m\u001B[43mbeta2\u001B[49m\u001B[38;5;241;43m=\u001B[39;49m\u001B[43mbeta2\u001B[49m\u001B[43m,\u001B[49m\n\u001B[0;32m    170\u001B[0m \u001B[43m          \u001B[49m\u001B[43mlr\u001B[49m\u001B[38;5;241;43m=\u001B[39;49m\u001B[43mgroup\u001B[49m\u001B[43m[\u001B[49m\u001B[38;5;124;43m'\u001B[39;49m\u001B[38;5;124;43mlr\u001B[39;49m\u001B[38;5;124;43m'\u001B[39;49m\u001B[43m]\u001B[49m\u001B[43m,\u001B[49m\n\u001B[0;32m    171\u001B[0m \u001B[43m          \u001B[49m\u001B[43mweight_decay\u001B[49m\u001B[38;5;241;43m=\u001B[39;49m\u001B[43mgroup\u001B[49m\u001B[43m[\u001B[49m\u001B[38;5;124;43m'\u001B[39;49m\u001B[38;5;124;43mweight_decay\u001B[39;49m\u001B[38;5;124;43m'\u001B[39;49m\u001B[43m]\u001B[49m\u001B[43m,\u001B[49m\n\u001B[0;32m    172\u001B[0m \u001B[43m          \u001B[49m\u001B[43meps\u001B[49m\u001B[38;5;241;43m=\u001B[39;49m\u001B[43mgroup\u001B[49m\u001B[43m[\u001B[49m\u001B[38;5;124;43m'\u001B[39;49m\u001B[38;5;124;43meps\u001B[39;49m\u001B[38;5;124;43m'\u001B[39;49m\u001B[43m]\u001B[49m\u001B[43m,\u001B[49m\n\u001B[0;32m    173\u001B[0m \u001B[43m          \u001B[49m\u001B[43mmaximize\u001B[49m\u001B[38;5;241;43m=\u001B[39;49m\u001B[43mgroup\u001B[49m\u001B[43m[\u001B[49m\u001B[38;5;124;43m'\u001B[39;49m\u001B[38;5;124;43mmaximize\u001B[39;49m\u001B[38;5;124;43m'\u001B[39;49m\u001B[43m]\u001B[49m\u001B[43m,\u001B[49m\n\u001B[0;32m    174\u001B[0m \u001B[43m          \u001B[49m\u001B[43mforeach\u001B[49m\u001B[38;5;241;43m=\u001B[39;49m\u001B[43mgroup\u001B[49m\u001B[43m[\u001B[49m\u001B[38;5;124;43m'\u001B[39;49m\u001B[38;5;124;43mforeach\u001B[39;49m\u001B[38;5;124;43m'\u001B[39;49m\u001B[43m]\u001B[49m\u001B[43m,\u001B[49m\n\u001B[0;32m    175\u001B[0m \u001B[43m          \u001B[49m\u001B[43mcapturable\u001B[49m\u001B[38;5;241;43m=\u001B[39;49m\u001B[43mgroup\u001B[49m\u001B[43m[\u001B[49m\u001B[38;5;124;43m'\u001B[39;49m\u001B[38;5;124;43mcapturable\u001B[39;49m\u001B[38;5;124;43m'\u001B[39;49m\u001B[43m]\u001B[49m\u001B[43m)\u001B[49m\n\u001B[0;32m    177\u001B[0m \u001B[38;5;28;01mreturn\u001B[39;00m loss\n",
      "File \u001B[1;32m~\\anaconda3\\envs\\watai\\lib\\site-packages\\torch\\optim\\adamw.py:218\u001B[0m, in \u001B[0;36madamw\u001B[1;34m(params, grads, exp_avgs, exp_avg_sqs, max_exp_avg_sqs, state_steps, foreach, capturable, amsgrad, beta1, beta2, lr, weight_decay, eps, maximize)\u001B[0m\n\u001B[0;32m    215\u001B[0m \u001B[38;5;28;01melse\u001B[39;00m:\n\u001B[0;32m    216\u001B[0m     func \u001B[38;5;241m=\u001B[39m _single_tensor_adamw\n\u001B[1;32m--> 218\u001B[0m \u001B[43mfunc\u001B[49m\u001B[43m(\u001B[49m\u001B[43mparams\u001B[49m\u001B[43m,\u001B[49m\n\u001B[0;32m    219\u001B[0m \u001B[43m     \u001B[49m\u001B[43mgrads\u001B[49m\u001B[43m,\u001B[49m\n\u001B[0;32m    220\u001B[0m \u001B[43m     \u001B[49m\u001B[43mexp_avgs\u001B[49m\u001B[43m,\u001B[49m\n\u001B[0;32m    221\u001B[0m \u001B[43m     \u001B[49m\u001B[43mexp_avg_sqs\u001B[49m\u001B[43m,\u001B[49m\n\u001B[0;32m    222\u001B[0m \u001B[43m     \u001B[49m\u001B[43mmax_exp_avg_sqs\u001B[49m\u001B[43m,\u001B[49m\n\u001B[0;32m    223\u001B[0m \u001B[43m     \u001B[49m\u001B[43mstate_steps\u001B[49m\u001B[43m,\u001B[49m\n\u001B[0;32m    224\u001B[0m \u001B[43m     \u001B[49m\u001B[43mamsgrad\u001B[49m\u001B[38;5;241;43m=\u001B[39;49m\u001B[43mamsgrad\u001B[49m\u001B[43m,\u001B[49m\n\u001B[0;32m    225\u001B[0m \u001B[43m     \u001B[49m\u001B[43mbeta1\u001B[49m\u001B[38;5;241;43m=\u001B[39;49m\u001B[43mbeta1\u001B[49m\u001B[43m,\u001B[49m\n\u001B[0;32m    226\u001B[0m \u001B[43m     \u001B[49m\u001B[43mbeta2\u001B[49m\u001B[38;5;241;43m=\u001B[39;49m\u001B[43mbeta2\u001B[49m\u001B[43m,\u001B[49m\n\u001B[0;32m    227\u001B[0m \u001B[43m     \u001B[49m\u001B[43mlr\u001B[49m\u001B[38;5;241;43m=\u001B[39;49m\u001B[43mlr\u001B[49m\u001B[43m,\u001B[49m\n\u001B[0;32m    228\u001B[0m \u001B[43m     \u001B[49m\u001B[43mweight_decay\u001B[49m\u001B[38;5;241;43m=\u001B[39;49m\u001B[43mweight_decay\u001B[49m\u001B[43m,\u001B[49m\n\u001B[0;32m    229\u001B[0m \u001B[43m     \u001B[49m\u001B[43meps\u001B[49m\u001B[38;5;241;43m=\u001B[39;49m\u001B[43meps\u001B[49m\u001B[43m,\u001B[49m\n\u001B[0;32m    230\u001B[0m \u001B[43m     \u001B[49m\u001B[43mmaximize\u001B[49m\u001B[38;5;241;43m=\u001B[39;49m\u001B[43mmaximize\u001B[49m\u001B[43m,\u001B[49m\n\u001B[0;32m    231\u001B[0m \u001B[43m     \u001B[49m\u001B[43mcapturable\u001B[49m\u001B[38;5;241;43m=\u001B[39;49m\u001B[43mcapturable\u001B[49m\u001B[43m)\u001B[49m\n",
      "File \u001B[1;32m~\\anaconda3\\envs\\watai\\lib\\site-packages\\torch\\optim\\adamw.py:263\u001B[0m, in \u001B[0;36m_single_tensor_adamw\u001B[1;34m(params, grads, exp_avgs, exp_avg_sqs, max_exp_avg_sqs, state_steps, amsgrad, beta1, beta2, lr, weight_decay, eps, maximize, capturable)\u001B[0m\n\u001B[0;32m    260\u001B[0m step_t \u001B[38;5;241m+\u001B[39m\u001B[38;5;241m=\u001B[39m \u001B[38;5;241m1\u001B[39m\n\u001B[0;32m    262\u001B[0m \u001B[38;5;66;03m# Perform stepweight decay\u001B[39;00m\n\u001B[1;32m--> 263\u001B[0m \u001B[43mparam\u001B[49m\u001B[38;5;241;43m.\u001B[39;49m\u001B[43mmul_\u001B[49m\u001B[43m(\u001B[49m\u001B[38;5;241;43m1\u001B[39;49m\u001B[43m \u001B[49m\u001B[38;5;241;43m-\u001B[39;49m\u001B[43m \u001B[49m\u001B[43mlr\u001B[49m\u001B[43m \u001B[49m\u001B[38;5;241;43m*\u001B[39;49m\u001B[43m \u001B[49m\u001B[43mweight_decay\u001B[49m\u001B[43m)\u001B[49m\n\u001B[0;32m    265\u001B[0m \u001B[38;5;66;03m# Decay the first and second moment running average coefficient\u001B[39;00m\n\u001B[0;32m    266\u001B[0m exp_avg\u001B[38;5;241m.\u001B[39mmul_(beta1)\u001B[38;5;241m.\u001B[39madd_(grad, alpha\u001B[38;5;241m=\u001B[39m\u001B[38;5;241m1\u001B[39m \u001B[38;5;241m-\u001B[39m beta1)\n",
      "\u001B[1;31mKeyboardInterrupt\u001B[0m: "
     ]
    }
   ],
   "source": [
    "train_hist = []\n",
    "val_hist = []\n",
    "\n",
    "for epoch in range(1, 201):\n",
    "    s = time.time()\n",
    "    loss = train(model, train_dl, criterion, optimizer)\n",
    "    train_score = evaluate(model, train_dl)\n",
    "    val_score = evaluate(model, val_dl)\n",
    "    scheduler.step(loss)\n",
    "    e = time.time()\n",
    "\n",
    "    train_hist.append(train_score)\n",
    "    val_hist.append(val_score)\n",
    "\n",
    "    if sum(val_score) > (.77 + .44) and sum(val_score) >= np.asarray(val_hist).sum(axis=1).max():\n",
    "        print(\"saving...\")\n",
    "        torch.save(model.state_dict(), './models/BestModel4.pt')\n",
    "\n",
    "    # print(f'Epoch: {epoch:03d}, Loss: {loss:.05f}, Train Score: {train_score:.05f}, Val Score: {val_score:.05f}, Time: {e - s:.05f}s')\n",
    "    print(f'Epoch: {epoch:03d}, Loss: {loss:.05f}, Train Score: {train_score}, Val Score: {val_score}, Time: {e - s:.05f}s')"
   ],
   "metadata": {
    "collapsed": false
   }
  },
  {
   "cell_type": "code",
   "execution_count": 9,
   "outputs": [
    {
     "data": {
      "text/plain": "<Figure size 640x480 with 1 Axes>",
      "image/png": "[encoded data removed]"
     },
     "metadata": {},
     "output_type": "display_data"
    }
   ],
   "source": [
    "import matplotlib.pyplot as plt\n",
    "plt.plot(val_hist)\n",
    "plt.plot(train_hist)\n",
    "plt.show()"
   ],
   "metadata": {
    "collapsed": false
   }
  },
  {
   "cell_type": "code",
   "execution_count": 10,
   "outputs": [
    {
     "name": "stdout",
     "output_type": "stream",
     "text": [
      "(array([0.98767828, 0.20123944]), array([0.90045636, 0.69064192]), array([0.94205272, 0.31166565]), array([71215,  2586], dtype=int64))\n"
     ]
    },
    {
     "data": {
      "text/plain": "(0.7955491412750264, 0.4513606580789816)"
     },
     "execution_count": 10,
     "metadata": {},
     "output_type": "execute_result"
    }
   ],
   "source": [
    "evaluate(model, test_dl)"
   ],
   "metadata": {
    "collapsed": false
   }
  },
  {
   "cell_type": "code",
   "execution_count": 12,
   "outputs": [],
   "source": [
    "torch.save(model.state_dict(), 'models/BestModel5.pt')"
   ],
   "metadata": {
    "collapsed": false
   }
  },
  {
   "cell_type": "code",
   "execution_count": 13,
   "outputs": [
    {
     "name": "stdout",
     "output_type": "stream",
     "text": [
      "(array([0.99024536, 0.14775921]), array([0.83818016, 0.77262181]), array([0.90788933, 0.24807549]), array([71215,  2586], dtype=int64))\n"
     ]
    },
    {
     "data": {
      "text/plain": "(0.8054009842096082, 0.46417419433923857)"
     },
     "execution_count": 13,
     "metadata": {},
     "output_type": "execute_result"
    }
   ],
   "source": [
    "model.load_state_dict(torch.load('./models/BestModel4.pt'))\n",
    "evaluate(model, test_dl)"
   ],
   "metadata": {
    "collapsed": false
   }
  },
  {
   "cell_type": "code",
   "execution_count": null,
   "outputs": [],
   "source": [
    "data = test_dl.dataset[4].to(device)"
   ],
   "metadata": {
    "collapsed": false
   }
  },
  {
   "cell_type": "code",
   "execution_count": null,
   "outputs": [],
   "source": [
    "pred = model(data)"
   ],
   "metadata": {
    "collapsed": false
   }
  },
  {
   "cell_type": "code",
   "execution_count": null,
   "outputs": [],
   "source": [
    "out = torch.sigmoid(pred).round()\n",
    "out"
   ],
   "metadata": {
    "collapsed": false
   }
  },
  {
   "cell_type": "code",
   "execution_count": null,
   "outputs": [],
   "source": [
    "print(out.sum())\n",
    "print(len(out))"
   ],
   "metadata": {
    "collapsed": false
   }
  },
  {
   "cell_type": "code",
   "execution_count": null,
   "outputs": [],
   "source": [
    "len(data.y) / data.y.sum()"
   ],
   "metadata": {
    "collapsed": false
   }
  },
  {
   "cell_type": "code",
   "execution_count": null,
   "outputs": [],
   "source": [
    "data.y.sum()"
   ],
   "metadata": {
    "collapsed": false
   }
  },
  {
   "cell_type": "code",
   "execution_count": null,
   "outputs": [],
   "source": [
    "f1_score(data.y.detach().cpu().numpy(), out.detach().cpu().numpy())"
   ],
   "metadata": {
    "collapsed": false
   }
  },
  {
   "cell_type": "code",
   "execution_count": null,
   "outputs": [],
   "source": [
    "torch.save(model.state_dict(), './models/modelBest.pt')"
   ],
   "metadata": {
    "collapsed": false
   }
  },
  {
   "cell_type": "code",
   "execution_count": null,
   "outputs": [],
   "source": [],
   "metadata": {
    "collapsed": false
   }
  }
 ],
 "metadata": {
  "kernelspec": {
   "display_name": "Python 3",
   "language": "python",
   "name": "python3"
  },
  "language_info": {
   "codemirror_mode": {
    "name": "ipython",
    "version": 2
   },
   "file_extension": ".py",
   "mimetype": "text/x-python",
   "name": "python",
   "nbconvert_exporter": "python",
   "pygments_lexer": "ipython2",
   "version": "2.7.6"
  }
 },
 "nbformat": 4,
 "nbformat_minor": 0
}
