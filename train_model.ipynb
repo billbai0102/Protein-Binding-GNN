{
 "cells": [
  {
   "cell_type": "markdown",
   "source": [
    "Next steps:\n",
    "1. Add a \"master node\" that connects all nodes together, so that message passing works between all nodes"
   ],
   "metadata": {
    "collapsed": false
   }
  },
  {
   "cell_type": "code",
   "execution_count": 1,
   "metadata": {
    "collapsed": true
   },
   "outputs": [],
   "source": [
    "import pandas as pd\n",
    "\n",
    "from LigandBinaryDataset import LigandBinaryDataset\n",
    "\n",
    "import time\n",
    "import yaml\n",
    "import numpy as np\n",
    "import torch\n",
    "from torch_geometric.loader import DataLoader\n",
    "\n",
    "with open('hyperparameters.yaml', 'r') as f:\n",
    "    config = yaml.load(f, Loader=yaml.FullLoader)"
   ]
  },
  {
   "cell_type": "code",
   "execution_count": null,
   "outputs": [
    {
     "name": "stderr",
     "output_type": "stream",
     "text": [
      "Processing...\n"
     ]
    },
    {
     "name": "stdout",
     "output_type": "stream",
     "text": [
      "['data\\\\raw\\\\af2_dataset_training_labeled.csv']\n",
      "['data\\\\processed\\\\processed.dataset']\n"
     ]
    },
    {
     "name": "stderr",
     "output_type": "stream",
     "text": [
      "  3%|▎         | 24/723 [02:05<1:00:37,  5.20s/it]"
     ]
    }
   ],
   "source": [
    "dataset = LigandBinaryDataset('./data/')"
   ],
   "metadata": {
    "collapsed": false,
    "pycharm": {
     "is_executing": true
    }
   }
  },
  {
   "cell_type": "code",
   "execution_count": null,
   "outputs": [],
   "source": [
    "dataset = dataset.shuffle()\n",
    "train_dataset = dataset[:int(len(dataset) * 0.7)]\n",
    "val_dataset = dataset[int(len(dataset) * 0.7):int(len(dataset) * 0.85)]\n",
    "test_dataset = dataset[int(len(dataset) * 0.85):]"
   ],
   "metadata": {
    "collapsed": false,
    "pycharm": {
     "is_executing": true
    }
   }
  },
  {
   "cell_type": "code",
   "execution_count": null,
   "outputs": [],
   "source": [
    "train_dl = DataLoader(train_dataset, batch_size=config['BATCH_SIZE'])\n",
    "val_dl = DataLoader(val_dataset, batch_size=config['BATCH_SIZE'])\n",
    "test_dl = DataLoader(test_dataset, batch_size=config['BATCH_SIZE'])"
   ],
   "metadata": {
    "collapsed": false,
    "pycharm": {
     "is_executing": true
    }
   }
  },
  {
   "cell_type": "code",
   "execution_count": null,
   "outputs": [],
   "source": [
    "from LigandGNNV1 import LigandGNNV1\n",
    "\n",
    "device = torch.device('cuda')\n",
    "model = LigandGNNV1(dataset.num_node_features, 1).to(device)\n",
    "optimizer = torch.optim.SGD(model.parameters(), lr=0.0001)\n",
    "criterion = torch.nn.BCEWithLogitsLoss()"
   ],
   "metadata": {
    "collapsed": false,
    "pycharm": {
     "is_executing": true
    }
   }
  },
  {
   "cell_type": "code",
   "execution_count": null,
   "outputs": [],
   "source": [
    "def train(model, loader, criterion, optimizer):\n",
    "    model.train()\n",
    "\n",
    "    loss_acc = 0.\n",
    "    for data in loader:\n",
    "        data = data.to(device)\n",
    "        optimizer.zero_grad()\n",
    "        output = model(data)\n",
    "        label = data.y\n",
    "\n",
    "        loss = criterion(output, label.reshape(-1, 1))\n",
    "        loss.backward()\n",
    "        loss_acc += data.num_graphs * loss.item()\n",
    "        optimizer.step()\n",
    "\n",
    "    return loss_acc / len(loader.dataset)"
   ],
   "metadata": {
    "collapsed": false,
    "pycharm": {
     "is_executing": true
    }
   }
  },
  {
   "cell_type": "code",
   "execution_count": null,
   "outputs": [],
   "source": [
    "from sklearn.metrics import roc_auc_score\n",
    "\n",
    "def evaluate(model, loader):\n",
    "    model.eval()\n",
    "\n",
    "    preds = np.asarray([])\n",
    "    labels = np.asarray([])\n",
    "\n",
    "    with torch.no_grad():\n",
    "        for data in loader:\n",
    "            data = data.to(device)\n",
    "            pred = model(data).round().squeeze().cpu().numpy()\n",
    "            label = data.y.cpu().numpy()\n",
    "\n",
    "            preds = np.concatenate([preds, pred])\n",
    "            labels = np.concatenate([labels, label])\n",
    "\n",
    "    return roc_auc_score(labels, preds)"
   ],
   "metadata": {
    "collapsed": false,
    "pycharm": {
     "is_executing": true
    }
   }
  },
  {
   "cell_type": "code",
   "execution_count": null,
   "outputs": [],
   "source": [
    "for epoch in range(1, 201):\n",
    "    s = time.time()\n",
    "    loss = train(model, train_dl, criterion, optimizer)\n",
    "    train_score = evaluate(model, train_dl)\n",
    "    val_score = evaluate(model, val_dl)\n",
    "    e = time.time()\n",
    "    print(f'Epoch: {epoch:03d}, Loss: {loss:.05f}, Train Score: {train_score:.05f}, Val Score: {val_score:.05f}, Time: {e - s:.05f}')"
   ],
   "metadata": {
    "collapsed": false,
    "pycharm": {
     "is_executing": true
    }
   }
  },
  {
   "cell_type": "code",
   "execution_count": null,
   "outputs": [],
   "source": [
    "evaluate(model, test_dl)"
   ],
   "metadata": {
    "collapsed": false,
    "pycharm": {
     "is_executing": true
    }
   }
  },
  {
   "cell_type": "code",
   "execution_count": null,
   "outputs": [],
   "source": [
    "pred = model(test_dl.dataset[0].to(device))"
   ],
   "metadata": {
    "collapsed": false,
    "pycharm": {
     "is_executing": true
    }
   }
  },
  {
   "cell_type": "code",
   "execution_count": null,
   "outputs": [],
   "source": [
    "torch.sigmoid(pred).round().sum()"
   ],
   "metadata": {
    "collapsed": false,
    "pycharm": {
     "is_executing": true
    }
   }
  },
  {
   "cell_type": "code",
   "execution_count": null,
   "outputs": [],
   "source": [
    "data = dataset[0].x"
   ],
   "metadata": {
    "collapsed": false,
    "pycharm": {
     "is_executing": true
    }
   }
  }
 ],
 "metadata": {
  "kernelspec": {
   "display_name": "Python 3",
   "language": "python",
   "name": "python3"
  },
  "language_info": {
   "codemirror_mode": {
    "name": "ipython",
    "version": 2
   },
   "file_extension": ".py",
   "mimetype": "text/x-python",
   "name": "python",
   "nbconvert_exporter": "python",
   "pygments_lexer": "ipython2",
   "version": "2.7.6"
  }
 },
 "nbformat": 4,
 "nbformat_minor": 0
}
