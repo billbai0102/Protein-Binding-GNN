{
 "cells": [
  {
   "cell_type": "markdown",
   "source": [
    "Next steps:\n",
    "1. Add a \"master node\" that connects all nodes together, so that message passing works between all nodes"
   ],
   "metadata": {
    "collapsed": false
   }
  },
  {
   "cell_type": "code",
   "execution_count": 1,
   "metadata": {
    "collapsed": true
   },
   "outputs": [],
   "source": [
    "import pandas as pd\n",
    "\n",
    "from EmbedDataset import LigandBinaryDataset\n",
    "\n",
    "import time\n",
    "import numpy as np\n",
    "import torch\n",
    "from torch_geometric.loader import DataLoader"
   ]
  },
  {
   "cell_type": "code",
   "execution_count": 2,
   "outputs": [],
   "source": [
    "dataset = LigandBinaryDataset('./data2/')"
   ],
   "metadata": {
    "collapsed": false
   }
  },
  {
   "cell_type": "code",
   "execution_count": 3,
   "outputs": [],
   "source": [
    "dataset = dataset.shuffle()\n",
    "train_dataset = dataset[:int(len(dataset) * 0.7)]\n",
    "val_dataset = dataset[int(len(dataset) * 0.7):int(len(dataset) * 0.85)]\n",
    "test_dataset = dataset[int(len(dataset) * 0.85):]"
   ],
   "metadata": {
    "collapsed": false
   }
  },
  {
   "cell_type": "code",
   "execution_count": 4,
   "outputs": [],
   "source": [
    "train_dl = DataLoader(train_dataset, batch_size=16)\n",
    "val_dl = DataLoader(val_dataset, batch_size=16)\n",
    "test_dl = DataLoader(test_dataset, batch_size=16)"
   ],
   "metadata": {
    "collapsed": false
   }
  },
  {
   "cell_type": "code",
   "execution_count": 30,
   "outputs": [],
   "source": [
    "from LigandGNNV2 import LigandGNNV2\n",
    "from LigandGNNV1 import LigandGNNV1\n",
    "from sagn.models import SAGN\n",
    "\n",
    "device = torch.device('cuda')\n",
    "# model = LigandGNNV1(dataset.num_node_features, 1).to(device)\n",
    "model = LigandGNNV2(100, 40).to(device)\n",
    "# model = SAGN(in_feats=1070, hidden=1024, out_feats=1, num_hops=5, n_layers=2, num_heads=10).to(device)\n",
    "\n",
    "optimizer = torch.optim.Adam(model.parameters(), lr=0.001)\n",
    "scheduler = torch.optim.lr_scheduler.ReduceLROnPlateau(optimizer, mode='min')\n",
    "criterion = torch.nn.BCEWithLogitsLoss(pos_weight=torch.FloatTensor([22]).to(device))"
   ],
   "metadata": {
    "collapsed": false
   }
  },
  {
   "cell_type": "code",
   "execution_count": 31,
   "outputs": [],
   "source": [
    "def train(model, loader, criterion, optimizer):\n",
    "    model.train()\n",
    "\n",
    "    loss_acc = 0.\n",
    "    for data in loader:\n",
    "        data = data.to(device)\n",
    "        optimizer.zero_grad()\n",
    "        output = model(data)\n",
    "        label = data.y\n",
    "\n",
    "        loss = criterion(output, label.reshape(-1, 1))\n",
    "        loss.backward()\n",
    "        loss_acc += data.num_graphs * loss.item()\n",
    "        optimizer.step()\n",
    "\n",
    "    return loss_acc / len(loader.dataset)"
   ],
   "metadata": {
    "collapsed": false
   }
  },
  {
   "cell_type": "code",
   "execution_count": 32,
   "outputs": [],
   "source": [
    "from sklearn.metrics import f1_score, precision_recall_curve, roc_curve, auc, precision_recall_fscore_support, roc_auc_score\n",
    "\n",
    "def evaluate(model, loader):\n",
    "    model.eval()\n",
    "\n",
    "    preds = np.asarray([])\n",
    "    labels = np.asarray([])\n",
    "\n",
    "    with torch.no_grad():\n",
    "        for data in loader:\n",
    "            data = data.to(device)\n",
    "            pred = torch.sigmoid(model(data).round().squeeze().cpu()).round().numpy()\n",
    "            label = data.y.cpu().numpy()\n",
    "\n",
    "            preds = np.concatenate([preds, pred])\n",
    "            labels = np.concatenate([labels, label])\n",
    "\n",
    "    precision, recall, _ = precision_recall_curve(labels, preds)\n",
    "    fpr, tpr, thresholds = roc_curve(labels, preds, pos_label=1)\n",
    "    print(precision_recall_fscore_support(labels, preds))\n",
    "    return auc(fpr, tpr), auc(recall, precision)\n",
    "    return roc_auc_score(labels, preds)"
   ],
   "metadata": {
    "collapsed": false
   }
  },
  {
   "cell_type": "code",
   "execution_count": 33,
   "outputs": [
    {
     "name": "stdout",
     "output_type": "stream",
     "text": [
      "(array([0.98425352, 0.09431152]), array([0.77732695, 0.65090461]), array([0.86863677, 0.16475168]), array([341348,  12160], dtype=int64))\n",
      "(array([0.98663361, 0.09202489]), array([0.74842895, 0.71547933]), array([0.85117987, 0.16307507]), array([63811,  2274], dtype=int64))\n",
      "Epoch: 001, Loss: 1.06321, Train Score: (0.7141157780291205, 0.3786121700083981), Val Score: (0.7319541429149272, 0.4086473199395483), Time: 12.98501s\n",
      "(array([0.9844847 , 0.14681642]), array([0.87293026, 0.61381579]), array([0.92535756, 0.23695614]), array([341348,  12160], dtype=int64))\n",
      "(array([0.98707405, 0.15279283]), array([0.865227  , 0.68205805]), array([0.92214289, 0.24965795]), array([63811,  2274], dtype=int64))\n",
      "Epoch: 002, Loss: 0.93647, Train Score: (0.743373027094436, 0.3869581045844286), Val Score: (0.7736425229866448, 0.42289566563009673), Time: 12.42100s\n",
      "(array([0.98791682, 0.13100766]), array([0.83113421, 0.71463816]), array([0.90276903, 0.22142384]), array([341348,  12160], dtype=int64))\n",
      "(array([0.98994155, 0.13021728]), array([0.81744527, 0.76693052]), array([0.89546192, 0.22263356]), array([63811,  2274], dtype=int64))\n",
      "saving...\n",
      "Epoch: 003, Loss: 0.89835, Train Score: (0.7728861834858453, 0.42773085933383065), Val Score: (0.7921878934833212, 0.4525838854336681), Time: 11.82100s\n",
      "(array([0.98465356, 0.21876888]), array([0.92422689, 0.59564145]), array([0.9534838, 0.3200053]), array([341348,  12160], dtype=int64))\n",
      "(array([0.98743289, 0.21755183]), array([0.91365125, 0.67370273]), array([0.94911033, 0.32889652]), array([63811,  2274], dtype=int64))\n",
      "saving...\n",
      "Epoch: 004, Loss: 0.81842, Train Score: (0.7599341680283989, 0.41415974343354683), Val Score: (0.7936769889124113, 0.45124126116244895), Time: 12.02500s\n",
      "(array([0.98615218, 0.22594301]), array([0.92232853, 0.63643092]), array([0.95317316, 0.33349134]), array([341348,  12160], dtype=int64))\n",
      "(array([0.98790159, 0.22068185]), array([0.91366692, 0.68601583]), array([0.94933524, 0.33393985]), array([63811,  2274], dtype=int64))\n",
      "saving...\n",
      "Epoch: 005, Loss: 0.75490, Train Score: (0.7793797269054947, 0.4374400067894425), Val Score: (0.7998413768827294, 0.4587509743492989), Time: 11.84100s\n",
      "(array([0.99248366, 0.13976759]), array([0.81891794, 0.82590461]), array([0.8973854 , 0.23907636]), array([341348,  12160], dtype=int64))\n",
      "(array([0.9907747 , 0.13045378]), array([0.81291627, 0.78759894]), array([0.89307635, 0.22383303]), array([63811,  2274], dtype=int64))\n",
      "saving...\n",
      "Epoch: 006, Loss: 0.73089, Train Score: (0.8224112711915236, 0.4858303709113243), Val Score: (0.8002576064730074, 0.4626807487807982), Time: 12.17200s\n",
      "(array([0.99058455, 0.17965919]), array([0.87532958, 0.76644737]), array([0.92939749, 0.29108626]), array([341348,  12160], dtype=int64))\n",
      "(array([0.98977476, 0.16776737]), array([0.86768739, 0.74846086]), array([0.92471879, 0.27409614]), array([63811,  2274], dtype=int64))\n",
      "saving...\n",
      "Epoch: 007, Loss: 0.70227, Train Score: (0.8208884720516738, 0.4770701600774011), Val Score: (0.8080741256194582, 0.46244187720717156), Time: 12.65100s\n",
      "(array([0.98786579, 0.22745055]), array([0.91727211, 0.68371711]), array([0.95126105, 0.34134625]), array([341348,  12160], dtype=int64))\n",
      "(array([0.98862958, 0.21646013]), array([0.90884017, 0.70668426]), array([0.94705729, 0.33140854]), array([63811,  2274], dtype=int64))\n",
      "saving...\n",
      "Epoch: 008, Loss: 0.70568, Train Score: (0.8004946073323536, 0.4610235919981849), Val Score: (0.8077622127195738, 0.46661872404608906), Time: 12.58005s\n",
      "(array([0.99096898, 0.18336638]), array([0.87694083, 0.77565789]), array([0.93047443, 0.2966131 ]), array([341348,  12160], dtype=int64))\n",
      "(array([0.99000858, 0.1691822 ]), array([0.86801649, 0.75417766]), array([0.92500772, 0.27636774]), array([63811,  2274], dtype=int64))\n",
      "saving...\n",
      "Epoch: 009, Loss: 0.66994, Train Score: (0.8262993646551784, 0.4833706087472329), Val Score: (0.8110970733479409, 0.46590933368730825), Time: 12.07200s\n",
      "(array([0.99192119, 0.19234349]), array([0.88052955, 0.79868421]), array([0.93291204, 0.31002506]), array([341348,  12160], dtype=int64))\n",
      "(array([0.99029384, 0.17930605]), array([0.87619689, 0.75901495]), array([0.92975804, 0.29008403]), array([63811,  2274], dtype=int64))\n",
      "saving...\n",
      "Epoch: 010, Loss: 0.66331, Train Score: (0.8396068790424095, 0.4989762911643397), Val Score: (0.8176059227897711, 0.4733066742562756), Time: 12.56500s\n",
      "(array([0.99349415, 0.18183758]), array([0.86520794, 0.84095395]), array([0.92492394, 0.29901896]), array([341348,  12160], dtype=int64))\n",
      "(array([0.99056638, 0.16604991]), array([0.86226513, 0.76956904]), array([0.92197358, 0.27316007]), array([63811,  2274], dtype=int64))\n",
      "Epoch: 011, Loss: 0.66208, Train Score: (0.8530809438261185, 0.5141312040209398), Val Score: (0.8159170840195721, 0.47177406665470795), Time: 12.14200s\n",
      "(array([0.99317325, 0.1940938 ]), array([0.87711954, 0.83075658]), array([0.93154576, 0.31466974]), array([341348,  12160], dtype=int64))\n",
      "(array([0.99046009, 0.17555556]), array([0.87209102, 0.764292  ]), array([0.92751425, 0.28552653]), array([63811,  2274], dtype=int64))\n",
      "saving...\n",
      "Epoch: 012, Loss: 0.60611, Train Score: (0.8539380583898636, 0.5153360146057717), Val Score: (0.818191507635917, 0.47397915923734496), Time: 12.07400s\n",
      "(array([0.99341477, 0.19989776]), array([0.88078442, 0.83610197]), array([0.93371532, 0.32265435]), array([341348,  12160], dtype=int64))\n",
      "(array([0.99067702, 0.18277882]), array([0.87759164, 0.76824978]), array([0.93071183, 0.29530088]), array([63811,  2274], dtype=int64))\n",
      "saving...\n",
      "Epoch: 013, Loss: 0.62406, Train Score: (0.8584431965518443, 0.5208187566537382), Val Score: (0.8229207089642625, 0.47950159116982105), Time: 12.35900s\n",
      "(array([0.99343721, 0.20107535]), array([0.88159884, 0.83651316]), array([0.93418267, 0.3242175 ]), array([341348,  12160], dtype=int64))\n",
      "(array([0.99002151, 0.18242016]), array([0.88003636, 0.75109938]), array([0.93179461, 0.29354645]), array([63811,  2274], dtype=int64))\n",
      "Epoch: 014, Loss: 0.57605, Train Score: (0.8590559977223431, 0.521606073421137), Val Score: (0.8155678708563094, 0.47104213803358946), Time: 12.07400s\n",
      "(array([0.99419551, 0.2054148 ]), array([0.88212323, 0.85542763]), array([0.93481234, 0.33127916]), array([341348,  12160], dtype=int64))\n",
      "(array([0.99004212, 0.18285898]), array([0.88031844, 0.75153914]), array([0.93196184, 0.29414802]), array([63811,  2274], dtype=int64))\n",
      "Epoch: 015, Loss: 0.56257, Train Score: (0.868775430329474, 0.5329077218949791), Val Score: (0.8159287892384816, 0.47147385520172846), Time: 11.85100s\n",
      "(array([0.99485827, 0.19806376]), array([0.87405522, 0.87319079]), array([0.9305525 , 0.32288768]), array([341348,  12160], dtype=int64))\n",
      "(array([0.99068444, 0.17793594]), array([0.87329771, 0.76956904]), array([0.92829478, 0.28904121]), array([63811,  2274], dtype=int64))\n",
      "Epoch: 016, Loss: 0.54918, Train Score: (0.8736230029255528, 0.5378082710306941), Val Score: (0.8214333743143487, 0.47771708325564693), Time: 12.02600s\n",
      "(array([0.99588116, 0.18114911]), array([0.85495447, 0.90074013]), array([0.92005259, 0.30163582]), array([341348,  12160], dtype=int64))\n",
      "(array([0.99048918, 0.15781884]), array([0.85356757, 0.7700088 ]), array([0.91694514, 0.26194929]), array([63811,  2274], dtype=int64))\n",
      "Epoch: 017, Loss: 0.52445, Train Score: (0.8778473030956833, 0.5426517974942285), Val Score: (0.8117881808976148, 0.4678708412379363), Time: 11.95400s\n",
      "(array([0.99618148, 0.17518746]), array([0.84757491, 0.90879934]), array([0.91588936, 0.29374942]), array([341348,  12160], dtype=int64))\n",
      "(array([0.99074159, 0.1546536 ]), array([0.84855276, 0.77748461]), array([0.91415113, 0.2579892 ]), array([63811,  2274], dtype=int64))\n",
      "Epoch: 018, Loss: 0.51851, Train Score: (0.8781871254979483, 0.543561963969852), Val Score: (0.8130186829903783, 0.4698975090835558), Time: 11.87600s\n",
      "(array([0.99542536, 0.20455623]), array([0.87714883, 0.88684211]), array([0.93255178, 0.33243422]), array([341348,  12160], dtype=int64))\n",
      "(array([0.99011129, 0.17769494]), array([0.87555437, 0.75461741]), array([0.92931578, 0.28765401]), array([63811,  2274], dtype=int64))\n",
      "Epoch: 019, Loss: 0.51486, Train Score: (0.8819954693558603, 0.5476453764045502), Val Score: (0.8150858928756834, 0.4703780107966907), Time: 12.19600s\n",
      "(array([0.99446421, 0.22198651]), array([0.89256126, 0.86052632]), array([0.94076126, 0.35292927]), array([341348,  12160], dtype=int64))\n",
      "(array([0.99000593, 0.19437779]), array([0.88951748, 0.74802111]), array([0.93707541, 0.30857143]), array([63811,  2274], dtype=int64))\n",
      "Epoch: 020, Loss: 0.55564, Train Score: (0.8765437864614782, 0.5436552259162415), Val Score: (0.8187692947457096, 0.47553477250456694), Time: 12.07000s\n",
      "(array([0.99544516, 0.22997372]), array([0.89442446, 0.88511513]), array([0.94223484, 0.36508879]), array([341348,  12160], dtype=int64))\n",
      "(array([0.99050743, 0.19710607]), array([0.8895645 , 0.76077397]), array([0.9373261 , 0.31309384]), array([63811,  2274], dtype=int64))\n",
      "saving...\n",
      "Epoch: 021, Loss: 0.50018, Train Score: (0.8897697949515018, 0.5595203350664562), Val Score: (0.8251692308642274, 0.4830559309606727), Time: 11.85800s\n",
      "(array([0.99586856, 0.21021611]), array([0.87987626, 0.89753289]), array([0.93428604, 0.34064734]), array([341348,  12160], dtype=int64))\n",
      "(array([0.99085041, 0.18144287]), array([0.87571108, 0.77308707]), array([0.92972955, 0.29390621]), array([63811,  2274], dtype=int64))\n",
      "Epoch: 022, Loss: 0.47391, Train Score: (0.8887045750269981, 0.5556368387327255), Val Score: (0.8243990777679584, 0.48116903525005683), Time: 11.87900s\n",
      "(array([0.99632137, 0.20705671]), array([0.87596236, 0.90921053]), array([0.93227325, 0.33729941]), array([341348,  12160], dtype=int64))\n",
      "(array([0.99077767, 0.17706968]), array([0.87210669, 0.77220756]), array([0.92766234, 0.28808137]), array([63811,  2274], dtype=int64))\n",
      "Epoch: 023, Loss: 0.47717, Train Score: (0.8925864436540453, 0.5596951095851856), Val Score: (0.8221571269167012, 0.47855781602338315), Time: 11.84700s\n",
      "(array([0.99604502, 0.20652399]), array([0.87650433, 0.90230263]), array([0.93245903, 0.33611592]), array([341348,  12160], dtype=int64))\n",
      "(array([0.99050543, 0.1785971 ]), array([0.87466111, 0.76473175]), array([0.92898576, 0.2895679 ]), array([63811,  2274], dtype=int64))\n",
      "Epoch: 024, Loss: 0.49407, Train Score: (0.8894034807355111, 0.5560936120679147), Val Score: (0.8196964294030853, 0.4757122442304274), Time: 11.90600s\n",
      "(array([0.99567285, 0.24305509]), array([0.9012562 , 0.89004934]), array([0.9461148 , 0.38183775]), array([341348,  12160], dtype=int64))\n",
      "(array([0.99022064, 0.20808967]), array([0.89813668, 0.75109938]), array([0.94193347, 0.32589201]), array([63811,  2274], dtype=int64))\n",
      "saving...\n",
      "Epoch: 025, Loss: 0.47082, Train Score: (0.8956527690640451, 0.5684432612134158), Val Score: (0.8246180346211777, 0.4838768901029829), Time: 11.90000s\n",
      "(array([0.99668082, 0.23506581]), array([0.89376238, 0.91644737]), array([0.94242009, 0.37416062]), array([341348,  12160], dtype=int64))\n",
      "(array([0.99071229, 0.19784214]), array([0.88931375, 0.76605101]), array([0.93727858, 0.31446881]), array([63811,  2274], dtype=int64))\n",
      "saving...\n",
      "Epoch: 026, Loss: 0.43910, Train Score: (0.9051048729094494, 0.5771936155196311), Val Score: (0.8276823830576959, 0.48597169245675204), Time: 11.92600s\n",
      "(array([0.99637687, 0.21239278]), array([0.879762  , 0.91019737]), array([0.93444523, 0.34441661]), array([341348,  12160], dtype=int64))\n",
      "(array([0.99042731, 0.177421  ]), array([0.87394023, 0.76297274]), array([0.92854467, 0.28789513]), array([63811,  2274], dtype=int64))\n",
      "Epoch: 027, Loss: 0.45184, Train Score: (0.8949796854175055, 0.5628395921906468), Val Score: (0.8184564825046018, 0.47427495098943845), Time: 11.85300s\n",
      "(array([0.99574782, 0.22297478]), array([0.88908973, 0.89342105]), array([0.93940102, 0.35688123]), array([341348,  12160], dtype=int64))\n",
      "(array([0.99059462, 0.18691589]), array([0.88138409, 0.7651715 ]), array([0.9328037, 0.3004403]), array([63811,  2274], dtype=int64))\n",
      "Epoch: 028, Loss: 0.47230, Train Score: (0.8912553896224442, 0.560030970314298), Val Score: (0.8232777956704183, 0.4800839470957726), Time: 11.84000s\n",
      "(array([0.99645826, 0.23763332]), array([0.89593025, 0.91060855]), array([0.94352412, 0.37690828]), array([341348,  12160], dtype=int64))\n",
      "(array([0.99022376, 0.19687392]), array([0.8904891 , 0.75329815]), array([0.93771195, 0.31216401]), array([63811,  2274], dtype=int64))\n",
      "Epoch: 029, Loss: 0.45482, Train Score: (0.9032694028142602, 0.5756583858585974), Val Score: (0.8218936268297924, 0.47933057134123974), Time: 11.88400s\n",
      "(array([0.99703104, 0.22062886]), array([0.88345325, 0.92615132]), array([0.9368122 , 0.35636421]), array([341348,  12160], dtype=int64))\n",
      "(array([0.99081207, 0.18484561]), array([0.87878266, 0.77132806]), array([0.93144086, 0.29822324]), array([63811,  2274], dtype=int64))\n",
      "Epoch: 030, Loss: 0.41343, Train Score: (0.9048022829225677, 0.574660213183183), Val Score: (0.8250553556583041, 0.48202116050090854), Time: 11.85300s\n",
      "(array([0.99643439, 0.23424834]), array([0.89400553, 0.91019737]), array([0.94244503, 0.37260348]), array([341348,  12160], dtype=int64))\n",
      "(array([0.99097934, 0.19790611]), array([0.88834214, 0.77308707]), array([0.93685802, 0.31513848]), array([63811,  2274], dtype=int64))\n",
      "saving...\n",
      "Epoch: 031, Loss: 0.40751, Train Score: (0.902101449716696, 0.5737673756523535), Val Score: (0.8307146033043079, 0.48940065496914975), Time: 11.89800s\n",
      "(array([0.99677484, 0.26432261]), array([0.90903711, 0.91743421]), array([0.95088639, 0.41040356]), array([341348,  12160], dtype=int64))\n",
      "(array([0.99003385, 0.21475659]), array([0.9029321 , 0.74494283]), array([0.94447905, 0.33339894]), array([63811,  2274], dtype=int64))\n",
      "Epoch: 032, Loss: 0.42499, Train Score: (0.9132356611064615, 0.5922984620717976), Val Score: (0.8239374641805485, 0.484237999964233), Time: 11.93900s\n",
      "(array([0.99655471, 0.22270314]), array([0.88635938, 0.91398026]), array([0.93823252, 0.35814066]), array([341348,  12160], dtype=int64))\n",
      "(array([0.99028939, 0.19039185]), array([0.88538026, 0.75637643]), array([0.93490096, 0.30420941]), array([63811,  2274], dtype=int64))\n",
      "Epoch: 033, Loss: 0.40482, Train Score: (0.9001698191704961, 0.5698211568829774), Val Score: (0.8208783463952826, 0.4775757125607106), Time: 11.89300s\n",
      "(array([0.99713052, 0.22748892]), array([0.88770404, 0.92828947]), array([0.93924084, 0.3654257 ]), array([341348,  12160], dtype=int64))\n",
      "(array([0.99089263, 0.19070374]), array([0.88321763, 0.77220756]), array([0.93396195, 0.30587006]), array([63811,  2274], dtype=int64))\n",
      "Epoch: 034, Loss: 0.38571, Train Score: (0.9079967588255357, 0.5791225472910998), Val Score: (0.8277125954095942, 0.48537484479923404), Time: 11.81400s\n",
      "(array([0.99498462, 0.24961733]), array([0.90664952, 0.87171053]), array([0.94876539, 0.38810069]), array([341348,  12160], dtype=int64))\n",
      "(array([0.98888584, 0.20670817]), array([0.90214853, 0.71547933]), array([0.94352797, 0.32074914]), array([63811,  2274], dtype=int64))\n",
      "Epoch: 035, Loss: 0.37503, Train Score: (0.8891800226408857, 0.5628703855490691), Val Score: (0.8088139319795086, 0.4659889611150416), Time: 11.99900s\n"
     ]
    },
    {
     "ename": "KeyboardInterrupt",
     "evalue": "",
     "output_type": "error",
     "traceback": [
      "\u001B[1;31m---------------------------------------------------------------------------\u001B[0m",
      "\u001B[1;31mKeyboardInterrupt\u001B[0m                         Traceback (most recent call last)",
      "Cell \u001B[1;32mIn[33], line 6\u001B[0m\n\u001B[0;32m      4\u001B[0m \u001B[38;5;28;01mfor\u001B[39;00m epoch \u001B[38;5;129;01min\u001B[39;00m \u001B[38;5;28mrange\u001B[39m(\u001B[38;5;241m1\u001B[39m, \u001B[38;5;241m201\u001B[39m):\n\u001B[0;32m      5\u001B[0m     s \u001B[38;5;241m=\u001B[39m time\u001B[38;5;241m.\u001B[39mtime()\n\u001B[1;32m----> 6\u001B[0m     loss \u001B[38;5;241m=\u001B[39m \u001B[43mtrain\u001B[49m\u001B[43m(\u001B[49m\u001B[43mmodel\u001B[49m\u001B[43m,\u001B[49m\u001B[43m \u001B[49m\u001B[43mtrain_dl\u001B[49m\u001B[43m,\u001B[49m\u001B[43m \u001B[49m\u001B[43mcriterion\u001B[49m\u001B[43m,\u001B[49m\u001B[43m \u001B[49m\u001B[43moptimizer\u001B[49m\u001B[43m)\u001B[49m\n\u001B[0;32m      7\u001B[0m     train_score \u001B[38;5;241m=\u001B[39m evaluate(model, train_dl)\n\u001B[0;32m      8\u001B[0m     val_score \u001B[38;5;241m=\u001B[39m evaluate(model, val_dl)\n",
      "Cell \u001B[1;32mIn[31], line 12\u001B[0m, in \u001B[0;36mtrain\u001B[1;34m(model, loader, criterion, optimizer)\u001B[0m\n\u001B[0;32m      9\u001B[0m label \u001B[38;5;241m=\u001B[39m data\u001B[38;5;241m.\u001B[39my\n\u001B[0;32m     11\u001B[0m loss \u001B[38;5;241m=\u001B[39m criterion(output, label\u001B[38;5;241m.\u001B[39mreshape(\u001B[38;5;241m-\u001B[39m\u001B[38;5;241m1\u001B[39m, \u001B[38;5;241m1\u001B[39m))\n\u001B[1;32m---> 12\u001B[0m \u001B[43mloss\u001B[49m\u001B[38;5;241;43m.\u001B[39;49m\u001B[43mbackward\u001B[49m\u001B[43m(\u001B[49m\u001B[43m)\u001B[49m\n\u001B[0;32m     13\u001B[0m loss_acc \u001B[38;5;241m+\u001B[39m\u001B[38;5;241m=\u001B[39m data\u001B[38;5;241m.\u001B[39mnum_graphs \u001B[38;5;241m*\u001B[39m loss\u001B[38;5;241m.\u001B[39mitem()\n\u001B[0;32m     14\u001B[0m optimizer\u001B[38;5;241m.\u001B[39mstep()\n",
      "File \u001B[1;32m~\\anaconda3\\envs\\watai\\lib\\site-packages\\torch\\_tensor.py:396\u001B[0m, in \u001B[0;36mTensor.backward\u001B[1;34m(self, gradient, retain_graph, create_graph, inputs)\u001B[0m\n\u001B[0;32m    387\u001B[0m \u001B[38;5;28;01mif\u001B[39;00m has_torch_function_unary(\u001B[38;5;28mself\u001B[39m):\n\u001B[0;32m    388\u001B[0m     \u001B[38;5;28;01mreturn\u001B[39;00m handle_torch_function(\n\u001B[0;32m    389\u001B[0m         Tensor\u001B[38;5;241m.\u001B[39mbackward,\n\u001B[0;32m    390\u001B[0m         (\u001B[38;5;28mself\u001B[39m,),\n\u001B[1;32m   (...)\u001B[0m\n\u001B[0;32m    394\u001B[0m         create_graph\u001B[38;5;241m=\u001B[39mcreate_graph,\n\u001B[0;32m    395\u001B[0m         inputs\u001B[38;5;241m=\u001B[39minputs)\n\u001B[1;32m--> 396\u001B[0m \u001B[43mtorch\u001B[49m\u001B[38;5;241;43m.\u001B[39;49m\u001B[43mautograd\u001B[49m\u001B[38;5;241;43m.\u001B[39;49m\u001B[43mbackward\u001B[49m\u001B[43m(\u001B[49m\u001B[38;5;28;43mself\u001B[39;49m\u001B[43m,\u001B[49m\u001B[43m \u001B[49m\u001B[43mgradient\u001B[49m\u001B[43m,\u001B[49m\u001B[43m \u001B[49m\u001B[43mretain_graph\u001B[49m\u001B[43m,\u001B[49m\u001B[43m \u001B[49m\u001B[43mcreate_graph\u001B[49m\u001B[43m,\u001B[49m\u001B[43m \u001B[49m\u001B[43minputs\u001B[49m\u001B[38;5;241;43m=\u001B[39;49m\u001B[43minputs\u001B[49m\u001B[43m)\u001B[49m\n",
      "File \u001B[1;32m~\\anaconda3\\envs\\watai\\lib\\site-packages\\torch\\autograd\\__init__.py:173\u001B[0m, in \u001B[0;36mbackward\u001B[1;34m(tensors, grad_tensors, retain_graph, create_graph, grad_variables, inputs)\u001B[0m\n\u001B[0;32m    168\u001B[0m     retain_graph \u001B[38;5;241m=\u001B[39m create_graph\n\u001B[0;32m    170\u001B[0m \u001B[38;5;66;03m# The reason we repeat same the comment below is that\u001B[39;00m\n\u001B[0;32m    171\u001B[0m \u001B[38;5;66;03m# some Python versions print out the first line of a multi-line function\u001B[39;00m\n\u001B[0;32m    172\u001B[0m \u001B[38;5;66;03m# calls in the traceback and some print out the last line\u001B[39;00m\n\u001B[1;32m--> 173\u001B[0m \u001B[43mVariable\u001B[49m\u001B[38;5;241;43m.\u001B[39;49m\u001B[43m_execution_engine\u001B[49m\u001B[38;5;241;43m.\u001B[39;49m\u001B[43mrun_backward\u001B[49m\u001B[43m(\u001B[49m\u001B[43m  \u001B[49m\u001B[38;5;66;43;03m# Calls into the C++ engine to run the backward pass\u001B[39;49;00m\n\u001B[0;32m    174\u001B[0m \u001B[43m    \u001B[49m\u001B[43mtensors\u001B[49m\u001B[43m,\u001B[49m\u001B[43m \u001B[49m\u001B[43mgrad_tensors_\u001B[49m\u001B[43m,\u001B[49m\u001B[43m \u001B[49m\u001B[43mretain_graph\u001B[49m\u001B[43m,\u001B[49m\u001B[43m \u001B[49m\u001B[43mcreate_graph\u001B[49m\u001B[43m,\u001B[49m\u001B[43m \u001B[49m\u001B[43minputs\u001B[49m\u001B[43m,\u001B[49m\n\u001B[0;32m    175\u001B[0m \u001B[43m    \u001B[49m\u001B[43mallow_unreachable\u001B[49m\u001B[38;5;241;43m=\u001B[39;49m\u001B[38;5;28;43;01mTrue\u001B[39;49;00m\u001B[43m,\u001B[49m\u001B[43m \u001B[49m\u001B[43maccumulate_grad\u001B[49m\u001B[38;5;241;43m=\u001B[39;49m\u001B[38;5;28;43;01mTrue\u001B[39;49;00m\u001B[43m)\u001B[49m\n",
      "\u001B[1;31mKeyboardInterrupt\u001B[0m: "
     ]
    }
   ],
   "source": [
    "train_hist = []\n",
    "val_hist = []\n",
    "\n",
    "for epoch in range(1, 201):\n",
    "    s = time.time()\n",
    "    loss = train(model, train_dl, criterion, optimizer)\n",
    "    train_score = evaluate(model, train_dl)\n",
    "    val_score = evaluate(model, val_dl)\n",
    "    scheduler.step(loss)\n",
    "    e = time.time()\n",
    "\n",
    "    train_hist.append(train_score)\n",
    "    val_hist.append(val_score)\n",
    "\n",
    "    if sum(val_score) > (.77 + .44) and sum(val_score) >= np.asarray(val_hist).sum(axis=1).max():\n",
    "        print(\"saving...\")\n",
    "        torch.save(model.state_dict(), './models/BestModel.pt')\n",
    "\n",
    "    # print(f'Epoch: {epoch:03d}, Loss: {loss:.05f}, Train Score: {train_score:.05f}, Val Score: {val_score:.05f}, Time: {e - s:.05f}s')\n",
    "    print(f'Epoch: {epoch:03d}, Loss: {loss:.05f}, Train Score: {train_score}, Val Score: {val_score}, Time: {e - s:.05f}s')"
   ],
   "metadata": {
    "collapsed": false
   }
  },
  {
   "cell_type": "code",
   "execution_count": 34,
   "outputs": [
    {
     "data": {
      "text/plain": "<Figure size 640x480 with 1 Axes>",
      "image/png": "[encoded data removed]"
     },
     "metadata": {},
     "output_type": "display_data"
    }
   ],
   "source": [
    "import matplotlib.pyplot as plt\n",
    "plt.plot(val_hist)\n",
    "plt.plot(train_hist)\n",
    "plt.show()"
   ],
   "metadata": {
    "collapsed": false
   }
  },
  {
   "cell_type": "code",
   "execution_count": 35,
   "outputs": [
    {
     "name": "stdout",
     "output_type": "stream",
     "text": [
      "(array([0.98570121, 0.20968479]), array([0.90742846, 0.65106383]), array([0.94494672, 0.31720802]), array([74753,  2820], dtype=int64))\n"
     ]
    },
    {
     "data": {
      "text/plain": "(0.7792461470983446, 0.4367167216336949)"
     },
     "execution_count": 35,
     "metadata": {},
     "output_type": "execute_result"
    }
   ],
   "source": [
    "evaluate(model, test_dl)"
   ],
   "metadata": {
    "collapsed": false
   }
  },
  {
   "cell_type": "code",
   "execution_count": 36,
   "outputs": [
    {
     "name": "stdout",
     "output_type": "stream",
     "text": [
      "(array([0.98623316, 0.18737614]), array([0.89029203, 0.67056738]), array([0.93581   , 0.29290582]), array([74753,  2820], dtype=int64))\n"
     ]
    },
    {
     "data": {
      "text/plain": "(0.78042970215005, 0.43495966586540974)"
     },
     "execution_count": 36,
     "metadata": {},
     "output_type": "execute_result"
    }
   ],
   "source": [
    "model.load_state_dict(torch.load('./models/BestModel.pt'))\n",
    "evaluate(model, test_dl)"
   ],
   "metadata": {
    "collapsed": false
   }
  },
  {
   "cell_type": "code",
   "execution_count": 13,
   "outputs": [],
   "source": [
    "data = test_dl.dataset[4].to(device)"
   ],
   "metadata": {
    "collapsed": false
   }
  },
  {
   "cell_type": "code",
   "execution_count": 14,
   "outputs": [],
   "source": [
    "pred = model(data)"
   ],
   "metadata": {
    "collapsed": false
   }
  },
  {
   "cell_type": "code",
   "execution_count": 15,
   "outputs": [
    {
     "data": {
      "text/plain": "tensor([[0.],\n        [0.],\n        [0.],\n        [0.],\n        [0.],\n        [0.],\n        [0.],\n        [0.],\n        [0.],\n        [0.],\n        [0.],\n        [0.],\n        [0.],\n        [0.],\n        [0.],\n        [0.],\n        [0.],\n        [0.],\n        [0.],\n        [0.],\n        [0.],\n        [0.],\n        [0.],\n        [0.],\n        [0.],\n        [0.],\n        [1.],\n        [0.],\n        [1.],\n        [0.],\n        [0.],\n        [0.],\n        [0.],\n        [0.],\n        [0.],\n        [0.],\n        [0.],\n        [0.],\n        [0.],\n        [0.],\n        [0.],\n        [0.],\n        [0.],\n        [0.],\n        [0.],\n        [0.],\n        [0.],\n        [0.],\n        [0.],\n        [0.],\n        [0.],\n        [0.],\n        [1.],\n        [1.],\n        [1.],\n        [1.],\n        [1.],\n        [1.],\n        [1.],\n        [0.],\n        [1.],\n        [0.],\n        [0.],\n        [0.],\n        [0.],\n        [0.],\n        [0.],\n        [0.],\n        [0.],\n        [0.],\n        [0.],\n        [0.],\n        [0.],\n        [0.],\n        [1.],\n        [1.],\n        [1.],\n        [1.],\n        [1.],\n        [1.],\n        [1.],\n        [1.],\n        [1.],\n        [1.],\n        [1.],\n        [1.],\n        [0.],\n        [0.],\n        [0.],\n        [0.],\n        [0.],\n        [0.],\n        [0.],\n        [0.],\n        [0.],\n        [0.],\n        [0.],\n        [0.],\n        [0.],\n        [0.],\n        [0.],\n        [0.],\n        [0.],\n        [0.],\n        [0.],\n        [0.],\n        [0.],\n        [1.],\n        [1.],\n        [1.],\n        [1.],\n        [1.],\n        [0.],\n        [0.],\n        [1.],\n        [0.],\n        [0.],\n        [0.],\n        [0.],\n        [0.],\n        [0.],\n        [0.],\n        [0.],\n        [0.],\n        [0.],\n        [0.],\n        [0.],\n        [0.],\n        [0.],\n        [0.],\n        [0.],\n        [0.],\n        [0.],\n        [0.],\n        [0.],\n        [0.],\n        [1.],\n        [1.],\n        [1.],\n        [1.],\n        [1.],\n        [1.],\n        [0.],\n        [0.],\n        [0.],\n        [0.],\n        [0.],\n        [0.],\n        [0.],\n        [0.],\n        [0.],\n        [0.],\n        [0.],\n        [0.],\n        [0.],\n        [0.],\n        [0.],\n        [1.],\n        [0.],\n        [1.],\n        [1.],\n        [0.],\n        [0.],\n        [1.],\n        [0.],\n        [0.],\n        [0.],\n        [0.],\n        [0.],\n        [0.],\n        [0.],\n        [0.],\n        [0.],\n        [0.],\n        [0.],\n        [0.],\n        [0.],\n        [0.],\n        [0.],\n        [0.],\n        [0.],\n        [1.],\n        [1.],\n        [0.],\n        [0.],\n        [0.],\n        [0.],\n        [0.],\n        [0.],\n        [0.],\n        [0.],\n        [1.],\n        [0.],\n        [1.],\n        [1.],\n        [0.],\n        [0.],\n        [0.],\n        [0.],\n        [0.],\n        [0.],\n        [0.],\n        [0.],\n        [0.],\n        [0.],\n        [0.],\n        [0.],\n        [0.],\n        [0.],\n        [0.],\n        [0.],\n        [0.],\n        [0.],\n        [1.],\n        [1.],\n        [0.],\n        [0.],\n        [0.],\n        [0.],\n        [0.],\n        [0.],\n        [0.],\n        [0.],\n        [0.],\n        [0.],\n        [0.],\n        [0.],\n        [0.],\n        [0.],\n        [0.],\n        [0.],\n        [0.],\n        [0.],\n        [0.],\n        [0.],\n        [0.],\n        [0.],\n        [0.],\n        [0.],\n        [0.],\n        [1.],\n        [1.],\n        [1.],\n        [1.],\n        [0.],\n        [0.],\n        [0.],\n        [0.],\n        [0.],\n        [0.],\n        [0.],\n        [0.],\n        [0.],\n        [0.],\n        [0.],\n        [0.],\n        [0.],\n        [0.],\n        [0.],\n        [0.],\n        [0.],\n        [0.],\n        [0.],\n        [0.],\n        [0.],\n        [0.],\n        [0.],\n        [0.],\n        [0.],\n        [0.],\n        [0.],\n        [0.],\n        [0.],\n        [0.],\n        [0.],\n        [0.],\n        [0.],\n        [0.],\n        [0.],\n        [0.],\n        [0.],\n        [0.],\n        [0.],\n        [0.],\n        [0.],\n        [0.],\n        [0.],\n        [0.],\n        [0.],\n        [0.],\n        [0.],\n        [0.],\n        [0.],\n        [0.],\n        [0.],\n        [0.],\n        [0.],\n        [0.],\n        [0.],\n        [0.],\n        [0.],\n        [0.],\n        [0.],\n        [0.],\n        [0.],\n        [0.],\n        [0.],\n        [0.],\n        [0.],\n        [0.],\n        [0.],\n        [0.],\n        [0.],\n        [0.],\n        [0.],\n        [0.],\n        [0.],\n        [0.],\n        [0.],\n        [0.],\n        [0.],\n        [0.],\n        [0.],\n        [0.],\n        [0.],\n        [0.],\n        [0.],\n        [0.],\n        [0.],\n        [0.],\n        [0.],\n        [0.],\n        [0.],\n        [1.],\n        [1.],\n        [1.],\n        [1.],\n        [0.],\n        [0.],\n        [0.],\n        [0.],\n        [0.],\n        [0.],\n        [0.],\n        [0.],\n        [0.],\n        [0.],\n        [0.],\n        [0.],\n        [0.],\n        [0.],\n        [0.],\n        [0.],\n        [1.],\n        [0.],\n        [0.],\n        [1.],\n        [1.],\n        [0.],\n        [0.],\n        [1.],\n        [1.],\n        [0.],\n        [1.],\n        [1.],\n        [1.],\n        [1.],\n        [1.],\n        [0.],\n        [0.],\n        [0.],\n        [0.],\n        [0.],\n        [0.],\n        [0.],\n        [0.],\n        [0.],\n        [0.],\n        [0.],\n        [0.],\n        [0.],\n        [0.],\n        [0.],\n        [0.],\n        [0.],\n        [0.],\n        [0.],\n        [0.],\n        [0.],\n        [1.],\n        [1.],\n        [0.],\n        [0.],\n        [0.],\n        [0.],\n        [0.],\n        [0.],\n        [0.],\n        [0.],\n        [0.],\n        [0.],\n        [0.],\n        [0.]], device='cuda:0', grad_fn=<RoundBackward0>)"
     },
     "execution_count": 15,
     "metadata": {},
     "output_type": "execute_result"
    }
   ],
   "source": [
    "out = torch.sigmoid(pred).round()\n",
    "out"
   ],
   "metadata": {
    "collapsed": false
   }
  },
  {
   "cell_type": "code",
   "execution_count": 16,
   "outputs": [
    {
     "name": "stdout",
     "output_type": "stream",
     "text": [
      "tensor(65., device='cuda:0', grad_fn=<SumBackward0>)\n",
      "403\n"
     ]
    }
   ],
   "source": [
    "print(out.sum())\n",
    "print(len(out))"
   ],
   "metadata": {
    "collapsed": false
   }
  },
  {
   "cell_type": "code",
   "execution_count": 17,
   "outputs": [
    {
     "data": {
      "text/plain": "tensor(17.5217, device='cuda:0')"
     },
     "execution_count": 17,
     "metadata": {},
     "output_type": "execute_result"
    }
   ],
   "source": [
    "len(data.y) / data.y.sum()"
   ],
   "metadata": {
    "collapsed": false
   }
  },
  {
   "cell_type": "code",
   "execution_count": 18,
   "outputs": [
    {
     "data": {
      "text/plain": "tensor(23., device='cuda:0')"
     },
     "execution_count": 18,
     "metadata": {},
     "output_type": "execute_result"
    }
   ],
   "source": [
    "data.y.sum()"
   ],
   "metadata": {
    "collapsed": false
   }
  },
  {
   "cell_type": "code",
   "execution_count": 19,
   "outputs": [
    {
     "data": {
      "text/plain": "0.38636363636363635"
     },
     "execution_count": 19,
     "metadata": {},
     "output_type": "execute_result"
    }
   ],
   "source": [
    "f1_score(data.y.detach().cpu().numpy(), out.detach().cpu().numpy())"
   ],
   "metadata": {
    "collapsed": false
   }
  },
  {
   "cell_type": "code",
   "execution_count": null,
   "outputs": [],
   "source": [
    "torch.save(model.state_dict(), './models/modelBest.pt')"
   ],
   "metadata": {
    "collapsed": false
   }
  },
  {
   "cell_type": "code",
   "execution_count": null,
   "outputs": [],
   "source": [],
   "metadata": {
    "collapsed": false
   }
  }
 ],
 "metadata": {
  "kernelspec": {
   "display_name": "Python 3",
   "language": "python",
   "name": "python3"
  },
  "language_info": {
   "codemirror_mode": {
    "name": "ipython",
    "version": 2
   },
   "file_extension": ".py",
   "mimetype": "text/x-python",
   "name": "python",
   "nbconvert_exporter": "python",
   "pygments_lexer": "ipython2",
   "version": "2.7.6"
  }
 },
 "nbformat": 4,
 "nbformat_minor": 0
}
