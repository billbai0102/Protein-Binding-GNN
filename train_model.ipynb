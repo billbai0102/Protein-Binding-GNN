{
 "cells": [
  {
   "cell_type": "markdown",
   "source": [
    "Next steps:\n",
    "1. Add a \"master node\" that connects all nodes together, so that message passing works between all nodes"
   ],
   "metadata": {
    "collapsed": false
   }
  },
  {
   "cell_type": "code",
   "execution_count": 1,
   "metadata": {
    "collapsed": true
   },
   "outputs": [],
   "source": [
    "import pandas as pd\n",
    "\n",
    "from EmbedDataset import LigandBinaryDataset\n",
    "\n",
    "import time\n",
    "import numpy as np\n",
    "import torch\n",
    "from torch_geometric.loader import DataLoader"
   ]
  },
  {
   "cell_type": "code",
   "execution_count": 2,
   "outputs": [],
   "source": [
    "dataset = LigandBinaryDataset('./data2/')"
   ],
   "metadata": {
    "collapsed": false
   }
  },
  {
   "cell_type": "code",
   "execution_count": 3,
   "outputs": [],
   "source": [
    "dataset = dataset.shuffle()\n",
    "train_dataset = dataset[:int(len(dataset) * 0.7)]\n",
    "val_dataset = dataset[int(len(dataset) * 0.7):int(len(dataset) * 0.85)]\n",
    "test_dataset = dataset[int(len(dataset) * 0.85):]"
   ],
   "metadata": {
    "collapsed": false
   }
  },
  {
   "cell_type": "code",
   "execution_count": 4,
   "outputs": [],
   "source": [
    "train_dl = DataLoader(train_dataset, batch_size=16)\n",
    "val_dl = DataLoader(val_dataset, batch_size=16)\n",
    "test_dl = DataLoader(test_dataset, batch_size=16)"
   ],
   "metadata": {
    "collapsed": false
   }
  },
  {
   "cell_type": "code",
   "execution_count": 5,
   "outputs": [],
   "source": [
    "from LigandGNNV2 import LigandGNNV2\n",
    "from LigandGNNV1 import LigandGNNV1\n",
    "from sagn.models import SAGN\n",
    "\n",
    "device = torch.device('cuda')\n",
    "# model = LigandGNNV1(dataset.num_node_features, 1).to(device)\n",
    "model = LigandGNNV2(128, 37).to(device)\n",
    "# model = SAGN(in_feats=1070, hidden=1024, out_feats=1, num_hops=3, n_layers=2, num_heads=1, dropout=0.3).to(device)\n",
    "\n",
    "optimizer = torch.optim.AdamW(model.parameters(), lr=0.001, weight_decay=.1)\n",
    "scheduler = torch.optim.lr_scheduler.ReduceLROnPlateau(optimizer, mode='min')\n",
    "criterion = torch.nn.BCEWithLogitsLoss(pos_weight=torch.FloatTensor([22]).to(device))"
   ],
   "metadata": {
    "collapsed": false
   }
  },
  {
   "cell_type": "code",
   "execution_count": 6,
   "outputs": [],
   "source": [
    "def train(model, loader, criterion, optimizer):\n",
    "    model.train()\n",
    "\n",
    "    loss_acc = 0.\n",
    "    for data in loader:\n",
    "        data = data.to(device)\n",
    "        optimizer.zero_grad()\n",
    "        output = model(data)\n",
    "        label = data.y\n",
    "\n",
    "        loss = criterion(output, label.reshape(-1, 1))\n",
    "        loss.backward()\n",
    "        loss_acc += data.num_graphs * loss.item()\n",
    "        optimizer.step()\n",
    "\n",
    "    return loss_acc / len(loader.dataset)"
   ],
   "metadata": {
    "collapsed": false
   }
  },
  {
   "cell_type": "code",
   "execution_count": 7,
   "outputs": [],
   "source": [
    "from sklearn.metrics import f1_score, precision_recall_curve, roc_curve, auc, precision_recall_fscore_support, roc_auc_score\n",
    "\n",
    "def evaluate(model, loader):\n",
    "    model.eval()\n",
    "\n",
    "    preds = np.asarray([])\n",
    "    labels = np.asarray([])\n",
    "\n",
    "    with torch.no_grad():\n",
    "        for data in loader:\n",
    "            data = data.to(device)\n",
    "            pred = torch.sigmoid(model(data).round().squeeze().cpu()).round().numpy()\n",
    "            label = data.y.cpu().numpy()\n",
    "\n",
    "            preds = np.concatenate([preds, pred])\n",
    "            labels = np.concatenate([labels, label])\n",
    "\n",
    "    precision, recall, _ = precision_recall_curve(labels, preds)\n",
    "    fpr, tpr, thresholds = roc_curve(labels, preds, pos_label=1)\n",
    "    print(precision_recall_fscore_support(labels, preds))\n",
    "    return auc(fpr, tpr), auc(recall, precision)\n",
    "    # return roc_auc_score(labels, preds)"
   ],
   "metadata": {
    "collapsed": false
   }
  },
  {
   "cell_type": "code",
   "execution_count": 8,
   "outputs": [
    {
     "name": "stdout",
     "output_type": "stream",
     "text": [
      "(array([0.98987107, 0.06718964]), array([0.58543699, 0.83290574]), array([0.73573818, 0.12434823]), array([337032,  12083], dtype=int64))\n",
      "(array([0.98768954, 0.07075502]), array([0.57671741, 0.8176427 ]), array([0.72822197, 0.1302397 ]), array([68446,  2698], dtype=int64))\n",
      "Epoch: 001, Loss: 1.18902, Train Score: (0.7091713632384357, 0.45293928423089075), Val Score: (0.6971800552808188, 0.447656634708758), Time: 16.40881s\n",
      "(array([0.98878074, 0.09231105]), array([0.72878836, 0.76934536]), array([0.83910673, 0.16484315]), array([337032,  12083], dtype=int64))\n",
      "(array([0.98520045, 0.08749834]), array([0.69831692, 0.73387695]), array([0.81731517, 0.15635488]), array([68446,  2698], dtype=int64))\n",
      "Epoch: 002, Loss: 0.98861, Train Score: (0.7490668627804826, 0.4348197286917831), Val Score: (0.7160969336272558, 0.41573374803717805), Time: 12.77600s\n",
      "(array([0.98838294, 0.09912247]), array([0.7547948, 0.7525449]), array([0.85593831, 0.17517194]), array([337032,  12083], dtype=int64))\n",
      "(array([0.98416845, 0.0935106 ]), array([0.73203693, 0.70126019]), array([0.83958209, 0.16501679]), array([68446,  2698], dtype=int64))\n",
      "Epoch: 003, Loss: 0.96112, Train Score: (0.7536698473617564, 0.43011594162756656), Val Score: (0.7166485634804403, 0.403049964751453), Time: 12.76200s\n",
      "(array([0.99127824, 0.09651381]), array([0.72402324, 0.82231234]), array([0.83683072, 0.17275193]), array([337032,  12083], dtype=int64))\n",
      "(array([0.9871272 , 0.09175814]), array([0.70021623, 0.76834692]), array([0.81927896, 0.16393832]), array([68446,  2698], dtype=int64))\n",
      "Epoch: 004, Loss: 0.89572, Train Score: (0.7731677889001212, 0.4624879917362097), Val Score: (0.7342815762495439, 0.4344450337804133), Time: 12.84300s\n",
      "(array([0.98928153, 0.13593647]), array([0.82922393, 0.74939998]), array([0.90220891, 0.23012898]), array([337032,  12083], dtype=int64))\n",
      "(array([0.9852082 , 0.12576708]), array([0.81059521, 0.69125278]), array([0.88941256, 0.21281451]), array([68446,  2698], dtype=int64))\n",
      "Epoch: 005, Loss: 0.83861, Train Score: (0.789311957353286, 0.44700490556633055), Val Score: (0.7509239967910293, 0.41436425255517806), Time: 14.31104s\n",
      "(array([0.98960601, 0.14884384]), array([0.84578616, 0.75221385]), array([0.91206128, 0.24851327]), array([337032,  12083], dtype=int64))\n",
      "(array([0.98531502, 0.1374573 ]), array([0.83030418, 0.68606375]), array([0.90119248, 0.22902747]), array([68446,  2698], dtype=int64))\n",
      "Epoch: 006, Loss: 0.82588, Train Score: (0.7990000054896946, 0.45481683040967424), Val Score: (0.7581839661625436, 0.41771324101549734), Time: 14.39453s\n",
      "(array([0.99122003, 0.1381061 ]), array([0.82168162, 0.7969875 ]), array([0.8985234 , 0.23541779]), array([337032,  12083], dtype=int64))\n",
      "(array([0.98609102, 0.12677545]), array([0.80688426, 0.71126761]), array([0.88753184, 0.21519484]), array([68446,  2698], dtype=int64))\n",
      "Epoch: 007, Loss: 0.77747, Train Score: (0.809334561919922, 0.47105996879441736), Val Score: (0.7590759323788919, 0.424496339907486), Time: 13.41100s\n",
      "(array([0.99224121, 0.1487934 ]), array([0.8321287 , 0.81850534]), array([0.90515896, 0.25181093]), array([337032,  12083], dtype=int64))\n",
      "(array([0.98655017, 0.13361861]), array([0.81659995, 0.71756857]), array([0.893566  , 0.22528655]), array([68446,  2698], dtype=int64))\n",
      "Epoch: 008, Loss: 0.74574, Train Score: (0.8253170190118488, 0.4867901700887807), Val Score: (0.7670842583571966, 0.43094892392219364), Time: 12.74400s\n",
      "(array([0.99312803, 0.15277527]), array([0.83315531, 0.83919556]), array([0.90613529, 0.25849213]), array([337032,  12083], dtype=int64))\n",
      "(array([0.98714893, 0.13590893]), array([0.81700903, 0.7301705 ]), array([0.89405652, 0.22916303]), array([68446,  2698], dtype=int64))\n",
      "saving...\n",
      "Epoch: 009, Loss: 0.69705, Train Score: (0.8361754363551411, 0.4987681660166896), Val Score: (0.773589762839885, 0.43815609906225533), Time: 14.19700s\n",
      "(array([0.99308661, 0.15968591]), array([0.84219303, 0.83646445]), array([0.91143671, 0.26817555]), array([337032,  12083], dtype=int64))\n",
      "(array([0.98691328, 0.14081249]), array([0.82634486, 0.72201631]), array([0.8995197 , 0.23566417]), array([68446,  2698], dtype=int64))\n",
      "Epoch: 010, Loss: 0.66393, Train Score: (0.839328740186665, 0.5009051927460677), Val Score: (0.7741805820876536, 0.4366853993330891), Time: 12.97900s\n",
      "(array([0.99343265, 0.1674032 ]), array([0.84962555, 0.84333361]), array([0.91591873, 0.27935411]), array([337032,  12083], dtype=int64))\n",
      "(array([0.98646022, 0.14678547]), array([0.83771148, 0.70830245]), array([0.90602113, 0.24317618]), array([68446,  2698], dtype=int64))\n",
      "Epoch: 011, Loss: 0.64789, Train Score: (0.8464795820232347, 0.5080795440918562), Val Score: (0.7730069634198599, 0.4330749924711613), Time: 12.62000s\n",
      "(array([0.99421213, 0.17527076]), array([0.85471706, 0.86120996]), array([0.91920239, 0.29126431]), array([337032,  12083], dtype=int64))\n",
      "(array([0.98695285, 0.14869319]), array([0.83772609, 0.71905115]), array([0.90623741, 0.24642744]), array([68446,  2698], dtype=int64))\n",
      "saving...\n",
      "Epoch: 012, Loss: 0.62187, Train Score: (0.8579635119602569, 0.520642147124282), Val Score: (0.7783886198200278, 0.4391993912452203), Time: 12.60700s\n",
      "(array([0.99451014, 0.18346697]), array([0.86160958, 0.86733427]), array([0.92330194, 0.30286829]), array([337032,  12083], dtype=int64))\n",
      "(array([0.98694419, 0.15317599]), array([0.84378926, 0.71682728]), array([0.9097697 , 0.25241451]), array([68446,  2698], dtype=int64))\n",
      "saving...\n",
      "Epoch: 013, Loss: 0.59511, Train Score: (0.8644719256947309, 0.5276964234735141), Val Score: (0.7803082719979868, 0.4403710244197496), Time: 12.97900s\n",
      "(array([0.99402905, 0.18935476]), array([0.86886112, 0.85442357]), array([0.92724006, 0.31000676]), array([337032,  12083], dtype=int64))\n",
      "(array([0.98673292, 0.15974948]), array([0.8529936 , 0.70904374]), array([0.91500215, 0.26075104]), array([68446,  2698], dtype=int64))\n",
      "saving...\n",
      "Epoch: 014, Loss: 0.57392, Train Score: (0.8616423436753267, 0.524408390280623), Val Score: (0.7810186684478013, 0.43991358673698694), Time: 13.19900s\n",
      "(array([0.99353322, 0.22065267]), array([0.89392402, 0.83770587]), array([0.94110022, 0.34929947]), array([337032,  12083], dtype=int64))\n",
      "(array([0.98475595, 0.18084779]), array([0.88339713, 0.65307635]), array([0.93132687, 0.28325697]), array([68446,  2698], dtype=int64))\n",
      "Epoch: 015, Loss: 0.55747, Train Score: (0.8658149434161584, 0.5319877997675935), Val Score: (0.7682367417193302, 0.4235402780837772), Time: 13.68100s\n",
      "(array([0.9934921 , 0.22221001]), array([0.89503371, 0.83646445]), array([0.94169634, 0.35113867]), array([337032,  12083], dtype=int64))\n",
      "(array([0.98525727, 0.18493292]), array([0.88460977, 0.6641957 ]), array([0.93222479, 0.28931224]), array([68446,  2698], dtype=int64))\n",
      "Epoch: 016, Loss: 0.54319, Train Score: (0.8657490800950417, 0.5321672440863103), Val Score: (0.7744027329406891, 0.4309316781202578), Time: 13.51000s\n",
      "(array([0.99298215, 0.2301012 ]), array([0.90135951, 0.82231234]), array([0.9449551 , 0.35958309]), array([337032,  12083], dtype=int64))\n",
      "(array([0.98385507, 0.18333873]), array([0.88943108, 0.62972572]), array([0.93426333, 0.28399499]), array([68446,  2698], dtype=int64))\n",
      "Epoch: 017, Loss: 0.54353, Train Score: (0.8618359272371338, 0.5292816887910899), Val Score: (0.7595784035580353, 0.41355319734080903), Time: 12.81900s\n",
      "(array([0.99038634, 0.24509566]), array([0.91699305, 0.75171729]), array([0.95227766, 0.36966342]), array([337032,  12083], dtype=int64))\n",
      "(array([0.98307337, 0.20529634]), array([0.90792742, 0.60340993]), array([0.94400729, 0.30636056]), array([68446,  2698], dtype=int64))\n",
      "Epoch: 018, Loss: 0.59217, Train Score: (0.834355166961789, 0.5027030520050462), Val Score: (0.755668675258969, 0.4118730976613101), Time: 12.77500s\n",
      "(array([0.9931084 , 0.22066848]), array([0.89532745, 0.82669867]), array([0.94168643, 0.34835222]), array([337032,  12083], dtype=int64))\n",
      "(array([0.98431806, 0.1792804 ]), array([0.88402536, 0.6426983 ]), array([0.93147986, 0.2803557 ]), array([68446,  2698], dtype=int64))\n",
      "Epoch: 019, Loss: 0.55624, Train Score: (0.8610130571006999, 0.5266825846320763), Val Score: (0.7633618290466442, 0.4177643375942458), Time: 12.29700s\n",
      "(array([0.99325518, 0.25650176]), array([0.91407344, 0.82686419]), array([0.95202072, 0.39154289]), array([337032,  12083], dtype=int64))\n",
      "(array([0.98385097, 0.20437424]), array([0.90433334, 0.62342476]), array([0.94241778, 0.30783309]), array([68446,  2698], dtype=int64))\n",
      "Epoch: 020, Loss: 0.52557, Train Score: (0.8704688152272646, 0.5446791213896622), Val Score: (0.7638790510770862, 0.4210399473750277), Time: 13.02400s\n",
      "(array([0.99299411, 0.262884  ]), array([0.917628  , 0.81941571]), array([0.95382461, 0.39806216]), array([337032,  12083], dtype=int64))\n",
      "(array([0.98354618, 0.21038598]), array([0.90914005, 0.61415864]), array([0.94488057, 0.31341025]), array([68446,  2698], dtype=int64))\n",
      "Epoch: 021, Loss: 0.51014, Train Score: (0.8685218538673461, 0.5442748975444339), Val Score: (0.7616493440192457, 0.4195884569112855), Time: 13.33600s\n",
      "(array([0.99349416, 0.26464088]), array([0.91706722, 0.83249193]), array([0.95375206, 0.401613  ]), array([337032,  12083], dtype=int64))\n",
      "(array([0.98330185, 0.2021368 ]), array([0.90507846, 0.61008154]), array([0.94257001, 0.30366202]), array([68446,  2698], dtype=int64))\n",
      "Epoch: 022, Loss: 0.48390, Train Score: (0.8747795764577118, 0.5514651656837086), Val Score: (0.7575799989459965, 0.4135026287769884), Time: 12.51800s\n"
     ]
    },
    {
     "ename": "KeyboardInterrupt",
     "evalue": "",
     "output_type": "error",
     "traceback": [
      "\u001B[1;31m---------------------------------------------------------------------------\u001B[0m",
      "\u001B[1;31mKeyboardInterrupt\u001B[0m                         Traceback (most recent call last)",
      "Cell \u001B[1;32mIn[8], line 6\u001B[0m\n\u001B[0;32m      4\u001B[0m \u001B[38;5;28;01mfor\u001B[39;00m epoch \u001B[38;5;129;01min\u001B[39;00m \u001B[38;5;28mrange\u001B[39m(\u001B[38;5;241m1\u001B[39m, \u001B[38;5;241m201\u001B[39m):\n\u001B[0;32m      5\u001B[0m     s \u001B[38;5;241m=\u001B[39m time\u001B[38;5;241m.\u001B[39mtime()\n\u001B[1;32m----> 6\u001B[0m     loss \u001B[38;5;241m=\u001B[39m \u001B[43mtrain\u001B[49m\u001B[43m(\u001B[49m\u001B[43mmodel\u001B[49m\u001B[43m,\u001B[49m\u001B[43m \u001B[49m\u001B[43mtrain_dl\u001B[49m\u001B[43m,\u001B[49m\u001B[43m \u001B[49m\u001B[43mcriterion\u001B[49m\u001B[43m,\u001B[49m\u001B[43m \u001B[49m\u001B[43moptimizer\u001B[49m\u001B[43m)\u001B[49m\n\u001B[0;32m      7\u001B[0m     train_score \u001B[38;5;241m=\u001B[39m evaluate(model, train_dl)\n\u001B[0;32m      8\u001B[0m     val_score \u001B[38;5;241m=\u001B[39m evaluate(model, val_dl)\n",
      "Cell \u001B[1;32mIn[6], line 12\u001B[0m, in \u001B[0;36mtrain\u001B[1;34m(model, loader, criterion, optimizer)\u001B[0m\n\u001B[0;32m      9\u001B[0m label \u001B[38;5;241m=\u001B[39m data\u001B[38;5;241m.\u001B[39my\n\u001B[0;32m     11\u001B[0m loss \u001B[38;5;241m=\u001B[39m criterion(output, label\u001B[38;5;241m.\u001B[39mreshape(\u001B[38;5;241m-\u001B[39m\u001B[38;5;241m1\u001B[39m, \u001B[38;5;241m1\u001B[39m))\n\u001B[1;32m---> 12\u001B[0m \u001B[43mloss\u001B[49m\u001B[38;5;241;43m.\u001B[39;49m\u001B[43mbackward\u001B[49m\u001B[43m(\u001B[49m\u001B[43m)\u001B[49m\n\u001B[0;32m     13\u001B[0m loss_acc \u001B[38;5;241m+\u001B[39m\u001B[38;5;241m=\u001B[39m data\u001B[38;5;241m.\u001B[39mnum_graphs \u001B[38;5;241m*\u001B[39m loss\u001B[38;5;241m.\u001B[39mitem()\n\u001B[0;32m     14\u001B[0m optimizer\u001B[38;5;241m.\u001B[39mstep()\n",
      "File \u001B[1;32m~\\anaconda3\\envs\\watai\\lib\\site-packages\\torch\\_tensor.py:396\u001B[0m, in \u001B[0;36mTensor.backward\u001B[1;34m(self, gradient, retain_graph, create_graph, inputs)\u001B[0m\n\u001B[0;32m    387\u001B[0m \u001B[38;5;28;01mif\u001B[39;00m has_torch_function_unary(\u001B[38;5;28mself\u001B[39m):\n\u001B[0;32m    388\u001B[0m     \u001B[38;5;28;01mreturn\u001B[39;00m handle_torch_function(\n\u001B[0;32m    389\u001B[0m         Tensor\u001B[38;5;241m.\u001B[39mbackward,\n\u001B[0;32m    390\u001B[0m         (\u001B[38;5;28mself\u001B[39m,),\n\u001B[1;32m   (...)\u001B[0m\n\u001B[0;32m    394\u001B[0m         create_graph\u001B[38;5;241m=\u001B[39mcreate_graph,\n\u001B[0;32m    395\u001B[0m         inputs\u001B[38;5;241m=\u001B[39minputs)\n\u001B[1;32m--> 396\u001B[0m \u001B[43mtorch\u001B[49m\u001B[38;5;241;43m.\u001B[39;49m\u001B[43mautograd\u001B[49m\u001B[38;5;241;43m.\u001B[39;49m\u001B[43mbackward\u001B[49m\u001B[43m(\u001B[49m\u001B[38;5;28;43mself\u001B[39;49m\u001B[43m,\u001B[49m\u001B[43m \u001B[49m\u001B[43mgradient\u001B[49m\u001B[43m,\u001B[49m\u001B[43m \u001B[49m\u001B[43mretain_graph\u001B[49m\u001B[43m,\u001B[49m\u001B[43m \u001B[49m\u001B[43mcreate_graph\u001B[49m\u001B[43m,\u001B[49m\u001B[43m \u001B[49m\u001B[43minputs\u001B[49m\u001B[38;5;241;43m=\u001B[39;49m\u001B[43minputs\u001B[49m\u001B[43m)\u001B[49m\n",
      "File \u001B[1;32m~\\anaconda3\\envs\\watai\\lib\\site-packages\\torch\\autograd\\__init__.py:173\u001B[0m, in \u001B[0;36mbackward\u001B[1;34m(tensors, grad_tensors, retain_graph, create_graph, grad_variables, inputs)\u001B[0m\n\u001B[0;32m    168\u001B[0m     retain_graph \u001B[38;5;241m=\u001B[39m create_graph\n\u001B[0;32m    170\u001B[0m \u001B[38;5;66;03m# The reason we repeat same the comment below is that\u001B[39;00m\n\u001B[0;32m    171\u001B[0m \u001B[38;5;66;03m# some Python versions print out the first line of a multi-line function\u001B[39;00m\n\u001B[0;32m    172\u001B[0m \u001B[38;5;66;03m# calls in the traceback and some print out the last line\u001B[39;00m\n\u001B[1;32m--> 173\u001B[0m \u001B[43mVariable\u001B[49m\u001B[38;5;241;43m.\u001B[39;49m\u001B[43m_execution_engine\u001B[49m\u001B[38;5;241;43m.\u001B[39;49m\u001B[43mrun_backward\u001B[49m\u001B[43m(\u001B[49m\u001B[43m  \u001B[49m\u001B[38;5;66;43;03m# Calls into the C++ engine to run the backward pass\u001B[39;49;00m\n\u001B[0;32m    174\u001B[0m \u001B[43m    \u001B[49m\u001B[43mtensors\u001B[49m\u001B[43m,\u001B[49m\u001B[43m \u001B[49m\u001B[43mgrad_tensors_\u001B[49m\u001B[43m,\u001B[49m\u001B[43m \u001B[49m\u001B[43mretain_graph\u001B[49m\u001B[43m,\u001B[49m\u001B[43m \u001B[49m\u001B[43mcreate_graph\u001B[49m\u001B[43m,\u001B[49m\u001B[43m \u001B[49m\u001B[43minputs\u001B[49m\u001B[43m,\u001B[49m\n\u001B[0;32m    175\u001B[0m \u001B[43m    \u001B[49m\u001B[43mallow_unreachable\u001B[49m\u001B[38;5;241;43m=\u001B[39;49m\u001B[38;5;28;43;01mTrue\u001B[39;49;00m\u001B[43m,\u001B[49m\u001B[43m \u001B[49m\u001B[43maccumulate_grad\u001B[49m\u001B[38;5;241;43m=\u001B[39;49m\u001B[38;5;28;43;01mTrue\u001B[39;49;00m\u001B[43m)\u001B[49m\n",
      "\u001B[1;31mKeyboardInterrupt\u001B[0m: "
     ]
    }
   ],
   "source": [
    "train_hist = []\n",
    "val_hist = []\n",
    "\n",
    "for epoch in range(1, 201):\n",
    "    s = time.time()\n",
    "    loss = train(model, train_dl, criterion, optimizer)\n",
    "    train_score = evaluate(model, train_dl)\n",
    "    val_score = evaluate(model, val_dl)\n",
    "    scheduler.step(loss)\n",
    "    e = time.time()\n",
    "\n",
    "    train_hist.append(train_score)\n",
    "    val_hist.append(val_score)\n",
    "\n",
    "    if sum(val_score) > (.77 + .44) and sum(val_score) >= np.asarray(val_hist).sum(axis=1).max():\n",
    "        print(\"saving...\")\n",
    "        torch.save(model.state_dict(), './models/BestModel5.pt')\n",
    "\n",
    "    # print(f'Epoch: {epoch:03d}, Loss: {loss:.05f}, Train Score: {train_score:.05f}, Val Score: {val_score:.05f}, Time: {e - s:.05f}s')\n",
    "    print(f'Epoch: {epoch:03d}, Loss: {loss:.05f}, Train Score: {train_score}, Val Score: {val_score}, Time: {e - s:.05f}s')"
   ],
   "metadata": {
    "collapsed": false
   }
  },
  {
   "cell_type": "code",
   "execution_count": 9,
   "outputs": [
    {
     "data": {
      "text/plain": "<Figure size 640x480 with 1 Axes>",
      "image/png": "[encoded data removed]"
     },
     "metadata": {},
     "output_type": "display_data"
    }
   ],
   "source": [
    "import matplotlib.pyplot as plt\n",
    "plt.plot(val_hist)\n",
    "plt.plot(train_hist)\n",
    "plt.show()"
   ],
   "metadata": {
    "collapsed": false
   }
  },
  {
   "cell_type": "code",
   "execution_count": 10,
   "outputs": [
    {
     "name": "stdout",
     "output_type": "stream",
     "text": [
      "(array([0.98713592, 0.22892093]), array([0.92886315, 0.63566518]), array([0.95711339, 0.3366167 ]), array([74434,  2473], dtype=int64))\n"
     ]
    },
    {
     "data": {
      "text/plain": "(0.782264168961045, 0.43815077934221763)"
     },
     "execution_count": 10,
     "metadata": {},
     "output_type": "execute_result"
    }
   ],
   "source": [
    "evaluate(model, test_dl)"
   ],
   "metadata": {
    "collapsed": false
   }
  },
  {
   "cell_type": "code",
   "execution_count": 11,
   "outputs": [
    {
     "name": "stdout",
     "output_type": "stream",
     "text": [
      "(array([0.98963604, 0.15874281]), array([0.87234328, 0.72503033]), array([0.92729532, 0.26045904]), array([74434,  2473], dtype=int64))\n"
     ]
    },
    {
     "data": {
      "text/plain": "(0.798686805760265, 0.4463074910175981)"
     },
     "execution_count": 11,
     "metadata": {},
     "output_type": "execute_result"
    }
   ],
   "source": [
    "model.load_state_dict(torch.load('./models/BestModel5.pt'))\n",
    "evaluate(model, test_dl)"
   ],
   "metadata": {
    "collapsed": false
   }
  },
  {
   "cell_type": "code",
   "execution_count": null,
   "outputs": [],
   "source": [],
   "metadata": {
    "collapsed": false
   }
  },
  {
   "cell_type": "code",
   "execution_count": null,
   "outputs": [],
   "source": [
    "data = test_dl.dataset[106].to(device)"
   ],
   "metadata": {
    "collapsed": false
   }
  },
  {
   "cell_type": "code",
   "execution_count": null,
   "outputs": [],
   "source": [
    "pred = model(data)"
   ],
   "metadata": {
    "collapsed": false
   }
  },
  {
   "cell_type": "code",
   "execution_count": null,
   "outputs": [],
   "source": [
    "out = torch.sigmoid(pred).round()\n",
    "out"
   ],
   "metadata": {
    "collapsed": false
   }
  },
  {
   "cell_type": "code",
   "execution_count": null,
   "outputs": [],
   "source": [
    "print(out.sum())\n",
    "print(len(out))"
   ],
   "metadata": {
    "collapsed": false
   }
  },
  {
   "cell_type": "code",
   "execution_count": null,
   "outputs": [],
   "source": [
    "len(data.y) / data.y.sum()"
   ],
   "metadata": {
    "collapsed": false
   }
  },
  {
   "cell_type": "code",
   "execution_count": null,
   "outputs": [],
   "source": [
    "data.y.sum()"
   ],
   "metadata": {
    "collapsed": false
   }
  },
  {
   "cell_type": "code",
   "execution_count": null,
   "outputs": [],
   "source": [
    "f1_score(data.y.detach().cpu().numpy(), out.detach().cpu().numpy())"
   ],
   "metadata": {
    "collapsed": false
   }
  },
  {
   "cell_type": "code",
   "execution_count": null,
   "outputs": [],
   "source": [
    "torch.save(model.state_dict(), './models/modelBest.pt')"
   ],
   "metadata": {
    "collapsed": false
   }
  },
  {
   "cell_type": "code",
   "execution_count": null,
   "outputs": [],
   "source": [],
   "metadata": {
    "collapsed": false
   }
  }
 ],
 "metadata": {
  "kernelspec": {
   "display_name": "Python 3",
   "language": "python",
   "name": "python3"
  },
  "language_info": {
   "codemirror_mode": {
    "name": "ipython",
    "version": 2
   },
   "file_extension": ".py",
   "mimetype": "text/x-python",
   "name": "python",
   "nbconvert_exporter": "python",
   "pygments_lexer": "ipython2",
   "version": "2.7.6"
  }
 },
 "nbformat": 4,
 "nbformat_minor": 0
}
