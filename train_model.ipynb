{
 "cells": [
  {
   "cell_type": "markdown",
   "source": [
    "Next steps:\n",
    "1. Add a \"master node\" that connects all nodes together, so that message passing works between all nodes"
   ],
   "metadata": {
    "collapsed": false
   }
  },
  {
   "cell_type": "code",
   "execution_count": 1,
   "metadata": {
    "collapsed": true
   },
   "outputs": [],
   "source": [
    "import pandas as pd\n",
    "\n",
    "from EmbedDataset import LigandBinaryDataset\n",
    "\n",
    "import time\n",
    "import numpy as np\n",
    "import torch\n",
    "from torch_geometric.loader import DataLoader"
   ]
  },
  {
   "cell_type": "code",
   "execution_count": 2,
   "outputs": [],
   "source": [
    "dataset = LigandBinaryDataset('./data2/')"
   ],
   "metadata": {
    "collapsed": false
   }
  },
  {
   "cell_type": "code",
   "execution_count": 3,
   "outputs": [],
   "source": [
    "dataset = dataset.shuffle()\n",
    "train_dataset = dataset[:int(len(dataset) * 0.7)]\n",
    "val_dataset = dataset[int(len(dataset) * 0.7):int(len(dataset) * 0.85)]\n",
    "test_dataset = dataset[int(len(dataset) * 0.85):]"
   ],
   "metadata": {
    "collapsed": false
   }
  },
  {
   "cell_type": "code",
   "execution_count": 4,
   "outputs": [],
   "source": [
    "train_dl = DataLoader(train_dataset, batch_size=16)\n",
    "val_dl = DataLoader(val_dataset, batch_size=16)\n",
    "test_dl = DataLoader(test_dataset, batch_size=16)"
   ],
   "metadata": {
    "collapsed": false
   }
  },
  {
   "cell_type": "code",
   "execution_count": 6,
   "outputs": [],
   "source": [
    "from LigandGNNV2 import LigandGNNV2\n",
    "from LigandGNNV1 import LigandGNNV1\n",
    "\n",
    "device = torch.device('cuda')\n",
    "# model = LigandGNNV1(dataset.num_node_features, 1).to(device)\n",
    "model = LigandGNNV2(256, 28, dataset[0]).to(device)\n",
    "optimizer = torch.optim.Adam(model.parameters(), lr=0.0001)\n",
    "# scheduler = torch.optim.lr_scheduler.ReduceLROnPlateau(optimizer, mode='max')\n",
    "criterion = torch.nn.BCEWithLogitsLoss(pos_weight=torch.FloatTensor([20]).to(device))"
   ],
   "metadata": {
    "collapsed": false
   }
  },
  {
   "cell_type": "code",
   "execution_count": 7,
   "outputs": [],
   "source": [
    "def train(model, loader, criterion, optimizer):\n",
    "    model.train()\n",
    "\n",
    "    loss_acc = 0.\n",
    "    for data in loader:\n",
    "        data = data.to(device)\n",
    "        optimizer.zero_grad()\n",
    "        output = model(data)\n",
    "        label = data.y\n",
    "\n",
    "        loss = criterion(output, label.reshape(-1, 1))\n",
    "        loss.backward()\n",
    "        loss_acc += data.num_graphs * loss.item()\n",
    "        optimizer.step()\n",
    "\n",
    "    return loss_acc / len(loader.dataset)"
   ],
   "metadata": {
    "collapsed": false
   }
  },
  {
   "cell_type": "code",
   "execution_count": 18,
   "outputs": [],
   "source": [
    "from sklearn.metrics import f1_score, precision_recall_curve, roc_curve, auc, precision_recall_fscore_support, roc_auc_score\n",
    "\n",
    "def evaluate(model, loader):\n",
    "    model.eval()\n",
    "\n",
    "    preds = np.asarray([])\n",
    "    labels = np.asarray([])\n",
    "\n",
    "    with torch.no_grad():\n",
    "        for data in loader:\n",
    "            data = data.to(device)\n",
    "            pred = torch.sigmoid(model(data).round().squeeze().cpu()).round().numpy()\n",
    "            label = data.y.cpu().numpy()\n",
    "\n",
    "            preds = np.concatenate([preds, pred])\n",
    "            labels = np.concatenate([labels, label])\n",
    "\n",
    "    precision, recall, _ = precision_recall_curve(labels, preds)\n",
    "    fpr, tpr, thresholds = roc_curve(labels, preds, pos_label=1)\n",
    "    print(precision_recall_fscore_support(labels, preds))\n",
    "    return auc(fpr, tpr), auc(recall, precision)\n",
    "    return roc_auc_score(labels, preds)"
   ],
   "metadata": {
    "collapsed": false
   }
  },
  {
   "cell_type": "code",
   "execution_count": 9,
   "outputs": [
    {
     "name": "stdout",
     "output_type": "stream",
     "text": [
      "Epoch: 001, Loss: 1.06089, Train Score: 0.6657322052986582, Val Score: 0.6696066198048812, Time: 17.79700s\n",
      "Epoch: 002, Loss: 0.98178, Train Score: 0.6294986241623703, Val Score: 0.6214372542696863, Time: 14.82051s\n",
      "Epoch: 003, Loss: 0.95383, Train Score: 0.6466449215829981, Val Score: 0.6391516248743443, Time: 16.24900s\n",
      "Epoch: 004, Loss: 0.90650, Train Score: 0.6546034351939696, Val Score: 0.649754882777705, Time: 16.28047s\n",
      "Epoch: 005, Loss: 0.87465, Train Score: 0.6439985120133592, Val Score: 0.644125840754905, Time: 15.36059s\n",
      "Epoch: 006, Loss: 0.83713, Train Score: 0.6796469209138265, Val Score: 0.6843800458897844, Time: 16.10000s\n",
      "Epoch: 007, Loss: 0.82072, Train Score: 0.6821095473126605, Val Score: 0.6835624766410383, Time: 14.81800s\n",
      "Epoch: 008, Loss: 0.81081, Train Score: 0.7224193139131602, Val Score: 0.719454207937582, Time: 15.14600s\n",
      "Epoch: 009, Loss: 0.75775, Train Score: 0.7550084699840923, Val Score: 0.7497260507190796, Time: 15.15600s\n",
      "Epoch: 010, Loss: 0.73647, Train Score: 0.7912788790350779, Val Score: 0.7873009838828195, Time: 14.77829s\n",
      "Epoch: 011, Loss: 0.71658, Train Score: 0.796908074749107, Val Score: 0.7926243300534257, Time: 14.77300s\n",
      "Epoch: 012, Loss: 0.69945, Train Score: 0.7807106424891594, Val Score: 0.7777494848915689, Time: 14.58300s\n",
      "Epoch: 013, Loss: 0.71000, Train Score: 0.7007043796879099, Val Score: 0.6956862678450542, Time: 14.52200s\n",
      "Epoch: 014, Loss: 0.71057, Train Score: 0.8054928095075833, Val Score: 0.8090649468209525, Time: 14.51100s\n",
      "Epoch: 015, Loss: 0.66532, Train Score: 0.8187344079566734, Val Score: 0.813525075467988, Time: 15.11248s\n",
      "Epoch: 016, Loss: 0.64449, Train Score: 0.8180638112307301, Val Score: 0.8129993525458603, Time: 15.01200s\n",
      "Epoch: 017, Loss: 0.63880, Train Score: 0.8102134216614478, Val Score: 0.8031146151851923, Time: 16.00700s\n",
      "Epoch: 018, Loss: 0.63327, Train Score: 0.7996333809233038, Val Score: 0.7954747830551577, Time: 16.01600s\n",
      "Epoch: 019, Loss: 0.62355, Train Score: 0.8029247512427709, Val Score: 0.7932140157198824, Time: 15.94200s\n",
      "Epoch: 020, Loss: 0.61040, Train Score: 0.803335531621216, Val Score: 0.7917983899665629, Time: 15.03263s\n",
      "Epoch: 021, Loss: 0.61977, Train Score: 0.7511593537573608, Val Score: 0.7415291143414744, Time: 14.49600s\n",
      "Epoch: 022, Loss: 0.60238, Train Score: 0.8232835146435602, Val Score: 0.8064110035300638, Time: 15.77400s\n",
      "Epoch: 023, Loss: 0.57626, Train Score: 0.8078784706925952, Val Score: 0.7867729502217639, Time: 15.56200s\n",
      "Epoch: 024, Loss: 0.55847, Train Score: 0.7986325275002195, Val Score: 0.7744006800430125, Time: 14.94300s\n",
      "Epoch: 025, Loss: 0.54652, Train Score: 0.8097175105924472, Val Score: 0.7835205404564917, Time: 14.98400s\n",
      "Epoch: 026, Loss: 0.54772, Train Score: 0.7808447222904492, Val Score: 0.7513618749842534, Time: 14.64000s\n",
      "Epoch: 027, Loss: 0.54814, Train Score: 0.8214644626618386, Val Score: 0.7917852858406416, Time: 14.59400s\n",
      "Epoch: 028, Loss: 0.53086, Train Score: 0.8108535573788161, Val Score: 0.7835988968681439, Time: 14.48297s\n",
      "Epoch: 029, Loss: 0.53411, Train Score: 0.8465446572537878, Val Score: 0.7997768347975219, Time: 14.70600s\n",
      "Epoch: 030, Loss: 0.52221, Train Score: 0.8640979143290808, Val Score: 0.8277828415260955, Time: 15.28600s\n",
      "Epoch: 031, Loss: 0.50848, Train Score: 0.7923464643587262, Val Score: 0.7610795533744168, Time: 14.69800s\n",
      "Epoch: 032, Loss: 0.50071, Train Score: 0.8528501407762802, Val Score: 0.8237961534694402, Time: 15.10700s\n",
      "Epoch: 033, Loss: 0.48787, Train Score: 0.876173125476098, Val Score: 0.8312109568978612, Time: 15.32069s\n",
      "Epoch: 034, Loss: 0.48177, Train Score: 0.8536370747585433, Val Score: 0.8076924797076126, Time: 15.87900s\n",
      "Epoch: 035, Loss: 0.50341, Train Score: 0.8736669532922549, Val Score: 0.8253139586073609, Time: 14.95600s\n",
      "Epoch: 036, Loss: 0.49454, Train Score: 0.8508269434163352, Val Score: 0.7965704087369189, Time: 15.79800s\n",
      "Epoch: 037, Loss: 0.50472, Train Score: 0.8712450887734426, Val Score: 0.8253772728539907, Time: 15.45305s\n",
      "Epoch: 038, Loss: 0.46701, Train Score: 0.8711755364695493, Val Score: 0.7888709669965358, Time: 15.02600s\n",
      "Epoch: 039, Loss: 0.48579, Train Score: 0.8753186805591248, Val Score: 0.8297874671781897, Time: 14.88400s\n",
      "Epoch: 040, Loss: 0.45603, Train Score: 0.8890695223655845, Val Score: 0.8195893041709136, Time: 14.75070s\n",
      "Epoch: 041, Loss: 0.42192, Train Score: 0.8927159225713442, Val Score: 0.8093632259465867, Time: 14.62400s\n",
      "Epoch: 042, Loss: 0.43034, Train Score: 0.8828997529724539, Val Score: 0.8077563008260071, Time: 14.68900s\n",
      "Epoch: 043, Loss: 0.41989, Train Score: 0.8957109974174063, Val Score: 0.8128928796592509, Time: 15.62500s\n",
      "Epoch: 044, Loss: 0.43000, Train Score: 0.8665250366636722, Val Score: 0.803817713409039, Time: 15.42001s\n",
      "Epoch: 045, Loss: 0.43898, Train Score: 0.8906449874347085, Val Score: 0.8207339473339366, Time: 15.57299s\n",
      "Epoch: 046, Loss: 0.43279, Train Score: 0.8801370208908581, Val Score: 0.8264596975078755, Time: 15.16400s\n",
      "Epoch: 047, Loss: 0.43631, Train Score: 0.8956603962128509, Val Score: 0.8380385941106568, Time: 14.95920s\n",
      "Epoch: 048, Loss: 0.41878, Train Score: 0.8871275144795449, Val Score: 0.8287796570296926, Time: 14.97900s\n",
      "Epoch: 049, Loss: 0.42453, Train Score: 0.8957972996805664, Val Score: 0.830203280921302, Time: 14.76400s\n",
      "Epoch: 050, Loss: 0.39168, Train Score: 0.9123874890268098, Val Score: 0.834262369646372, Time: 14.69800s\n",
      "Epoch: 051, Loss: 0.38428, Train Score: 0.8803797129898014, Val Score: 0.8254102866046762, Time: 14.65100s\n",
      "Epoch: 052, Loss: 0.41200, Train Score: 0.9032848029141745, Val Score: 0.8234321450022966, Time: 14.98500s\n",
      "Epoch: 053, Loss: 0.40565, Train Score: 0.9059621532884726, Val Score: 0.8316226858508685, Time: 14.69900s\n",
      "Epoch: 054, Loss: 0.37462, Train Score: 0.9181413874896407, Val Score: 0.8167110104920965, Time: 14.54000s\n",
      "Epoch: 055, Loss: 0.35154, Train Score: 0.9084007780392638, Val Score: 0.8299951355218566, Time: 14.47000s\n",
      "Epoch: 056, Loss: 0.36965, Train Score: 0.8633285930930479, Val Score: 0.8227733235179107, Time: 14.51600s\n",
      "Epoch: 057, Loss: 0.44264, Train Score: 0.9023750552744425, Val Score: 0.8202107065926574, Time: 14.54610s\n",
      "Epoch: 058, Loss: 0.39273, Train Score: 0.8730047768063064, Val Score: 0.81856031721824, Time: 14.53302s\n",
      "Epoch: 059, Loss: 0.41488, Train Score: 0.9100265787935488, Val Score: 0.8310238466766581, Time: 14.52000s\n"
     ]
    },
    {
     "ename": "KeyboardInterrupt",
     "evalue": "",
     "output_type": "error",
     "traceback": [
      "\u001B[1;31m---------------------------------------------------------------------------\u001B[0m",
      "\u001B[1;31mKeyboardInterrupt\u001B[0m                         Traceback (most recent call last)",
      "Cell \u001B[1;32mIn[9], line 5\u001B[0m\n\u001B[0;32m      3\u001B[0m \u001B[38;5;28;01mfor\u001B[39;00m epoch \u001B[38;5;129;01min\u001B[39;00m \u001B[38;5;28mrange\u001B[39m(\u001B[38;5;241m1\u001B[39m, \u001B[38;5;241m201\u001B[39m):\n\u001B[0;32m      4\u001B[0m     s \u001B[38;5;241m=\u001B[39m time\u001B[38;5;241m.\u001B[39mtime()\n\u001B[1;32m----> 5\u001B[0m     loss \u001B[38;5;241m=\u001B[39m \u001B[43mtrain\u001B[49m\u001B[43m(\u001B[49m\u001B[43mmodel\u001B[49m\u001B[43m,\u001B[49m\u001B[43m \u001B[49m\u001B[43mtrain_dl\u001B[49m\u001B[43m,\u001B[49m\u001B[43m \u001B[49m\u001B[43mcriterion\u001B[49m\u001B[43m,\u001B[49m\u001B[43m \u001B[49m\u001B[43moptimizer\u001B[49m\u001B[43m)\u001B[49m\n\u001B[0;32m      6\u001B[0m     train_score \u001B[38;5;241m=\u001B[39m evaluate(model, train_dl)\n\u001B[0;32m      7\u001B[0m     val_score \u001B[38;5;241m=\u001B[39m evaluate(model, val_dl)\n",
      "Cell \u001B[1;32mIn[7], line 12\u001B[0m, in \u001B[0;36mtrain\u001B[1;34m(model, loader, criterion, optimizer)\u001B[0m\n\u001B[0;32m      9\u001B[0m label \u001B[38;5;241m=\u001B[39m data\u001B[38;5;241m.\u001B[39my\n\u001B[0;32m     11\u001B[0m loss \u001B[38;5;241m=\u001B[39m criterion(output, label\u001B[38;5;241m.\u001B[39mreshape(\u001B[38;5;241m-\u001B[39m\u001B[38;5;241m1\u001B[39m, \u001B[38;5;241m1\u001B[39m))\n\u001B[1;32m---> 12\u001B[0m \u001B[43mloss\u001B[49m\u001B[38;5;241;43m.\u001B[39;49m\u001B[43mbackward\u001B[49m\u001B[43m(\u001B[49m\u001B[43m)\u001B[49m\n\u001B[0;32m     13\u001B[0m loss_acc \u001B[38;5;241m+\u001B[39m\u001B[38;5;241m=\u001B[39m data\u001B[38;5;241m.\u001B[39mnum_graphs \u001B[38;5;241m*\u001B[39m loss\u001B[38;5;241m.\u001B[39mitem()\n\u001B[0;32m     14\u001B[0m optimizer\u001B[38;5;241m.\u001B[39mstep()\n",
      "File \u001B[1;32m~\\anaconda3\\envs\\watai\\lib\\site-packages\\torch\\_tensor.py:396\u001B[0m, in \u001B[0;36mTensor.backward\u001B[1;34m(self, gradient, retain_graph, create_graph, inputs)\u001B[0m\n\u001B[0;32m    387\u001B[0m \u001B[38;5;28;01mif\u001B[39;00m has_torch_function_unary(\u001B[38;5;28mself\u001B[39m):\n\u001B[0;32m    388\u001B[0m     \u001B[38;5;28;01mreturn\u001B[39;00m handle_torch_function(\n\u001B[0;32m    389\u001B[0m         Tensor\u001B[38;5;241m.\u001B[39mbackward,\n\u001B[0;32m    390\u001B[0m         (\u001B[38;5;28mself\u001B[39m,),\n\u001B[1;32m   (...)\u001B[0m\n\u001B[0;32m    394\u001B[0m         create_graph\u001B[38;5;241m=\u001B[39mcreate_graph,\n\u001B[0;32m    395\u001B[0m         inputs\u001B[38;5;241m=\u001B[39minputs)\n\u001B[1;32m--> 396\u001B[0m \u001B[43mtorch\u001B[49m\u001B[38;5;241;43m.\u001B[39;49m\u001B[43mautograd\u001B[49m\u001B[38;5;241;43m.\u001B[39;49m\u001B[43mbackward\u001B[49m\u001B[43m(\u001B[49m\u001B[38;5;28;43mself\u001B[39;49m\u001B[43m,\u001B[49m\u001B[43m \u001B[49m\u001B[43mgradient\u001B[49m\u001B[43m,\u001B[49m\u001B[43m \u001B[49m\u001B[43mretain_graph\u001B[49m\u001B[43m,\u001B[49m\u001B[43m \u001B[49m\u001B[43mcreate_graph\u001B[49m\u001B[43m,\u001B[49m\u001B[43m \u001B[49m\u001B[43minputs\u001B[49m\u001B[38;5;241;43m=\u001B[39;49m\u001B[43minputs\u001B[49m\u001B[43m)\u001B[49m\n",
      "File \u001B[1;32m~\\anaconda3\\envs\\watai\\lib\\site-packages\\torch\\autograd\\__init__.py:173\u001B[0m, in \u001B[0;36mbackward\u001B[1;34m(tensors, grad_tensors, retain_graph, create_graph, grad_variables, inputs)\u001B[0m\n\u001B[0;32m    168\u001B[0m     retain_graph \u001B[38;5;241m=\u001B[39m create_graph\n\u001B[0;32m    170\u001B[0m \u001B[38;5;66;03m# The reason we repeat same the comment below is that\u001B[39;00m\n\u001B[0;32m    171\u001B[0m \u001B[38;5;66;03m# some Python versions print out the first line of a multi-line function\u001B[39;00m\n\u001B[0;32m    172\u001B[0m \u001B[38;5;66;03m# calls in the traceback and some print out the last line\u001B[39;00m\n\u001B[1;32m--> 173\u001B[0m \u001B[43mVariable\u001B[49m\u001B[38;5;241;43m.\u001B[39;49m\u001B[43m_execution_engine\u001B[49m\u001B[38;5;241;43m.\u001B[39;49m\u001B[43mrun_backward\u001B[49m\u001B[43m(\u001B[49m\u001B[43m  \u001B[49m\u001B[38;5;66;43;03m# Calls into the C++ engine to run the backward pass\u001B[39;49;00m\n\u001B[0;32m    174\u001B[0m \u001B[43m    \u001B[49m\u001B[43mtensors\u001B[49m\u001B[43m,\u001B[49m\u001B[43m \u001B[49m\u001B[43mgrad_tensors_\u001B[49m\u001B[43m,\u001B[49m\u001B[43m \u001B[49m\u001B[43mretain_graph\u001B[49m\u001B[43m,\u001B[49m\u001B[43m \u001B[49m\u001B[43mcreate_graph\u001B[49m\u001B[43m,\u001B[49m\u001B[43m \u001B[49m\u001B[43minputs\u001B[49m\u001B[43m,\u001B[49m\n\u001B[0;32m    175\u001B[0m \u001B[43m    \u001B[49m\u001B[43mallow_unreachable\u001B[49m\u001B[38;5;241;43m=\u001B[39;49m\u001B[38;5;28;43;01mTrue\u001B[39;49;00m\u001B[43m,\u001B[49m\u001B[43m \u001B[49m\u001B[43maccumulate_grad\u001B[49m\u001B[38;5;241;43m=\u001B[39;49m\u001B[38;5;28;43;01mTrue\u001B[39;49;00m\u001B[43m)\u001B[49m\n",
      "\u001B[1;31mKeyboardInterrupt\u001B[0m: "
     ]
    }
   ],
   "source": [
    "train_hist = []\n",
    "val_hist = []\n",
    "for epoch in range(1, 201):\n",
    "    s = time.time()\n",
    "    loss = train(model, train_dl, criterion, optimizer)\n",
    "    train_score = evaluate(model, train_dl)\n",
    "    val_score = evaluate(model, val_dl)\n",
    "    # scheduler.step(val_score)\n",
    "    e = time.time()\n",
    "\n",
    "    train_hist.append(train_score)\n",
    "    val_hist.append(val_score)\n",
    "\n",
    "    # print(f'Epoch: {epoch:03d}, Loss: {loss:.05f}, Train Score: {train_score:.05f}, Val Score: {val_score:.05f}, Time: {e - s:.05f}s')\n",
    "    print(f'Epoch: {epoch:03d}, Loss: {loss:.05f}, Train Score: {train_score}, Val Score: {val_score}, Time: {e - s:.05f}s')"
   ],
   "metadata": {
    "collapsed": false
   }
  },
  {
   "cell_type": "code",
   "execution_count": 10,
   "outputs": [
    {
     "data": {
      "text/plain": "<Figure size 640x480 with 1 Axes>",
      "image/png": "[encoded data removed]"
     },
     "metadata": {},
     "output_type": "display_data"
    }
   ],
   "source": [
    "import matplotlib.pyplot as plt\n",
    "plt.plot(val_hist)\n",
    "plt.plot(train_hist)\n",
    "plt.show()"
   ],
   "metadata": {
    "collapsed": false
   }
  },
  {
   "cell_type": "code",
   "execution_count": 19,
   "outputs": [
    {
     "name": "stdout",
     "output_type": "stream",
     "text": [
      "(array([0.97860893, 0.37138158]), array([0.96932535, 0.46100449]), array([0.97394502, 0.41136819]), array([62299,  2449], dtype=int64))\n"
     ]
    },
    {
     "data": {
      "text/plain": "(0.7151649209779434, 0.42638640033432695)"
     },
     "execution_count": 19,
     "metadata": {},
     "output_type": "execute_result"
    }
   ],
   "source": [
    "evaluate(model, test_dl)"
   ],
   "metadata": {
    "collapsed": false
   }
  },
  {
   "cell_type": "code",
   "execution_count": 12,
   "outputs": [],
   "source": [
    "data = test_dl.dataset[9].to(device)"
   ],
   "metadata": {
    "collapsed": false
   }
  },
  {
   "cell_type": "code",
   "execution_count": 13,
   "outputs": [],
   "source": [
    "pred = model(data)"
   ],
   "metadata": {
    "collapsed": false
   }
  },
  {
   "cell_type": "code",
   "execution_count": 14,
   "outputs": [
    {
     "data": {
      "text/plain": "tensor([[0.],\n        [0.],\n        [0.],\n        [0.],\n        [0.],\n        [0.],\n        [0.],\n        [0.],\n        [0.],\n        [0.],\n        [0.],\n        [0.],\n        [0.],\n        [0.],\n        [1.],\n        [1.],\n        [1.],\n        [1.],\n        [1.],\n        [1.],\n        [1.],\n        [1.],\n        [0.],\n        [0.],\n        [0.],\n        [0.],\n        [0.],\n        [0.],\n        [0.],\n        [0.],\n        [0.],\n        [0.],\n        [0.],\n        [0.],\n        [0.],\n        [0.],\n        [0.],\n        [0.],\n        [1.],\n        [1.],\n        [1.],\n        [1.],\n        [1.],\n        [0.],\n        [1.],\n        [0.],\n        [0.],\n        [0.],\n        [0.],\n        [0.],\n        [0.],\n        [0.],\n        [0.],\n        [0.],\n        [0.],\n        [0.],\n        [0.],\n        [0.],\n        [1.],\n        [1.],\n        [1.],\n        [1.],\n        [1.],\n        [1.],\n        [1.],\n        [0.],\n        [0.],\n        [0.],\n        [0.],\n        [0.],\n        [0.],\n        [0.],\n        [0.],\n        [0.],\n        [0.],\n        [0.],\n        [0.],\n        [0.],\n        [0.],\n        [0.],\n        [0.],\n        [0.],\n        [0.],\n        [0.],\n        [0.],\n        [0.],\n        [0.],\n        [1.],\n        [1.],\n        [1.],\n        [1.],\n        [1.],\n        [1.],\n        [1.],\n        [1.],\n        [0.],\n        [0.],\n        [0.],\n        [0.],\n        [0.],\n        [0.],\n        [0.],\n        [0.],\n        [0.],\n        [0.],\n        [0.],\n        [0.],\n        [0.],\n        [0.],\n        [1.],\n        [0.],\n        [0.],\n        [1.],\n        [1.],\n        [0.],\n        [0.],\n        [0.],\n        [1.],\n        [0.],\n        [0.],\n        [0.],\n        [0.],\n        [0.],\n        [0.],\n        [0.],\n        [0.],\n        [0.],\n        [0.],\n        [0.],\n        [0.],\n        [0.],\n        [0.],\n        [0.],\n        [0.],\n        [0.],\n        [0.],\n        [0.],\n        [0.],\n        [1.],\n        [1.],\n        [1.],\n        [1.],\n        [1.],\n        [1.],\n        [1.],\n        [0.],\n        [0.],\n        [0.],\n        [0.],\n        [0.],\n        [0.],\n        [0.],\n        [0.],\n        [1.],\n        [0.],\n        [0.],\n        [0.],\n        [1.],\n        [0.],\n        [0.],\n        [0.],\n        [0.],\n        [0.],\n        [0.],\n        [0.],\n        [0.],\n        [0.],\n        [0.],\n        [0.],\n        [0.],\n        [0.],\n        [0.],\n        [0.],\n        [0.],\n        [0.],\n        [0.],\n        [0.],\n        [0.],\n        [0.],\n        [0.],\n        [0.],\n        [1.],\n        [1.],\n        [1.],\n        [1.],\n        [1.],\n        [1.],\n        [1.],\n        [1.],\n        [1.],\n        [1.],\n        [1.],\n        [0.],\n        [0.],\n        [0.],\n        [0.],\n        [0.],\n        [0.],\n        [0.],\n        [0.],\n        [0.],\n        [0.],\n        [0.],\n        [0.],\n        [0.],\n        [0.],\n        [0.],\n        [0.],\n        [0.],\n        [0.],\n        [0.],\n        [0.],\n        [0.],\n        [0.],\n        [0.],\n        [0.],\n        [0.],\n        [0.],\n        [0.],\n        [0.],\n        [0.],\n        [0.],\n        [0.],\n        [0.],\n        [0.],\n        [0.],\n        [0.],\n        [0.],\n        [0.],\n        [0.],\n        [0.],\n        [0.],\n        [0.],\n        [0.],\n        [0.],\n        [0.],\n        [0.],\n        [0.],\n        [0.],\n        [0.],\n        [0.],\n        [0.],\n        [0.],\n        [1.],\n        [0.],\n        [1.],\n        [0.],\n        [0.],\n        [0.],\n        [0.],\n        [0.],\n        [0.],\n        [0.],\n        [0.],\n        [0.],\n        [0.],\n        [0.],\n        [0.],\n        [0.],\n        [0.],\n        [0.],\n        [0.],\n        [0.],\n        [0.],\n        [0.],\n        [0.],\n        [0.]], device='cuda:0', grad_fn=<RoundBackward0>)"
     },
     "execution_count": 14,
     "metadata": {},
     "output_type": "execute_result"
    }
   ],
   "source": [
    "out = torch.sigmoid(pred).round()\n",
    "out"
   ],
   "metadata": {
    "collapsed": false
   }
  },
  {
   "cell_type": "code",
   "execution_count": 15,
   "outputs": [
    {
     "name": "stdout",
     "output_type": "stream",
     "text": [
      "tensor(55., device='cuda:0', grad_fn=<SumBackward0>)\n",
      "267\n"
     ]
    }
   ],
   "source": [
    "print(out.sum())\n",
    "print(len(out))"
   ],
   "metadata": {
    "collapsed": false
   }
  },
  {
   "cell_type": "code",
   "execution_count": 16,
   "outputs": [
    {
     "data": {
      "text/plain": "tensor(5.9333, device='cuda:0')"
     },
     "execution_count": 16,
     "metadata": {},
     "output_type": "execute_result"
    }
   ],
   "source": [
    "len(data.y) / data.y.sum()"
   ],
   "metadata": {
    "collapsed": false
   }
  },
  {
   "cell_type": "code",
   "execution_count": 17,
   "outputs": [
    {
     "data": {
      "text/plain": "tensor(45., device='cuda:0')"
     },
     "execution_count": 17,
     "metadata": {},
     "output_type": "execute_result"
    }
   ],
   "source": [
    "data.y.sum()"
   ],
   "metadata": {
    "collapsed": false
   }
  },
  {
   "cell_type": "code",
   "execution_count": null,
   "outputs": [],
   "source": [
    "f1_score(data.y.detach().cpu().numpy(), out.detach().cpu().numpy())"
   ],
   "metadata": {
    "collapsed": false
   }
  },
  {
   "cell_type": "code",
   "execution_count": null,
   "outputs": [],
   "source": [],
   "metadata": {
    "collapsed": false
   }
  }
 ],
 "metadata": {
  "kernelspec": {
   "display_name": "Python 3",
   "language": "python",
   "name": "python3"
  },
  "language_info": {
   "codemirror_mode": {
    "name": "ipython",
    "version": 2
   },
   "file_extension": ".py",
   "mimetype": "text/x-python",
   "name": "python",
   "nbconvert_exporter": "python",
   "pygments_lexer": "ipython2",
   "version": "2.7.6"
  }
 },
 "nbformat": 4,
 "nbformat_minor": 0
}
