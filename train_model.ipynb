{
 "cells": [
  {
   "cell_type": "markdown",
   "source": [
    "Next steps:\n",
    "1. Add a \"master node\" that connects all nodes together, so that message passing works between all nodes"
   ],
   "metadata": {
    "collapsed": false
   }
  },
  {
   "cell_type": "code",
   "execution_count": 1,
   "metadata": {
    "collapsed": true
   },
   "outputs": [],
   "source": [
    "import pandas as pd\n",
    "\n",
    "from EmbedDataset import LigandBinaryDataset\n",
    "\n",
    "import time\n",
    "import numpy as np\n",
    "import torch\n",
    "from torch_geometric.loader import DataLoader"
   ]
  },
  {
   "cell_type": "code",
   "execution_count": 2,
   "outputs": [],
   "source": [
    "dataset = LigandBinaryDataset('./data2/')"
   ],
   "metadata": {
    "collapsed": false
   }
  },
  {
   "cell_type": "code",
   "execution_count": 3,
   "outputs": [],
   "source": [
    "dataset = dataset.shuffle()\n",
    "train_dataset = dataset[:int(len(dataset) * 0.7)]\n",
    "val_dataset = dataset[int(len(dataset) * 0.7):int(len(dataset) * 0.85)]\n",
    "test_dataset = dataset[int(len(dataset) * 0.85):]"
   ],
   "metadata": {
    "collapsed": false
   }
  },
  {
   "cell_type": "code",
   "execution_count": 4,
   "outputs": [],
   "source": [
    "train_dl = DataLoader(train_dataset, batch_size=16)\n",
    "val_dl = DataLoader(val_dataset, batch_size=16)\n",
    "test_dl = DataLoader(test_dataset, batch_size=16)"
   ],
   "metadata": {
    "collapsed": false
   }
  },
  {
   "cell_type": "code",
   "execution_count": 50,
   "outputs": [],
   "source": [
    "from LigandGNNV2 import LigandGNNV2\n",
    "from LigandGNNV1 import LigandGNNV1\n",
    "from sagn.models import SAGN\n",
    "\n",
    "device = torch.device('cuda')\n",
    "# model = LigandGNNV1(dataset.num_node_features, 1).to(device)\n",
    "model = LigandGNNV2(80, 50).to(device)\n",
    "# model = SAGN(in_feats=1070, hidden=1024, out_feats=1, num_hops=5, n_layers=2, num_heads=10).to(device)\n",
    "\n",
    "optimizer = torch.optim.AdamW(model.parameters(), lr=0.001, weight_decay=0.1)\n",
    "scheduler = torch.optim.lr_scheduler.ReduceLROnPlateau(optimizer, mode='min')\n",
    "criterion = torch.nn.BCEWithLogitsLoss(pos_weight=torch.FloatTensor([22]).to(device))"
   ],
   "metadata": {
    "collapsed": false
   }
  },
  {
   "cell_type": "code",
   "execution_count": 51,
   "outputs": [],
   "source": [
    "def train(model, loader, criterion, optimizer):\n",
    "    model.train()\n",
    "\n",
    "    loss_acc = 0.\n",
    "    for data in loader:\n",
    "        data = data.to(device)\n",
    "        optimizer.zero_grad()\n",
    "        output = model(data)\n",
    "        label = data.y\n",
    "\n",
    "        loss = criterion(output, label.reshape(-1, 1))\n",
    "        loss.backward()\n",
    "        loss_acc += data.num_graphs * loss.item()\n",
    "        optimizer.step()\n",
    "\n",
    "    return loss_acc / len(loader.dataset)"
   ],
   "metadata": {
    "collapsed": false
   }
  },
  {
   "cell_type": "code",
   "execution_count": 52,
   "outputs": [],
   "source": [
    "from sklearn.metrics import f1_score, precision_recall_curve, roc_curve, auc, precision_recall_fscore_support, roc_auc_score\n",
    "\n",
    "def evaluate(model, loader):\n",
    "    model.eval()\n",
    "\n",
    "    preds = np.asarray([])\n",
    "    labels = np.asarray([])\n",
    "\n",
    "    with torch.no_grad():\n",
    "        for data in loader:\n",
    "            data = data.to(device)\n",
    "            pred = torch.sigmoid(model(data).round().squeeze().cpu()).round().numpy()\n",
    "            label = data.y.cpu().numpy()\n",
    "\n",
    "            preds = np.concatenate([preds, pred])\n",
    "            labels = np.concatenate([labels, label])\n",
    "\n",
    "    precision, recall, _ = precision_recall_curve(labels, preds)\n",
    "    fpr, tpr, thresholds = roc_curve(labels, preds, pos_label=1)\n",
    "    print(precision_recall_fscore_support(labels, preds))\n",
    "    return auc(fpr, tpr), auc(recall, precision)\n",
    "    return roc_auc_score(labels, preds)"
   ],
   "metadata": {
    "collapsed": false
   }
  },
  {
   "cell_type": "code",
   "execution_count": 53,
   "outputs": [
    {
     "name": "stdout",
     "output_type": "stream",
     "text": [
      "(array([0.97575537, 0.11371171]), array([0.89583358, 0.37516447]), array([0.93408804, 0.17452514]), array([341348,  12160], dtype=int64))\n",
      "(array([0.97685669, 0.10955089]), array([0.87975427, 0.41512753]), array([0.92576621, 0.17335415]), array([63811,  2274], dtype=int64))\n",
      "Epoch: 001, Loss: 1.19834, Train Score: (0.6354990255738395, 0.255184665011898), Val Score: (0.6474409014627037, 0.2724020060937617), Time: 13.00300s\n",
      "(array([0.98148937, 0.10502642]), array([0.8297954 , 0.56069079]), array([0.89929025, 0.176914  ]), array([341348,  12160], dtype=int64))\n",
      "(array([0.98385654, 0.10519327]), array([0.80990738, 0.62708883]), array([0.88844765, 0.18016425]), array([63811,  2274], dtype=int64))\n",
      "Epoch: 002, Loss: 1.02105, Train Score: (0.6952430944450578, 0.3404143027925651), Val Score: (0.7184981064973551, 0.372557030723835), Time: 12.59800s\n",
      "(array([0.97931248, 0.15258388]), array([0.90877345, 0.46110197]), array([0.94272529, 0.22929233]), array([341348,  12160], dtype=int64))\n",
      "(array([0.98162135, 0.16096904]), array([0.90230525, 0.52594547]), array([0.94029363, 0.24649629]), array([63811,  2274], dtype=int64))\n",
      "Epoch: 003, Loss: 0.94494, Train Score: (0.6849377124124909, 0.3161114604466983), Val Score: (0.7141253578568317, 0.3516134199934869), Time: 12.51600s\n",
      "(array([0.9853573 , 0.16562176]), array([0.88693357, 0.63001645]), array([0.93355843, 0.26229115]), array([341348,  12160], dtype=int64))\n",
      "(array([0.98717389, 0.17385414]), array([0.88531758, 0.67722076]), array([0.93347544, 0.27667984]), array([63811,  2274], dtype=int64))\n",
      "saving...\n",
      "Epoch: 004, Loss: 0.86428, Train Score: (0.7584750083145585, 0.4041824660440511), Val Score: (0.78126916742518, 0.4310909036470812), Time: 12.49000s\n",
      "(array([0.98501996, 0.21026429]), array([0.91867537, 0.6078125 ]), array([0.9506916, 0.3124432]), array([341348,  12160], dtype=int64))\n",
      "(array([0.98767387, 0.21094175]), array([0.90913792, 0.68161829]), array([0.94678004, 0.32217834]), array([63811,  2274], dtype=int64))\n",
      "saving...\n",
      "Epoch: 005, Loss: 0.80479, Train Score: (0.7632439347088602, 0.4157836446390678), Val Score: (0.7953781083420728, 0.4517578170571816), Time: 12.47800s\n",
      "(array([0.99060207, 0.14869806]), array([0.84177438, 0.77582237]), array([0.91014425, 0.24956352]), array([341348,  12160], dtype=int64))\n",
      "(array([0.99098374, 0.14192935]), array([0.83021736, 0.7880387 ]), array([0.90350473, 0.24053691]), array([63811,  2274], dtype=int64))\n",
      "saving...\n",
      "Epoch: 006, Loss: 0.76661, Train Score: (0.808798372651648, 0.4661158576015234), Val Score: (0.8091280294860426, 0.46863084372106695), Time: 12.53800s\n",
      "(array([0.98850271, 0.19863156]), array([0.89843796, 0.70666118]), array([0.94132091, 0.31009906]), array([341348,  12160], dtype=int64))\n",
      "(array([0.98968278, 0.18730547]), array([0.88542728, 0.74098505]), array([0.93465674, 0.29902396]), array([63811,  2274], dtype=int64))\n",
      "saving...\n",
      "Epoch: 007, Loss: 0.72623, Train Score: (0.8025495709772648, 0.4576915205558335), Val Score: (0.8132061629007838, 0.4686016406675037), Time: 12.53900s\n",
      "(array([0.99160439, 0.17438963]), array([0.86606337, 0.79416118]), array([0.92459186, 0.28598081]), array([341348,  12160], dtype=int64))\n",
      "(array([0.99054215, 0.16232502]), array([0.85839432, 0.7700088 ]), array([0.91974578, 0.26812648]), array([63811,  2274], dtype=int64))\n",
      "saving...\n",
      "Epoch: 008, Loss: 0.69624, Train Score: (0.8301122782437493, 0.4878156367985315), Val Score: (0.8142015579015797, 0.470123933010104), Time: 12.56500s\n",
      "(array([0.99312933, 0.16461873]), array([0.8490309 , 0.83511513]), array([0.91544424, 0.27502437]), array([341348,  12160], dtype=int64))\n",
      "(array([0.99101918, 0.15203882]), array([0.84389839, 0.78540018]), array([0.91156083, 0.25476072]), array([63811,  2274], dtype=int64))\n",
      "saving...\n",
      "Epoch: 009, Loss: 0.66583, Train Score: (0.8420730162974597, 0.5027027913086408), Val Score: (0.8146492816634303, 0.47241171173375185), Time: 12.53900s\n",
      "(array([0.99224158, 0.18876011]), array([0.87634906, 0.80764803]), array([0.93070142, 0.30600259]), array([341348,  12160], dtype=int64))\n",
      "(array([0.99021143, 0.1741942 ]), array([0.87191863, 0.75813544]), array([0.92730773, 0.28329636]), array([63811,  2274], dtype=int64))\n",
      "Epoch: 010, Loss: 0.65425, Train Score: (0.8419985447209917, 0.5015123406849545), Val Score: (0.8150270394347137, 0.4703261296141178), Time: 12.53600s\n",
      "(array([0.99190417, 0.20674258]), array([0.89122538, 0.79580592]), array([0.93887345, 0.32821748]), array([341348,  12160], dtype=int64))\n",
      "(array([0.98979182, 0.19040108]), array([0.88738619, 0.74318382]), array([0.93579574, 0.30313901]), array([63811,  2274], dtype=int64))\n",
      "Epoch: 011, Loss: 0.63810, Train Score: (0.8435156490436061, 0.5047861942978704), Val Score: (0.8152850021984586, 0.47121100118038184), Time: 12.52100s\n",
      "(array([0.99171041, 0.20887121]), array([0.89335517, 0.79037829]), array([0.93996689, 0.33042253]), array([341348,  12160], dtype=int64))\n",
      "(array([0.98928689, 0.19512482]), array([0.89288681, 0.72867194]), array([0.93861817, 0.30782092]), array([63811,  2274], dtype=int64))\n",
      "Epoch: 012, Loss: 0.64097, Train Score: (0.8418667289031474, 0.5032300445237711), Val Score: (0.8107793750307621, 0.4665666138467934), Time: 12.58900s\n",
      "(array([0.99465854, 0.16998189]), array([0.84829558, 0.87212171]), array([0.91566517, 0.28451086]), array([341348,  12160], dtype=int64))\n",
      "(array([0.99133825, 0.15399727]), array([0.84477598, 0.79287599]), array([0.91220767, 0.25790302]), array([63811,  2274], dtype=int64))\n",
      "saving...\n",
      "Epoch: 013, Loss: 0.61135, Train Score: (0.8602086457877839, 0.523251183634785), Val Score: (0.8188259842545407, 0.4770002204792005), Time: 12.51700s\n",
      "(array([0.995237 , 0.1551692]), array([0.82760995, 0.88881579]), array([0.90371607, 0.26421229]), array([341348,  12160], dtype=int64))\n",
      "(array([0.99226867, 0.14279148]), array([0.82463839, 0.81970097]), array([0.90072063, 0.24321503]), array([63811,  2274], dtype=int64))\n",
      "saving...\n",
      "Epoch: 014, Loss: 0.61081, Train Score: (0.858212867960649, 0.5239047549124978), Val Score: (0.822169676344805, 0.48434829001990126), Time: 12.66000s\n",
      "(array([0.994669  , 0.16713381]), array([0.84504963, 0.87286184]), array([0.91377524, 0.28054873]), array([341348,  12160], dtype=int64))\n",
      "(array([0.99162011, 0.15579741]), array([0.84562223, 0.7994723 ]), array([0.91282025, 0.26077602]), array([63811,  2274], dtype=int64))\n",
      "Epoch: 015, Loss: 0.60009, Train Score: (0.8589557344395563, 0.5221844830154301), Val Score: (0.8225472618284975, 0.48108495587152883), Time: 12.54100s\n",
      "(array([0.99577712, 0.15151892]), array([0.81998723, 0.90238487]), array([0.89937279, 0.25947032]), array([341348,  12160], dtype=int64))\n",
      "(array([0.99167925, 0.14008407]), array([0.82366677, 0.8060686 ]), array([0.89989813, 0.23868741]), array([63811,  2274], dtype=int64))\n",
      "Epoch: 016, Loss: 0.59007, Train Score: (0.8611860477661938, 0.5286307799643348), Val Score: (0.8148676837506076, 0.47641294559278174), Time: 12.60700s\n",
      "(array([0.99611048, 0.16524536]), array([0.83654511, 0.90830592]), array([0.90938129, 0.27962025]), array([341348,  12160], dtype=int64))\n",
      "(array([0.99234423, 0.15024194]), array([0.83487173, 0.81926121]), array([0.90682236, 0.2539185 ]), array([63811,  2274], dtype=int64))\n",
      "saving...\n",
      "Epoch: 017, Loss: 0.57690, Train Score: (0.8724255152212311, 0.5383526921457252), Val Score: (0.8270664721498417, 0.4878612061372379), Time: 12.58600s\n",
      "(array([0.99536047, 0.18334862]), array([0.85916718, 0.88758224]), array([0.92226293, 0.30391688]), array([341348,  12160], dtype=int64))\n",
      "(array([0.99154357, 0.16467802]), array([0.8562787 , 0.79507476]), array([0.91896028, 0.27284388]), array([63811,  2274], dtype=int64))\n",
      "Epoch: 018, Loss: 0.54841, Train Score: (0.8733747105323291, 0.5373989077358007), Val Score: (0.8256767280827823, 0.4834021521824531), Time: 12.60100s\n",
      "(array([0.99373217, 0.2068583 ]), array([0.88480964, 0.84333882]), array([0.9361131 , 0.33222645]), array([341348,  12160], dtype=int64))\n",
      "(array([0.99058427, 0.18975871]), array([0.88370344, 0.764292  ]), array([0.93409642, 0.30403219]), array([63811,  2274], dtype=int64))\n",
      "Epoch: 019, Loss: 0.59430, Train Score: (0.86407422643769, 0.5277929784077144), Val Score: (0.8239977165967544, 0.4810807351007944), Time: 12.52900s\n",
      "(array([0.99412397, 0.22271926]), array([0.89411978, 0.85164474]), array([0.94147369, 0.35309762]), array([341348,  12160], dtype=int64))\n",
      "(array([0.98979645, 0.19505431]), array([0.89083387, 0.74230431]), array([0.93771135, 0.30893119]), array([63811,  2274], dtype=int64))\n",
      "Epoch: 020, Loss: 0.52270, Train Score: (0.8728822603788201, 0.5397335656392636), Val Score: (0.8165690891776696, 0.4731129937580718), Time: 12.51700s\n",
      "(array([0.99540548, 0.20781575]), array([0.8796829 , 0.88601974]), array([0.93397324, 0.33666646]), array([341348,  12160], dtype=int64))\n",
      "(array([0.99086548, 0.18320133]), array([0.87716851, 0.77308707]), array([0.93055694, 0.29620893]), array([63811,  2274], dtype=int64))\n",
      "Epoch: 021, Loss: 0.51607, Train Score: (0.8828513205461567, 0.5488780975748518), Val Score: (0.8251277922529218, 0.48204826551384505), Time: 12.49900s\n",
      "(array([0.99595612, 0.20916807]), array([0.87880404, 0.89983553]), array([0.93371971, 0.33943417]), array([341348,  12160], dtype=int64))\n",
      "(array([0.99079776, 0.18314712]), array([0.87740358, 0.77132806]), array([0.93065933, 0.29600878]), array([63811,  2274], dtype=int64))\n",
      "Epoch: 022, Loss: 0.50463, Train Score: (0.8893197810399389, 0.556224530704233), Val Score: (0.824365819371457, 0.48117191680548055), Time: 12.54800s\n",
      "(array([0.99468784, 0.23299896]), array([0.89852877, 0.86529605]), array([0.94416628, 0.3671383 ]), array([341348,  12160], dtype=int64))\n",
      "(array([0.99001765, 0.20487746]), array([0.89678895, 0.74626209]), array([0.94110005, 0.32149285]), array([63811,  2274], dtype=int64))\n",
      "Epoch: 023, Loss: 0.48809, Train Score: (0.8819124133929073, 0.5514642851847761), Val Score: (0.8215255240550897, 0.4799353663134158), Time: 12.49700s\n",
      "(array([0.99647525, 0.20921204]), array([0.87707559, 0.91291118]), array([0.93297081, 0.34041183]), array([341348,  12160], dtype=int64))\n",
      "(array([0.99012989, 0.17789059]), array([0.8756484 , 0.75505717]), array([0.92937693, 0.28794231]), array([63811,  2274], dtype=int64))\n",
      "Epoch: 024, Loss: 0.48176, Train Score: (0.8949933893092895, 0.562559456054063), Val Score: (0.8153527835823765, 0.4706881498060089), Time: 12.43100s\n",
      "(array([0.99593556, 0.19793173]), array([0.87003293, 0.90032895]), array([0.92873672, 0.3245198 ]), array([341348,  12160], dtype=int64))\n",
      "(array([0.99083737, 0.17091614]), array([0.86597922, 0.77528584]), array([0.92421037, 0.28008579]), array([63811,  2274], dtype=int64))\n",
      "Epoch: 025, Loss: 0.46521, Train Score: (0.8851809378205171, 0.550844586961772), Val Score: (0.8206325299066791, 0.47696722361743643), Time: 12.55200s\n",
      "(array([0.99494181, 0.2156592 ]), array([0.88683689, 0.8734375 ]), array([0.93778413, 0.34591021]), array([341348,  12160], dtype=int64))\n",
      "(array([0.99035781, 0.19062362]), array([0.88528624, 0.75813544]), array([0.93487903, 0.30464746]), array([63811,  2274], dtype=int64))\n",
      "Epoch: 026, Loss: 0.48617, Train Score: (0.8801371968636114, 0.54672510473389), Val Score: (0.8217108400333566, 0.4785408384168648), Time: 12.56600s\n",
      "(array([0.99668983, 0.23185543]), array([0.89179078, 0.91685855]), array([0.9413269 , 0.37011586]), array([341348,  12160], dtype=int64))\n",
      "(array([0.9907137 , 0.19575472]), array([0.88777797, 0.76649077]), array([0.93642555, 0.31186259]), array([63811,  2274], dtype=int64))\n",
      "Epoch: 027, Loss: 0.47066, Train Score: (0.9043246675294483, 0.5757869426582913), Val Score: (0.8271343672435696, 0.48514029422756255), Time: 12.54400s\n",
      "(array([0.99588307, 0.21975786]), array([0.88653222, 0.89712171]), array([0.93803151, 0.35303636]), array([341348,  12160], dtype=int64))\n",
      "(array([0.99027487, 0.18661895]), array([0.88244973, 0.75681618]), array([0.9332582 , 0.29940849]), array([63811,  2274], dtype=int64))\n",
      "Epoch: 028, Loss: 0.44753, Train Score: (0.8918269649225085, 0.5602091943159677), Val Score: (0.8196329586546858, 0.47590157425311047), Time: 12.45600s\n",
      "(array([0.9958798 , 0.20141564]), array([0.87307967, 0.89860197]), array([0.93044544, 0.32907199]), array([341348,  12160], dtype=int64))\n",
      "(array([0.9903354 , 0.16981686]), array([0.86715457, 0.76253298]), array([0.92466057, 0.27777333]), array([63811,  2274], dtype=int64))\n",
      "Epoch: 029, Loss: 0.45855, Train Score: (0.8858408230210195, 0.5517527571136517), Val Score: (0.8148437736787758, 0.4702605701206713), Time: 12.50200s\n",
      "(array([0.99522023, 0.2400836 ]), array([0.9009398 , 0.87853618]), array([0.94573612, 0.37711139]), array([341348,  12160], dtype=int64))\n",
      "(array([0.98978991, 0.20291601]), array([0.89633449, 0.74054529]), array([0.94074689, 0.31854724]), array([63811,  2274], dtype=int64))\n",
      "Epoch: 030, Loss: 0.49125, Train Score: (0.8897379937891752, 0.561398954309771), Val Score: (0.8184398912096211, 0.4761946022521234), Time: 12.47600s\n",
      "(array([0.99414511, 0.25859132]), array([0.91328498, 0.84901316]), array([0.95200112, 0.39643653]), array([341348,  12160], dtype=int64))\n",
      "(array([0.9891029 , 0.22486918]), array([0.91178637, 0.71811785]), array([0.94887225, 0.34249161]), array([63811,  2274], dtype=int64))\n",
      "Epoch: 031, Loss: 0.45000, Train Score: (0.8811490669654614, 0.5563990701965436), Val Score: (0.8149521115615351, 0.47634333265530665), Time: 12.47004s\n",
      "(array([0.99563265, 0.24226331]), array([0.9009398, 0.8890625]), array([0.9459223 , 0.38076957]), array([341348,  12160], dtype=int64))\n",
      "(array([0.98928461, 0.20329603]), array([0.89848145, 0.72691293]), array([0.94169917, 0.31773186]), array([63811,  2274], dtype=int64))\n",
      "Epoch: 032, Loss: 0.43747, Train Score: (0.895001151683912, 0.5675709217157958), Val Score: (0.812697190900453, 0.46980297251771075), Time: 12.45400s\n",
      "(array([0.99604621, 0.24477512]), array([0.90112437, 0.89958882]), array([0.94621066, 0.38483729]), array([341348,  12160], dtype=int64))\n",
      "(array([0.98912461, 0.19944229]), array([0.89652254, 0.7233949 ]), array([0.94054978, 0.3126782 ]), array([63811,  2274], dtype=int64))\n",
      "Epoch: 033, Loss: 0.40519, Train Score: (0.9003565907696914, 0.5739089431084894), Val Score: (0.8099587209959181, 0.46617761641926375), Time: 12.43300s\n",
      "(array([0.99751797, 0.19505701]), array([0.86184187, 0.93980263]), array([0.92472983, 0.32306214]), array([341348,  12160], dtype=int64))\n",
      "(array([0.99014653, 0.15906583]), array([0.85667048, 0.76077397]), array([0.91858511, 0.26311787]), array([63811,  2274], dtype=int64))\n",
      "Epoch: 034, Loss: 0.40932, Train Score: (0.9008222527804624, 0.5684651571683915), Val Score: (0.8087222232949995, 0.46403581112910414), Time: 12.52700s\n",
      "(array([0.9979535 , 0.19797841]), array([0.8628555 , 0.95032895]), array([0.92550033, 0.32769034]), array([341348,  12160], dtype=int64))\n",
      "(array([0.99050559, 0.16360914]), array([0.85996145, 0.76868953]), array([0.9206288 , 0.26979472]), array([63811,  2274], dtype=int64))\n",
      "Epoch: 035, Loss: 0.41165, Train Score: (0.9065922248355283, 0.5750079751379452), Val Score: (0.8143254912570457, 0.47012905759211226), Time: 12.49600s\n",
      "(array([0.99671822, 0.20039782]), array([0.86928003, 0.91965461]), array([0.92864743, 0.32908599]), array([341348,  12160], dtype=int64))\n",
      "(array([0.98975384, 0.16891892]), array([0.86892542, 0.74758135]), array([0.92541224, 0.27557141]), array([63811,  2274], dtype=int64))\n",
      "Epoch: 036, Loss: 0.41516, Train Score: (0.8944673180996643, 0.5614080771636001), Val Score: (0.8082533874117893, 0.46259302841056305), Time: 12.46900s\n",
      "(array([0.99569317, 0.19884784]), array([0.87166469, 0.89416118]), array([0.92956   , 0.32534411]), array([341348,  12160], dtype=int64))\n",
      "(array([0.9893465 , 0.17784878]), array([0.87901772, 0.73438874]), array([0.9309246 , 0.28635117]), array([63811,  2274], dtype=int64))\n",
      "Epoch: 037, Loss: 0.45433, Train Score: (0.8829129391528509, 0.5483248396556941), Val Score: (0.8067032332605687, 0.4606886309329596), Time: 12.44300s\n",
      "(array([0.99632422, 0.27265522]), array([0.91396463, 0.90534539]), array([0.95336902, 0.41909511]), array([341348,  12160], dtype=int64))\n",
      "(array([0.98988055, 0.2245825 ]), array([0.9090439 , 0.73922603]), array([0.94774162, 0.34450251]), array([63811,  2274], dtype=int64))\n",
      "Epoch: 038, Loss: 0.44184, Train Score: (0.9096550145344802, 0.5906282784383381), Val Score: (0.8241349643372268, 0.48639091186186856), Time: 12.61200s\n",
      "(array([0.99702247, 0.27277806]), array([0.91229185, 0.92351974]), array([0.95277709, 0.42115922]), array([341348,  12160], dtype=int64))\n",
      "(array([0.98952611, 0.21714136]), array([0.90609769, 0.73087071]), array([0.94597601, 0.33481064]), array([63811,  2274], dtype=int64))\n",
      "Epoch: 039, Loss: 0.39063, Train Score: (0.917905795744488, 0.59946428649001), Val Score: (0.8184842035779392, 0.4786364384389819), Time: 12.47900s\n",
      "(array([0.99728181, 0.24840946]), array([0.89963615, 0.93116776]), array([0.94594578, 0.39219286]), array([341348,  12160], dtype=int64))\n",
      "(array([0.99111011, 0.2049047 ]), array([0.89279278, 0.77528584]), array([0.93938594, 0.32414047]), array([63811,  2274], dtype=int64))\n",
      "saving...\n",
      "Epoch: 040, Loss: 0.37194, Train Score: (0.9154019558023206, 0.5909724602551286), Val Score: (0.8340393093020814, 0.493961500591949), Time: 12.48100s\n",
      "(array([0.99703041, 0.29814028]), array([0.92260684, 0.92286184]), array([0.95837594, 0.45068273]), array([341348,  12160], dtype=int64))\n",
      "(array([0.9891297 , 0.23231317]), array([0.91548479, 0.7176781 ]), array([0.95088345, 0.35100548]), array([63811,  2274], dtype=int64))\n",
      "Epoch: 041, Loss: 0.36378, Train Score: (0.9227343416087794, 0.6118277618524142), Val Score: (0.8165814456436717, 0.4798530144079569), Time: 12.51500s\n",
      "(array([0.99703007, 0.32365421]), array([0.93135451, 0.92212171]), array([0.96307393, 0.47913684]), array([341348,  12160], dtype=int64))\n",
      "(array([0.98859055, 0.25229794]), array([0.9260629 , 0.70008795]), array([0.95630573, 0.37092265]), array([63811,  2274], dtype=int64))\n",
      "Epoch: 042, Loss: 0.33517, Train Score: (0.9267381113185619, 0.624227390946505), Val Score: (0.8130754276312385, 0.4813529664476934), Time: 12.55200s\n",
      "(array([0.99517956, 0.23917965]), array([0.90055896, 0.87754934]), array([0.9455079 , 0.37590489]), array([341348,  12160], dtype=int64))\n",
      "(array([0.98782034, 0.20275003]), array([0.90368432, 0.68733509]), array([0.9438811 , 0.31313232]), array([63811,  2274], dtype=int64))\n",
      "Epoch: 043, Loss: 0.32759, Train Score: (0.8890541512312177, 0.5604705294782986), Val Score: (0.7955097050495715, 0.4504219979643516), Time: 12.49700s\n",
      "(array([0.99783693, 0.22899912]), array([0.88653222, 0.94605263]), array([0.93889733, 0.36874159]), array([341348,  12160], dtype=int64))\n",
      "(array([0.98897516, 0.1821302 ]), array([0.88423626, 0.7233949 ]), array([0.93367752, 0.29099593]), array([63811,  2274], dtype=int64))\n",
      "Epoch: 044, Loss: 0.37703, Train Score: (0.9162924254488243, 0.5884537210736439), Val Score: (0.8038155795312805, 0.4575215737594333), Time: 12.54000s\n"
     ]
    },
    {
     "ename": "KeyboardInterrupt",
     "evalue": "",
     "output_type": "error",
     "traceback": [
      "\u001B[1;31m---------------------------------------------------------------------------\u001B[0m",
      "\u001B[1;31mKeyboardInterrupt\u001B[0m                         Traceback (most recent call last)",
      "Cell \u001B[1;32mIn[53], line 6\u001B[0m\n\u001B[0;32m      4\u001B[0m \u001B[38;5;28;01mfor\u001B[39;00m epoch \u001B[38;5;129;01min\u001B[39;00m \u001B[38;5;28mrange\u001B[39m(\u001B[38;5;241m1\u001B[39m, \u001B[38;5;241m201\u001B[39m):\n\u001B[0;32m      5\u001B[0m     s \u001B[38;5;241m=\u001B[39m time\u001B[38;5;241m.\u001B[39mtime()\n\u001B[1;32m----> 6\u001B[0m     loss \u001B[38;5;241m=\u001B[39m \u001B[43mtrain\u001B[49m\u001B[43m(\u001B[49m\u001B[43mmodel\u001B[49m\u001B[43m,\u001B[49m\u001B[43m \u001B[49m\u001B[43mtrain_dl\u001B[49m\u001B[43m,\u001B[49m\u001B[43m \u001B[49m\u001B[43mcriterion\u001B[49m\u001B[43m,\u001B[49m\u001B[43m \u001B[49m\u001B[43moptimizer\u001B[49m\u001B[43m)\u001B[49m\n\u001B[0;32m      7\u001B[0m     train_score \u001B[38;5;241m=\u001B[39m evaluate(model, train_dl)\n\u001B[0;32m      8\u001B[0m     val_score \u001B[38;5;241m=\u001B[39m evaluate(model, val_dl)\n",
      "Cell \u001B[1;32mIn[51], line 12\u001B[0m, in \u001B[0;36mtrain\u001B[1;34m(model, loader, criterion, optimizer)\u001B[0m\n\u001B[0;32m      9\u001B[0m label \u001B[38;5;241m=\u001B[39m data\u001B[38;5;241m.\u001B[39my\n\u001B[0;32m     11\u001B[0m loss \u001B[38;5;241m=\u001B[39m criterion(output, label\u001B[38;5;241m.\u001B[39mreshape(\u001B[38;5;241m-\u001B[39m\u001B[38;5;241m1\u001B[39m, \u001B[38;5;241m1\u001B[39m))\n\u001B[1;32m---> 12\u001B[0m \u001B[43mloss\u001B[49m\u001B[38;5;241;43m.\u001B[39;49m\u001B[43mbackward\u001B[49m\u001B[43m(\u001B[49m\u001B[43m)\u001B[49m\n\u001B[0;32m     13\u001B[0m loss_acc \u001B[38;5;241m+\u001B[39m\u001B[38;5;241m=\u001B[39m data\u001B[38;5;241m.\u001B[39mnum_graphs \u001B[38;5;241m*\u001B[39m loss\u001B[38;5;241m.\u001B[39mitem()\n\u001B[0;32m     14\u001B[0m optimizer\u001B[38;5;241m.\u001B[39mstep()\n",
      "File \u001B[1;32m~\\anaconda3\\envs\\watai\\lib\\site-packages\\torch\\_tensor.py:396\u001B[0m, in \u001B[0;36mTensor.backward\u001B[1;34m(self, gradient, retain_graph, create_graph, inputs)\u001B[0m\n\u001B[0;32m    387\u001B[0m \u001B[38;5;28;01mif\u001B[39;00m has_torch_function_unary(\u001B[38;5;28mself\u001B[39m):\n\u001B[0;32m    388\u001B[0m     \u001B[38;5;28;01mreturn\u001B[39;00m handle_torch_function(\n\u001B[0;32m    389\u001B[0m         Tensor\u001B[38;5;241m.\u001B[39mbackward,\n\u001B[0;32m    390\u001B[0m         (\u001B[38;5;28mself\u001B[39m,),\n\u001B[1;32m   (...)\u001B[0m\n\u001B[0;32m    394\u001B[0m         create_graph\u001B[38;5;241m=\u001B[39mcreate_graph,\n\u001B[0;32m    395\u001B[0m         inputs\u001B[38;5;241m=\u001B[39minputs)\n\u001B[1;32m--> 396\u001B[0m \u001B[43mtorch\u001B[49m\u001B[38;5;241;43m.\u001B[39;49m\u001B[43mautograd\u001B[49m\u001B[38;5;241;43m.\u001B[39;49m\u001B[43mbackward\u001B[49m\u001B[43m(\u001B[49m\u001B[38;5;28;43mself\u001B[39;49m\u001B[43m,\u001B[49m\u001B[43m \u001B[49m\u001B[43mgradient\u001B[49m\u001B[43m,\u001B[49m\u001B[43m \u001B[49m\u001B[43mretain_graph\u001B[49m\u001B[43m,\u001B[49m\u001B[43m \u001B[49m\u001B[43mcreate_graph\u001B[49m\u001B[43m,\u001B[49m\u001B[43m \u001B[49m\u001B[43minputs\u001B[49m\u001B[38;5;241;43m=\u001B[39;49m\u001B[43minputs\u001B[49m\u001B[43m)\u001B[49m\n",
      "File \u001B[1;32m~\\anaconda3\\envs\\watai\\lib\\site-packages\\torch\\autograd\\__init__.py:173\u001B[0m, in \u001B[0;36mbackward\u001B[1;34m(tensors, grad_tensors, retain_graph, create_graph, grad_variables, inputs)\u001B[0m\n\u001B[0;32m    168\u001B[0m     retain_graph \u001B[38;5;241m=\u001B[39m create_graph\n\u001B[0;32m    170\u001B[0m \u001B[38;5;66;03m# The reason we repeat same the comment below is that\u001B[39;00m\n\u001B[0;32m    171\u001B[0m \u001B[38;5;66;03m# some Python versions print out the first line of a multi-line function\u001B[39;00m\n\u001B[0;32m    172\u001B[0m \u001B[38;5;66;03m# calls in the traceback and some print out the last line\u001B[39;00m\n\u001B[1;32m--> 173\u001B[0m \u001B[43mVariable\u001B[49m\u001B[38;5;241;43m.\u001B[39;49m\u001B[43m_execution_engine\u001B[49m\u001B[38;5;241;43m.\u001B[39;49m\u001B[43mrun_backward\u001B[49m\u001B[43m(\u001B[49m\u001B[43m  \u001B[49m\u001B[38;5;66;43;03m# Calls into the C++ engine to run the backward pass\u001B[39;49;00m\n\u001B[0;32m    174\u001B[0m \u001B[43m    \u001B[49m\u001B[43mtensors\u001B[49m\u001B[43m,\u001B[49m\u001B[43m \u001B[49m\u001B[43mgrad_tensors_\u001B[49m\u001B[43m,\u001B[49m\u001B[43m \u001B[49m\u001B[43mretain_graph\u001B[49m\u001B[43m,\u001B[49m\u001B[43m \u001B[49m\u001B[43mcreate_graph\u001B[49m\u001B[43m,\u001B[49m\u001B[43m \u001B[49m\u001B[43minputs\u001B[49m\u001B[43m,\u001B[49m\n\u001B[0;32m    175\u001B[0m \u001B[43m    \u001B[49m\u001B[43mallow_unreachable\u001B[49m\u001B[38;5;241;43m=\u001B[39;49m\u001B[38;5;28;43;01mTrue\u001B[39;49;00m\u001B[43m,\u001B[49m\u001B[43m \u001B[49m\u001B[43maccumulate_grad\u001B[49m\u001B[38;5;241;43m=\u001B[39;49m\u001B[38;5;28;43;01mTrue\u001B[39;49;00m\u001B[43m)\u001B[49m\n",
      "\u001B[1;31mKeyboardInterrupt\u001B[0m: "
     ]
    }
   ],
   "source": [
    "train_hist = []\n",
    "val_hist = []\n",
    "\n",
    "for epoch in range(1, 201):\n",
    "    s = time.time()\n",
    "    loss = train(model, train_dl, criterion, optimizer)\n",
    "    train_score = evaluate(model, train_dl)\n",
    "    val_score = evaluate(model, val_dl)\n",
    "    scheduler.step(loss)\n",
    "    e = time.time()\n",
    "\n",
    "    train_hist.append(train_score)\n",
    "    val_hist.append(val_score)\n",
    "\n",
    "    if sum(val_score) > (.77 + .44) and sum(val_score) >= np.asarray(val_hist).sum(axis=1).max():\n",
    "        print(\"saving...\")\n",
    "        torch.save(model.state_dict(), './models/BestModel3.pt')\n",
    "\n",
    "    # print(f'Epoch: {epoch:03d}, Loss: {loss:.05f}, Train Score: {train_score:.05f}, Val Score: {val_score:.05f}, Time: {e - s:.05f}s')\n",
    "    print(f'Epoch: {epoch:03d}, Loss: {loss:.05f}, Train Score: {train_score}, Val Score: {val_score}, Time: {e - s:.05f}s')"
   ],
   "metadata": {
    "collapsed": false
   }
  },
  {
   "cell_type": "code",
   "execution_count": 54,
   "outputs": [
    {
     "data": {
      "text/plain": "<Figure size 640x480 with 1 Axes>",
      "image/png": "[encoded data removed]"
     },
     "metadata": {},
     "output_type": "display_data"
    }
   ],
   "source": [
    "import matplotlib.pyplot as plt\n",
    "plt.plot(val_hist)\n",
    "plt.plot(train_hist)\n",
    "plt.show()"
   ],
   "metadata": {
    "collapsed": false
   }
  },
  {
   "cell_type": "code",
   "execution_count": 55,
   "outputs": [
    {
     "name": "stdout",
     "output_type": "stream",
     "text": [
      "(array([0.98485135, 0.19955157]), array([0.90448544, 0.63120567]), array([0.94295915, 0.3032368 ]), array([74753,  2820], dtype=int64))\n"
     ]
    },
    {
     "data": {
      "text/plain": "(0.7678455562351775, 0.4220819849164126)"
     },
     "execution_count": 55,
     "metadata": {},
     "output_type": "execute_result"
    }
   ],
   "source": [
    "evaluate(model, test_dl)"
   ],
   "metadata": {
    "collapsed": false
   }
  },
  {
   "cell_type": "code",
   "execution_count": 58,
   "outputs": [
    {
     "name": "stdout",
     "output_type": "stream",
     "text": [
      "(array([0.98661438, 0.19632406]), array([0.89529517, 0.67801418]), array([0.93873916, 0.30448284]), array([74753,  2820], dtype=int64))\n"
     ]
    },
    {
     "data": {
      "text/plain": "(0.7866546782486397, 0.44302167294425343)"
     },
     "execution_count": 58,
     "metadata": {},
     "output_type": "execute_result"
    }
   ],
   "source": [
    "model.load_state_dict(torch.load('./models/BestModel3.pt'))\n",
    "evaluate(model, test_dl)"
   ],
   "metadata": {
    "collapsed": false
   }
  },
  {
   "cell_type": "code",
   "execution_count": 56,
   "outputs": [],
   "source": [
    "data = test_dl.dataset[4].to(device)"
   ],
   "metadata": {
    "collapsed": false
   }
  },
  {
   "cell_type": "code",
   "execution_count": 14,
   "outputs": [],
   "source": [
    "pred = model(data)"
   ],
   "metadata": {
    "collapsed": false
   }
  },
  {
   "cell_type": "code",
   "execution_count": 15,
   "outputs": [
    {
     "data": {
      "text/plain": "tensor([[0.],\n        [0.],\n        [0.],\n        [0.],\n        [0.],\n        [0.],\n        [0.],\n        [0.],\n        [0.],\n        [0.],\n        [0.],\n        [0.],\n        [0.],\n        [0.],\n        [0.],\n        [0.],\n        [0.],\n        [0.],\n        [0.],\n        [0.],\n        [0.],\n        [0.],\n        [0.],\n        [0.],\n        [0.],\n        [0.],\n        [1.],\n        [0.],\n        [1.],\n        [0.],\n        [0.],\n        [0.],\n        [0.],\n        [0.],\n        [0.],\n        [0.],\n        [0.],\n        [0.],\n        [0.],\n        [0.],\n        [0.],\n        [0.],\n        [0.],\n        [0.],\n        [0.],\n        [0.],\n        [0.],\n        [0.],\n        [0.],\n        [0.],\n        [0.],\n        [0.],\n        [1.],\n        [1.],\n        [1.],\n        [1.],\n        [1.],\n        [1.],\n        [1.],\n        [0.],\n        [1.],\n        [0.],\n        [0.],\n        [0.],\n        [0.],\n        [0.],\n        [0.],\n        [0.],\n        [0.],\n        [0.],\n        [0.],\n        [0.],\n        [0.],\n        [0.],\n        [1.],\n        [1.],\n        [1.],\n        [1.],\n        [1.],\n        [1.],\n        [1.],\n        [1.],\n        [1.],\n        [1.],\n        [1.],\n        [1.],\n        [0.],\n        [0.],\n        [0.],\n        [0.],\n        [0.],\n        [0.],\n        [0.],\n        [0.],\n        [0.],\n        [0.],\n        [0.],\n        [0.],\n        [0.],\n        [0.],\n        [0.],\n        [0.],\n        [0.],\n        [0.],\n        [0.],\n        [0.],\n        [0.],\n        [1.],\n        [1.],\n        [1.],\n        [1.],\n        [1.],\n        [0.],\n        [0.],\n        [1.],\n        [0.],\n        [0.],\n        [0.],\n        [0.],\n        [0.],\n        [0.],\n        [0.],\n        [0.],\n        [0.],\n        [0.],\n        [0.],\n        [0.],\n        [0.],\n        [0.],\n        [0.],\n        [0.],\n        [0.],\n        [0.],\n        [0.],\n        [0.],\n        [0.],\n        [1.],\n        [1.],\n        [1.],\n        [1.],\n        [1.],\n        [1.],\n        [0.],\n        [0.],\n        [0.],\n        [0.],\n        [0.],\n        [0.],\n        [0.],\n        [0.],\n        [0.],\n        [0.],\n        [0.],\n        [0.],\n        [0.],\n        [0.],\n        [0.],\n        [1.],\n        [0.],\n        [1.],\n        [1.],\n        [0.],\n        [0.],\n        [1.],\n        [0.],\n        [0.],\n        [0.],\n        [0.],\n        [0.],\n        [0.],\n        [0.],\n        [0.],\n        [0.],\n        [0.],\n        [0.],\n        [0.],\n        [0.],\n        [0.],\n        [0.],\n        [0.],\n        [0.],\n        [1.],\n        [1.],\n        [0.],\n        [0.],\n        [0.],\n        [0.],\n        [0.],\n        [0.],\n        [0.],\n        [0.],\n        [1.],\n        [0.],\n        [1.],\n        [1.],\n        [0.],\n        [0.],\n        [0.],\n        [0.],\n        [0.],\n        [0.],\n        [0.],\n        [0.],\n        [0.],\n        [0.],\n        [0.],\n        [0.],\n        [0.],\n        [0.],\n        [0.],\n        [0.],\n        [0.],\n        [0.],\n        [1.],\n        [1.],\n        [0.],\n        [0.],\n        [0.],\n        [0.],\n        [0.],\n        [0.],\n        [0.],\n        [0.],\n        [0.],\n        [0.],\n        [0.],\n        [0.],\n        [0.],\n        [0.],\n        [0.],\n        [0.],\n        [0.],\n        [0.],\n        [0.],\n        [0.],\n        [0.],\n        [0.],\n        [0.],\n        [0.],\n        [0.],\n        [1.],\n        [1.],\n        [1.],\n        [1.],\n        [0.],\n        [0.],\n        [0.],\n        [0.],\n        [0.],\n        [0.],\n        [0.],\n        [0.],\n        [0.],\n        [0.],\n        [0.],\n        [0.],\n        [0.],\n        [0.],\n        [0.],\n        [0.],\n        [0.],\n        [0.],\n        [0.],\n        [0.],\n        [0.],\n        [0.],\n        [0.],\n        [0.],\n        [0.],\n        [0.],\n        [0.],\n        [0.],\n        [0.],\n        [0.],\n        [0.],\n        [0.],\n        [0.],\n        [0.],\n        [0.],\n        [0.],\n        [0.],\n        [0.],\n        [0.],\n        [0.],\n        [0.],\n        [0.],\n        [0.],\n        [0.],\n        [0.],\n        [0.],\n        [0.],\n        [0.],\n        [0.],\n        [0.],\n        [0.],\n        [0.],\n        [0.],\n        [0.],\n        [0.],\n        [0.],\n        [0.],\n        [0.],\n        [0.],\n        [0.],\n        [0.],\n        [0.],\n        [0.],\n        [0.],\n        [0.],\n        [0.],\n        [0.],\n        [0.],\n        [0.],\n        [0.],\n        [0.],\n        [0.],\n        [0.],\n        [0.],\n        [0.],\n        [0.],\n        [0.],\n        [0.],\n        [0.],\n        [0.],\n        [0.],\n        [0.],\n        [0.],\n        [0.],\n        [0.],\n        [0.],\n        [0.],\n        [0.],\n        [0.],\n        [1.],\n        [1.],\n        [1.],\n        [1.],\n        [0.],\n        [0.],\n        [0.],\n        [0.],\n        [0.],\n        [0.],\n        [0.],\n        [0.],\n        [0.],\n        [0.],\n        [0.],\n        [0.],\n        [0.],\n        [0.],\n        [0.],\n        [0.],\n        [1.],\n        [0.],\n        [0.],\n        [1.],\n        [1.],\n        [0.],\n        [0.],\n        [1.],\n        [1.],\n        [0.],\n        [1.],\n        [1.],\n        [1.],\n        [1.],\n        [1.],\n        [0.],\n        [0.],\n        [0.],\n        [0.],\n        [0.],\n        [0.],\n        [0.],\n        [0.],\n        [0.],\n        [0.],\n        [0.],\n        [0.],\n        [0.],\n        [0.],\n        [0.],\n        [0.],\n        [0.],\n        [0.],\n        [0.],\n        [0.],\n        [0.],\n        [1.],\n        [1.],\n        [0.],\n        [0.],\n        [0.],\n        [0.],\n        [0.],\n        [0.],\n        [0.],\n        [0.],\n        [0.],\n        [0.],\n        [0.],\n        [0.]], device='cuda:0', grad_fn=<RoundBackward0>)"
     },
     "execution_count": 15,
     "metadata": {},
     "output_type": "execute_result"
    }
   ],
   "source": [
    "out = torch.sigmoid(pred).round()\n",
    "out"
   ],
   "metadata": {
    "collapsed": false
   }
  },
  {
   "cell_type": "code",
   "execution_count": 16,
   "outputs": [
    {
     "name": "stdout",
     "output_type": "stream",
     "text": [
      "tensor(65., device='cuda:0', grad_fn=<SumBackward0>)\n",
      "403\n"
     ]
    }
   ],
   "source": [
    "print(out.sum())\n",
    "print(len(out))"
   ],
   "metadata": {
    "collapsed": false
   }
  },
  {
   "cell_type": "code",
   "execution_count": 17,
   "outputs": [
    {
     "data": {
      "text/plain": "tensor(17.5217, device='cuda:0')"
     },
     "execution_count": 17,
     "metadata": {},
     "output_type": "execute_result"
    }
   ],
   "source": [
    "len(data.y) / data.y.sum()"
   ],
   "metadata": {
    "collapsed": false
   }
  },
  {
   "cell_type": "code",
   "execution_count": 18,
   "outputs": [
    {
     "data": {
      "text/plain": "tensor(23., device='cuda:0')"
     },
     "execution_count": 18,
     "metadata": {},
     "output_type": "execute_result"
    }
   ],
   "source": [
    "data.y.sum()"
   ],
   "metadata": {
    "collapsed": false
   }
  },
  {
   "cell_type": "code",
   "execution_count": 19,
   "outputs": [
    {
     "data": {
      "text/plain": "0.38636363636363635"
     },
     "execution_count": 19,
     "metadata": {},
     "output_type": "execute_result"
    }
   ],
   "source": [
    "f1_score(data.y.detach().cpu().numpy(), out.detach().cpu().numpy())"
   ],
   "metadata": {
    "collapsed": false
   }
  },
  {
   "cell_type": "code",
   "execution_count": null,
   "outputs": [],
   "source": [
    "torch.save(model.state_dict(), './models/modelBest.pt')"
   ],
   "metadata": {
    "collapsed": false
   }
  },
  {
   "cell_type": "code",
   "execution_count": null,
   "outputs": [],
   "source": [],
   "metadata": {
    "collapsed": false
   }
  }
 ],
 "metadata": {
  "kernelspec": {
   "display_name": "Python 3",
   "language": "python",
   "name": "python3"
  },
  "language_info": {
   "codemirror_mode": {
    "name": "ipython",
    "version": 2
   },
   "file_extension": ".py",
   "mimetype": "text/x-python",
   "name": "python",
   "nbconvert_exporter": "python",
   "pygments_lexer": "ipython2",
   "version": "2.7.6"
  }
 },
 "nbformat": 4,
 "nbformat_minor": 0
}
