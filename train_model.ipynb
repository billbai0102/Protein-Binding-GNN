{
 "cells": [
  {
   "cell_type": "markdown",
   "source": [
    "Next steps:\n",
    "1. Add a \"master node\" that connects all nodes together, so that message passing works between all nodes"
   ],
   "metadata": {
    "collapsed": false
   }
  },
  {
   "cell_type": "code",
   "execution_count": 1,
   "metadata": {
    "collapsed": true
   },
   "outputs": [],
   "source": [
    "import pandas as pd\n",
    "\n",
    "from EmbedDataset import LigandBinaryDataset\n",
    "\n",
    "import time\n",
    "import numpy as np\n",
    "import torch\n",
    "from torch_geometric.loader import DataLoader"
   ]
  },
  {
   "cell_type": "code",
   "execution_count": 2,
   "outputs": [],
   "source": [
    "dataset = LigandBinaryDataset('./data2/')"
   ],
   "metadata": {
    "collapsed": false
   }
  },
  {
   "cell_type": "code",
   "execution_count": 3,
   "outputs": [],
   "source": [
    "dataset = dataset.shuffle()\n",
    "train_dataset = dataset[:int(len(dataset) * 0.7)]\n",
    "val_dataset = dataset[int(len(dataset) * 0.7):int(len(dataset) * 0.85)]\n",
    "test_dataset = dataset[int(len(dataset) * 0.85):]"
   ],
   "metadata": {
    "collapsed": false
   }
  },
  {
   "cell_type": "code",
   "execution_count": 4,
   "outputs": [],
   "source": [
    "train_dl = DataLoader(train_dataset, batch_size=16)\n",
    "val_dl = DataLoader(val_dataset, batch_size=16)\n",
    "test_dl = DataLoader(test_dataset, batch_size=16)"
   ],
   "metadata": {
    "collapsed": false
   }
  },
  {
   "cell_type": "code",
   "execution_count": 27,
   "outputs": [],
   "source": [
    "from LigandGNNV2 import LigandGNNV2\n",
    "from LigandGNNV1 import LigandGNNV1\n",
    "from sagn.models import SAGN\n",
    "\n",
    "device = torch.device('cuda')\n",
    "# model = LigandGNNV1(dataset.num_node_features, 1).to(device)\n",
    "model = LigandGNNV2(128, 37).to(device)\n",
    "# model = SAGN(in_feats=1070, hidden=1024, out_feats=1, num_hops=3, n_layers=2, num_heads=1, dropout=0.3).to(device)\n",
    "\n",
    "optimizer = torch.optim.AdamW(model.parameters(), lr=0.001, weight_decay=.1)\n",
    "scheduler = torch.optim.lr_scheduler.ReduceLROnPlateau(optimizer, mode='min')\n",
    "criterion = torch.nn.BCEWithLogitsLoss(pos_weight=torch.FloatTensor([22]).to(device))"
   ],
   "metadata": {
    "collapsed": false
   }
  },
  {
   "cell_type": "code",
   "execution_count": 28,
   "outputs": [],
   "source": [
    "def train(model, loader, criterion, optimizer):\n",
    "    model.train()\n",
    "\n",
    "    loss_acc = 0.\n",
    "    for data in loader:\n",
    "        data = data.to(device)\n",
    "        optimizer.zero_grad()\n",
    "        output = model(data)\n",
    "        label = data.y\n",
    "\n",
    "        loss = criterion(output, label.reshape(-1, 1))\n",
    "        loss.backward()\n",
    "        loss_acc += data.num_graphs * loss.item()\n",
    "        optimizer.step()\n",
    "\n",
    "    return loss_acc / len(loader.dataset)"
   ],
   "metadata": {
    "collapsed": false
   }
  },
  {
   "cell_type": "code",
   "execution_count": 29,
   "outputs": [],
   "source": [
    "from sklearn.metrics import f1_score, precision_recall_curve, roc_curve, auc, precision_recall_fscore_support, roc_auc_score\n",
    "\n",
    "def evaluate(model, loader):\n",
    "    model.eval()\n",
    "\n",
    "    preds = np.asarray([])\n",
    "    labels = np.asarray([])\n",
    "\n",
    "    with torch.no_grad():\n",
    "        for data in loader:\n",
    "            data = data.to(device)\n",
    "            pred = torch.sigmoid(model(data).round().squeeze().cpu()).round().numpy()\n",
    "            label = data.y.cpu().numpy()\n",
    "\n",
    "            preds = np.concatenate([preds, pred])\n",
    "            labels = np.concatenate([labels, label])\n",
    "\n",
    "    precision, recall, _ = precision_recall_curve(labels, preds)\n",
    "    fpr, tpr, thresholds = roc_curve(labels, preds, pos_label=1)\n",
    "    print(precision_recall_fscore_support(labels, preds))\n",
    "    return auc(fpr, tpr), auc(recall, precision)\n",
    "    # return roc_auc_score(labels, preds)"
   ],
   "metadata": {
    "collapsed": false
   }
  },
  {
   "cell_type": "code",
   "execution_count": 30,
   "outputs": [
    {
     "name": "stdout",
     "output_type": "stream",
     "text": [
      "(array([0.96641103, 0.13048841]), array([0.98945599, 0.04398803]), array([0.97779775, 0.06579602]), array([334313,  12026], dtype=int64))\n",
      "(array([0.96239707, 0.19136961]), array([0.99384013, 0.03618304]), array([0.9778659 , 0.06085919]), array([69969,  2819], dtype=int64))\n",
      "Epoch: 001, Loss: 1.16346, Train Score: (0.5167220073962809, 0.10383611597356257), Val Score: (0.515011586416284, 0.1324401155528596), Time: 23.89848s\n",
      "(array([0.97786954, 0.13533015]), array([0.90035087, 0.43356062]), array([0.93751051, 0.20627448]), array([334313,  12026], dtype=int64))\n",
      "(array([0.97463133, 0.14254729]), array([0.89829782, 0.41965236]), array([0.93490904, 0.21280806]), array([69969,  2819], dtype=int64))\n",
      "Epoch: 002, Loss: 1.03540, Train Score: (0.6669557437280889, 0.29427967938088545), Val Score: (0.6589750882987448, 0.2923379430966717), Time: 23.40100s\n",
      "(array([0.97762835, 0.18591582]), array([0.9363052 , 0.40437386]), array([0.95652068, 0.25472069]), array([334313,  12026], dtype=int64))\n",
      "(array([0.97496078, 0.19528447]), array([0.93268447, 0.40546293]), array([0.95335418, 0.26360701]), array([69969,  2819], dtype=int64))\n",
      "Epoch: 003, Loss: 0.95727, Train Score: (0.6703395278320091, 0.3054858605955245), Val Score: (0.6690737023350396, 0.3118865865495134), Time: 23.45600s\n",
      "(array([0.98446202, 0.16794734]), array([0.8914939, 0.6088475]), array([0.93567431, 0.26327239]), array([334313,  12026], dtype=int64))\n",
      "(array([0.98247299, 0.18371742]), array([0.89166631, 0.60517914]), array([0.93486975, 0.281867  ]), array([69969,  2819], dtype=int64))\n",
      "Epoch: 004, Loss: 0.90111, Train Score: (0.7501706982596078, 0.39518845067566877), Val Score: (0.7484227254525646, 0.4020937738244086), Time: 23.46400s\n",
      "(array([0.98699409, 0.18419136]), array([0.89278012, 0.67295859]), array([0.93752611, 0.28922164]), array([334313,  12026], dtype=int64))\n",
      "(array([0.98429171, 0.1980198 ]), array([0.89465335, 0.64561901]), array([0.93733435, 0.30308077]), array([69969,  2819], dtype=int64))\n",
      "Epoch: 005, Loss: 0.81495, Train Score: (0.7828693544759262, 0.43425293805861), Val Score: (0.7701361801583533, 0.42868180280770385), Time: 23.49000s\n",
      "(array([0.98691172, 0.2169855 ]), array([0.91392797, 0.66306336]), array([0.94901872, 0.32697078]), array([334313,  12026], dtype=int64))\n",
      "(array([0.98378935, 0.22718497]), array([0.91419057, 0.62610855]), array([0.94771387, 0.3333963 ]), array([69969,  2819], dtype=int64))\n",
      "Epoch: 006, Loss: 0.76567, Train Score: (0.7884956642114507, 0.4458741893763553), Val Score: (0.7701495596202588, 0.4338869619397883), Time: 23.48300s\n",
      "(array([0.99003278, 0.1910091 ]), array([0.88539782, 0.75220356]), array([0.93479637, 0.30465606]), array([334313,  12026], dtype=int64))\n",
      "(array([0.9860641 , 0.19701735]), array([0.88687847, 0.68889677]), array([0.933845  , 0.30640581]), array([69969,  2819], dtype=int64))\n",
      "saving...\n",
      "Epoch: 007, Loss: 0.72729, Train Score: (0.8188006873874517, 0.4759084731030643), Val Score: (0.787887623329018, 0.4489814046634183), Time: 23.44900s\n",
      "(array([0.99051242, 0.20236571]), array([0.89188575, 0.76251455]), array([0.93861535, 0.31984653]), array([334313,  12026], dtype=int64))\n",
      "(array([0.98585285, 0.20483854]), array([0.89336706, 0.68180206]), array([0.93733411, 0.31503032]), array([69969,  2819], dtype=int64))\n",
      "saving...\n",
      "Epoch: 008, Loss: 0.69523, Train Score: (0.8272001497958386, 0.4865632612152999), Val Score: (0.7875845600117308, 0.4494820275796274), Time: 23.42300s\n",
      "(array([0.99182188, 0.19642492]), array([0.88261001, 0.79768834]), array([0.93403438, 0.31522739]), array([334313,  12026], dtype=int64))\n",
      "(array([0.98658714, 0.19609398]), array([0.88410582, 0.70166726]), array([0.93253938, 0.3065241 ]), array([69969,  2819], dtype=int64))\n",
      "saving...\n",
      "Epoch: 009, Loss: 0.66430, Train Score: (0.8401491755544193, 0.5005690830359226), Val Score: (0.7928865380919137, 0.4546576712854766), Time: 23.50400s\n",
      "(array([0.99218721, 0.17720185]), array([0.86458199, 0.81074339]), array([0.92399981, 0.29083642]), array([334313,  12026], dtype=int64))\n",
      "(array([0.98701975, 0.17869142]), array([0.86724121, 0.71692089]), array([0.92326185, 0.28607828]), array([69969,  2819], dtype=int64))\n",
      "Epoch: 010, Loss: 0.63713, Train Score: (0.8376626914220875, 0.4972584159473276), Val Score: (0.7920810503770912, 0.4532878315297238), Time: 23.42400s\n",
      "(array([0.99237367, 0.16944272]), array([0.85591646, 0.81714618]), array([0.91910782, 0.28068321]), array([334313,  12026], dtype=int64))\n",
      "(array([0.98725266, 0.17046118]), array([0.85783704, 0.72507982]), array([0.91800621, 0.27602971]), array([69969,  2819], dtype=int64))\n",
      "Epoch: 011, Loss: 0.61625, Train Score: (0.8365313223945882, 0.4964690869847994), Val Score: (0.7914584288280386, 0.4530941771050132), Time: 23.47700s\n",
      "(array([0.9926333 , 0.17621271]), array([0.86172838, 0.82221853]), array([0.92256036, 0.29022601]), array([334313,  12026], dtype=int64))\n",
      "(array([0.98714938, 0.1771015 ]), array([0.86512598, 0.72046825]), array([0.92211838, 0.28431441]), array([69969,  2819], dtype=int64))\n",
      "Epoch: 012, Loss: 0.60909, Train Score: (0.8419734534080936, 0.502302189432827), Val Score: (0.7927971177586978, 0.4541978556508115), Time: 23.46400s\n",
      "(array([0.99348984, 0.21874932]), array([0.8924122 , 0.83743556]), array([0.94024232, 0.34688711]), array([334313,  12026], dtype=int64))\n",
      "(array([0.98697202, 0.21233752]), array([0.89433892, 0.70698829]), array([0.93837491, 0.32658746]), array([69969,  2819], dtype=int64))\n",
      "saving...\n",
      "Epoch: 013, Loss: 0.59439, Train Score: (0.8649238784186501, 0.5309148179907734), Val Score: (0.800663607621783, 0.4653369210463385), Time: 23.39700s\n",
      "(array([0.99411694, 0.21535074]), array([0.88808093, 0.85389988]), array([0.9381121 , 0.34395672]), array([334313,  12026], dtype=int64))\n",
      "(array([0.98726013, 0.20506303]), array([0.88825051, 0.71550195]), array([0.93514193, 0.31876729]), array([69969,  2819], dtype=int64))\n",
      "saving...\n",
      "Epoch: 014, Loss: 0.56857, Train Score: (0.8709904068659322, 0.5371618435319065), Val Score: (0.8018762309935149, 0.4657916422598814), Time: 23.41700s\n",
      "(array([0.99500106, 0.19328054]), array([0.86806077, 0.87876268]), array([0.92720636, 0.31686731]), array([334313,  12026], dtype=int64))\n",
      "(array([0.98799818, 0.18548243]), array([0.86945647, 0.7378503 ]), array([0.92494469, 0.2964441 ]), array([69969,  2819], dtype=int64))\n",
      "saving...\n",
      "Epoch: 015, Loss: 0.55599, Train Score: (0.8734117251284389, 0.5381264837726917), Val Score: (0.8036533875532605, 0.46674275331691206), Time: 23.40500s\n",
      "(array([0.9963923 , 0.17376407]), array([0.84347602, 0.91510062]), array([0.91357953, 0.29206863]), array([334313,  12026], dtype=int64))\n",
      "(array([0.9890619, 0.1665769]), array([0.84518858, 0.76800284]), array([0.91148274, 0.27377339]), array([69969,  2819], dtype=int64))\n",
      "saving...\n",
      "Epoch: 016, Loss: 0.52656, Train Score: (0.8792883196495047, 0.5459063332452135), Val Score: (0.806595710700666, 0.4717823688874618), Time: 23.36200s\n",
      "(array([0.99721682, 0.15014587]), array([0.80917284, 0.93721936]), array([0.8934072 , 0.25882677]), array([334313,  12026], dtype=int64))\n",
      "(array([0.99009226, 0.14473008]), array([0.80980148, 0.79886485]), array([0.89091724, 0.2450623 ]), array([69969,  2819], dtype=int64))\n",
      "saving...\n",
      "Epoch: 017, Loss: 0.50705, Train Score: (0.8731960995388918, 0.5447725864149969), Val Score: (0.8043331646020442, 0.47569233418661944), Time: 23.43500s\n",
      "(array([0.99333312, 0.2577586 ]), array([0.91408052, 0.82945285]), array([0.95206035, 0.39329719]), array([334313,  12026], dtype=int64))\n",
      "(array([0.98477189, 0.23153768]), array([0.91314725, 0.64952111]), array([0.94760807, 0.34138156]), array([69969,  2819], dtype=int64))\n",
      "Epoch: 018, Loss: 0.50948, Train Score: (0.8717666847565737, 0.5465666970481896), Val Score: (0.781334178850431, 0.4473162280614879), Time: 23.46400s\n",
      "(array([0.98659477, 0.24532747]), array([0.92813621, 0.64942624]), array([0.95647309, 0.35612503]), array([334313,  12026], dtype=int64))\n",
      "(array([0.98038031, 0.23103815]), array([0.92769655, 0.5391983 ]), array([0.95331111, 0.32347308]), array([69969,  2819], dtype=int64))\n",
      "Epoch: 019, Loss: 0.56811, Train Score: (0.7887812254127378, 0.45346337861762215), Val Score: (0.7334474242992048, 0.39404139863124577), Time: 23.47700s\n",
      "(array([0.99044559, 0.27643745]), array([0.92930876, 0.75078996]), array([0.95890369, 0.40409058]), array([334313,  12026], dtype=int64))\n",
      "(array([0.98215825, 0.24642911]), array([0.92836828, 0.58141185]), array([0.95450605, 0.34614572]), array([69969,  2819], dtype=int64))\n",
      "Epoch: 020, Loss: 0.58288, Train Score: (0.8400493583235472, 0.5179403883765331), Val Score: (0.7548900627765468, 0.4220262100029498), Time: 23.50500s\n",
      "(array([0.99316859, 0.27954379]), array([0.92366435, 0.82338267]), array([0.95715636, 0.41738324]), array([334313,  12026], dtype=int64))\n",
      "(array([0.98468251, 0.25062138]), array([0.92243708, 0.64384534]), array([0.952544  , 0.36079913]), array([69969,  2819], dtype=int64))\n",
      "Epoch: 021, Loss: 0.53840, Train Score: (0.8735235106768587, 0.5545295884518073), Val Score: (0.7831412072516115, 0.45413009648905284), Time: 23.45700s\n",
      "(array([0.99235454, 0.2956877 ]), array([0.93140859, 0.80051555]), array([0.96091616, 0.43185896]), array([334313,  12026], dtype=int64))\n",
      "(array([0.98312536, 0.25811344]), array([0.93008332, 0.6037602 ]), array([0.95586907, 0.36162754]), array([69969,  2819], dtype=int64))\n",
      "Epoch: 022, Loss: 0.48757, Train Score: (0.86596206989799, 0.5515649924276753), Val Score: (0.7669217606331524, 0.43860978562635505), Time: 23.45100s\n",
      "(array([0.99180515, 0.30793071]), array([0.9365445 , 0.78488275]), array([0.96338302, 0.44232527]), array([334313,  12026], dtype=int64))\n",
      "(array([0.98299994, 0.27209677]), array([0.93550001, 0.59843916]), array([0.95866195, 0.37409912]), array([69969,  2819], dtype=int64))\n",
      "Epoch: 023, Loss: 0.46742, Train Score: (0.8607136248799935, 0.5501415112270799), Val Score: (0.766969584984859, 0.4430439755427489), Time: 23.56400s\n",
      "(array([0.99086356, 0.32017128]), array([0.94206328, 0.7585232 ]), array([0.96584739, 0.45028013]), array([334313,  12026], dtype=int64))\n",
      "(array([0.98181249, 0.27758501]), array([0.94048793, 0.56757716]), array([0.96070602, 0.37283001]), array([69969,  2819], dtype=int64))\n",
      "Epoch: 024, Loss: 0.43629, Train Score: (0.8502932378828263, 0.5435396651321465), Val Score: (0.7540325426943371, 0.4309547157309055), Time: 23.53100s\n",
      "(array([0.99360577, 0.27967022]), array([0.92264136, 0.83494096]), array([0.95680955, 0.41899476]), array([334313,  12026], dtype=int64))\n",
      "(array([0.98308236, 0.23815496]), array([0.9218654 , 0.60624335]), array([0.95149025, 0.34197099]), array([69969,  2819], dtype=int64))\n",
      "Epoch: 025, Loss: 0.44215, Train Score: (0.8787911591511244, 0.5601712812941553), Val Score: (0.764054373119204, 0.42982403806564046), Time: 23.46500s\n",
      "(array([0.99712437, 0.2102621 ]), array([0.87436026, 0.92990188]), array([0.93171582, 0.34297369]), array([334313,  12026], dtype=int64))\n",
      "(array([0.98777494, 0.18976624]), array([0.87417285, 0.73146506]), array([0.92750832, 0.30135185]), array([69969,  2819], dtype=int64))\n",
      "Epoch: 026, Loss: 0.44556, Train Score: (0.9021310672357689, 0.5712990048536027), Val Score: (0.802818953253463, 0.46581568390207084), Time: 23.59101s\n"
     ]
    },
    {
     "ename": "KeyboardInterrupt",
     "evalue": "",
     "output_type": "error",
     "traceback": [
      "\u001B[1;31m---------------------------------------------------------------------------\u001B[0m",
      "\u001B[1;31mKeyboardInterrupt\u001B[0m                         Traceback (most recent call last)",
      "Cell \u001B[1;32mIn[30], line 6\u001B[0m\n\u001B[0;32m      4\u001B[0m \u001B[38;5;28;01mfor\u001B[39;00m epoch \u001B[38;5;129;01min\u001B[39;00m \u001B[38;5;28mrange\u001B[39m(\u001B[38;5;241m1\u001B[39m, \u001B[38;5;241m201\u001B[39m):\n\u001B[0;32m      5\u001B[0m     s \u001B[38;5;241m=\u001B[39m time\u001B[38;5;241m.\u001B[39mtime()\n\u001B[1;32m----> 6\u001B[0m     loss \u001B[38;5;241m=\u001B[39m \u001B[43mtrain\u001B[49m\u001B[43m(\u001B[49m\u001B[43mmodel\u001B[49m\u001B[43m,\u001B[49m\u001B[43m \u001B[49m\u001B[43mtrain_dl\u001B[49m\u001B[43m,\u001B[49m\u001B[43m \u001B[49m\u001B[43mcriterion\u001B[49m\u001B[43m,\u001B[49m\u001B[43m \u001B[49m\u001B[43moptimizer\u001B[49m\u001B[43m)\u001B[49m\n\u001B[0;32m      7\u001B[0m     train_score \u001B[38;5;241m=\u001B[39m evaluate(model, train_dl)\n\u001B[0;32m      8\u001B[0m     val_score \u001B[38;5;241m=\u001B[39m evaluate(model, val_dl)\n",
      "Cell \u001B[1;32mIn[28], line 12\u001B[0m, in \u001B[0;36mtrain\u001B[1;34m(model, loader, criterion, optimizer)\u001B[0m\n\u001B[0;32m      9\u001B[0m label \u001B[38;5;241m=\u001B[39m data\u001B[38;5;241m.\u001B[39my\n\u001B[0;32m     11\u001B[0m loss \u001B[38;5;241m=\u001B[39m criterion(output, label\u001B[38;5;241m.\u001B[39mreshape(\u001B[38;5;241m-\u001B[39m\u001B[38;5;241m1\u001B[39m, \u001B[38;5;241m1\u001B[39m))\n\u001B[1;32m---> 12\u001B[0m \u001B[43mloss\u001B[49m\u001B[38;5;241;43m.\u001B[39;49m\u001B[43mbackward\u001B[49m\u001B[43m(\u001B[49m\u001B[43m)\u001B[49m\n\u001B[0;32m     13\u001B[0m loss_acc \u001B[38;5;241m+\u001B[39m\u001B[38;5;241m=\u001B[39m data\u001B[38;5;241m.\u001B[39mnum_graphs \u001B[38;5;241m*\u001B[39m loss\u001B[38;5;241m.\u001B[39mitem()\n\u001B[0;32m     14\u001B[0m optimizer\u001B[38;5;241m.\u001B[39mstep()\n",
      "File \u001B[1;32m~\\anaconda3\\envs\\watai\\lib\\site-packages\\torch\\_tensor.py:396\u001B[0m, in \u001B[0;36mTensor.backward\u001B[1;34m(self, gradient, retain_graph, create_graph, inputs)\u001B[0m\n\u001B[0;32m    387\u001B[0m \u001B[38;5;28;01mif\u001B[39;00m has_torch_function_unary(\u001B[38;5;28mself\u001B[39m):\n\u001B[0;32m    388\u001B[0m     \u001B[38;5;28;01mreturn\u001B[39;00m handle_torch_function(\n\u001B[0;32m    389\u001B[0m         Tensor\u001B[38;5;241m.\u001B[39mbackward,\n\u001B[0;32m    390\u001B[0m         (\u001B[38;5;28mself\u001B[39m,),\n\u001B[1;32m   (...)\u001B[0m\n\u001B[0;32m    394\u001B[0m         create_graph\u001B[38;5;241m=\u001B[39mcreate_graph,\n\u001B[0;32m    395\u001B[0m         inputs\u001B[38;5;241m=\u001B[39minputs)\n\u001B[1;32m--> 396\u001B[0m \u001B[43mtorch\u001B[49m\u001B[38;5;241;43m.\u001B[39;49m\u001B[43mautograd\u001B[49m\u001B[38;5;241;43m.\u001B[39;49m\u001B[43mbackward\u001B[49m\u001B[43m(\u001B[49m\u001B[38;5;28;43mself\u001B[39;49m\u001B[43m,\u001B[49m\u001B[43m \u001B[49m\u001B[43mgradient\u001B[49m\u001B[43m,\u001B[49m\u001B[43m \u001B[49m\u001B[43mretain_graph\u001B[49m\u001B[43m,\u001B[49m\u001B[43m \u001B[49m\u001B[43mcreate_graph\u001B[49m\u001B[43m,\u001B[49m\u001B[43m \u001B[49m\u001B[43minputs\u001B[49m\u001B[38;5;241;43m=\u001B[39;49m\u001B[43minputs\u001B[49m\u001B[43m)\u001B[49m\n",
      "File \u001B[1;32m~\\anaconda3\\envs\\watai\\lib\\site-packages\\torch\\autograd\\__init__.py:173\u001B[0m, in \u001B[0;36mbackward\u001B[1;34m(tensors, grad_tensors, retain_graph, create_graph, grad_variables, inputs)\u001B[0m\n\u001B[0;32m    168\u001B[0m     retain_graph \u001B[38;5;241m=\u001B[39m create_graph\n\u001B[0;32m    170\u001B[0m \u001B[38;5;66;03m# The reason we repeat same the comment below is that\u001B[39;00m\n\u001B[0;32m    171\u001B[0m \u001B[38;5;66;03m# some Python versions print out the first line of a multi-line function\u001B[39;00m\n\u001B[0;32m    172\u001B[0m \u001B[38;5;66;03m# calls in the traceback and some print out the last line\u001B[39;00m\n\u001B[1;32m--> 173\u001B[0m \u001B[43mVariable\u001B[49m\u001B[38;5;241;43m.\u001B[39;49m\u001B[43m_execution_engine\u001B[49m\u001B[38;5;241;43m.\u001B[39;49m\u001B[43mrun_backward\u001B[49m\u001B[43m(\u001B[49m\u001B[43m  \u001B[49m\u001B[38;5;66;43;03m# Calls into the C++ engine to run the backward pass\u001B[39;49;00m\n\u001B[0;32m    174\u001B[0m \u001B[43m    \u001B[49m\u001B[43mtensors\u001B[49m\u001B[43m,\u001B[49m\u001B[43m \u001B[49m\u001B[43mgrad_tensors_\u001B[49m\u001B[43m,\u001B[49m\u001B[43m \u001B[49m\u001B[43mretain_graph\u001B[49m\u001B[43m,\u001B[49m\u001B[43m \u001B[49m\u001B[43mcreate_graph\u001B[49m\u001B[43m,\u001B[49m\u001B[43m \u001B[49m\u001B[43minputs\u001B[49m\u001B[43m,\u001B[49m\n\u001B[0;32m    175\u001B[0m \u001B[43m    \u001B[49m\u001B[43mallow_unreachable\u001B[49m\u001B[38;5;241;43m=\u001B[39;49m\u001B[38;5;28;43;01mTrue\u001B[39;49;00m\u001B[43m,\u001B[49m\u001B[43m \u001B[49m\u001B[43maccumulate_grad\u001B[49m\u001B[38;5;241;43m=\u001B[39;49m\u001B[38;5;28;43;01mTrue\u001B[39;49;00m\u001B[43m)\u001B[49m\n",
      "\u001B[1;31mKeyboardInterrupt\u001B[0m: "
     ]
    }
   ],
   "source": [
    "train_hist = []\n",
    "val_hist = []\n",
    "\n",
    "for epoch in range(1, 201):\n",
    "    s = time.time()\n",
    "    loss = train(model, train_dl, criterion, optimizer)\n",
    "    train_score = evaluate(model, train_dl)\n",
    "    val_score = evaluate(model, val_dl)\n",
    "    scheduler.step(loss)\n",
    "    e = time.time()\n",
    "\n",
    "    train_hist.append(train_score)\n",
    "    val_hist.append(val_score)\n",
    "\n",
    "    if sum(val_score) > (.77 + .44) and sum(val_score) >= np.asarray(val_hist).sum(axis=1).max():\n",
    "        print(\"saving...\")\n",
    "        torch.save(model.state_dict(), './models/BestModel5.pt')\n",
    "\n",
    "    # print(f'Epoch: {epoch:03d}, Loss: {loss:.05f}, Train Score: {train_score:.05f}, Val Score: {val_score:.05f}, Time: {e - s:.05f}s')\n",
    "    print(f'Epoch: {epoch:03d}, Loss: {loss:.05f}, Train Score: {train_score}, Val Score: {val_score}, Time: {e - s:.05f}s')"
   ],
   "metadata": {
    "collapsed": false
   }
  },
  {
   "cell_type": "code",
   "execution_count": null,
   "outputs": [],
   "source": [
    "import matplotlib.pyplot as plt\n",
    "plt.plot(val_hist)\n",
    "plt.plot(train_hist)\n",
    "plt.show()"
   ],
   "metadata": {
    "collapsed": false
   }
  },
  {
   "cell_type": "code",
   "execution_count": 31,
   "outputs": [
    {
     "name": "stdout",
     "output_type": "stream",
     "text": [
      "(array([0.98432008, 0.27153033]), array([0.95537485, 0.52220839]), array([0.9696315 , 0.35728486]), array([75630,  2409], dtype=int64))\n"
     ]
    },
    {
     "data": {
      "text/plain": "(0.7387916182357941, 0.40424387344167656)"
     },
     "execution_count": 31,
     "metadata": {},
     "output_type": "execute_result"
    }
   ],
   "source": [
    "evaluate(model, test_dl)"
   ],
   "metadata": {
    "collapsed": false
   }
  },
  {
   "cell_type": "code",
   "execution_count": 32,
   "outputs": [
    {
     "name": "stdout",
     "output_type": "stream",
     "text": [
      "(array([0.99411908, 0.12418102]), array([0.80911014, 0.84973018]), array([0.89212377, 0.21669401]), array([75630,  2409], dtype=int64))\n"
     ]
    },
    {
     "data": {
      "text/plain": "(0.8294201599877756, 0.4892749544042394)"
     },
     "execution_count": 32,
     "metadata": {},
     "output_type": "execute_result"
    }
   ],
   "source": [
    "model.load_state_dict(torch.load('./models/BestModel5.pt'))\n",
    "evaluate(model, test_dl)"
   ],
   "metadata": {
    "collapsed": false
   }
  },
  {
   "cell_type": "code",
   "execution_count": null,
   "outputs": [],
   "source": [
    "data = test_dl.dataset[4].to(device)"
   ],
   "metadata": {
    "collapsed": false
   }
  },
  {
   "cell_type": "code",
   "execution_count": null,
   "outputs": [],
   "source": [
    "pred = model(data)"
   ],
   "metadata": {
    "collapsed": false
   }
  },
  {
   "cell_type": "code",
   "execution_count": null,
   "outputs": [],
   "source": [
    "out = torch.sigmoid(pred).round()\n",
    "out"
   ],
   "metadata": {
    "collapsed": false
   }
  },
  {
   "cell_type": "code",
   "execution_count": null,
   "outputs": [],
   "source": [
    "print(out.sum())\n",
    "print(len(out))"
   ],
   "metadata": {
    "collapsed": false
   }
  },
  {
   "cell_type": "code",
   "execution_count": null,
   "outputs": [],
   "source": [
    "len(data.y) / data.y.sum()"
   ],
   "metadata": {
    "collapsed": false
   }
  },
  {
   "cell_type": "code",
   "execution_count": null,
   "outputs": [],
   "source": [
    "data.y.sum()"
   ],
   "metadata": {
    "collapsed": false
   }
  },
  {
   "cell_type": "code",
   "execution_count": null,
   "outputs": [],
   "source": [
    "f1_score(data.y.detach().cpu().numpy(), out.detach().cpu().numpy())"
   ],
   "metadata": {
    "collapsed": false
   }
  },
  {
   "cell_type": "code",
   "execution_count": null,
   "outputs": [],
   "source": [
    "torch.save(model.state_dict(), './models/modelBest.pt')"
   ],
   "metadata": {
    "collapsed": false
   }
  },
  {
   "cell_type": "code",
   "execution_count": null,
   "outputs": [],
   "source": [],
   "metadata": {
    "collapsed": false
   }
  }
 ],
 "metadata": {
  "kernelspec": {
   "display_name": "Python 3",
   "language": "python",
   "name": "python3"
  },
  "language_info": {
   "codemirror_mode": {
    "name": "ipython",
    "version": 2
   },
   "file_extension": ".py",
   "mimetype": "text/x-python",
   "name": "python",
   "nbconvert_exporter": "python",
   "pygments_lexer": "ipython2",
   "version": "2.7.6"
  }
 },
 "nbformat": 4,
 "nbformat_minor": 0
}
